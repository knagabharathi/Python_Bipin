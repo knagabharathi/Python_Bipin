{
 "cells": [
  {
   "cell_type": "code",
   "execution_count": 1,
   "id": "32ee9c12",
   "metadata": {},
   "outputs": [
    {
     "data": {
      "text/plain": [
       "'\\nQuestion 1 - \\nPrint the following pattern - \\n*\\n**\\n***\\n****\\n*****\\nInput provided will be number of rows.\\n'"
      ]
     },
     "execution_count": 1,
     "metadata": {},
     "output_type": "execute_result"
    }
   ],
   "source": [
    "'''\n",
    "Question 1 - \n",
    "Print the following pattern - \n",
    "*\n",
    "**\n",
    "***\n",
    "****\n",
    "*****\n",
    "Input provided will be number of rows.\n",
    "'''"
   ]
  },
  {
   "cell_type": "code",
   "execution_count": 2,
   "id": "27876f1b",
   "metadata": {},
   "outputs": [
    {
     "data": {
      "text/plain": [
       "'randomrandomrandom'"
      ]
     },
     "execution_count": 2,
     "metadata": {},
     "output_type": "execute_result"
    }
   ],
   "source": [
    "\"random\"*3"
   ]
  },
  {
   "cell_type": "code",
   "execution_count": 4,
   "id": "95a1c43a",
   "metadata": {},
   "outputs": [
    {
     "name": "stdout",
     "output_type": "stream",
     "text": [
      "7\n",
      "*\n",
      "**\n",
      "***\n",
      "****\n",
      "*****\n",
      "******\n",
      "*******\n"
     ]
    }
   ],
   "source": [
    "n = int(input())\n",
    "\n",
    "for i in range(1, n + 1):\n",
    "    print(\"*\" * i)"
   ]
  },
  {
   "cell_type": "code",
   "execution_count": 6,
   "id": "55d610ce",
   "metadata": {},
   "outputs": [
    {
     "name": "stdout",
     "output_type": "stream",
     "text": [
      "6\n",
      "*\n",
      "**\n",
      "***\n",
      "****\n",
      "*****\n",
      "******\n"
     ]
    }
   ],
   "source": [
    "# USEFUL STRUCTURE BUT NOT REQUIRED IN THIS CASE!\n",
    "n = int(input())\n",
    "\n",
    "for i in range(n):\n",
    "    for j in range(i + 1):\n",
    "        print(\"*\", end = \"\")\n",
    "        \n",
    "    print()"
   ]
  },
  {
   "cell_type": "code",
   "execution_count": 7,
   "id": "3339dcbc",
   "metadata": {},
   "outputs": [
    {
     "data": {
      "text/plain": [
       "'\\nQuestion 2 - \\nPrint the following pattern - \\n1\\n12\\n123\\n1234\\n12345\\nInput provided will be number of rows.\\n'"
      ]
     },
     "execution_count": 7,
     "metadata": {},
     "output_type": "execute_result"
    }
   ],
   "source": [
    "'''\n",
    "Question 2 - \n",
    "Print the following pattern - \n",
    "1\n",
    "12\n",
    "123\n",
    "1234\n",
    "12345\n",
    "Input provided will be number of rows.\n",
    "'''"
   ]
  },
  {
   "cell_type": "code",
   "execution_count": 12,
   "id": "1d829b58",
   "metadata": {},
   "outputs": [
    {
     "name": "stdout",
     "output_type": "stream",
     "text": [
      "5\n",
      "1\n",
      "12\n",
      "123\n",
      "1234\n",
      "12345\n"
     ]
    }
   ],
   "source": [
    "n = int(input())\n",
    "\n",
    "for i in range(1, n + 1):\n",
    "    for j in range(1, i + 1):\n",
    "        print(j, end = \"\")\n",
    "        \n",
    "    print()"
   ]
  },
  {
   "cell_type": "code",
   "execution_count": 13,
   "id": "b2ccbf61",
   "metadata": {},
   "outputs": [
    {
     "data": {
      "text/plain": [
       "'\\nQuestion 3 - \\nPrint the following pattern - \\n*\\n*2\\n*2*\\n*2*4\\n*2*4*\\n*2*4*6\\nInput provided will be number of rows.\\n'"
      ]
     },
     "execution_count": 13,
     "metadata": {},
     "output_type": "execute_result"
    }
   ],
   "source": [
    "'''\n",
    "Question 3 - \n",
    "Print the following pattern - \n",
    "*\n",
    "*2\n",
    "*2*\n",
    "*2*4\n",
    "*2*4*\n",
    "*2*4*6\n",
    "Input provided will be number of rows.\n",
    "'''"
   ]
  },
  {
   "cell_type": "code",
   "execution_count": 14,
   "id": "27e4a211",
   "metadata": {},
   "outputs": [
    {
     "name": "stdout",
     "output_type": "stream",
     "text": [
      "10\n",
      "*\n",
      "*2\n",
      "*2*\n",
      "*2*4\n",
      "*2*4*\n",
      "*2*4*6\n",
      "*2*4*6*\n",
      "*2*4*6*8\n",
      "*2*4*6*8*\n",
      "*2*4*6*8*10\n"
     ]
    }
   ],
   "source": [
    "n = int(input())\n",
    "\n",
    "for i in range(1, n + 1):\n",
    "    for j in range(1, i + 1):\n",
    "        if j % 2 == 1:\n",
    "            print(\"*\", end = \"\")\n",
    "        else:\n",
    "            print(j, end = \"\")\n",
    "    \n",
    "    print()"
   ]
  },
  {
   "cell_type": "code",
   "execution_count": 15,
   "id": "82247ec8",
   "metadata": {},
   "outputs": [
    {
     "data": {
      "text/plain": [
       "'\\nQuestion 4 - \\nPrint the following pattern - \\n*****\\n****\\n***\\n**\\n*\\nInput provided will be number of rows.\\n'"
      ]
     },
     "execution_count": 15,
     "metadata": {},
     "output_type": "execute_result"
    }
   ],
   "source": [
    "'''\n",
    "Question 4 - \n",
    "Print the following pattern - \n",
    "*****\n",
    "****\n",
    "***\n",
    "**\n",
    "*\n",
    "Input provided will be number of rows.\n",
    "'''"
   ]
  },
  {
   "cell_type": "code",
   "execution_count": 17,
   "id": "1387776d",
   "metadata": {},
   "outputs": [
    {
     "name": "stdout",
     "output_type": "stream",
     "text": [
      "5\n",
      "*****\n",
      "****\n",
      "***\n",
      "**\n",
      "*\n"
     ]
    }
   ],
   "source": [
    "n = int(input())\n",
    "\n",
    "for i in range(n):\n",
    "    print(\"*\" * (n - i))"
   ]
  },
  {
   "cell_type": "code",
   "execution_count": 19,
   "id": "63bcdf04",
   "metadata": {},
   "outputs": [
    {
     "data": {
      "text/plain": [
       "'\\nQuestion 5 - \\nPrint the following pattern - \\n    *\\n   **\\n  ***\\n ****\\n*****\\nInput provided will be number of rows.\\n'"
      ]
     },
     "execution_count": 19,
     "metadata": {},
     "output_type": "execute_result"
    }
   ],
   "source": [
    "'''\n",
    "Question 5 - \n",
    "Print the following pattern - \n",
    "    *\n",
    "   **\n",
    "  ***\n",
    " ****\n",
    "*****\n",
    "Input provided will be number of rows.\n",
    "'''"
   ]
  },
  {
   "cell_type": "code",
   "execution_count": 20,
   "id": "4cbcd9db",
   "metadata": {},
   "outputs": [
    {
     "name": "stdout",
     "output_type": "stream",
     "text": [
      "6\n",
      "     *\n",
      "    **\n",
      "   ***\n",
      "  ****\n",
      " *****\n",
      "******\n"
     ]
    }
   ],
   "source": [
    "# METHOD 1\n",
    "\n",
    "n = int(input())\n",
    "\n",
    "for i in range(n):\n",
    "    for j in range(n - i - 1):\n",
    "        print(\" \", end = \"\")\n",
    "        \n",
    "    for k in range(i + 1):\n",
    "        print(\"*\", end = \"\")\n",
    "        \n",
    "    print()"
   ]
  },
  {
   "cell_type": "code",
   "execution_count": 24,
   "id": "e2fe837e",
   "metadata": {},
   "outputs": [
    {
     "name": "stdout",
     "output_type": "stream",
     "text": [
      "5\n",
      "    *\n",
      "   **\n",
      "  ***\n",
      " ****\n",
      "*****\n"
     ]
    }
   ],
   "source": [
    "# METHOD 2\n",
    "\n",
    "n = int(input())\n",
    "\n",
    "for i in range(n):\n",
    "    print(\" \" * (n - i - 1), \"*\" * (i + 1), sep = \"\")"
   ]
  },
  {
   "cell_type": "code",
   "execution_count": 31,
   "id": "89de36cd",
   "metadata": {},
   "outputs": [
    {
     "name": "stdout",
     "output_type": "stream",
     "text": [
      "5\n",
      "    *\n",
      "   **\n",
      "  ***\n",
      " ****\n",
      "*****\n"
     ]
    }
   ],
   "source": [
    "# METHOD 3\n",
    "\n",
    "n = int(input())\n",
    "\n",
    "for i in range(n):\n",
    "    for j in range(n):\n",
    "        if i + j >= n - 1:\n",
    "            print(\"*\", end = \"\")\n",
    "        else:\n",
    "            print(\" \", end = \"\")\n",
    "        \n",
    "    print()"
   ]
  },
  {
   "cell_type": "code",
   "execution_count": 30,
   "id": "c77081e1",
   "metadata": {},
   "outputs": [
    {
     "name": "stdout",
     "output_type": "stream",
     "text": [
      "**********\n",
      "**       *\n",
      "* *      *\n",
      "*  *     *\n",
      "*   *    *\n",
      "*    *   *\n",
      "*     *  *\n",
      "*      * *\n",
      "*       **\n",
      "**********\n"
     ]
    }
   ],
   "source": [
    "# RANDOM EXAMPLE\n",
    "\n",
    "for i in range(10):\n",
    "    for j in range(10):\n",
    "        if i == 0 or j == 0 or i == 10 - 1 or j == 10 - 1 or i == j:\n",
    "            print(\"*\", end = \"\")\n",
    "        else:\n",
    "            print(\" \", end = \"\")\n",
    "        \n",
    "    print()"
   ]
  },
  {
   "cell_type": "code",
   "execution_count": 32,
   "id": "d7769829",
   "metadata": {},
   "outputs": [
    {
     "data": {
      "text/plain": [
       "'\\nQuestion 6 -\\nTake a name as input from the user. Print the following pattern using that name.\\n\\nINPUT - BIPIN\\nOUTPUT - \\nB****\\n*I***\\n**P**\\n***I*\\n****N\\n'"
      ]
     },
     "execution_count": 32,
     "metadata": {},
     "output_type": "execute_result"
    }
   ],
   "source": [
    "'''\n",
    "Question 6 -\n",
    "Take a name as input from the user. Print the following pattern using that name.\n",
    "\n",
    "INPUT - BIPIN\n",
    "OUTPUT - \n",
    "B****\n",
    "*I***\n",
    "**P**\n",
    "***I*\n",
    "****N\n",
    "'''"
   ]
  },
  {
   "cell_type": "code",
   "execution_count": 33,
   "id": "b99150e6",
   "metadata": {},
   "outputs": [
    {
     "data": {
      "text/plain": [
       "5"
      ]
     },
     "execution_count": 33,
     "metadata": {},
     "output_type": "execute_result"
    }
   ],
   "source": [
    "len(\"BIPIN\")"
   ]
  },
  {
   "cell_type": "code",
   "execution_count": 34,
   "id": "a6e011dd",
   "metadata": {},
   "outputs": [],
   "source": [
    "random = \"BIPIN\""
   ]
  },
  {
   "cell_type": "code",
   "execution_count": 35,
   "id": "e488869d",
   "metadata": {},
   "outputs": [
    {
     "data": {
      "text/plain": [
       "'B'"
      ]
     },
     "execution_count": 35,
     "metadata": {},
     "output_type": "execute_result"
    }
   ],
   "source": [
    "random[0]"
   ]
  },
  {
   "cell_type": "code",
   "execution_count": 36,
   "id": "ae446c39",
   "metadata": {},
   "outputs": [
    {
     "data": {
      "text/plain": [
       "'I'"
      ]
     },
     "execution_count": 36,
     "metadata": {},
     "output_type": "execute_result"
    }
   ],
   "source": [
    "random[1]"
   ]
  },
  {
   "cell_type": "code",
   "execution_count": 37,
   "id": "e60b34d1",
   "metadata": {},
   "outputs": [
    {
     "data": {
      "text/plain": [
       "'P'"
      ]
     },
     "execution_count": 37,
     "metadata": {},
     "output_type": "execute_result"
    }
   ],
   "source": [
    "random[2]"
   ]
  },
  {
   "cell_type": "code",
   "execution_count": 38,
   "id": "611878f3",
   "metadata": {},
   "outputs": [
    {
     "data": {
      "text/plain": [
       "'N'"
      ]
     },
     "execution_count": 38,
     "metadata": {},
     "output_type": "execute_result"
    }
   ],
   "source": [
    "random[len(random) - 1]"
   ]
  },
  {
   "cell_type": "code",
   "execution_count": 39,
   "id": "ef42b215",
   "metadata": {},
   "outputs": [
    {
     "name": "stdout",
     "output_type": "stream",
     "text": [
      "SUSHIL\n",
      "S*****\n",
      "*U****\n",
      "**S***\n",
      "***H**\n",
      "****I*\n",
      "*****L\n"
     ]
    }
   ],
   "source": [
    "name = input()\n",
    "\n",
    "n = len(name)\n",
    "\n",
    "for i in range(n):\n",
    "    for j in range(n):\n",
    "        if i == j:\n",
    "            print(name[i], end = \"\")\n",
    "        else:\n",
    "            print(\"*\", end = \"\")\n",
    "        \n",
    "    print()"
   ]
  },
  {
   "cell_type": "code",
   "execution_count": 40,
   "id": "6569282b",
   "metadata": {},
   "outputs": [
    {
     "data": {
      "text/plain": [
       "'\\nHOMEWORK ->\\nInput - n\\n\\nn = 5\\n\\n55555\\n54445\\n54345\\n54445\\n55555\\n'"
      ]
     },
     "execution_count": 40,
     "metadata": {},
     "output_type": "execute_result"
    }
   ],
   "source": [
    "'''\n",
    "HOMEWORK ->\n",
    "Input - n\n",
    "\n",
    "n = 5\n",
    "\n",
    "55555\n",
    "54445\n",
    "54345\n",
    "54445\n",
    "55555\n",
    "'''"
   ]
  },
  {
   "cell_type": "code",
   "execution_count": 41,
   "id": "1eefd1c8",
   "metadata": {},
   "outputs": [
    {
     "name": "stdout",
     "output_type": "stream",
     "text": [
      "value1 value2 value3\n"
     ]
    }
   ],
   "source": [
    "print(\"value1\", \"value2\", \"value3\")"
   ]
  },
  {
   "cell_type": "code",
   "execution_count": 44,
   "id": "54c3b5e3",
   "metadata": {},
   "outputs": [
    {
     "name": "stdout",
     "output_type": "stream",
     "text": [
      "value1value2value3\n"
     ]
    }
   ],
   "source": [
    "print(\"value1\", \"value2\", \"value3\", sep = \"\")"
   ]
  },
  {
   "cell_type": "code",
   "execution_count": 46,
   "id": "4a7468a4",
   "metadata": {},
   "outputs": [
    {
     "name": "stdout",
     "output_type": "stream",
     "text": [
      "value1 value2\n"
     ]
    }
   ],
   "source": [
    "print(\"value1\", end = \" \")\n",
    "print(\"value2\")"
   ]
  },
  {
   "cell_type": "code",
   "execution_count": 53,
   "id": "4f983061",
   "metadata": {},
   "outputs": [
    {
     "name": "stdout",
     "output_type": "stream",
     "text": [
      "A\n",
      "\n",
      "\n",
      "B"
     ]
    }
   ],
   "source": [
    "print(\"A\\n\")\n",
    "print()\n",
    "print(\"B\", end = \"\")"
   ]
  },
  {
   "cell_type": "code",
   "execution_count": 56,
   "id": "1b9c6527",
   "metadata": {},
   "outputs": [
    {
     "name": "stdout",
     "output_type": "stream",
     "text": [
      "BIPIN\n",
      "--------------------------------------------------\n",
      "B****\n",
      "I****\n",
      "P****\n",
      "I****\n",
      "N****\n"
     ]
    }
   ],
   "source": [
    "name = input() \n",
    "\n",
    "print(\"-\"*50)\n",
    "\n",
    "for i in range(len(name)):\n",
    "    for j in range (len(name)):\n",
    "        if j==0:\n",
    "            print(name[i],end = \"\")\n",
    "        else:\n",
    "            print(\"*\",end = \"\")\n",
    "    print()"
   ]
  },
  {
   "cell_type": "code",
   "execution_count": null,
   "id": "67d8fad4",
   "metadata": {},
   "outputs": [],
   "source": []
  }
 ],
 "metadata": {
  "kernelspec": {
   "display_name": "Python 3 (ipykernel)",
   "language": "python",
   "name": "python3"
  },
  "language_info": {
   "codemirror_mode": {
    "name": "ipython",
    "version": 3
   },
   "file_extension": ".py",
   "mimetype": "text/x-python",
   "name": "python",
   "nbconvert_exporter": "python",
   "pygments_lexer": "ipython3",
   "version": "3.9.5"
  }
 },
 "nbformat": 4,
 "nbformat_minor": 5
}
