{
 "cells": [
  {
   "cell_type": "code",
   "execution_count": 1,
   "id": "cc9be091",
   "metadata": {},
   "outputs": [],
   "source": [
    "# Print all integers from 0 to 5 (both included)"
   ]
  },
  {
   "cell_type": "code",
   "execution_count": 2,
   "id": "096c1eb4",
   "metadata": {},
   "outputs": [
    {
     "name": "stdout",
     "output_type": "stream",
     "text": [
      "0 1 2 3 4 5 "
     ]
    }
   ],
   "source": [
    "number = 0\n",
    "\n",
    "while number <= 5:\n",
    "    print(number, end = \" \")\n",
    "    number += 1"
   ]
  },
  {
   "cell_type": "code",
   "execution_count": 4,
   "id": "7d72da40",
   "metadata": {},
   "outputs": [
    {
     "name": "stdout",
     "output_type": "stream",
     "text": [
      "25 30 35 40 45 50 "
     ]
    }
   ],
   "source": [
    "number = 25\n",
    "\n",
    "while number <= 50:\n",
    "    print(number, end = \" \") # 25 30 35 ...\n",
    "    number += 5 # 30 35 40 ..."
   ]
  },
  {
   "cell_type": "code",
   "execution_count": 10,
   "id": "5b915f68",
   "metadata": {},
   "outputs": [
    {
     "name": "stdout",
     "output_type": "stream",
     "text": [
      "-5 -4 -3 -2 -1 0 1 2 3 4 5 "
     ]
    }
   ],
   "source": [
    "number = -5\n",
    "\n",
    "while number <= 5:\n",
    "    print(number, end = \" \")\n",
    "    number += 1"
   ]
  },
  {
   "cell_type": "code",
   "execution_count": 8,
   "id": "e356c64e",
   "metadata": {},
   "outputs": [],
   "source": [
    "# INFINITE LOOP EXAMPLE\n",
    "# number = 0\n",
    "\n",
    "# while number <= 5:\n",
    "#     print(number, end = \" \")\n",
    "#     number -= 5"
   ]
  },
  {
   "cell_type": "code",
   "execution_count": 12,
   "id": "a73c3a78",
   "metadata": {},
   "outputs": [],
   "source": [
    "# CONDITION FALSE IN THE FIRST CHECK ITSELF\n",
    "number = 25\n",
    "\n",
    "while number >= 50:\n",
    "    print(number, end = \" \")\n",
    "    number += 5"
   ]
  },
  {
   "cell_type": "code",
   "execution_count": 13,
   "id": "28bddc55",
   "metadata": {},
   "outputs": [
    {
     "data": {
      "text/plain": [
       "'\\nQuestion 1 - \\nTake an input from the user and print alternate numbers from from 1 to input.\\nInput will be a positive number > 1.\\n\\nINPUT - 7\\nOUTPUT - 1 3 5 7\\n'"
      ]
     },
     "execution_count": 13,
     "metadata": {},
     "output_type": "execute_result"
    }
   ],
   "source": [
    "'''\n",
    "Question 1 - \n",
    "Take an input from the user and print alternate numbers from from 1 to input.\n",
    "Input will be a positive number > 1.\n",
    "\n",
    "Example ->\n",
    "INPUT - 7\n",
    "OUTPUT - 1 3 5 7\n",
    "'''"
   ]
  },
  {
   "cell_type": "code",
   "execution_count": 14,
   "id": "14504af9",
   "metadata": {},
   "outputs": [
    {
     "name": "stdout",
     "output_type": "stream",
     "text": [
      "Please enter a number > 1 - 10\n",
      "1\n",
      "3\n",
      "5\n",
      "7\n",
      "9\n"
     ]
    }
   ],
   "source": [
    "number = int(input(\"Please enter a number > 1 - \"))\n",
    "\n",
    "i = 1\n",
    "\n",
    "while i <= number:\n",
    "    print(i)\n",
    "    \n",
    "    i += 2"
   ]
  },
  {
   "cell_type": "code",
   "execution_count": 15,
   "id": "1fe43948",
   "metadata": {},
   "outputs": [
    {
     "data": {
      "text/plain": [
       "'\\nQuestion 2 - \\nTake an input from the user and print alternate numbers from from 1 to input.\\nIf number is > 1 -> Print as required.\\nElse print \"Number is smaller than 1!\"\\n\\nExample ->\\nINPUT - 7\\nOUTPUT - 1 3 5 7\\n\\nINPUT - -5\\nOUTPUT - Number is smaller than 1!\\n'"
      ]
     },
     "execution_count": 15,
     "metadata": {},
     "output_type": "execute_result"
    }
   ],
   "source": [
    "'''\n",
    "Question 2 - \n",
    "Take an input from the user and print alternate numbers from from 1 to input.\n",
    "If number is > 1 -> Print as required.\n",
    "Else print \"Number is smaller than 1!\"\n",
    "\n",
    "Example ->\n",
    "INPUT - 7\n",
    "OUTPUT - 1 3 5 7\n",
    "\n",
    "INPUT - -5\n",
    "OUTPUT - Number is smaller than 1!\n",
    "'''"
   ]
  },
  {
   "cell_type": "code",
   "execution_count": 18,
   "id": "04350ad3",
   "metadata": {},
   "outputs": [
    {
     "name": "stdout",
     "output_type": "stream",
     "text": [
      "Please enter a number - -3\n",
      "Number is smaller than 1!\n"
     ]
    }
   ],
   "source": [
    "number = int(input(\"Please enter a number - \"))\n",
    "\n",
    "if number >= 1:\n",
    "    i = 1\n",
    "    \n",
    "    while i <= number:\n",
    "        print(i)\n",
    "        \n",
    "        i += 2\n",
    "else:\n",
    "    print(\"Number is smaller than 1!\")"
   ]
  },
  {
   "cell_type": "code",
   "execution_count": 21,
   "id": "634905fc",
   "metadata": {},
   "outputs": [
    {
     "name": "stdout",
     "output_type": "stream",
     "text": [
      "Please enter a number - -2\n",
      "Number is smaller than 1!\n"
     ]
    }
   ],
   "source": [
    "number = int(input(\"Please enter a number - \"))\n",
    "\n",
    "if number < 1:\n",
    "    print(\"Number is smaller than 1!\")\n",
    "else:\n",
    "    i = 1\n",
    "    \n",
    "    while i <= number:\n",
    "        print(i)\n",
    "        \n",
    "        i += 2"
   ]
  },
  {
   "cell_type": "code",
   "execution_count": 22,
   "id": "cdee2cf3",
   "metadata": {},
   "outputs": [
    {
     "data": {
      "text/plain": [
       "'\\nQuestion 3 - \\nTake two inputs from user for start and end integer values.\\nPrint every third number starting at start till end.\\n'"
      ]
     },
     "execution_count": 22,
     "metadata": {},
     "output_type": "execute_result"
    }
   ],
   "source": [
    "'''\n",
    "Question 3 - \n",
    "Take two inputs from user for start and end integer values.\n",
    "Print every third number starting at start till end.\n",
    "'''"
   ]
  },
  {
   "cell_type": "code",
   "execution_count": 23,
   "id": "1644d722",
   "metadata": {},
   "outputs": [
    {
     "name": "stdout",
     "output_type": "stream",
     "text": [
      "3\n",
      "20\n",
      "3 6 9 12 15 18 "
     ]
    }
   ],
   "source": [
    "first = int(input())\n",
    "last = int(input())\n",
    "\n",
    "while first <= last:\n",
    "    print(first, end = \" \")\n",
    "    \n",
    "    first += 3"
   ]
  },
  {
   "cell_type": "code",
   "execution_count": 24,
   "id": "77dbbf73",
   "metadata": {},
   "outputs": [
    {
     "data": {
      "text/plain": [
       "'\\nQuestion 4 - \\nTake an input from user for start and end values.\\nPrint all even numbers between them. (start and end included)\\n\\nINPUT - \\n3\\n10\\n\\nOUTPUT - 4 6 8 10\\n'"
      ]
     },
     "execution_count": 24,
     "metadata": {},
     "output_type": "execute_result"
    }
   ],
   "source": [
    "'''\n",
    "Question 4 - \n",
    "Take an input from user for start and end values.\n",
    "Print all even numbers between them. (start and end included)\n",
    "\n",
    "INPUT - \n",
    "3\n",
    "10\n",
    "\n",
    "OUTPUT - 4 6 8 10\n",
    "'''"
   ]
  },
  {
   "cell_type": "code",
   "execution_count": 26,
   "id": "904d9bfe",
   "metadata": {},
   "outputs": [
    {
     "name": "stdout",
     "output_type": "stream",
     "text": [
      "5\n",
      "20\n",
      "6 8 10 12 14 16 18 20 "
     ]
    }
   ],
   "source": [
    "start = int(input())\n",
    "end = int(input())\n",
    "\n",
    "while start <= end:\n",
    "    if start % 2 == 0:\n",
    "        print(start, end = \" \") # Python is able to identify the difference between variable 'end' and argument 'end'\n",
    "        \n",
    "    start += 1"
   ]
  },
  {
   "cell_type": "code",
   "execution_count": 35,
   "id": "e0491e9b",
   "metadata": {},
   "outputs": [
    {
     "name": "stdout",
     "output_type": "stream",
     "text": [
      "3\n",
      "10\n"
     ]
    }
   ],
   "source": [
    "# INCORRECT CODE -> ONLY WORKS IF START IS EVEN\n",
    "start = int(input())\n",
    "end = int(input())\n",
    "\n",
    "while start <= end:\n",
    "    if start % 2 == 0:\n",
    "        print(start, end = \" \")\n",
    "        \n",
    "    start += 2 # 5 7 9"
   ]
  },
  {
   "cell_type": "code",
   "execution_count": 28,
   "id": "bb05c817",
   "metadata": {},
   "outputs": [
    {
     "name": "stdout",
     "output_type": "stream",
     "text": [
      "5\n",
      "20\n",
      "6 8 10 12 14 16 18 20 \n",
      "This loop was run 16 times!\n"
     ]
    }
   ],
   "source": [
    "start = int(input())\n",
    "end = int(input())\n",
    "\n",
    "loop_count = 0\n",
    "\n",
    "while start <= end:\n",
    "    loop_count += 1\n",
    "    \n",
    "    if start % 2 == 0:\n",
    "        print(start, end = \" \")\n",
    "        \n",
    "    start += 1\n",
    "    \n",
    "print(\"\\nThis loop was run\", loop_count, \"times!\")"
   ]
  },
  {
   "cell_type": "code",
   "execution_count": 31,
   "id": "2d46fd38",
   "metadata": {},
   "outputs": [
    {
     "name": "stdout",
     "output_type": "stream",
     "text": [
      "5\n",
      "20\n",
      "6 8 10 12 14 16 18 20 \n",
      "This loop was run 8 times!\n"
     ]
    }
   ],
   "source": [
    "start = int(input())\n",
    "end = int(input())\n",
    "\n",
    "if start % 2 == 0:\n",
    "    final_start = start\n",
    "else:\n",
    "    final_start = start + 1\n",
    "    \n",
    "loop_count = 0\n",
    "    \n",
    "while final_start <= end:\n",
    "    loop_count += 1\n",
    "    \n",
    "    print(final_start, end = \" \")\n",
    "    \n",
    "    final_start += 2\n",
    "    \n",
    "print(\"\\nThis loop was run\", loop_count, \"times!\")"
   ]
  },
  {
   "cell_type": "code",
   "execution_count": 36,
   "id": "93873853",
   "metadata": {},
   "outputs": [
    {
     "data": {
      "text/plain": [
       "'\\nQuestion 5 -\\nTake a number input from user.\\nPrint its multiplication table till 10th multiple.\\n\\nINPUT - 7\\nOUTPUT - 7 14 21 28 35 42 49 56 63 70\\n'"
      ]
     },
     "execution_count": 36,
     "metadata": {},
     "output_type": "execute_result"
    }
   ],
   "source": [
    "'''\n",
    "Question 5 -\n",
    "Take a number input from user.\n",
    "Print its multiplication table till 10th multiple.\n",
    "\n",
    "INPUT - 7\n",
    "OUTPUT - 7 14 21 28 35 42 49 56 63 70\n",
    "'''"
   ]
  },
  {
   "cell_type": "code",
   "execution_count": 38,
   "id": "c648a8f7",
   "metadata": {},
   "outputs": [
    {
     "name": "stdout",
     "output_type": "stream",
     "text": [
      "9\n",
      "9 18 27 36 45 54 63 72 81 90 "
     ]
    }
   ],
   "source": [
    "number = int(input())\n",
    "\n",
    "multiple = 1\n",
    "\n",
    "while multiple <= 10:\n",
    "    print(number * multiple, end = \" \")\n",
    "    \n",
    "    multiple += 1"
   ]
  },
  {
   "cell_type": "code",
   "execution_count": 39,
   "id": "1f7b3cf1",
   "metadata": {},
   "outputs": [
    {
     "data": {
      "text/plain": [
       "'\\nQuestion 6 - \\n1. Take an integer input from user. This is the number of test cases. (count)\\n2. Take another int input for each test case (count) from the user.\\n3. Print multiplication table of that integer.\\n\\n\\nINPUT - 3\\n\\nOUTPUT - \\nPlease input number 1 - 2\\nMultiplication table - 2 4 6 8 10 12 14 16 18 20\\n\\nPlese input number 2 - 1\\nMultiplication table - 1 2 3 4 5 6 7 8 9 10\\n\\nPlease input number 3 - 5\\nMultiplication table - 5 10 15 20 25 30 35 40 45 50\\n'"
      ]
     },
     "execution_count": 39,
     "metadata": {},
     "output_type": "execute_result"
    }
   ],
   "source": [
    "'''\n",
    "Question 6 - \n",
    "1. Take an integer input from user. This is the number of test cases. (count)\n",
    "2. Take another int input for each test case (count) from the user.\n",
    "3. Print multiplication table of that integer.\n",
    "\n",
    "\n",
    "INPUT - 3\n",
    "\n",
    "OUTPUT - \n",
    "Please input number 1 - 2\n",
    "Multiplication table - 2 4 6 8 10 12 14 16 18 20\n",
    "\n",
    "Plese input number 2 - 1\n",
    "Multiplication table - 1 2 3 4 5 6 7 8 9 10\n",
    "\n",
    "Please input number 3 - 5\n",
    "Multiplication table - 5 10 15 20 25 30 35 40 45 50\n",
    "'''"
   ]
  },
  {
   "cell_type": "code",
   "execution_count": 43,
   "id": "ff5f7e8d",
   "metadata": {
    "scrolled": true
   },
   "outputs": [
    {
     "name": "stdout",
     "output_type": "stream",
     "text": [
      "Please enter number of test cases - 2\n",
      "Please enter a number - 4\n",
      "Multiplication Table - 4 8 12 16 20 24 28 32 36 40 \n",
      "Please enter a number - 5\n",
      "Multiplication Table - 5 10 15 20 25 30 35 40 45 50 \n"
     ]
    }
   ],
   "source": [
    "test_cases = int(input(\"Please enter number of test cases - \"))\n",
    "\n",
    "t = 1\n",
    "\n",
    "while t <= test_cases:\n",
    "    # CODE FOR MULTIPLICATION TABLE\n",
    "    number = int(input(\"Please enter a number - \"))\n",
    "\n",
    "    multiple = 1\n",
    "    \n",
    "    print(\"Multiplication Table - \", end = \"\")\n",
    "    \n",
    "    while multiple <= 10:\n",
    "        print(number * multiple, end = \" \")\n",
    "\n",
    "        multiple += 1\n",
    "    \n",
    "    print()\n",
    "    t += 1"
   ]
  },
  {
   "cell_type": "code",
   "execution_count": 45,
   "id": "16488836",
   "metadata": {},
   "outputs": [
    {
     "data": {
      "text/plain": [
       "1"
      ]
     },
     "execution_count": 45,
     "metadata": {},
     "output_type": "execute_result"
    }
   ],
   "source": [
    "1 or 0 and 2 and 0 # PRECEDENCE - not (highest) -> and -> or (lowest)"
   ]
  },
  {
   "cell_type": "code",
   "execution_count": null,
   "id": "40b7b1e1",
   "metadata": {},
   "outputs": [],
   "source": []
  }
 ],
 "metadata": {
  "kernelspec": {
   "display_name": "Python 3 (ipykernel)",
   "language": "python",
   "name": "python3"
  },
  "language_info": {
   "codemirror_mode": {
    "name": "ipython",
    "version": 3
   },
   "file_extension": ".py",
   "mimetype": "text/x-python",
   "name": "python",
   "nbconvert_exporter": "python",
   "pygments_lexer": "ipython3",
   "version": "3.9.5"
  }
 },
 "nbformat": 4,
 "nbformat_minor": 5
}
