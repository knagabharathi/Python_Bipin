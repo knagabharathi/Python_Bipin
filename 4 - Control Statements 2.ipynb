{
  "nbformat": 4,
  "nbformat_minor": 0,
  "metadata": {
    "colab": {
      "provenance": []
    },
    "kernelspec": {
      "name": "python3",
      "display_name": "Python 3"
    },
    "language_info": {
      "name": "python"
    }
  },
  "cells": [
    {
      "cell_type": "code",
      "execution_count": null,
      "metadata": {
        "colab": {
          "base_uri": "https://localhost:8080/"
        },
        "id": "-2jLcKIivj_R",
        "outputId": "9a3eb0e0-43fa-4f3d-d0d4-0dc8d7baab44"
      },
      "outputs": [
        {
          "output_type": "stream",
          "name": "stdout",
          "text": [
            "Welcome to the session!\n"
          ]
        }
      ],
      "source": [
        "print(\"Welcome to the session!\")"
      ]
    },
    {
      "cell_type": "code",
      "source": [
        "#always runs\n",
        "\n",
        "if condition:\n",
        "  #runs when condition is True\n",
        "else:\n",
        "  #runs when the condition is False\n",
        "\n",
        "#always runs"
      ],
      "metadata": {
        "id": "Z5nbpF0ZwDJ_"
      },
      "execution_count": null,
      "outputs": []
    },
    {
      "cell_type": "code",
      "source": [
        "'''\n",
        "Q1 - Take an integer as input from the user and print whether it is \"positive\" or \"negative\"\n",
        "\n",
        "Note: consider 0 as positive\n",
        "'''"
      ],
      "metadata": {
        "colab": {
          "base_uri": "https://localhost:8080/",
          "height": 52
        },
        "id": "5LO-Rf3mwd3z",
        "outputId": "09b66fd5-d938-4585-b66a-feb3c64c45c6"
      },
      "execution_count": null,
      "outputs": [
        {
          "output_type": "execute_result",
          "data": {
            "text/plain": [
              "'\\nQ1 - Take an integer as input from the user and print whether it is \"positive\" or \"negative\"\\n\\nNote: consider 0 as positive\\n'"
            ],
            "application/vnd.google.colaboratory.intrinsic+json": {
              "type": "string"
            }
          },
          "metadata": {},
          "execution_count": 2
        }
      ]
    },
    {
      "cell_type": "code",
      "source": [
        "n = int(input())\n",
        "\n",
        "if n > 0:\n",
        "  print(\"Positive\")\n",
        "else:\n",
        "  print(\"Negative\")"
      ],
      "metadata": {
        "colab": {
          "base_uri": "https://localhost:8080/"
        },
        "id": "crMtCqFuw8k5",
        "outputId": "32b93b80-c376-4372-f75e-9bd32842d49e"
      },
      "execution_count": null,
      "outputs": [
        {
          "output_type": "stream",
          "name": "stdout",
          "text": [
            "4\n",
            "Positive\n"
          ]
        }
      ]
    },
    {
      "cell_type": "code",
      "source": [
        "n = int(input())\n",
        "\n",
        "if n > 0:\n",
        "  print(\"Positive\")\n",
        "else:\n",
        "  print(\"Negative\")"
      ],
      "metadata": {
        "colab": {
          "base_uri": "https://localhost:8080/"
        },
        "id": "SdaXLmCyxfy-",
        "outputId": "c1386c75-02ff-47c4-f1e4-06e2ea9459f2"
      },
      "execution_count": null,
      "outputs": [
        {
          "output_type": "stream",
          "name": "stdout",
          "text": [
            "-6\n",
            "Negative\n"
          ]
        }
      ]
    },
    {
      "cell_type": "code",
      "source": [
        "n = int(input())\n",
        "\n",
        "if n > 0:\n",
        "  print(\"Positive\")\n",
        "else:\n",
        "  print(\"Negative\")"
      ],
      "metadata": {
        "colab": {
          "base_uri": "https://localhost:8080/"
        },
        "id": "pbjrX85Lxh2l",
        "outputId": "b3f9e099-320d-47a9-fcf9-c2bf72f8a295"
      },
      "execution_count": null,
      "outputs": [
        {
          "output_type": "stream",
          "name": "stdout",
          "text": [
            "0\n",
            "Negative\n"
          ]
        }
      ]
    },
    {
      "cell_type": "code",
      "source": [
        "#correct version\n",
        "n = int(input())\n",
        "\n",
        "if n >= 0:\n",
        "  print(\"Positive\")\n",
        "else:\n",
        "  print(\"Negative\")"
      ],
      "metadata": {
        "colab": {
          "base_uri": "https://localhost:8080/"
        },
        "id": "dQ6CAq_xxjmD",
        "outputId": "423d693b-e62e-4441-e027-a7048ada7b44"
      },
      "execution_count": null,
      "outputs": [
        {
          "output_type": "stream",
          "name": "stdout",
          "text": [
            "0\n",
            "Positive\n"
          ]
        }
      ]
    },
    {
      "cell_type": "code",
      "source": [
        "'''\n",
        "Q2: Take an integer as input from the user and print whether it is \"positive\", \"negative\" or \"zero\"\n",
        "'''"
      ],
      "metadata": {
        "colab": {
          "base_uri": "https://localhost:8080/",
          "height": 52
        },
        "id": "-Hp_qbnXxvdr",
        "outputId": "ed2cba36-7da2-40c4-e57b-df091223d3fa"
      },
      "execution_count": null,
      "outputs": [
        {
          "output_type": "execute_result",
          "data": {
            "text/plain": [
              "'\\nQ2: Take an integer as input from the user and print whether it is \"positive\", \"negative\" or \"zero\"\\n'"
            ],
            "application/vnd.google.colaboratory.intrinsic+json": {
              "type": "string"
            }
          },
          "metadata": {},
          "execution_count": 7
        }
      ]
    },
    {
      "cell_type": "code",
      "source": [
        "n = int(input())\n",
        "\n",
        "if n == 0:\n",
        "  print(\"Zero\")\n",
        "elif n > 0:\n",
        "  print(\"Positive\")\n",
        "else:\n",
        "  print(\"Negative\")"
      ],
      "metadata": {
        "colab": {
          "base_uri": "https://localhost:8080/"
        },
        "id": "SWIgi5-zx8ES",
        "outputId": "286ad89c-7b61-4bb2-d966-ca68710d1d97"
      },
      "execution_count": null,
      "outputs": [
        {
          "output_type": "stream",
          "name": "stdout",
          "text": [
            "9\n",
            "Positive\n"
          ]
        }
      ]
    },
    {
      "cell_type": "code",
      "source": [
        "n = int(input())\n",
        "\n",
        "if n == 0:\n",
        "  print(\"Zero\")\n",
        "elif n > 0:\n",
        "  print(\"Positive\")\n",
        "else:\n",
        "  print(\"Negative\")"
      ],
      "metadata": {
        "colab": {
          "base_uri": "https://localhost:8080/"
        },
        "id": "vy4UtXAxysFM",
        "outputId": "362944c9-ad19-417a-d216-a7003f9a9dc4"
      },
      "execution_count": null,
      "outputs": [
        {
          "output_type": "stream",
          "name": "stdout",
          "text": [
            "-4\n",
            "Negative\n"
          ]
        }
      ]
    },
    {
      "cell_type": "code",
      "source": [
        "n = int(input())\n",
        "\n",
        "if n == 0:\n",
        "  print(\"Zero\")\n",
        "elif n > 0:\n",
        "  print(\"Positive\")\n",
        "else:\n",
        "  print(\"Negative\")"
      ],
      "metadata": {
        "colab": {
          "base_uri": "https://localhost:8080/"
        },
        "id": "FL5MLWc3ytzE",
        "outputId": "e4dba6b0-3fcc-40b8-dd03-5004bcd00a72"
      },
      "execution_count": null,
      "outputs": [
        {
          "output_type": "stream",
          "name": "stdout",
          "text": [
            "0\n",
            "Zero\n"
          ]
        }
      ]
    },
    {
      "cell_type": "code",
      "source": [
        "n = int(input())\n",
        "\n",
        "if n > 0:\n",
        "  print(\"Positive\")\n",
        "elif n < 0:\n",
        "  print(\"Negative\")\n",
        "else:\n",
        "  print(\"Zero\")"
      ],
      "metadata": {
        "id": "DVdqlhw0yvDc"
      },
      "execution_count": null,
      "outputs": []
    },
    {
      "cell_type": "code",
      "source": [
        "a = 3 #assignment operator\n",
        "\n",
        "a == 3 #checking if a is equals to 3?"
      ],
      "metadata": {
        "id": "ELrdGM-gzNTz"
      },
      "execution_count": null,
      "outputs": []
    },
    {
      "cell_type": "code",
      "source": [
        "n = int(input())\n",
        "\n",
        "if n < 0:\n",
        "  print(\"Negative\")\n",
        "elif n > 0:\n",
        "  print(\"Positive\")\n",
        "else:\n",
        "  print(\"Zero\")"
      ],
      "metadata": {
        "id": "S3wYOzLdzUBO"
      },
      "execution_count": null,
      "outputs": []
    },
    {
      "cell_type": "code",
      "source": [
        "'''\n",
        "Q3.\n",
        "Take an integer as input from the user.\n",
        "if ((n**5)%40) is greater than 15, then print \"Black\" else print \"Blue\"\n",
        "\n",
        "Note: If input is not a non-negative single digit number, print \"Invalid\"\n",
        "\n",
        "'''"
      ],
      "metadata": {
        "id": "-zmwrIYFzisi"
      },
      "execution_count": null,
      "outputs": []
    },
    {
      "cell_type": "code",
      "source": [
        "n = int(input())\n",
        "\n",
        "if ((n**5) % 40 ) > 15:\n",
        "  print(\"Black\")\n",
        "elif ((n**5) % 40 ) < 15:\n",
        "  print(\"Blue\")\n",
        "else:\n",
        "  print(\"Invalid\")"
      ],
      "metadata": {
        "colab": {
          "base_uri": "https://localhost:8080/"
        },
        "id": "RsjKr46W11Aw",
        "outputId": "76731296-9cdb-4b85-c50a-270382be5ca0"
      },
      "execution_count": null,
      "outputs": [
        {
          "output_type": "stream",
          "name": "stdout",
          "text": [
            "30\n",
            "Blue\n"
          ]
        }
      ]
    },
    {
      "cell_type": "code",
      "source": [
        "#non-negative single digit numbers: 0-9"
      ],
      "metadata": {
        "id": "b0D_HvCn2Mqh"
      },
      "execution_count": null,
      "outputs": []
    },
    {
      "cell_type": "code",
      "source": [
        "#version1\n",
        "if n >= 0 and n <= 9:\n",
        "  if ((n**5) % 40 ) > 15:\n",
        "    print(\"Black\")\n",
        "  else:\n",
        "    print(\"Blue\")\n",
        "else:\n",
        "  print(\"Invalid\")"
      ],
      "metadata": {
        "id": "HgNi9j8O21Jx"
      },
      "execution_count": null,
      "outputs": []
    },
    {
      "cell_type": "code",
      "source": [
        "#Anjana's doubt\n",
        "\n",
        "n=int(input())\n",
        "if ((n**5) % 40) > 15:\n",
        "  print(\"Black\")\n",
        "else:\n",
        "  print(\"Blue\")"
      ],
      "metadata": {
        "colab": {
          "base_uri": "https://localhost:8080/"
        },
        "id": "ErV1_DWd3kA7",
        "outputId": "9bb68b7b-4c64-4788-dc5a-68a5b026855c"
      },
      "execution_count": null,
      "outputs": [
        {
          "output_type": "stream",
          "name": "stdout",
          "text": [
            "5\n",
            "Blue\n"
          ]
        }
      ]
    },
    {
      "cell_type": "code",
      "source": [
        "#version2\n",
        "\n",
        "if not (n >= 0 and n <= 9):\n",
        "  print(\"Invalid\")\n",
        "elif ((n**5) % 40) > 15:\n",
        "  print(\"Black\")\n",
        "else:\n",
        "  print(\"Blue\")"
      ],
      "metadata": {
        "id": "hXQ7hYAS3zw5"
      },
      "execution_count": null,
      "outputs": []
    },
    {
      "cell_type": "markdown",
      "source": [
        "## **Question** - Evaluate String\n",
        "* Take a string input and if the entered language is \"Python\" `print(\"great choice!\")` else `print(\"Think again?\")`"
      ],
      "metadata": {
        "id": "ZKIfT86F4seF"
      }
    },
    {
      "cell_type": "code",
      "source": [
        "x = input()\n",
        "\n",
        "if x == \"Python\":\n",
        "  print(\"great choice!\")\n",
        "else:\n",
        "  print(\"Think again?\")"
      ],
      "metadata": {
        "colab": {
          "base_uri": "https://localhost:8080/"
        },
        "id": "RGHo1jQL4st0",
        "outputId": "74e61d10-d896-48d5-e09a-89a81bfb2a80"
      },
      "execution_count": null,
      "outputs": [
        {
          "output_type": "stream",
          "name": "stdout",
          "text": [
            "java\n",
            "Think again?\n"
          ]
        }
      ]
    },
    {
      "cell_type": "code",
      "source": [
        "x = input()\n",
        "\n",
        "if x == \"Python\":\n",
        "  print(\"great choice!\")\n",
        "else:\n",
        "  print(\"Think again?\")\n",
        "\n",
        "#IMP: strings are case sensitive"
      ],
      "metadata": {
        "colab": {
          "base_uri": "https://localhost:8080/"
        },
        "id": "gCQ8DdB15I5z",
        "outputId": "1d844190-e1db-44dd-8c05-911e9c9450b9"
      },
      "execution_count": null,
      "outputs": [
        {
          "output_type": "stream",
          "name": "stdout",
          "text": [
            "python\n",
            "Think again?\n"
          ]
        }
      ]
    },
    {
      "cell_type": "code",
      "source": [
        "\"python\" == \"Python\""
      ],
      "metadata": {
        "colab": {
          "base_uri": "https://localhost:8080/"
        },
        "id": "9pbpvJK45MR8",
        "outputId": "ce401583-2ed2-46e1-bbad-898c1b88bd90"
      },
      "execution_count": null,
      "outputs": [
        {
          "output_type": "execute_result",
          "data": {
            "text/plain": [
              "False"
            ]
          },
          "metadata": {},
          "execution_count": 18
        }
      ]
    },
    {
      "cell_type": "code",
      "source": [
        "#covered in depth in your Strings classes\n",
        "\n",
        "\"Python\".lower()"
      ],
      "metadata": {
        "colab": {
          "base_uri": "https://localhost:8080/",
          "height": 35
        },
        "id": "HrezBvqB5Wt-",
        "outputId": "b8bdd544-0f03-454a-b27f-4d7f1210cc88"
      },
      "execution_count": null,
      "outputs": [
        {
          "output_type": "execute_result",
          "data": {
            "text/plain": [
              "'python'"
            ],
            "application/vnd.google.colaboratory.intrinsic+json": {
              "type": "string"
            }
          },
          "metadata": {},
          "execution_count": 19
        }
      ]
    },
    {
      "cell_type": "code",
      "source": [
        "\"PyTHon\".lower()"
      ],
      "metadata": {
        "colab": {
          "base_uri": "https://localhost:8080/",
          "height": 35
        },
        "id": "ZuF73faF5gAt",
        "outputId": "85d4834f-16a9-4e45-ff1c-8d117df3de6c"
      },
      "execution_count": null,
      "outputs": [
        {
          "output_type": "execute_result",
          "data": {
            "text/plain": [
              "'python'"
            ],
            "application/vnd.google.colaboratory.intrinsic+json": {
              "type": "string"
            }
          },
          "metadata": {},
          "execution_count": 20
        }
      ]
    },
    {
      "cell_type": "code",
      "source": [
        "x = input()\n",
        "\n",
        "if x.lower() == \"python\":\n",
        "  print(\"great choice!\")\n",
        "else:\n",
        "  print(\"Think again?\")\n",
        "\n",
        "#IMP: strings are case sensitive"
      ],
      "metadata": {
        "colab": {
          "base_uri": "https://localhost:8080/"
        },
        "id": "gITYtwBD5jZ3",
        "outputId": "fad1cecd-0ff4-43a2-ad06-7e6cedecd8ba"
      },
      "execution_count": null,
      "outputs": [
        {
          "output_type": "stream",
          "name": "stdout",
          "text": [
            "pyTHon\n",
            "great choice!\n"
          ]
        }
      ]
    },
    {
      "cell_type": "markdown",
      "source": [],
      "metadata": {
        "id": "bu5OG81t5-HQ"
      }
    },
    {
      "cell_type": "code",
      "source": [
        "'''\n",
        "Q4:\n",
        "Take a string feedback from a user.\n",
        "If the feedback is empty, print \"Please provide feedback next time\"\n",
        "\n",
        "if feedback is any of \"Super\" , \"Great\", \"Awesome\"\n",
        "then print \"Thanks for your feedback\"\n",
        "\n",
        "in other cases, print \"See you again!\"\n",
        "'''"
      ],
      "metadata": {
        "colab": {
          "base_uri": "https://localhost:8080/",
          "height": 70
        },
        "id": "eGpE-Ulg5zqh",
        "outputId": "ff444396-aba1-4c92-a679-f70907613643"
      },
      "execution_count": null,
      "outputs": [
        {
          "output_type": "execute_result",
          "data": {
            "text/plain": [
              "'\\nQ4:\\nTake a string feedback from a user.\\nIf the feedback is empty, print \"Please provide feedback next time\"\\n\\nif feedback is any of \"Super\" , \"Great\", \"Awesome\"\\nthen print \"Thanks for your feedback\"\\n\\nin other cases, print \"See you again!\"\\n'"
            ],
            "application/vnd.google.colaboratory.intrinsic+json": {
              "type": "string"
            }
          },
          "metadata": {},
          "execution_count": 23
        }
      ]
    },
    {
      "cell_type": "code",
      "source": [
        "feedback = input()\n",
        "\n",
        "if feedback == \"\":\n",
        "  print(\"Please provide feedback next time\")\n",
        "elif feedback.lower() == \"super\" or feedback.lower() == \"great\" or feedback.lower() == \"awesome\":\n",
        "  print(\"Thanks for your feedback\")\n",
        "else:\n",
        "  print(\"See you again!\")"
      ],
      "metadata": {
        "id": "dfWYQ9VA6EHh"
      },
      "execution_count": null,
      "outputs": []
    },
    {
      "cell_type": "code",
      "source": [
        "feedback = input()\n",
        "\n",
        "if feedback == \"\":\n",
        "  print(\"Please provide feedback next time\")\n",
        "elif feedback == \"super\" or feedback  == \"great\" or feedback == \"awesome\":\n",
        "  print(\"Thanks for your feedback\")\n",
        "else:\n",
        "  print(\"See you again!\")"
      ],
      "metadata": {
        "colab": {
          "base_uri": "https://localhost:8080/"
        },
        "id": "4pJBg3_n8O59",
        "outputId": "ccdb2575-8702-4b5a-e1d0-40dae946c362"
      },
      "execution_count": null,
      "outputs": [
        {
          "output_type": "stream",
          "name": "stdout",
          "text": [
            "\n",
            "Please provide feedback next time\n"
          ]
        }
      ]
    },
    {
      "cell_type": "code",
      "source": [
        "feedback = input()\n",
        "\n",
        "if feedback == \"\":\n",
        "  print(\"Please provide feedback next time\")\n",
        "elif feedback == \"super\" or feedback  == \"great\" or feedback == \"awesome\":\n",
        "  print(\"Thanks for your feedback\")\n",
        "else:\n",
        "  print(\"See you again!\")"
      ],
      "metadata": {
        "colab": {
          "base_uri": "https://localhost:8080/"
        },
        "id": "Xuf8xq_B8RbU",
        "outputId": "a865551e-28a9-4a7b-b41d-ec90c006a4a7"
      },
      "execution_count": null,
      "outputs": [
        {
          "output_type": "stream",
          "name": "stdout",
          "text": [
            "super\n",
            "Thanks for your feedback\n"
          ]
        }
      ]
    },
    {
      "cell_type": "code",
      "source": [
        "feedback = input()\n",
        "\n",
        "if feedback == \"\":\n",
        "  print(\"Please provide feedback next time\")\n",
        "elif feedback == \"super\" or feedback  == \"great\" or feedback == \"awesome\":\n",
        "  print(\"Thanks for your feedback\")\n",
        "else:\n",
        "  print(\"See you again!\")\n",
        "\n",
        "#can be done using in operator (membership operator) --> covered in List classes"
      ],
      "metadata": {
        "colab": {
          "base_uri": "https://localhost:8080/"
        },
        "id": "DN30yMy38VxJ",
        "outputId": "96ed0a97-934f-4ea1-8a07-3ed47217a24b"
      },
      "execution_count": null,
      "outputs": [
        {
          "output_type": "stream",
          "name": "stdout",
          "text": [
            "Super\n",
            "See you again!\n"
          ]
        }
      ]
    },
    {
      "cell_type": "code",
      "source": [
        "#Fizz Buzz\n",
        "\n",
        "'''\n",
        "Take an integer n as input.\n",
        "if n is a multiple of only 3 --> print \"Fizz\"\n",
        "else if n is a multiple of only 5 --> print \"Buzz\"\n",
        "else if n is a multiple of both 3 and 5 --> print \"FizzBuzz\"\n",
        "'''"
      ],
      "metadata": {
        "colab": {
          "base_uri": "https://localhost:8080/",
          "height": 52
        },
        "id": "21MIj-0r8X2P",
        "outputId": "a75d0373-bcb6-4ba5-8466-6f1c3505f999"
      },
      "execution_count": null,
      "outputs": [
        {
          "output_type": "execute_result",
          "data": {
            "text/plain": [
              "'\\nTake an integer n as input.\\nif n is a multiple of only 3 --> print \"Fizz\"\\nelse if n is a multiple of only 5 --> print \"Buzz\"\\nelse if n is a multiple of both 3 and 5 --> print \"FizzBuzz\"\\n'"
            ],
            "application/vnd.google.colaboratory.intrinsic+json": {
              "type": "string"
            }
          },
          "metadata": {},
          "execution_count": 27
        }
      ]
    },
    {
      "cell_type": "code",
      "source": [
        "n = int(input())\n",
        "\n",
        "if n%3 == 0:\n",
        "  print(\"Fizz\")\n",
        "elif n%5 == 0:\n",
        "  print(\"Buzz\")\n",
        "elif n%3 == 0 and n%5 == 0:\n",
        "  print(\"FizzBuzz\")"
      ],
      "metadata": {
        "colab": {
          "base_uri": "https://localhost:8080/"
        },
        "id": "xMaPt2oD_dcD",
        "outputId": "9f57b489-fec1-458b-aa4c-85bf78168d27"
      },
      "execution_count": null,
      "outputs": [
        {
          "output_type": "stream",
          "name": "stdout",
          "text": [
            "6\n",
            "Fizz\n"
          ]
        }
      ]
    },
    {
      "cell_type": "code",
      "source": [
        "n = int(input())\n",
        "\n",
        "if n%3 == 0:\n",
        "  print(\"Fizz\")\n",
        "elif n%5 == 0:\n",
        "  print(\"Buzz\")\n",
        "elif n%3 == 0 and n%5 == 0:\n",
        "  print(\"FizzBuzz\")"
      ],
      "metadata": {
        "colab": {
          "base_uri": "https://localhost:8080/"
        },
        "id": "_NagcBR-AN58",
        "outputId": "c6a69a89-ef5d-4a55-d930-f22b45716ca4"
      },
      "execution_count": null,
      "outputs": [
        {
          "output_type": "stream",
          "name": "stdout",
          "text": [
            "10\n",
            "Buzz\n"
          ]
        }
      ]
    },
    {
      "cell_type": "code",
      "source": [
        "n = int(input())\n",
        "\n",
        "if n%3 == 0:\n",
        "  print(\"Fizz\")\n",
        "elif n%5 == 0:\n",
        "  print(\"Buzz\")\n",
        "elif n%3 == 0 and n%5 == 0:\n",
        "  print(\"FizzBuzz\")\n",
        "\n",
        "#fizzbuzz should be the ans"
      ],
      "metadata": {
        "colab": {
          "base_uri": "https://localhost:8080/"
        },
        "id": "h5lIuy1xATPK",
        "outputId": "81ddd20a-3ec2-4252-c110-7c967f21cf63"
      },
      "execution_count": null,
      "outputs": [
        {
          "output_type": "stream",
          "name": "stdout",
          "text": [
            "15\n",
            "Fizz\n"
          ]
        }
      ]
    },
    {
      "cell_type": "code",
      "source": [
        "#correct version\n",
        "n = int(input())\n",
        "\n",
        "if n%3 == 0 and n%5 == 0:\n",
        "  print(\"FizzBuzz\")\n",
        "elif n%5 == 0:\n",
        "  print(\"Buzz\")\n",
        "elif n%3 == 0:\n",
        "  print(\"Fizz\")"
      ],
      "metadata": {
        "colab": {
          "base_uri": "https://localhost:8080/"
        },
        "id": "W2Dsh-a2Acyb",
        "outputId": "21c9e2ad-927b-4442-9356-1192eeae74af"
      },
      "execution_count": null,
      "outputs": [
        {
          "output_type": "stream",
          "name": "stdout",
          "text": [
            "15\n",
            "FizzBuzz\n"
          ]
        }
      ]
    },
    {
      "cell_type": "code",
      "source": [
        "#correct version\n",
        "n = int(input())\n",
        "\n",
        "if n%3 == 0 and n%5 == 0:\n",
        "  print(\"FizzBuzz\")\n",
        "elif n%5 == 0:\n",
        "  print(\"Buzz\")\n",
        "elif n%3 == 0:\n",
        "  print(\"Fizz\")"
      ],
      "metadata": {
        "colab": {
          "base_uri": "https://localhost:8080/"
        },
        "id": "22-v5p5PBATA",
        "outputId": "6a36ce43-664f-43f0-c56c-d66743fdc2f1"
      },
      "execution_count": null,
      "outputs": [
        {
          "name": "stdout",
          "output_type": "stream",
          "text": [
            "7\n"
          ]
        }
      ]
    },
    {
      "cell_type": "code",
      "source": [
        "#correct version\n",
        "n = int(input())\n",
        "\n",
        "if n%3 == 0 and n%5 == 0:\n",
        "  print(\"FizzBuzz\")\n",
        "elif n%5 == 0:\n",
        "  print(\"Buzz\")\n",
        "elif n%3 == 0:\n",
        "  print(\"Fizz\")\n",
        "else:\n",
        "  print(\"None of the above\")"
      ],
      "metadata": {
        "colab": {
          "base_uri": "https://localhost:8080/"
        },
        "id": "GRaO45NVBX0Y",
        "outputId": "e05ef7ad-7950-492a-c240-845b1a2f1a13"
      },
      "execution_count": null,
      "outputs": [
        {
          "output_type": "stream",
          "name": "stdout",
          "text": [
            "7\n",
            "None of the above\n"
          ]
        }
      ]
    },
    {
      "cell_type": "markdown",
      "source": [
        "Q5:\n",
        "Take three inputs from a user which are marks in science, english and maths.\n",
        "Assign the stream according to the following criteria (Bad process : - ):\n",
        "\n",
        "1. If marks in science > 90 or marks in all 3 subjects are greater than or equal to 75 - print \"A\"\n",
        "\n",
        "2. if marks in all 3 subjects are greater than or equal to 60 and less than 75 -- print \"B\"\n",
        "\n",
        "3. if marks in all 3 subjects are less than 60 -- print \"C\"\n",
        "\n",
        "Note:\n",
        "\n",
        "All --> consider individual subjects\n",
        "\n",
        "Learnings:\n",
        "1. Understanding the question is 50% of the problem solved.\n",
        "\n",
        "2. Patiently reading the question"
      ],
      "metadata": {
        "id": "Dtiwxa8DBm-G"
      }
    },
    {
      "cell_type": "code",
      "source": [
        "science = int(input())\n",
        "english = int(input())\n",
        "maths = int(input())"
      ],
      "metadata": {
        "colab": {
          "base_uri": "https://localhost:8080/"
        },
        "id": "v_WJPLqnBfGU",
        "outputId": "d366f4c7-134a-4798-f73b-fb49bc0227e1"
      },
      "execution_count": null,
      "outputs": [
        {
          "name": "stdout",
          "output_type": "stream",
          "text": [
            "97\n",
            "97\n",
            "97\n"
          ]
        }
      ]
    },
    {
      "cell_type": "code",
      "source": [
        "if (science > 90) or (science >= 75 and maths >= 75 and english >= 75):\n",
        "  print(\"A\")\n",
        "elif (english >= 60 and english < 75) and (science >= 60 and science < 75) and (maths >= 60 and maths < 75):\n",
        "  print(\"B\")\n",
        "else:\n",
        "  print(\"C\")"
      ],
      "metadata": {
        "colab": {
          "base_uri": "https://localhost:8080/"
        },
        "id": "6wli96GyCWbg",
        "outputId": "1cca42e2-81e3-4fa9-8888-5a7409b1622b"
      },
      "execution_count": null,
      "outputs": [
        {
          "output_type": "stream",
          "name": "stdout",
          "text": [
            "A\n"
          ]
        }
      ]
    },
    {
      "cell_type": "code",
      "source": [
        "science = 80\n",
        "english = 65\n",
        "maths = 67\n",
        "\n",
        "if (science > 90) or (science >= 75 and maths >= 75 and english >= 75):\n",
        "  print(\"A\")\n",
        "elif (english >= 60 and english < 75) and (science >= 60 and science < 75) and (maths >= 60 and maths < 75):\n",
        "  print(\"B\")\n",
        "else:\n",
        "  print(\"C\")\n",
        "\n",
        "#incorrect due to the else part"
      ],
      "metadata": {
        "colab": {
          "base_uri": "https://localhost:8080/"
        },
        "id": "-agfHWtlDKtl",
        "outputId": "2c91601d-7ee9-4992-8ee0-150035535149"
      },
      "execution_count": null,
      "outputs": [
        {
          "output_type": "stream",
          "name": "stdout",
          "text": [
            "C\n"
          ]
        }
      ]
    },
    {
      "cell_type": "code",
      "source": [
        "science = 80\n",
        "english = 65\n",
        "maths = 67\n",
        "\n",
        "if (science > 90) or (science >= 75 and maths >= 75 and english >= 75):\n",
        "  print(\"A\")\n",
        "elif (english >= 60 and english < 75) and (science >= 60 and science < 75) and (maths >= 60 and maths < 75):\n",
        "  print(\"B\")\n",
        "elif science < 60 and english < 60 and maths < 60:\n",
        "  print(\"C\")"
      ],
      "metadata": {
        "colab": {
          "base_uri": "https://localhost:8080/"
        },
        "id": "SqbWQE99DWjt",
        "outputId": "d8ecfb21-ec4b-4a05-8f9d-b24bdc5be561"
      },
      "execution_count": null,
      "outputs": [
        {
          "output_type": "stream",
          "name": "stdout",
          "text": [
            "None of these\n"
          ]
        }
      ]
    },
    {
      "cell_type": "code",
      "source": [
        "a = 10\n",
        "\n",
        "a >= 5 and a <= 20"
      ],
      "metadata": {
        "colab": {
          "base_uri": "https://localhost:8080/"
        },
        "id": "SLgrpmpSEEVw",
        "outputId": "d8bd319f-4694-4f9e-90e9-27e6e2cf5ab0"
      },
      "execution_count": null,
      "outputs": [
        {
          "output_type": "execute_result",
          "data": {
            "text/plain": [
              "True"
            ]
          },
          "metadata": {},
          "execution_count": 43
        }
      ]
    },
    {
      "cell_type": "code",
      "source": [
        "5 <= a <= 20"
      ],
      "metadata": {
        "colab": {
          "base_uri": "https://localhost:8080/"
        },
        "id": "-PR0WpniEXpM",
        "outputId": "911e9484-1361-4652-ccc7-230f72517661"
      },
      "execution_count": null,
      "outputs": [
        {
          "output_type": "execute_result",
          "data": {
            "text/plain": [
              "True"
            ]
          },
          "metadata": {},
          "execution_count": 44
        }
      ]
    },
    {
      "cell_type": "code",
      "source": [
        "#just re-writing\n",
        "science = 80\n",
        "english = 65\n",
        "maths = 67\n",
        "\n",
        "if (science > 90) or (science >= 75 and maths >= 75 and english >= 75):\n",
        "  print(\"A\")\n",
        "elif ( 60 <= english < 75) and ( 60 <= science < 75) and ( 60 <= maths < 75):\n",
        "  print(\"B\")\n",
        "elif science < 60 and english < 60 and maths < 60:\n",
        "  print(\"C\")\n",
        "else:\n",
        "  print(\"None of these\")"
      ],
      "metadata": {
        "colab": {
          "base_uri": "https://localhost:8080/"
        },
        "id": "HV2Yyl6NEmHs",
        "outputId": "65dda7d3-e596-4601-a348-6b192e0cebd5"
      },
      "execution_count": null,
      "outputs": [
        {
          "output_type": "stream",
          "name": "stdout",
          "text": [
            "None of these\n"
          ]
        }
      ]
    },
    {
      "cell_type": "code",
      "source": [
        "#doubts"
      ],
      "metadata": {
        "id": "FDvhjxTxE25w"
      },
      "execution_count": null,
      "outputs": []
    },
    {
      "cell_type": "code",
      "source": [
        "x= input()\n",
        "if x == \"\":\n",
        "  print(\"next time\")\n",
        "elif x.lower() == \"great\" or x.lower()==\"awesome\":\n",
        "  print(\"thanks\")\n",
        "else:\n",
        "  print(\"again\")"
      ],
      "metadata": {
        "colab": {
          "base_uri": "https://localhost:8080/"
        },
        "id": "dRoG_Pj9GOk3",
        "outputId": "b91d43a2-d117-4067-9c22-a1f0076f7b3c"
      },
      "execution_count": null,
      "outputs": [
        {
          "output_type": "stream",
          "name": "stdout",
          "text": [
            "aditya\n",
            "again\n"
          ]
        }
      ]
    },
    {
      "cell_type": "code",
      "source": [
        "n = input()"
      ],
      "metadata": {
        "colab": {
          "base_uri": "https://localhost:8080/"
        },
        "id": "KZdy_yBCGUFl",
        "outputId": "a74ccd53-07a3-4750-ea20-01e8daf9c708"
      },
      "execution_count": null,
      "outputs": [
        {
          "name": "stdout",
          "output_type": "stream",
          "text": [
            "aditya\n"
          ]
        }
      ]
    },
    {
      "cell_type": "code",
      "source": [
        "type(n)"
      ],
      "metadata": {
        "colab": {
          "base_uri": "https://localhost:8080/"
        },
        "id": "okUt0n8AGgIo",
        "outputId": "c752bc8c-4307-42cf-d56c-e68536745c95"
      },
      "execution_count": null,
      "outputs": [
        {
          "output_type": "execute_result",
          "data": {
            "text/plain": [
              "str"
            ]
          },
          "metadata": {},
          "execution_count": 49
        }
      ]
    },
    {
      "cell_type": "code",
      "source": [
        "n=int(input())\n",
        "if not(n>=0 and n<=9):\n",
        "  print(\"invalid\")\n",
        "elif ((n**5) % 40) > 15:\n",
        "  print(\"Black\")\n",
        "else:\n",
        "  print(\"Blue\")"
      ],
      "metadata": {
        "colab": {
          "base_uri": "https://localhost:8080/"
        },
        "id": "q3pZvI1xGh38",
        "outputId": "4ea83e8d-c556-4b91-ef66-a8d1e0e64e6b"
      },
      "execution_count": null,
      "outputs": [
        {
          "output_type": "stream",
          "name": "stdout",
          "text": [
            "10\n",
            "invalid\n"
          ]
        }
      ]
    },
    {
      "cell_type": "code",
      "source": [],
      "metadata": {
        "id": "Yg3Dk6ceIXS3"
      },
      "execution_count": null,
      "outputs": []
    }
  ]
}