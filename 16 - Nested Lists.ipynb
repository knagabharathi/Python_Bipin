{
 "cells": [
  {
   "cell_type": "code",
   "execution_count": 2,
   "id": "5c1cfed0",
   "metadata": {},
   "outputs": [
    {
     "data": {
      "text/plain": [
       "'\\nQuestion 1 - \\nRotate a given list by 1 element.\\n\\nINPUT - [1,2,3,4,5]\\nOUTPUT - [5,1,2,3,4]\\n'"
      ]
     },
     "execution_count": 2,
     "metadata": {},
     "output_type": "execute_result"
    }
   ],
   "source": [
    "'''\n",
    "Question 1 - \n",
    "Rotate a given list by 1 element.\n",
    "\n",
    "INPUT - [1,2,3,4,5]\n",
    "OUTPUT - [5,1,2,3,4]\n",
    "'''"
   ]
  },
  {
   "cell_type": "code",
   "execution_count": 3,
   "id": "952b61f5",
   "metadata": {},
   "outputs": [],
   "source": [
    "a = [1,2,3,4,5]"
   ]
  },
  {
   "cell_type": "code",
   "execution_count": 4,
   "id": "b10a69be",
   "metadata": {},
   "outputs": [
    {
     "data": {
      "text/plain": [
       "5"
      ]
     },
     "execution_count": 4,
     "metadata": {},
     "output_type": "execute_result"
    }
   ],
   "source": [
    "a[-1]"
   ]
  },
  {
   "cell_type": "code",
   "execution_count": 5,
   "id": "22760c66",
   "metadata": {},
   "outputs": [
    {
     "data": {
      "text/plain": [
       "[1, 2, 3, 4]"
      ]
     },
     "execution_count": 5,
     "metadata": {},
     "output_type": "execute_result"
    }
   ],
   "source": [
    "a[:-1]"
   ]
  },
  {
   "cell_type": "code",
   "execution_count": 7,
   "id": "af924ba0",
   "metadata": {},
   "outputs": [],
   "source": [
    "result = [a[-1]] + a[:-1]"
   ]
  },
  {
   "cell_type": "code",
   "execution_count": 8,
   "id": "09282fe6",
   "metadata": {},
   "outputs": [
    {
     "data": {
      "text/plain": [
       "[5, 1, 2, 3, 4]"
      ]
     },
     "execution_count": 8,
     "metadata": {},
     "output_type": "execute_result"
    }
   ],
   "source": [
    "result"
   ]
  },
  {
   "cell_type": "code",
   "execution_count": 9,
   "id": "4a642d38",
   "metadata": {},
   "outputs": [],
   "source": [
    "last_element = a.pop()"
   ]
  },
  {
   "cell_type": "code",
   "execution_count": 10,
   "id": "1a0ec468",
   "metadata": {},
   "outputs": [],
   "source": [
    "a.insert(0, last_element)"
   ]
  },
  {
   "cell_type": "code",
   "execution_count": 11,
   "id": "b21d29f5",
   "metadata": {},
   "outputs": [
    {
     "data": {
      "text/plain": [
       "[5, 1, 2, 3, 4]"
      ]
     },
     "execution_count": 11,
     "metadata": {},
     "output_type": "execute_result"
    }
   ],
   "source": [
    "a"
   ]
  },
  {
   "cell_type": "code",
   "execution_count": 14,
   "id": "76bf2093",
   "metadata": {},
   "outputs": [],
   "source": [
    "a = [10,20,30,40,50,60,70,80,90,100,30,30,30]"
   ]
  },
  {
   "cell_type": "code",
   "execution_count": 16,
   "id": "21880e56",
   "metadata": {},
   "outputs": [
    {
     "data": {
      "text/plain": [
       "2"
      ]
     },
     "execution_count": 16,
     "metadata": {},
     "output_type": "execute_result"
    }
   ],
   "source": [
    "a.index(30) # returns the index of the first occurence only"
   ]
  },
  {
   "cell_type": "code",
   "execution_count": 17,
   "id": "eb953234",
   "metadata": {},
   "outputs": [
    {
     "data": {
      "text/plain": [
       "'\\nQuestion 2 (HOMEWORK) -\\nWrite a python function which prints a list of indexes \\nof all the occurences of a certain element within the parent list.\\n\\nINPUT = [10,20,30,30,40], target = 30\\nOUTPUT = [2,3]\\n'"
      ]
     },
     "execution_count": 17,
     "metadata": {},
     "output_type": "execute_result"
    }
   ],
   "source": [
    "'''\n",
    "Question 2 (HOMEWORK) -\n",
    "Write a python function which prints a list of indexes \n",
    "of all the occurences of a certain element within the parent list.\n",
    "\n",
    "INPUT = [10,20,30,30,40], target = 30\n",
    "OUTPUT = [2,3]\n",
    "'''"
   ]
  },
  {
   "cell_type": "code",
   "execution_count": 18,
   "id": "fad220b6",
   "metadata": {},
   "outputs": [],
   "source": [
    "a = [[1,2,3],[4,5,6],[7,8,9],[10,11,12]]"
   ]
  },
  {
   "cell_type": "code",
   "execution_count": 25,
   "id": "50212201",
   "metadata": {},
   "outputs": [
    {
     "data": {
      "text/plain": [
       "2"
      ]
     },
     "execution_count": 25,
     "metadata": {},
     "output_type": "execute_result"
    }
   ],
   "source": [
    "a[0][1]"
   ]
  },
  {
   "cell_type": "code",
   "execution_count": 26,
   "id": "7229db4b",
   "metadata": {},
   "outputs": [],
   "source": [
    "rows = len(a)"
   ]
  },
  {
   "cell_type": "code",
   "execution_count": 27,
   "id": "df4cbe3d",
   "metadata": {},
   "outputs": [
    {
     "data": {
      "text/plain": [
       "4"
      ]
     },
     "execution_count": 27,
     "metadata": {},
     "output_type": "execute_result"
    }
   ],
   "source": [
    "rows"
   ]
  },
  {
   "cell_type": "code",
   "execution_count": 28,
   "id": "1ba3d548",
   "metadata": {},
   "outputs": [],
   "source": [
    "columns = len(a[0])"
   ]
  },
  {
   "cell_type": "code",
   "execution_count": 29,
   "id": "20861675",
   "metadata": {},
   "outputs": [
    {
     "data": {
      "text/plain": [
       "3"
      ]
     },
     "execution_count": 29,
     "metadata": {},
     "output_type": "execute_result"
    }
   ],
   "source": [
    "columns"
   ]
  },
  {
   "cell_type": "code",
   "execution_count": 31,
   "id": "1ce0f811",
   "metadata": {},
   "outputs": [],
   "source": [
    "a = [[1,2,3],[4,5,6],[7,8,9],[10,11,12]]"
   ]
  },
  {
   "cell_type": "code",
   "execution_count": 30,
   "id": "b7a90560",
   "metadata": {},
   "outputs": [],
   "source": [
    "# ITERATING OVER 2D LISTS"
   ]
  },
  {
   "cell_type": "code",
   "execution_count": 32,
   "id": "eca6957e",
   "metadata": {},
   "outputs": [
    {
     "name": "stdout",
     "output_type": "stream",
     "text": [
      "1 2 3 \n",
      "4 5 6 \n",
      "7 8 9 \n",
      "10 11 12 \n"
     ]
    }
   ],
   "source": [
    "# MATRIX\n",
    "rows = len(a)\n",
    "columns = len(a[0])\n",
    "\n",
    "for i in range(rows):\n",
    "    for j in range(columns):\n",
    "        print(a[i][j], end = \" \")\n",
    "        \n",
    "    print()"
   ]
  },
  {
   "cell_type": "code",
   "execution_count": 35,
   "id": "0c22e8d6",
   "metadata": {},
   "outputs": [
    {
     "name": "stdout",
     "output_type": "stream",
     "text": [
      "1 2 3 \n",
      "4 5 \n",
      "6 7 8 9 \n"
     ]
    }
   ],
   "source": [
    "# GENERAL 2D LIST\n",
    "a = [[1,2,3], [4,5], [6,7,8,9]]\n",
    "\n",
    "for i in a:\n",
    "    for j in i:\n",
    "        print(j, end = \" \")\n",
    "        \n",
    "    print()"
   ]
  },
  {
   "cell_type": "code",
   "execution_count": 38,
   "id": "02b7fd1c",
   "metadata": {},
   "outputs": [],
   "source": [
    "a = [[1,2,3],[4,5,6],[7,8,9],[10,11,12]]"
   ]
  },
  {
   "cell_type": "code",
   "execution_count": 39,
   "id": "4338e63b",
   "metadata": {},
   "outputs": [],
   "source": [
    "matrix = True\n",
    "\n",
    "for i in range(len(a) - 1):\n",
    "    if len(a[i]) != len(a[i + 1]):\n",
    "        matrix = False"
   ]
  },
  {
   "cell_type": "code",
   "execution_count": 40,
   "id": "e68e8634",
   "metadata": {},
   "outputs": [
    {
     "data": {
      "text/plain": [
       "True"
      ]
     },
     "execution_count": 40,
     "metadata": {},
     "output_type": "execute_result"
    }
   ],
   "source": [
    "matrix"
   ]
  },
  {
   "cell_type": "code",
   "execution_count": 42,
   "id": "ed55002d",
   "metadata": {},
   "outputs": [
    {
     "data": {
      "text/plain": [
       "'\\nQuestion 3 - \\nTake a 3X3 matrix as an input from the user.\\nGiven this matrix.\\n1. Calculate the sum of all the elements in the matrix\\n2. Calculate the sum of each row\\n3. Calculate the sum of each column\\n'"
      ]
     },
     "execution_count": 42,
     "metadata": {},
     "output_type": "execute_result"
    }
   ],
   "source": [
    "'''\n",
    "Question 3 - \n",
    "Take a 3X3 matrix as an input from the user.\n",
    "Given this matrix.\n",
    "1. Calculate the sum of all the elements in the matrix\n",
    "2. Calculate the sum of each row\n",
    "3. Calculate the sum of each column\n",
    "'''"
   ]
  },
  {
   "cell_type": "code",
   "execution_count": 43,
   "id": "590d94ac",
   "metadata": {},
   "outputs": [
    {
     "name": "stdout",
     "output_type": "stream",
     "text": [
      "6\n",
      "7\n",
      "8\n",
      "9\n",
      "20\n",
      "30\n",
      "15\n",
      "4\n",
      "2\n"
     ]
    }
   ],
   "source": [
    "matrix = []\n",
    "\n",
    "for i in range(3):\n",
    "    row = []\n",
    "    \n",
    "    for j in range(3):\n",
    "        element = int(input())\n",
    "        row.append(element)\n",
    "    \n",
    "    matrix.append(row)"
   ]
  },
  {
   "cell_type": "code",
   "execution_count": 44,
   "id": "6191f3bb",
   "metadata": {},
   "outputs": [
    {
     "data": {
      "text/plain": [
       "[[6, 7, 8], [9, 20, 30], [15, 4, 2]]"
      ]
     },
     "execution_count": 44,
     "metadata": {},
     "output_type": "execute_result"
    }
   ],
   "source": [
    "matrix"
   ]
  },
  {
   "cell_type": "code",
   "execution_count": 45,
   "id": "021a98ef",
   "metadata": {},
   "outputs": [],
   "source": [
    "def generate_matrix(rows, columns):\n",
    "    matrix = []\n",
    "\n",
    "    for i in range(rows):\n",
    "        row = []\n",
    "\n",
    "        for j in range(columns):\n",
    "            row.append(int(input()))\n",
    "\n",
    "        matrix.append(row)\n",
    "        \n",
    "    return matrix"
   ]
  },
  {
   "cell_type": "code",
   "execution_count": 46,
   "id": "16bf2588",
   "metadata": {},
   "outputs": [
    {
     "name": "stdout",
     "output_type": "stream",
     "text": [
      "1\n",
      "2\n",
      "3\n",
      "4\n",
      "5\n",
      "6\n"
     ]
    }
   ],
   "source": [
    "a = generate_matrix(2, 3)"
   ]
  },
  {
   "cell_type": "code",
   "execution_count": 47,
   "id": "1d803eb6",
   "metadata": {},
   "outputs": [
    {
     "data": {
      "text/plain": [
       "[[1, 2, 3], [4, 5, 6]]"
      ]
     },
     "execution_count": 47,
     "metadata": {},
     "output_type": "execute_result"
    }
   ],
   "source": [
    "a"
   ]
  },
  {
   "cell_type": "code",
   "execution_count": 48,
   "id": "7cb7c47c",
   "metadata": {},
   "outputs": [],
   "source": [
    "def sum_all(matrix):\n",
    "    sum_all = 0 \n",
    "    \n",
    "    for i in matrix:\n",
    "        for j in i:\n",
    "            sum_all += j\n",
    "            \n",
    "    return sum_all"
   ]
  },
  {
   "cell_type": "code",
   "execution_count": 49,
   "id": "df5af721",
   "metadata": {},
   "outputs": [
    {
     "data": {
      "text/plain": [
       "21"
      ]
     },
     "execution_count": 49,
     "metadata": {},
     "output_type": "execute_result"
    }
   ],
   "source": [
    "sum_all(a)"
   ]
  },
  {
   "cell_type": "code",
   "execution_count": 50,
   "id": "f71f5880",
   "metadata": {},
   "outputs": [],
   "source": [
    "def sum_each_row(matrix):\n",
    "    rows = len(matrix)\n",
    "    columns = len(matrix[0])\n",
    "    \n",
    "    for i in range(rows):\n",
    "        sum_row = 0 \n",
    "        \n",
    "        for j in range(columns): # 0 1 2\n",
    "            sum_row += matrix[i][j]\n",
    "            \n",
    "        print(\"Sum of row\", i, \"=\", sum_row)"
   ]
  },
  {
   "cell_type": "code",
   "execution_count": 51,
   "id": "7a20ab04",
   "metadata": {},
   "outputs": [
    {
     "name": "stdout",
     "output_type": "stream",
     "text": [
      "Sum of row 0 = 6\n",
      "Sum of row 1 = 15\n"
     ]
    }
   ],
   "source": [
    "sum_each_row(a)"
   ]
  },
  {
   "cell_type": "code",
   "execution_count": 53,
   "id": "dde1d3d4",
   "metadata": {},
   "outputs": [],
   "source": [
    "def sum_each_column(matrix):\n",
    "    rows = len(matrix)\n",
    "    columns = len(matrix[0])\n",
    "    \n",
    "    for j in range(columns):\n",
    "        sum_column = 0\n",
    "        \n",
    "        for i in range(rows):\n",
    "            sum_column += matrix[i][j]\n",
    "            \n",
    "        print(\"Sum of column\", j, \"=\", sum_column)"
   ]
  },
  {
   "cell_type": "code",
   "execution_count": 55,
   "id": "ab591742",
   "metadata": {},
   "outputs": [
    {
     "name": "stdout",
     "output_type": "stream",
     "text": [
      "Sum of column 0 = 5\n",
      "Sum of column 1 = 7\n",
      "Sum of column 2 = 9\n"
     ]
    }
   ],
   "source": [
    "sum_each_column(a)"
   ]
  },
  {
   "cell_type": "code",
   "execution_count": 56,
   "id": "3eb78eed",
   "metadata": {},
   "outputs": [],
   "source": [
    "# LIST COMPREHENSION"
   ]
  },
  {
   "cell_type": "code",
   "execution_count": 57,
   "id": "c83c182a",
   "metadata": {},
   "outputs": [],
   "source": [
    "a = [1,2,3,4,5]"
   ]
  },
  {
   "cell_type": "code",
   "execution_count": 59,
   "id": "a3c909ba",
   "metadata": {},
   "outputs": [],
   "source": [
    "result = []\n",
    "\n",
    "for i in a:\n",
    "    result.append(i ** 2)"
   ]
  },
  {
   "cell_type": "code",
   "execution_count": 60,
   "id": "1b65604f",
   "metadata": {},
   "outputs": [
    {
     "data": {
      "text/plain": [
       "[1, 4, 9, 16, 25]"
      ]
     },
     "execution_count": 60,
     "metadata": {},
     "output_type": "execute_result"
    }
   ],
   "source": [
    "result"
   ]
  },
  {
   "cell_type": "code",
   "execution_count": 61,
   "id": "d5acc59b",
   "metadata": {},
   "outputs": [],
   "source": [
    "result = []\n",
    "\n",
    "for i in range(1, 6):\n",
    "    result.append(i ** 2)"
   ]
  },
  {
   "cell_type": "code",
   "execution_count": 62,
   "id": "b0295bab",
   "metadata": {},
   "outputs": [
    {
     "data": {
      "text/plain": [
       "[1, 4, 9, 16, 25]"
      ]
     },
     "execution_count": 62,
     "metadata": {},
     "output_type": "execute_result"
    }
   ],
   "source": [
    "result"
   ]
  },
  {
   "cell_type": "code",
   "execution_count": 65,
   "id": "9aa9731b",
   "metadata": {},
   "outputs": [],
   "source": [
    "result = [ i**2 for i in range(1, 6) ]"
   ]
  },
  {
   "cell_type": "code",
   "execution_count": 66,
   "id": "a776f518",
   "metadata": {},
   "outputs": [
    {
     "data": {
      "text/plain": [
       "[1, 4, 9, 16, 25]"
      ]
     },
     "execution_count": 66,
     "metadata": {},
     "output_type": "execute_result"
    }
   ],
   "source": [
    "result"
   ]
  },
  {
   "cell_type": "code",
   "execution_count": 73,
   "id": "0a5ed97d",
   "metadata": {},
   "outputs": [],
   "source": [
    "table = [ [ i*j for j in range(1, 11) ] for i in range(1, 11) ]"
   ]
  },
  {
   "cell_type": "code",
   "execution_count": 74,
   "id": "fb4fe5fa",
   "metadata": {},
   "outputs": [
    {
     "data": {
      "text/plain": [
       "[[1, 2, 3, 4, 5, 6, 7, 8, 9, 10],\n",
       " [2, 4, 6, 8, 10, 12, 14, 16, 18, 20],\n",
       " [3, 6, 9, 12, 15, 18, 21, 24, 27, 30],\n",
       " [4, 8, 12, 16, 20, 24, 28, 32, 36, 40],\n",
       " [5, 10, 15, 20, 25, 30, 35, 40, 45, 50],\n",
       " [6, 12, 18, 24, 30, 36, 42, 48, 54, 60],\n",
       " [7, 14, 21, 28, 35, 42, 49, 56, 63, 70],\n",
       " [8, 16, 24, 32, 40, 48, 56, 64, 72, 80],\n",
       " [9, 18, 27, 36, 45, 54, 63, 72, 81, 90],\n",
       " [10, 20, 30, 40, 50, 60, 70, 80, 90, 100]]"
      ]
     },
     "execution_count": 74,
     "metadata": {},
     "output_type": "execute_result"
    }
   ],
   "source": [
    "table"
   ]
  },
  {
   "cell_type": "code",
   "execution_count": 75,
   "id": "5db02c6a",
   "metadata": {},
   "outputs": [
    {
     "name": "stdout",
     "output_type": "stream",
     "text": [
      "0 0\n",
      "0 1\n",
      "0 2\n",
      "1 0\n",
      "1 1\n",
      "1 2\n",
      "2 0\n",
      "2 1\n",
      "2 2\n"
     ]
    }
   ],
   "source": [
    "for i in range(3):\n",
    "    for j in range(3):\n",
    "        print(i, j)"
   ]
  },
  {
   "cell_type": "code",
   "execution_count": 77,
   "id": "661fb8ff",
   "metadata": {},
   "outputs": [
    {
     "name": "stdout",
     "output_type": "stream",
     "text": [
      "0 0\n",
      "1 0\n",
      "2 0\n",
      "0 1\n",
      "1 1\n",
      "2 1\n",
      "0 2\n",
      "1 2\n",
      "2 2\n"
     ]
    }
   ],
   "source": [
    "for j in range(3):\n",
    "    for i in range(3):\n",
    "        print(i, j)"
   ]
  },
  {
   "cell_type": "code",
   "execution_count": 78,
   "id": "862ac41a",
   "metadata": {},
   "outputs": [],
   "source": [
    "a = [[1, 2, 3, 4],[1, 2, 4, 3], [5, 5, 6, 8]]"
   ]
  },
  {
   "cell_type": "code",
   "execution_count": 79,
   "id": "22fb6d8a",
   "metadata": {},
   "outputs": [
    {
     "name": "stdout",
     "output_type": "stream",
     "text": [
      "Sum of column 0 = 7\n",
      "Sum of column 1 = 9\n",
      "Sum of column 2 = 13\n",
      "Sum of column 3 = 15\n"
     ]
    }
   ],
   "source": [
    "sum_each_column(a)"
   ]
  },
  {
   "cell_type": "code",
   "execution_count": 80,
   "id": "2f317d48",
   "metadata": {},
   "outputs": [],
   "source": [
    "def sum_each_column(matrix):\n",
    "    rows = len(matrix)\n",
    "    columns = len(matrix[0])\n",
    "    \n",
    "    for j in range(columns):\n",
    "        print(\"Going over column\", j)\n",
    "        sum_column = 0\n",
    "        \n",
    "        for i in range(rows):\n",
    "            print(\"\\tAdding element at index\", i, j, \"which is\", matrix[i][j])\n",
    "            sum_column += matrix[i][j]\n",
    "            \n",
    "        print(\"Sum of column\", j, \"=\", sum_column)\n",
    "        print(\"-\"*25)"
   ]
  },
  {
   "cell_type": "code",
   "execution_count": 81,
   "id": "bcad6224",
   "metadata": {},
   "outputs": [
    {
     "name": "stdout",
     "output_type": "stream",
     "text": [
      "Going over column 0\n",
      "\tAdding element at index 0 0 which is 1\n",
      "\tAdding element at index 1 0 which is 1\n",
      "\tAdding element at index 2 0 which is 5\n",
      "Sum of column 0 = 7\n",
      "-------------------------\n",
      "Going over column 1\n",
      "\tAdding element at index 0 1 which is 2\n",
      "\tAdding element at index 1 1 which is 2\n",
      "\tAdding element at index 2 1 which is 5\n",
      "Sum of column 1 = 9\n",
      "-------------------------\n",
      "Going over column 2\n",
      "\tAdding element at index 0 2 which is 3\n",
      "\tAdding element at index 1 2 which is 4\n",
      "\tAdding element at index 2 2 which is 6\n",
      "Sum of column 2 = 13\n",
      "-------------------------\n",
      "Going over column 3\n",
      "\tAdding element at index 0 3 which is 4\n",
      "\tAdding element at index 1 3 which is 3\n",
      "\tAdding element at index 2 3 which is 8\n",
      "Sum of column 3 = 15\n",
      "-------------------------\n"
     ]
    }
   ],
   "source": [
    "sum_each_column(a)"
   ]
  },
  {
   "cell_type": "code",
   "execution_count": null,
   "id": "ce6e75ca",
   "metadata": {},
   "outputs": [],
   "source": []
  }
 ],
 "metadata": {
  "kernelspec": {
   "display_name": "Python 3 (ipykernel)",
   "language": "python",
   "name": "python3"
  },
  "language_info": {
   "codemirror_mode": {
    "name": "ipython",
    "version": 3
   },
   "file_extension": ".py",
   "mimetype": "text/x-python",
   "name": "python",
   "nbconvert_exporter": "python",
   "pygments_lexer": "ipython3",
   "version": "3.9.5"
  }
 },
 "nbformat": 4,
 "nbformat_minor": 5
}
