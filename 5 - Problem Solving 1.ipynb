{
 "cells": [
  {
   "cell_type": "code",
   "execution_count": 6,
   "id": "8feff347",
   "metadata": {},
   "outputs": [],
   "source": [
    "a = 5\n",
    "b = 7\n",
    "c = 6"
   ]
  },
  {
   "cell_type": "code",
   "execution_count": 7,
   "id": "ab66004e",
   "metadata": {},
   "outputs": [
    {
     "name": "stdout",
     "output_type": "stream",
     "text": [
      "scalene\n"
     ]
    }
   ],
   "source": [
    "if (a==b and a==c) and b==c:\n",
    "    print(\"equilateral\")\n",
    "elif a==b or b==c or c==a:\n",
    "    print(\"isosceles\")\n",
    "else:\n",
    "    print('scalene')"
   ]
  },
  {
   "cell_type": "code",
   "execution_count": 9,
   "id": "ce388059",
   "metadata": {},
   "outputs": [
    {
     "data": {
      "text/plain": [
       "'\\nWrite a program that asks the user to input a number N. \\nIf N is between 10 and 20, \\nyour program should ask the user to enter another number M and then:-\\nPrint the sum of the two numbers.\\nIf the sum is greater than equal to 100, \\nyour program should also print \"That is a large sum!\" on a new line.\\nIf N is not between 10 and 20, your program should print -1.\\n'"
      ]
     },
     "execution_count": 9,
     "metadata": {},
     "output_type": "execute_result"
    }
   ],
   "source": [
    "'''\n",
    "Write a program that asks the user to input a number N. \n",
    "If N is between 10 and 20, \n",
    "your program should ask the user to enter another number M and then:-\n",
    "Print the sum of the two numbers.\n",
    "If the sum is greater than equal to 100, \n",
    "your program should also print \"That is a large sum!\" on a new line.\n",
    "If N is not between 10 and 20, your program should print -1.\n",
    "'''"
   ]
  },
  {
   "cell_type": "code",
   "execution_count": 12,
   "id": "bd60ebc0",
   "metadata": {},
   "outputs": [
    {
     "name": "stdout",
     "output_type": "stream",
     "text": [
      "20\n",
      "100\n",
      "120\n",
      "That is a large sum!\n"
     ]
    }
   ],
   "source": [
    "number = int(input())\n",
    "\n",
    "if number >= 10 and number <= 20:\n",
    "    number2 = int(input())\n",
    "    \n",
    "    result = number + number2\n",
    "    print(result)\n",
    "    \n",
    "    if result >= 100:\n",
    "        print(\"That is a large sum!\")\n",
    "else:\n",
    "    print(-1)"
   ]
  },
  {
   "cell_type": "code",
   "execution_count": 13,
   "id": "bc607aca",
   "metadata": {},
   "outputs": [
    {
     "data": {
      "text/plain": [
       "True"
      ]
     },
     "execution_count": 13,
     "metadata": {},
     "output_type": "execute_result"
    }
   ],
   "source": [
    "bool(5)"
   ]
  },
  {
   "cell_type": "code",
   "execution_count": 15,
   "id": "80af3ac6",
   "metadata": {},
   "outputs": [
    {
     "data": {
      "text/plain": [
       "True"
      ]
     },
     "execution_count": 15,
     "metadata": {},
     "output_type": "execute_result"
    }
   ],
   "source": [
    "bool(23456789)"
   ]
  },
  {
   "cell_type": "code",
   "execution_count": 16,
   "id": "c08edbbb",
   "metadata": {},
   "outputs": [
    {
     "data": {
      "text/plain": [
       "True"
      ]
     },
     "execution_count": 16,
     "metadata": {},
     "output_type": "execute_result"
    }
   ],
   "source": [
    "bool(1)"
   ]
  },
  {
   "cell_type": "code",
   "execution_count": 17,
   "id": "cb36cc51",
   "metadata": {},
   "outputs": [
    {
     "data": {
      "text/plain": [
       "1"
      ]
     },
     "execution_count": 17,
     "metadata": {},
     "output_type": "execute_result"
    }
   ],
   "source": [
    "int(True)"
   ]
  },
  {
   "cell_type": "code",
   "execution_count": 18,
   "id": "0f1b4b4c",
   "metadata": {},
   "outputs": [
    {
     "data": {
      "text/plain": [
       "True"
      ]
     },
     "execution_count": 18,
     "metadata": {},
     "output_type": "execute_result"
    }
   ],
   "source": [
    "1 == True"
   ]
  },
  {
   "cell_type": "code",
   "execution_count": 19,
   "id": "5d418c6b",
   "metadata": {},
   "outputs": [
    {
     "data": {
      "text/plain": [
       "True"
      ]
     },
     "execution_count": 19,
     "metadata": {},
     "output_type": "execute_result"
    }
   ],
   "source": [
    "0 == False"
   ]
  },
  {
   "cell_type": "code",
   "execution_count": 20,
   "id": "927e0bfc",
   "metadata": {},
   "outputs": [
    {
     "data": {
      "text/plain": [
       "True"
      ]
     },
     "execution_count": 20,
     "metadata": {},
     "output_type": "execute_result"
    }
   ],
   "source": [
    "bool(5)"
   ]
  },
  {
   "cell_type": "code",
   "execution_count": 21,
   "id": "c8d8dce1",
   "metadata": {},
   "outputs": [
    {
     "data": {
      "text/plain": [
       "False"
      ]
     },
     "execution_count": 21,
     "metadata": {},
     "output_type": "execute_result"
    }
   ],
   "source": [
    "5 == True"
   ]
  },
  {
   "cell_type": "code",
   "execution_count": 22,
   "id": "beb24cf5",
   "metadata": {},
   "outputs": [
    {
     "data": {
      "text/plain": [
       "False"
      ]
     },
     "execution_count": 22,
     "metadata": {},
     "output_type": "execute_result"
    }
   ],
   "source": [
    "10 == True"
   ]
  },
  {
   "cell_type": "code",
   "execution_count": 23,
   "id": "7d15f6e7",
   "metadata": {},
   "outputs": [
    {
     "data": {
      "text/plain": [
       "'\\nGiven an integer A representing an year, \\nReturn 1 if it is a leap year else return 0. \\nA year is leap year if the following conditions are satisfied:\\nYear is multiple of 400.\\nElse the year is multiple of 4 and not multiple of 100.\\n'"
      ]
     },
     "execution_count": 23,
     "metadata": {},
     "output_type": "execute_result"
    }
   ],
   "source": [
    "'''\n",
    "Given an integer A representing an year, \n",
    "Return 1 if it is a leap year else return 0. \n",
    "A year is leap year if the following conditions are satisfied:\n",
    "Year is multiple of 400.\n",
    "Else the year is multiple of 4 and not multiple of 100.\n",
    "'''"
   ]
  },
  {
   "cell_type": "code",
   "execution_count": 27,
   "id": "265ae4a3",
   "metadata": {},
   "outputs": [
    {
     "name": "stdout",
     "output_type": "stream",
     "text": [
      "2004\n",
      "1\n"
     ]
    }
   ],
   "source": [
    "year = int(input())\n",
    "\n",
    "if year % 400 == 0:\n",
    "    print(1)\n",
    "elif year % 4 == 0 and year % 100 != 0:\n",
    "    print(1)\n",
    "else:\n",
    "    print(0)"
   ]
  },
  {
   "cell_type": "code",
   "execution_count": 28,
   "id": "1bd13129",
   "metadata": {},
   "outputs": [
    {
     "name": "stdout",
     "output_type": "stream",
     "text": [
      "something random\n"
     ]
    }
   ],
   "source": [
    "print(\"something random\")"
   ]
  },
  {
   "cell_type": "code",
   "execution_count": 29,
   "id": "425ad11e",
   "metadata": {},
   "outputs": [
    {
     "name": "stdout",
     "output_type": "stream",
     "text": [
      "something random\n"
     ]
    }
   ],
   "source": [
    "print('something random')"
   ]
  },
  {
   "cell_type": "code",
   "execution_count": 30,
   "id": "97d9fbdb",
   "metadata": {},
   "outputs": [
    {
     "name": "stdout",
     "output_type": "stream",
     "text": [
      "10\n",
      "10\n",
      "20\n"
     ]
    }
   ],
   "source": [
    "number = int(input())\n",
    "\n",
    "if number >= 10 and number <= 20:\n",
    "    number2 = int(input())\n",
    "\n",
    "    result = number + number2\n",
    "    print(result)\n",
    "\n",
    "    if result >= 100:\n",
    "        print(\"That is a large sum!\")\n",
    "else:\n",
    "    print(-1)"
   ]
  },
  {
   "cell_type": "code",
   "execution_count": 31,
   "id": "9c0cf9da",
   "metadata": {},
   "outputs": [
    {
     "name": "stdout",
     "output_type": "stream",
     "text": [
      "they can't play on the stream\n"
     ]
    }
   ],
   "source": [
    "print('they can\\'t play on the stream')"
   ]
  },
  {
   "cell_type": "code",
   "execution_count": 32,
   "id": "49b82d19",
   "metadata": {},
   "outputs": [
    {
     "name": "stdout",
     "output_type": "stream",
     "text": [
      "5\n",
      "random\n",
      "thing\n"
     ]
    }
   ],
   "source": [
    "a = input()\n",
    "b = input()\n",
    "c = input()"
   ]
  },
  {
   "cell_type": "code",
   "execution_count": 33,
   "id": "fe088c52",
   "metadata": {},
   "outputs": [
    {
     "name": "stdout",
     "output_type": "stream",
     "text": [
      "random something 1\n"
     ]
    }
   ],
   "source": [
    "a = input()"
   ]
  },
  {
   "cell_type": "code",
   "execution_count": 34,
   "id": "fd85fd77",
   "metadata": {},
   "outputs": [],
   "source": [
    "# print(\"    *   \", \"   **  \")"
   ]
  },
  {
   "cell_type": "code",
   "execution_count": 35,
   "id": "feec6844",
   "metadata": {},
   "outputs": [],
   "source": [
    "a = 4\n",
    "b = -5\n",
    "\n",
    "if a > 0: # True\n",
    "    if b < 0: # True\n",
    "        a = a - 2 # a = 4 - 2 = 2 -> a = 2\n",
    "    elif a > 5:\n",
    "        a = a - 4\n",
    "    else:\n",
    "        a = a + 3\n",
    "else:\n",
    "    b = b + 2"
   ]
  },
  {
   "cell_type": "code",
   "execution_count": 36,
   "id": "439f0b31",
   "metadata": {},
   "outputs": [
    {
     "data": {
      "text/plain": [
       "2"
      ]
     },
     "execution_count": 36,
     "metadata": {},
     "output_type": "execute_result"
    }
   ],
   "source": [
    "a"
   ]
  },
  {
   "cell_type": "code",
   "execution_count": 37,
   "id": "f28ed720",
   "metadata": {},
   "outputs": [
    {
     "data": {
      "text/plain": [
       "-5"
      ]
     },
     "execution_count": 37,
     "metadata": {},
     "output_type": "execute_result"
    }
   ],
   "source": [
    "b"
   ]
  },
  {
   "cell_type": "code",
   "execution_count": 41,
   "id": "5f8b9531",
   "metadata": {},
   "outputs": [
    {
     "data": {
      "text/plain": [
       "0"
      ]
     },
     "execution_count": 41,
     "metadata": {},
     "output_type": "execute_result"
    }
   ],
   "source": [
    "0 and 5 and 4\n",
    "\n",
    "# 0 and 4\n",
    "# 0"
   ]
  },
  {
   "cell_type": "code",
   "execution_count": 42,
   "id": "cc82d7f1",
   "metadata": {},
   "outputs": [
    {
     "data": {
      "text/plain": [
       "False"
      ]
     },
     "execution_count": 42,
     "metadata": {},
     "output_type": "execute_result"
    }
   ],
   "source": [
    "False and True"
   ]
  },
  {
   "cell_type": "code",
   "execution_count": 43,
   "id": "7aa5f2cf",
   "metadata": {},
   "outputs": [
    {
     "data": {
      "text/plain": [
       "True"
      ]
     },
     "execution_count": 43,
     "metadata": {},
     "output_type": "execute_result"
    }
   ],
   "source": [
    "True or 5"
   ]
  },
  {
   "cell_type": "code",
   "execution_count": null,
   "id": "36bb58cd",
   "metadata": {},
   "outputs": [],
   "source": []
  }
 ],
 "metadata": {
  "kernelspec": {
   "display_name": "Python 3 (ipykernel)",
   "language": "python",
   "name": "python3"
  },
  "language_info": {
   "codemirror_mode": {
    "name": "ipython",
    "version": 3
   },
   "file_extension": ".py",
   "mimetype": "text/x-python",
   "name": "python",
   "nbconvert_exporter": "python",
   "pygments_lexer": "ipython3",
   "version": "3.9.5"
  }
 },
 "nbformat": 4,
 "nbformat_minor": 5
}
