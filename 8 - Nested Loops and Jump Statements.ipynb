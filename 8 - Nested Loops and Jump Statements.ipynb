{
 "cells": [
  {
   "cell_type": "code",
   "execution_count": 3,
   "id": "6bd2099f",
   "metadata": {},
   "outputs": [],
   "source": [
    "random_condition = True\n",
    "\n",
    "if random_condition:\n",
    "    pass # represents an empty block in python\n",
    "else:\n",
    "    pass"
   ]
  },
  {
   "cell_type": "code",
   "execution_count": 5,
   "id": "b47a40f1",
   "metadata": {},
   "outputs": [],
   "source": [
    "for i in range(5,10):\n",
    "    pass # acts a placeholder during development phase"
   ]
  },
  {
   "cell_type": "code",
   "execution_count": 6,
   "id": "5be578e2",
   "metadata": {},
   "outputs": [
    {
     "name": "stdout",
     "output_type": "stream",
     "text": [
      "0\n",
      "1\n",
      "2\n",
      "3\n",
      "4\n"
     ]
    }
   ],
   "source": [
    "for i in range(5):\n",
    "    if i == 3:\n",
    "        pass # empty statement in python\n",
    "\n",
    "    print(i)"
   ]
  },
  {
   "cell_type": "code",
   "execution_count": 7,
   "id": "3bb553a3",
   "metadata": {},
   "outputs": [
    {
     "name": "stdout",
     "output_type": "stream",
     "text": [
      "0\n",
      "1\n",
      "2\n",
      "4\n"
     ]
    }
   ],
   "source": [
    "for i in range(5):\n",
    "    if i == 3:\n",
    "        continue # skips to the next iteration\n",
    "\n",
    "    print(i)"
   ]
  },
  {
   "cell_type": "code",
   "execution_count": 8,
   "id": "990145eb",
   "metadata": {},
   "outputs": [
    {
     "name": "stdout",
     "output_type": "stream",
     "text": [
      "0\n",
      "1\n",
      "2\n"
     ]
    }
   ],
   "source": [
    "for i in range(5):\n",
    "    if i == 3:\n",
    "        break # ends the loop\n",
    "\n",
    "    print(i)"
   ]
  },
  {
   "cell_type": "code",
   "execution_count": 9,
   "id": "cbf0b94f",
   "metadata": {},
   "outputs": [
    {
     "data": {
      "text/plain": [
       "'\\nQuestion 1 - \\nWrite a loop to print the following numbers - \\n1,1,3,7,13,21,31,43\\n'"
      ]
     },
     "execution_count": 9,
     "metadata": {},
     "output_type": "execute_result"
    }
   ],
   "source": [
    "'''\n",
    "Question 1 - \n",
    "Write a loop to print the following numbers - \n",
    "1,1,3,7,13,21,31,43\n",
    "'''"
   ]
  },
  {
   "cell_type": "code",
   "execution_count": 10,
   "id": "f4ca1a5c",
   "metadata": {},
   "outputs": [],
   "source": [
    "# Differences -> 0,2,4,6,8,10,12..."
   ]
  },
  {
   "cell_type": "code",
   "execution_count": 11,
   "id": "2ddf4950",
   "metadata": {},
   "outputs": [
    {
     "name": "stdout",
     "output_type": "stream",
     "text": [
      "1 1 3 7 13 21 31 43 "
     ]
    }
   ],
   "source": [
    "number = 1\n",
    "i = 0\n",
    "\n",
    "while number <= 43:\n",
    "    print(number, end = \" \")\n",
    "    \n",
    "    number = number + 2 * i\n",
    "    i += 1"
   ]
  },
  {
   "cell_type": "code",
   "execution_count": 12,
   "id": "c37d6387",
   "metadata": {},
   "outputs": [
    {
     "data": {
      "text/plain": [
       "'\\nQuestion 2 -\\nWrite a program that continuously asks the user to provide an input number.\\nThe program should stop only when the user provides 5.\\nOnce the user provides 5,\\nThe program should print the number of times an input was provided.\\nAssume that user always provides a number!\\n'"
      ]
     },
     "execution_count": 12,
     "metadata": {},
     "output_type": "execute_result"
    }
   ],
   "source": [
    "'''\n",
    "Question 2 -\n",
    "Write a program that continuously asks the user to provide an input number.\n",
    "The program should stop only when the user provides 5.\n",
    "Once the user provides 5,\n",
    "The program should print the number of times an input was provided.\n",
    "Assume that user always provides a number!\n",
    "'''"
   ]
  },
  {
   "cell_type": "code",
   "execution_count": 13,
   "id": "81ef62e2",
   "metadata": {},
   "outputs": [
    {
     "name": "stdout",
     "output_type": "stream",
     "text": [
      "7\n",
      "8\n",
      "9\n",
      "10\n",
      "2\n",
      "3\n",
      "4\n",
      "5\n",
      "You provided 8 inputs!\n"
     ]
    }
   ],
   "source": [
    "count = 0\n",
    "\n",
    "while True:\n",
    "    number = int(input())\n",
    "    count += 1\n",
    "    \n",
    "    if number == 5:\n",
    "        break\n",
    "        \n",
    "print(\"You provided\", count, \"inputs!\")"
   ]
  },
  {
   "cell_type": "code",
   "execution_count": 15,
   "id": "012e438b",
   "metadata": {},
   "outputs": [
    {
     "name": "stdout",
     "output_type": "stream",
     "text": [
      "7\n",
      "8\n",
      "9\n",
      "10\n",
      "5\n",
      "You provided 5 inputs!\n"
     ]
    }
   ],
   "source": [
    "count = 1\n",
    "\n",
    "number = int(input())\n",
    "\n",
    "while number != 5:\n",
    "    number = int(input())\n",
    "    count += 1\n",
    "        \n",
    "print(\"You provided\", count, \"inputs!\")"
   ]
  },
  {
   "cell_type": "code",
   "execution_count": 16,
   "id": "646f7be3",
   "metadata": {},
   "outputs": [
    {
     "name": "stdout",
     "output_type": "stream",
     "text": [
      "i -> 0 j -> 0\n",
      "i -> 0 j -> 1\n",
      "i -> 0 j -> 2\n",
      "i -> 0 j -> 3\n",
      "i -> 1 j -> 0\n",
      "i -> 1 j -> 1\n",
      "i -> 1 j -> 2\n",
      "i -> 1 j -> 3\n",
      "i -> 2 j -> 0\n",
      "i -> 2 j -> 1\n",
      "i -> 2 j -> 2\n",
      "i -> 2 j -> 3\n"
     ]
    }
   ],
   "source": [
    "for i in range(3):\n",
    "    for j in range(4):\n",
    "        print(\"i ->\", i, \"j ->\", j)"
   ]
  },
  {
   "cell_type": "code",
   "execution_count": 25,
   "id": "551880f2",
   "metadata": {},
   "outputs": [
    {
     "data": {
      "text/plain": [
       "'\\nQuestion 3 - \\nWrite a program to print NxN matrix of \"*\"\\n\\nInput - 4\\nOutput - \\n****\\n****\\n****\\n****\\n'"
      ]
     },
     "execution_count": 25,
     "metadata": {},
     "output_type": "execute_result"
    }
   ],
   "source": [
    "'''\n",
    "Question 3 - \n",
    "Write a program to print NxN matrix of \"*\"\n",
    "\n",
    "Input - 4\n",
    "Output - \n",
    "****\n",
    "****\n",
    "****\n",
    "****\n",
    "'''"
   ]
  },
  {
   "cell_type": "code",
   "execution_count": 24,
   "id": "8a4fbb90",
   "metadata": {},
   "outputs": [
    {
     "name": "stdout",
     "output_type": "stream",
     "text": [
      "5\n",
      "* * * * * \n",
      "* * * * * \n",
      "* * * * * \n",
      "* * * * * \n",
      "* * * * * \n"
     ]
    }
   ],
   "source": [
    "n = int(input())\n",
    "\n",
    "for i in range(n):\n",
    "    for j in range(n):\n",
    "        print(\"*\", end = \" \")\n",
    "        \n",
    "    print()"
   ]
  },
  {
   "cell_type": "code",
   "execution_count": 26,
   "id": "d4c07372",
   "metadata": {},
   "outputs": [
    {
     "data": {
      "text/plain": [
       "'\\nQuestion 4 - \\nTake an input N and print all the divisors of this number.\\n\\nINPUT - 15\\nOUTPUT - 1 3 5 15\\n'"
      ]
     },
     "execution_count": 26,
     "metadata": {},
     "output_type": "execute_result"
    }
   ],
   "source": [
    "'''\n",
    "Question 4 - \n",
    "Take an input N and print all the divisors of this number.\n",
    "\n",
    "INPUT - 15\n",
    "OUTPUT - 1 3 5 15\n",
    "'''"
   ]
  },
  {
   "cell_type": "code",
   "execution_count": 48,
   "id": "481e3389",
   "metadata": {},
   "outputs": [
    {
     "name": "stdout",
     "output_type": "stream",
     "text": [
      "16\n",
      "1 2 4 8 16 "
     ]
    }
   ],
   "source": [
    "number = int(input())\n",
    "\n",
    "print(1, end = \" \")\n",
    "\n",
    "for i in range(2, (number // 2) + 1):\n",
    "    if number % i == 0:\n",
    "        print(i, end = \" \")\n",
    "        \n",
    "print(number, end = \" \")"
   ]
  },
  {
   "cell_type": "code",
   "execution_count": 49,
   "id": "26589369",
   "metadata": {},
   "outputs": [
    {
     "ename": "KeyboardInterrupt",
     "evalue": "",
     "output_type": "error",
     "traceback": [
      "\u001b[0;31m---------------------------------------------------------------------------\u001b[0m",
      "\u001b[0;31mKeyboardInterrupt\u001b[0m                         Traceback (most recent call last)",
      "Cell \u001b[0;32mIn[49], line 3\u001b[0m\n\u001b[1;32m      1\u001b[0m i \u001b[38;5;241m=\u001b[39m \u001b[38;5;241m2\u001b[39m\n\u001b[0;32m----> 3\u001b[0m \u001b[38;5;28;01mwhile\u001b[39;00m i \u001b[38;5;241m<\u001b[39m \u001b[43m(\u001b[49m\u001b[43mnumber\u001b[49m\u001b[43m \u001b[49m\u001b[38;5;241;43m/\u001b[39;49m\u001b[38;5;241;43m/\u001b[39;49m\u001b[43m \u001b[49m\u001b[38;5;241;43m2\u001b[39;49m\u001b[43m)\u001b[49m\u001b[43m \u001b[49m\u001b[38;5;241;43m+\u001b[39;49m\u001b[43m \u001b[49m\u001b[38;5;241;43m1\u001b[39;49m:\n\u001b[1;32m      4\u001b[0m     \u001b[38;5;28;01mpass\u001b[39;00m\n",
      "\u001b[0;31mKeyboardInterrupt\u001b[0m: "
     ]
    }
   ],
   "source": [
    "i = 2\n",
    "\n",
    "while i < (number // 2) + 1:\n",
    "    pass"
   ]
  },
  {
   "cell_type": "code",
   "execution_count": 37,
   "id": "6059f519",
   "metadata": {},
   "outputs": [
    {
     "data": {
      "text/plain": [
       "'\\nQuestion 5 -\\nGCD (Greatest Common Divisor) ->\\nGiven two integer inputs, write a program to calculate GCD.\\n\\nInput - 16 24\\nOutput - 8\\n'"
      ]
     },
     "execution_count": 37,
     "metadata": {},
     "output_type": "execute_result"
    }
   ],
   "source": [
    "'''\n",
    "Question 5 -\n",
    "GCD (Greatest Common Divisor) ->\n",
    "Given two integer inputs, write a program to calculate GCD.\n",
    "\n",
    "Input - 16 24\n",
    "Output - 8\n",
    "'''"
   ]
  },
  {
   "cell_type": "code",
   "execution_count": 39,
   "id": "da369f19",
   "metadata": {},
   "outputs": [],
   "source": [
    "# A, B -> GCD(A, B) <= MIN(A, B)"
   ]
  },
  {
   "cell_type": "code",
   "execution_count": 42,
   "id": "4ece6310",
   "metadata": {},
   "outputs": [],
   "source": [
    "# TERNARY OPERATOR -> Single line if statement\n",
    "a = \"value_if_true\" if 5 > 6 else \"value_if_false\""
   ]
  },
  {
   "cell_type": "code",
   "execution_count": 43,
   "id": "69bd5c5f",
   "metadata": {},
   "outputs": [
    {
     "data": {
      "text/plain": [
       "'value_if_false'"
      ]
     },
     "execution_count": 43,
     "metadata": {},
     "output_type": "execute_result"
    }
   ],
   "source": [
    "a"
   ]
  },
  {
   "cell_type": "code",
   "execution_count": 45,
   "id": "b6de6174",
   "metadata": {},
   "outputs": [
    {
     "name": "stdout",
     "output_type": "stream",
     "text": [
      "75\n",
      "50\n",
      "Greatest Common Divisor - 25\n"
     ]
    }
   ],
   "source": [
    "A = int(input())\n",
    "B = int(input())\n",
    "\n",
    "MIN = A if A < B else B\n",
    "# MIN = min(A, B) -> Direct Function can also be used\n",
    "\n",
    "for x in range(MIN, 0, -1):\n",
    "    if A % x == 0 and B % x == 0:\n",
    "        print(\"Greatest Common Divisor -\", x)\n",
    "        break"
   ]
  },
  {
   "cell_type": "code",
   "execution_count": 46,
   "id": "af539f76",
   "metadata": {},
   "outputs": [
    {
     "data": {
      "text/plain": [
       "'\\nQuestion 6 (HOMEWORK) - \\nLCM ->\\nGiven two integer inputs, write a program to calculate the LCM.\\n\\nInput - 6 8\\nOutput - 24\\n'"
      ]
     },
     "execution_count": 46,
     "metadata": {},
     "output_type": "execute_result"
    }
   ],
   "source": [
    "'''\n",
    "Question 6 (HOMEWORK) - \n",
    "LCM ->\n",
    "Given two integer inputs, write a program to calculate the LCM.\n",
    "\n",
    "Input - 6 8\n",
    "Output - 24\n",
    "'''"
   ]
  },
  {
   "cell_type": "code",
   "execution_count": 50,
   "id": "8f1bb79f",
   "metadata": {},
   "outputs": [
    {
     "data": {
      "text/plain": [
       "1"
      ]
     },
     "execution_count": 50,
     "metadata": {},
     "output_type": "execute_result"
    }
   ],
   "source": [
    "7 % 3"
   ]
  },
  {
   "cell_type": "code",
   "execution_count": null,
   "id": "ce8ba7ad",
   "metadata": {},
   "outputs": [],
   "source": []
  }
 ],
 "metadata": {
  "kernelspec": {
   "display_name": "Python 3 (ipykernel)",
   "language": "python",
   "name": "python3"
  },
  "language_info": {
   "codemirror_mode": {
    "name": "ipython",
    "version": 3
   },
   "file_extension": ".py",
   "mimetype": "text/x-python",
   "name": "python",
   "nbconvert_exporter": "python",
   "pygments_lexer": "ipython3",
   "version": "3.9.5"
  }
 },
 "nbformat": 4,
 "nbformat_minor": 5
}
