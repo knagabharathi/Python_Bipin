{
 "cells": [
  {
   "cell_type": "code",
   "execution_count": 1,
   "id": "37257e9e",
   "metadata": {},
   "outputs": [
    {
     "name": "stdout",
     "output_type": "stream",
     "text": [
      "13\n"
     ]
    }
   ],
   "source": [
    "print(10 + 3)"
   ]
  },
  {
   "cell_type": "code",
   "execution_count": 2,
   "id": "dbb3fd17",
   "metadata": {},
   "outputs": [
    {
     "name": "stdout",
     "output_type": "stream",
     "text": [
      "7\n"
     ]
    }
   ],
   "source": [
    "print(10 - 3)"
   ]
  },
  {
   "cell_type": "code",
   "execution_count": 3,
   "id": "2941b64b",
   "metadata": {},
   "outputs": [
    {
     "name": "stdout",
     "output_type": "stream",
     "text": [
      "30\n"
     ]
    }
   ],
   "source": [
    "print(10 * 3)"
   ]
  },
  {
   "cell_type": "code",
   "execution_count": 5,
   "id": "b50241c1",
   "metadata": {},
   "outputs": [
    {
     "name": "stdout",
     "output_type": "stream",
     "text": [
      "3.3333333333333335\n"
     ]
    }
   ],
   "source": [
    "print(10 / 3)\n",
    "# Python division operator would always give a floating value"
   ]
  },
  {
   "cell_type": "code",
   "execution_count": 6,
   "id": "d999e7d5",
   "metadata": {},
   "outputs": [
    {
     "name": "stdout",
     "output_type": "stream",
     "text": [
      "2.0\n"
     ]
    }
   ],
   "source": [
    "print(10 / 5)"
   ]
  },
  {
   "cell_type": "code",
   "execution_count": 7,
   "id": "b4666125",
   "metadata": {},
   "outputs": [
    {
     "data": {
      "text/plain": [
       "15.5"
      ]
     },
     "execution_count": 7,
     "metadata": {},
     "output_type": "execute_result"
    }
   ],
   "source": [
    "10.0 + 5.5"
   ]
  },
  {
   "cell_type": "code",
   "execution_count": 8,
   "id": "03278ee5",
   "metadata": {},
   "outputs": [
    {
     "data": {
      "text/plain": [
       "13.0"
      ]
     },
     "execution_count": 8,
     "metadata": {},
     "output_type": "execute_result"
    }
   ],
   "source": [
    "10.0 + 3"
   ]
  },
  {
   "cell_type": "code",
   "execution_count": 9,
   "id": "084405b7",
   "metadata": {},
   "outputs": [],
   "source": [
    "# Floored Division Operator"
   ]
  },
  {
   "cell_type": "code",
   "execution_count": 10,
   "id": "e0ac4d30",
   "metadata": {},
   "outputs": [
    {
     "name": "stdout",
     "output_type": "stream",
     "text": [
      "3\n"
     ]
    }
   ],
   "source": [
    "print(10 // 3)"
   ]
  },
  {
   "cell_type": "code",
   "execution_count": 11,
   "id": "494a57c6",
   "metadata": {},
   "outputs": [
    {
     "name": "stdout",
     "output_type": "stream",
     "text": [
      "2\n"
     ]
    }
   ],
   "source": [
    "print(5 // 2)"
   ]
  },
  {
   "cell_type": "code",
   "execution_count": 12,
   "id": "31434154",
   "metadata": {},
   "outputs": [
    {
     "name": "stdout",
     "output_type": "stream",
     "text": [
      "5.0\n"
     ]
    }
   ],
   "source": [
    "print(10 // 2.0)"
   ]
  },
  {
   "cell_type": "code",
   "execution_count": 14,
   "id": "27aa0d56",
   "metadata": {},
   "outputs": [
    {
     "name": "stdout",
     "output_type": "stream",
     "text": [
      "-4\n"
     ]
    }
   ],
   "source": [
    "print(-10 // 3)\n",
    "\n",
    "# The normal answer = -3.33333...\n",
    "# -3 > -3.3333333\n",
    "# -4"
   ]
  },
  {
   "cell_type": "code",
   "execution_count": 16,
   "id": "05b1bfb8",
   "metadata": {},
   "outputs": [
    {
     "data": {
      "text/plain": [
       "16"
      ]
     },
     "execution_count": 16,
     "metadata": {},
     "output_type": "execute_result"
    }
   ],
   "source": [
    "4 ** 2 # Exponentiation or power operator"
   ]
  },
  {
   "cell_type": "code",
   "execution_count": 19,
   "id": "91db8963",
   "metadata": {},
   "outputs": [
    {
     "data": {
      "text/plain": [
       "3.0"
      ]
     },
     "execution_count": 19,
     "metadata": {},
     "output_type": "execute_result"
    }
   ],
   "source": [
    "9 ** 0.5"
   ]
  },
  {
   "cell_type": "code",
   "execution_count": 20,
   "id": "769b918c",
   "metadata": {},
   "outputs": [
    {
     "data": {
      "text/plain": [
       "7.0"
      ]
     },
     "execution_count": 20,
     "metadata": {},
     "output_type": "execute_result"
    }
   ],
   "source": [
    "3.5 + 3.5"
   ]
  },
  {
   "cell_type": "code",
   "execution_count": 22,
   "id": "f5f8544e",
   "metadata": {},
   "outputs": [
    {
     "data": {
      "text/plain": [
       "216"
      ]
     },
     "execution_count": 22,
     "metadata": {},
     "output_type": "execute_result"
    }
   ],
   "source": [
    "6 ** 3 # 6 to the power 3"
   ]
  },
  {
   "cell_type": "code",
   "execution_count": 24,
   "id": "13f71497",
   "metadata": {},
   "outputs": [],
   "source": [
    "# Modulus Operator -> Learn in completely in the Maths for ML module"
   ]
  },
  {
   "cell_type": "code",
   "execution_count": 25,
   "id": "43a00a87",
   "metadata": {},
   "outputs": [
    {
     "data": {
      "text/plain": [
       "1"
      ]
     },
     "execution_count": 25,
     "metadata": {},
     "output_type": "execute_result"
    }
   ],
   "source": [
    "10 % 3 # for positive numbers, it gives you the remainder"
   ]
  },
  {
   "cell_type": "code",
   "execution_count": 26,
   "id": "1d65e1f0",
   "metadata": {},
   "outputs": [
    {
     "data": {
      "text/plain": [
       "2"
      ]
     },
     "execution_count": 26,
     "metadata": {},
     "output_type": "execute_result"
    }
   ],
   "source": [
    "10 % 4"
   ]
  },
  {
   "cell_type": "code",
   "execution_count": 27,
   "id": "e10d289c",
   "metadata": {},
   "outputs": [],
   "source": [
    "x = 12345"
   ]
  },
  {
   "cell_type": "code",
   "execution_count": 28,
   "id": "2195cc7a",
   "metadata": {},
   "outputs": [
    {
     "data": {
      "text/plain": [
       "5"
      ]
     },
     "execution_count": 28,
     "metadata": {},
     "output_type": "execute_result"
    }
   ],
   "source": [
    "x % 10"
   ]
  },
  {
   "cell_type": "code",
   "execution_count": 29,
   "id": "72555ce8",
   "metadata": {},
   "outputs": [
    {
     "data": {
      "text/plain": [
       "1234"
      ]
     },
     "execution_count": 29,
     "metadata": {},
     "output_type": "execute_result"
    }
   ],
   "source": [
    "x // 10"
   ]
  },
  {
   "cell_type": "code",
   "execution_count": 30,
   "id": "196b18cc",
   "metadata": {},
   "outputs": [
    {
     "data": {
      "text/plain": [
       "1234.5"
      ]
     },
     "execution_count": 30,
     "metadata": {},
     "output_type": "execute_result"
    }
   ],
   "source": [
    "x / 10"
   ]
  },
  {
   "cell_type": "code",
   "execution_count": 31,
   "id": "1c04714b",
   "metadata": {},
   "outputs": [
    {
     "data": {
      "text/plain": [
       "2"
      ]
     },
     "execution_count": 31,
     "metadata": {},
     "output_type": "execute_result"
    }
   ],
   "source": [
    "10 - 4 * 2"
   ]
  },
  {
   "cell_type": "code",
   "execution_count": 32,
   "id": "38c1baa2",
   "metadata": {},
   "outputs": [
    {
     "data": {
      "text/plain": [
       "1"
      ]
     },
     "execution_count": 32,
     "metadata": {},
     "output_type": "execute_result"
    }
   ],
   "source": [
    "10 - 4 + 6 - 7 - 9 + 5 # Addition and Subtraction have same precedence so L -> R "
   ]
  },
  {
   "cell_type": "code",
   "execution_count": 33,
   "id": "2baa5702",
   "metadata": {},
   "outputs": [
    {
     "data": {
      "text/plain": [
       "4"
      ]
     },
     "execution_count": 33,
     "metadata": {},
     "output_type": "execute_result"
    }
   ],
   "source": [
    "10 - 4 * 2 + 5 - 6 // 2\n",
    "\n",
    "# 10 - 8 + 5 - 6 // 2\n",
    "# 10 - 8 + 5 - 3\n",
    "# 4"
   ]
  },
  {
   "cell_type": "code",
   "execution_count": 34,
   "id": "63c7440c",
   "metadata": {},
   "outputs": [],
   "source": [
    "x = 5"
   ]
  },
  {
   "cell_type": "code",
   "execution_count": 35,
   "id": "b20b0e73",
   "metadata": {},
   "outputs": [
    {
     "data": {
      "text/plain": [
       "5.0"
      ]
     },
     "execution_count": 35,
     "metadata": {},
     "output_type": "execute_result"
    }
   ],
   "source": [
    "float(x)"
   ]
  },
  {
   "cell_type": "code",
   "execution_count": 36,
   "id": "0450db6d",
   "metadata": {},
   "outputs": [],
   "source": [
    "x = 6.0"
   ]
  },
  {
   "cell_type": "code",
   "execution_count": 37,
   "id": "88ad2d3c",
   "metadata": {},
   "outputs": [
    {
     "data": {
      "text/plain": [
       "6"
      ]
     },
     "execution_count": 37,
     "metadata": {},
     "output_type": "execute_result"
    }
   ],
   "source": [
    "int(x)"
   ]
  },
  {
   "cell_type": "code",
   "execution_count": 38,
   "id": "d44e4802",
   "metadata": {},
   "outputs": [
    {
     "data": {
      "text/plain": [
       "6"
      ]
     },
     "execution_count": 38,
     "metadata": {},
     "output_type": "execute_result"
    }
   ],
   "source": [
    "int(6.5)"
   ]
  },
  {
   "cell_type": "code",
   "execution_count": 39,
   "id": "867d0e65",
   "metadata": {},
   "outputs": [
    {
     "data": {
      "text/plain": [
       "-3"
      ]
     },
     "execution_count": 39,
     "metadata": {},
     "output_type": "execute_result"
    }
   ],
   "source": [
    "int(-3.6)"
   ]
  },
  {
   "cell_type": "code",
   "execution_count": 40,
   "id": "61eae814",
   "metadata": {},
   "outputs": [],
   "source": [
    "# TRUTHY AND FALSY VALUES"
   ]
  },
  {
   "cell_type": "code",
   "execution_count": 42,
   "id": "506d7e67",
   "metadata": {},
   "outputs": [
    {
     "data": {
      "text/plain": [
       "True"
      ]
     },
     "execution_count": 42,
     "metadata": {},
     "output_type": "execute_result"
    }
   ],
   "source": [
    "bool(5) # Any non zero number"
   ]
  },
  {
   "cell_type": "code",
   "execution_count": 43,
   "id": "18e600da",
   "metadata": {},
   "outputs": [
    {
     "data": {
      "text/plain": [
       "True"
      ]
     },
     "execution_count": 43,
     "metadata": {},
     "output_type": "execute_result"
    }
   ],
   "source": [
    "bool(-5.6)"
   ]
  },
  {
   "cell_type": "code",
   "execution_count": 44,
   "id": "c6213ce5",
   "metadata": {},
   "outputs": [
    {
     "data": {
      "text/plain": [
       "True"
      ]
     },
     "execution_count": 44,
     "metadata": {},
     "output_type": "execute_result"
    }
   ],
   "source": [
    "bool(0.67897654)"
   ]
  },
  {
   "cell_type": "code",
   "execution_count": 45,
   "id": "8bd77880",
   "metadata": {},
   "outputs": [
    {
     "data": {
      "text/plain": [
       "True"
      ]
     },
     "execution_count": 45,
     "metadata": {},
     "output_type": "execute_result"
    }
   ],
   "source": [
    "bool(23456789876543212345678)"
   ]
  },
  {
   "cell_type": "code",
   "execution_count": 46,
   "id": "193b7872",
   "metadata": {},
   "outputs": [
    {
     "data": {
      "text/plain": [
       "False"
      ]
     },
     "execution_count": 46,
     "metadata": {},
     "output_type": "execute_result"
    }
   ],
   "source": [
    "bool(0)"
   ]
  },
  {
   "cell_type": "code",
   "execution_count": 47,
   "id": "d8a194b6",
   "metadata": {},
   "outputs": [
    {
     "data": {
      "text/plain": [
       "False"
      ]
     },
     "execution_count": 47,
     "metadata": {},
     "output_type": "execute_result"
    }
   ],
   "source": [
    "bool(0.0)"
   ]
  },
  {
   "cell_type": "code",
   "execution_count": 48,
   "id": "fe3f4e63",
   "metadata": {},
   "outputs": [
    {
     "data": {
      "text/plain": [
       "True"
      ]
     },
     "execution_count": 48,
     "metadata": {},
     "output_type": "execute_result"
    }
   ],
   "source": [
    "bool(0.000000000000000000034567)"
   ]
  },
  {
   "cell_type": "code",
   "execution_count": 49,
   "id": "86fd2d10",
   "metadata": {},
   "outputs": [
    {
     "data": {
      "text/plain": [
       "True"
      ]
     },
     "execution_count": 49,
     "metadata": {},
     "output_type": "execute_result"
    }
   ],
   "source": [
    "bool(\"Any non empty string\")"
   ]
  },
  {
   "cell_type": "code",
   "execution_count": 50,
   "id": "a6255f3d",
   "metadata": {},
   "outputs": [
    {
     "data": {
      "text/plain": [
       "True"
      ]
     },
     "execution_count": 50,
     "metadata": {},
     "output_type": "execute_result"
    }
   ],
   "source": [
    "bool(\"A\")"
   ]
  },
  {
   "cell_type": "code",
   "execution_count": 51,
   "id": "340e717e",
   "metadata": {},
   "outputs": [
    {
     "data": {
      "text/plain": [
       "True"
      ]
     },
     "execution_count": 51,
     "metadata": {},
     "output_type": "execute_result"
    }
   ],
   "source": [
    "bool(\" \")"
   ]
  },
  {
   "cell_type": "code",
   "execution_count": 52,
   "id": "a5072870",
   "metadata": {},
   "outputs": [
    {
     "data": {
      "text/plain": [
       "False"
      ]
     },
     "execution_count": 52,
     "metadata": {},
     "output_type": "execute_result"
    }
   ],
   "source": [
    "bool(\"\") # empty string"
   ]
  },
  {
   "cell_type": "code",
   "execution_count": 53,
   "id": "e7ee7af4",
   "metadata": {},
   "outputs": [
    {
     "data": {
      "text/plain": [
       "False"
      ]
     },
     "execution_count": 53,
     "metadata": {},
     "output_type": "execute_result"
    }
   ],
   "source": [
    "bool(None)"
   ]
  },
  {
   "cell_type": "code",
   "execution_count": 55,
   "id": "f4bca2f4",
   "metadata": {},
   "outputs": [
    {
     "data": {
      "text/plain": [
       "'\\nTRUTHY AND FALSY VALUES ->\\n    Truthy ->\\n        - Non zero integers and floats\\n        - Non empty strings\\n    Falsy ->\\n        - Zero\\n        - Empty strings\\n        - None\\n'"
      ]
     },
     "execution_count": 55,
     "metadata": {},
     "output_type": "execute_result"
    }
   ],
   "source": [
    "'''\n",
    "TRUTHY AND FALSY VALUES ->\n",
    "    Truthy ->\n",
    "        - Non zero integers and floats\n",
    "        - Non empty strings\n",
    "    Falsy ->\n",
    "        - Zero\n",
    "        - Empty strings\n",
    "        - None\n",
    "'''"
   ]
  },
  {
   "cell_type": "code",
   "execution_count": 57,
   "id": "11ff499f",
   "metadata": {},
   "outputs": [
    {
     "data": {
      "text/plain": [
       "4.199999999999999"
      ]
     },
     "execution_count": 57,
     "metadata": {},
     "output_type": "execute_result"
    }
   ],
   "source": [
    "1.2 + 1.4 + 1.6 # HOMEWORK"
   ]
  },
  {
   "cell_type": "code",
   "execution_count": 58,
   "id": "b6f5c9f0",
   "metadata": {},
   "outputs": [],
   "source": [
    "passing_marks = 50"
   ]
  },
  {
   "cell_type": "code",
   "execution_count": 59,
   "id": "9b4ce113",
   "metadata": {},
   "outputs": [],
   "source": [
    "my_marks = 55"
   ]
  },
  {
   "cell_type": "code",
   "execution_count": 62,
   "id": "b3a8f868",
   "metadata": {},
   "outputs": [
    {
     "data": {
      "text/plain": [
       "True"
      ]
     },
     "execution_count": 62,
     "metadata": {},
     "output_type": "execute_result"
    }
   ],
   "source": [
    "my_marks >= passing_marks"
   ]
  },
  {
   "cell_type": "code",
   "execution_count": 63,
   "id": "1d67716b",
   "metadata": {},
   "outputs": [
    {
     "data": {
      "text/plain": [
       "True"
      ]
     },
     "execution_count": 63,
     "metadata": {},
     "output_type": "execute_result"
    }
   ],
   "source": [
    "50 == 50"
   ]
  },
  {
   "cell_type": "code",
   "execution_count": 64,
   "id": "ad478fb7",
   "metadata": {},
   "outputs": [
    {
     "data": {
      "text/plain": [
       "True"
      ]
     },
     "execution_count": 64,
     "metadata": {},
     "output_type": "execute_result"
    }
   ],
   "source": [
    "50 != 55"
   ]
  },
  {
   "cell_type": "code",
   "execution_count": 65,
   "id": "6d5e6e41",
   "metadata": {},
   "outputs": [
    {
     "data": {
      "text/plain": [
       "False"
      ]
     },
     "execution_count": 65,
     "metadata": {},
     "output_type": "execute_result"
    }
   ],
   "source": [
    "5 != 5"
   ]
  },
  {
   "cell_type": "code",
   "execution_count": 68,
   "id": "5c149221",
   "metadata": {},
   "outputs": [
    {
     "data": {
      "text/plain": [
       "False"
      ]
     },
     "execution_count": 68,
     "metadata": {},
     "output_type": "execute_result"
    }
   ],
   "source": [
    "\"abcshasfgajsfhkjdsbfGfdaghgdajhggjkgdjash\" > \"zh\" # lexicographical comparison"
   ]
  },
  {
   "cell_type": "code",
   "execution_count": 69,
   "id": "eb891875",
   "metadata": {},
   "outputs": [],
   "source": [
    "# ASCII Values -> How lexicographical comparison happens using ASCII values"
   ]
  },
  {
   "cell_type": "code",
   "execution_count": 70,
   "id": "9170798f",
   "metadata": {},
   "outputs": [
    {
     "data": {
      "text/plain": [
       "False"
      ]
     },
     "execution_count": 70,
     "metadata": {},
     "output_type": "execute_result"
    }
   ],
   "source": [
    "\"abc\" > \"adc\""
   ]
  },
  {
   "cell_type": "code",
   "execution_count": 71,
   "id": "f96213a7",
   "metadata": {},
   "outputs": [],
   "source": [
    "actual_password = \"password123\""
   ]
  },
  {
   "cell_type": "code",
   "execution_count": 73,
   "id": "c320aba4",
   "metadata": {},
   "outputs": [
    {
     "data": {
      "text/plain": [
       "'\\nQuestion 1 -\\n1. Take a input from the user.\\n2. Return True is password entered is correct or same as actual_password otherwise return False\\n'"
      ]
     },
     "execution_count": 73,
     "metadata": {},
     "output_type": "execute_result"
    }
   ],
   "source": [
    "'''\n",
    "Question 1 -\n",
    "1. Take a input from the user.\n",
    "2. Return True is password entered is correct or same as actual_password otherwise return False\n",
    "'''"
   ]
  },
  {
   "cell_type": "code",
   "execution_count": 77,
   "id": "e1fa1c25",
   "metadata": {},
   "outputs": [
    {
     "name": "stdout",
     "output_type": "stream",
     "text": [
      "Please enter the password - password123\n"
     ]
    }
   ],
   "source": [
    "current_password = input(\"Please enter the password - \")"
   ]
  },
  {
   "cell_type": "code",
   "execution_count": 78,
   "id": "a1e5fb4e",
   "metadata": {},
   "outputs": [
    {
     "data": {
      "text/plain": [
       "'password123'"
      ]
     },
     "execution_count": 78,
     "metadata": {},
     "output_type": "execute_result"
    }
   ],
   "source": [
    "current_password"
   ]
  },
  {
   "cell_type": "code",
   "execution_count": 79,
   "id": "97d602af",
   "metadata": {},
   "outputs": [
    {
     "data": {
      "text/plain": [
       "True"
      ]
     },
     "execution_count": 79,
     "metadata": {},
     "output_type": "execute_result"
    }
   ],
   "source": [
    "current_password == actual_password"
   ]
  },
  {
   "cell_type": "code",
   "execution_count": 80,
   "id": "9f453151",
   "metadata": {},
   "outputs": [],
   "source": [
    "marks = 50"
   ]
  },
  {
   "cell_type": "code",
   "execution_count": 81,
   "id": "9f870698",
   "metadata": {},
   "outputs": [],
   "source": [
    "marks = marks + 0.5"
   ]
  },
  {
   "cell_type": "code",
   "execution_count": 82,
   "id": "1aadf5c8",
   "metadata": {},
   "outputs": [
    {
     "data": {
      "text/plain": [
       "50.5"
      ]
     },
     "execution_count": 82,
     "metadata": {},
     "output_type": "execute_result"
    }
   ],
   "source": [
    "marks"
   ]
  },
  {
   "cell_type": "code",
   "execution_count": 83,
   "id": "480d345e",
   "metadata": {},
   "outputs": [],
   "source": [
    "marks += 0.5 # marks = marks + 0.5"
   ]
  },
  {
   "cell_type": "code",
   "execution_count": 84,
   "id": "afc41a53",
   "metadata": {},
   "outputs": [
    {
     "data": {
      "text/plain": [
       "51.0"
      ]
     },
     "execution_count": 84,
     "metadata": {},
     "output_type": "execute_result"
    }
   ],
   "source": [
    "marks"
   ]
  },
  {
   "cell_type": "code",
   "execution_count": 95,
   "id": "67a881d7",
   "metadata": {},
   "outputs": [],
   "source": [
    "marks -= 5 # marks = marks - 5"
   ]
  },
  {
   "cell_type": "code",
   "execution_count": 86,
   "id": "affd87f3",
   "metadata": {},
   "outputs": [
    {
     "data": {
      "text/plain": [
       "46.0"
      ]
     },
     "execution_count": 86,
     "metadata": {},
     "output_type": "execute_result"
    }
   ],
   "source": [
    "marks"
   ]
  },
  {
   "cell_type": "code",
   "execution_count": 87,
   "id": "d8eea75b",
   "metadata": {},
   "outputs": [],
   "source": [
    "marks *= 2 # marks = marks * 2"
   ]
  },
  {
   "cell_type": "code",
   "execution_count": 88,
   "id": "3c333362",
   "metadata": {},
   "outputs": [
    {
     "data": {
      "text/plain": [
       "92.0"
      ]
     },
     "execution_count": 88,
     "metadata": {},
     "output_type": "execute_result"
    }
   ],
   "source": [
    "marks"
   ]
  },
  {
   "cell_type": "code",
   "execution_count": 89,
   "id": "90df6679",
   "metadata": {},
   "outputs": [],
   "source": [
    "marks /= 2 # marks = marks / 2"
   ]
  },
  {
   "cell_type": "code",
   "execution_count": 90,
   "id": "3c4a9bbc",
   "metadata": {},
   "outputs": [
    {
     "data": {
      "text/plain": [
       "46.0"
      ]
     },
     "execution_count": 90,
     "metadata": {},
     "output_type": "execute_result"
    }
   ],
   "source": [
    "marks"
   ]
  },
  {
   "cell_type": "code",
   "execution_count": 91,
   "id": "311ad746",
   "metadata": {},
   "outputs": [],
   "source": [
    "marks //= 2"
   ]
  },
  {
   "cell_type": "code",
   "execution_count": 92,
   "id": "e8d0b662",
   "metadata": {},
   "outputs": [
    {
     "data": {
      "text/plain": [
       "23.0"
      ]
     },
     "execution_count": 92,
     "metadata": {},
     "output_type": "execute_result"
    }
   ],
   "source": [
    "marks"
   ]
  },
  {
   "cell_type": "code",
   "execution_count": 93,
   "id": "dc3e3de1",
   "metadata": {},
   "outputs": [],
   "source": [
    "marks **= 2"
   ]
  },
  {
   "cell_type": "code",
   "execution_count": 94,
   "id": "d0630bcb",
   "metadata": {},
   "outputs": [
    {
     "data": {
      "text/plain": [
       "529.0"
      ]
     },
     "execution_count": 94,
     "metadata": {},
     "output_type": "execute_result"
    }
   ],
   "source": [
    "marks"
   ]
  },
  {
   "cell_type": "code",
   "execution_count": 96,
   "id": "16b6bdd2",
   "metadata": {},
   "outputs": [
    {
     "name": "stdout",
     "output_type": "stream",
     "text": [
      "True\n"
     ]
    }
   ],
   "source": [
    "print(True and True or False and True)\n",
    "\n",
    "# True or False and True -> Only one has to be True since \"or\" operation\n",
    "# True and True -> Both are True since \"and\" operation\n",
    "# True"
   ]
  },
  {
   "cell_type": "code",
   "execution_count": 97,
   "id": "8be8e6e4",
   "metadata": {},
   "outputs": [
    {
     "data": {
      "text/plain": [
       "False"
      ]
     },
     "execution_count": 97,
     "metadata": {},
     "output_type": "execute_result"
    }
   ],
   "source": [
    "not True"
   ]
  },
  {
   "cell_type": "code",
   "execution_count": 98,
   "id": "854d909d",
   "metadata": {},
   "outputs": [
    {
     "data": {
      "text/plain": [
       "True"
      ]
     },
     "execution_count": 98,
     "metadata": {},
     "output_type": "execute_result"
    }
   ],
   "source": [
    "not False"
   ]
  },
  {
   "cell_type": "code",
   "execution_count": 99,
   "id": "40de90db",
   "metadata": {},
   "outputs": [
    {
     "data": {
      "text/plain": [
       "0"
      ]
     },
     "execution_count": 99,
     "metadata": {},
     "output_type": "execute_result"
    }
   ],
   "source": [
    "5 and 0 # Truthy and Falsy values will be used"
   ]
  },
  {
   "cell_type": "code",
   "execution_count": 108,
   "id": "05c9335f",
   "metadata": {},
   "outputs": [],
   "source": [
    "# SHORT CIRCUITING\n",
    "# something1 and something2\n",
    "# There is no need for python to check the value of something2\n",
    "# if something1 is already \"False\""
   ]
  },
  {
   "cell_type": "code",
   "execution_count": 109,
   "id": "a918cde7",
   "metadata": {},
   "outputs": [
    {
     "data": {
      "text/plain": [
       "0"
      ]
     },
     "execution_count": 109,
     "metadata": {},
     "output_type": "execute_result"
    }
   ],
   "source": [
    "0 and 6"
   ]
  },
  {
   "cell_type": "code",
   "execution_count": 110,
   "id": "dadd0682",
   "metadata": {},
   "outputs": [
    {
     "data": {
      "text/plain": [
       "''"
      ]
     },
     "execution_count": 110,
     "metadata": {},
     "output_type": "execute_result"
    }
   ],
   "source": [
    "\"\" and 5"
   ]
  },
  {
   "cell_type": "code",
   "execution_count": 111,
   "id": "cc4da00c",
   "metadata": {},
   "outputs": [
    {
     "data": {
      "text/plain": [
       "0"
      ]
     },
     "execution_count": 111,
     "metadata": {},
     "output_type": "execute_result"
    }
   ],
   "source": [
    "5 and 0"
   ]
  },
  {
   "cell_type": "code",
   "execution_count": 112,
   "id": "35049ecb",
   "metadata": {},
   "outputs": [
    {
     "data": {
      "text/plain": [
       "''"
      ]
     },
     "execution_count": 112,
     "metadata": {},
     "output_type": "execute_result"
    }
   ],
   "source": [
    "5 and \"\""
   ]
  },
  {
   "cell_type": "code",
   "execution_count": 113,
   "id": "1a9cfc8c",
   "metadata": {},
   "outputs": [
    {
     "data": {
      "text/plain": [
       "4"
      ]
     },
     "execution_count": 113,
     "metadata": {},
     "output_type": "execute_result"
    }
   ],
   "source": [
    "5 and 4"
   ]
  },
  {
   "cell_type": "code",
   "execution_count": 114,
   "id": "a854fc4c",
   "metadata": {},
   "outputs": [
    {
     "data": {
      "text/plain": [
       "6"
      ]
     },
     "execution_count": 114,
     "metadata": {},
     "output_type": "execute_result"
    }
   ],
   "source": [
    "-5 and 6"
   ]
  },
  {
   "cell_type": "code",
   "execution_count": 115,
   "id": "71536283",
   "metadata": {},
   "outputs": [
    {
     "data": {
      "text/plain": [
       "-5"
      ]
     },
     "execution_count": 115,
     "metadata": {},
     "output_type": "execute_result"
    }
   ],
   "source": [
    "6 and -5"
   ]
  },
  {
   "cell_type": "code",
   "execution_count": 116,
   "id": "4449541b",
   "metadata": {},
   "outputs": [
    {
     "data": {
      "text/plain": [
       "5"
      ]
     },
     "execution_count": 116,
     "metadata": {},
     "output_type": "execute_result"
    }
   ],
   "source": [
    "5 or False"
   ]
  },
  {
   "cell_type": "code",
   "execution_count": 117,
   "id": "3ecaaf26",
   "metadata": {},
   "outputs": [
    {
     "data": {
      "text/plain": [
       "7"
      ]
     },
     "execution_count": 117,
     "metadata": {},
     "output_type": "execute_result"
    }
   ],
   "source": [
    "False or 7"
   ]
  },
  {
   "cell_type": "code",
   "execution_count": 118,
   "id": "15105376",
   "metadata": {},
   "outputs": [
    {
     "data": {
      "text/plain": [
       "True"
      ]
     },
     "execution_count": 118,
     "metadata": {},
     "output_type": "execute_result"
    }
   ],
   "source": [
    "\"abc\" > \"aad\""
   ]
  },
  {
   "cell_type": "code",
   "execution_count": 121,
   "id": "971a573a",
   "metadata": {},
   "outputs": [
    {
     "data": {
      "text/plain": [
       "25"
      ]
     },
     "execution_count": 121,
     "metadata": {},
     "output_type": "execute_result"
    }
   ],
   "source": [
    "5 ** 2"
   ]
  },
  {
   "cell_type": "code",
   "execution_count": 123,
   "id": "e2b123f5",
   "metadata": {},
   "outputs": [
    {
     "data": {
      "text/plain": [
       "False"
      ]
     },
     "execution_count": 123,
     "metadata": {},
     "output_type": "execute_result"
    }
   ],
   "source": [
    "5 == 6"
   ]
  },
  {
   "cell_type": "code",
   "execution_count": 124,
   "id": "c5031d9f",
   "metadata": {},
   "outputs": [
    {
     "name": "stdout",
     "output_type": "stream",
     "text": [
      "4\n",
      "0\n",
      "5\n",
      "7\n"
     ]
    }
   ],
   "source": [
    "print(5 and -6 and 4) # 4\n",
    "print(0 and 5 and 4) # 0\n",
    "print(0 or 5 or 4 ) # 5\n",
    "print(7 or 9 or 10) # 7"
   ]
  },
  {
   "cell_type": "code",
   "execution_count": null,
   "id": "a4b1a74d",
   "metadata": {},
   "outputs": [],
   "source": []
  }
 ],
 "metadata": {
  "kernelspec": {
   "display_name": "Python 3 (ipykernel)",
   "language": "python",
   "name": "python3"
  },
  "language_info": {
   "codemirror_mode": {
    "name": "ipython",
    "version": 3
   },
   "file_extension": ".py",
   "mimetype": "text/x-python",
   "name": "python",
   "nbconvert_exporter": "python",
   "pygments_lexer": "ipython3",
   "version": "3.9.5"
  }
 },
 "nbformat": 4,
 "nbformat_minor": 5
}
