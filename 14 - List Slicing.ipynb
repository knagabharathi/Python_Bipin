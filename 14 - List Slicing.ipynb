{
 "cells": [
  {
   "cell_type": "code",
   "execution_count": 1,
   "id": "8e36f1a5",
   "metadata": {},
   "outputs": [],
   "source": [
    "a = [1, \"bipin\", 45.6, True, 2]"
   ]
  },
  {
   "cell_type": "code",
   "execution_count": 2,
   "id": "0c225807",
   "metadata": {},
   "outputs": [
    {
     "data": {
      "text/plain": [
       "list"
      ]
     },
     "execution_count": 2,
     "metadata": {},
     "output_type": "execute_result"
    }
   ],
   "source": [
    "type(a)"
   ]
  },
  {
   "cell_type": "code",
   "execution_count": 3,
   "id": "d76bb5ca",
   "metadata": {},
   "outputs": [
    {
     "data": {
      "text/plain": [
       "1"
      ]
     },
     "execution_count": 3,
     "metadata": {},
     "output_type": "execute_result"
    }
   ],
   "source": [
    "a[0]"
   ]
  },
  {
   "cell_type": "code",
   "execution_count": 4,
   "id": "789ed26e",
   "metadata": {},
   "outputs": [
    {
     "data": {
      "text/plain": [
       "True"
      ]
     },
     "execution_count": 4,
     "metadata": {},
     "output_type": "execute_result"
    }
   ],
   "source": [
    "a[-2]"
   ]
  },
  {
   "cell_type": "code",
   "execution_count": 5,
   "id": "fa80e605",
   "metadata": {},
   "outputs": [],
   "source": [
    "a = a + [4, 5, 6]"
   ]
  },
  {
   "cell_type": "code",
   "execution_count": 6,
   "id": "9a633937",
   "metadata": {},
   "outputs": [
    {
     "data": {
      "text/plain": [
       "[1, 'bipin', 45.6, True, 2, 4, 5, 6]"
      ]
     },
     "execution_count": 6,
     "metadata": {},
     "output_type": "execute_result"
    }
   ],
   "source": [
    "a"
   ]
  },
  {
   "cell_type": "code",
   "execution_count": 7,
   "id": "15d88373",
   "metadata": {},
   "outputs": [
    {
     "data": {
      "text/plain": [
       "1"
      ]
     },
     "execution_count": 7,
     "metadata": {},
     "output_type": "execute_result"
    }
   ],
   "source": [
    "a.pop(0)"
   ]
  },
  {
   "cell_type": "code",
   "execution_count": 8,
   "id": "d2d79cc8",
   "metadata": {},
   "outputs": [
    {
     "data": {
      "text/plain": [
       "['bipin', 45.6, True, 2, 4, 5, 6]"
      ]
     },
     "execution_count": 8,
     "metadata": {},
     "output_type": "execute_result"
    }
   ],
   "source": [
    "a"
   ]
  },
  {
   "cell_type": "code",
   "execution_count": 9,
   "id": "c51706ea",
   "metadata": {},
   "outputs": [],
   "source": [
    "a.remove(2)"
   ]
  },
  {
   "cell_type": "code",
   "execution_count": 10,
   "id": "3ad17465",
   "metadata": {},
   "outputs": [
    {
     "data": {
      "text/plain": [
       "['bipin', 45.6, True, 4, 5, 6]"
      ]
     },
     "execution_count": 10,
     "metadata": {},
     "output_type": "execute_result"
    }
   ],
   "source": [
    "a"
   ]
  },
  {
   "cell_type": "code",
   "execution_count": 11,
   "id": "98b02be1",
   "metadata": {},
   "outputs": [],
   "source": [
    "runs = [62, 85, 77, 10, 101, 122, 99, 81, 15, 36]"
   ]
  },
  {
   "cell_type": "code",
   "execution_count": 12,
   "id": "33741af3",
   "metadata": {},
   "outputs": [
    {
     "data": {
      "text/plain": [
       "[62, 85, 77, 10, 101, 122, 99, 81, 15, 36]"
      ]
     },
     "execution_count": 12,
     "metadata": {},
     "output_type": "execute_result"
    }
   ],
   "source": [
    "runs"
   ]
  },
  {
   "cell_type": "code",
   "execution_count": 13,
   "id": "54ea4394",
   "metadata": {},
   "outputs": [
    {
     "data": {
      "text/plain": [
       "'\\nQuestion 1 -\\nGiven a list of all runs, print runs made in odd numbered (position) matches.\\n'"
      ]
     },
     "execution_count": 13,
     "metadata": {},
     "output_type": "execute_result"
    }
   ],
   "source": [
    "'''\n",
    "Question 1 -\n",
    "Given a list of all runs, print runs made in odd numbered (position) matches.\n",
    "'''"
   ]
  },
  {
   "cell_type": "code",
   "execution_count": 14,
   "id": "733aa78c",
   "metadata": {},
   "outputs": [
    {
     "name": "stdout",
     "output_type": "stream",
     "text": [
      "62 77 101 99 15 "
     ]
    }
   ],
   "source": [
    "for i in range(len(runs)):\n",
    "    if i % 2 == 0:\n",
    "        print(runs[i], end = \" \")"
   ]
  },
  {
   "cell_type": "code",
   "execution_count": 15,
   "id": "c2924d22",
   "metadata": {},
   "outputs": [
    {
     "data": {
      "text/plain": [
       "'\\nQuestion 1 -\\nGiven a list of all runs, make a new list of runs made in odd numbered (position) matches.\\n'"
      ]
     },
     "execution_count": 15,
     "metadata": {},
     "output_type": "execute_result"
    }
   ],
   "source": [
    "'''\n",
    "Question 1 -\n",
    "Given a list of all runs, make a new list of runs made in odd numbered (position) matches.\n",
    "'''"
   ]
  },
  {
   "cell_type": "code",
   "execution_count": 16,
   "id": "fbf39def",
   "metadata": {},
   "outputs": [],
   "source": [
    "result = []\n",
    "\n",
    "for i in range(len(runs)):\n",
    "    if i % 2 == 0:\n",
    "        result.append(runs[i])"
   ]
  },
  {
   "cell_type": "code",
   "execution_count": 17,
   "id": "f0bdd189",
   "metadata": {},
   "outputs": [
    {
     "data": {
      "text/plain": [
       "[62, 77, 101, 99, 15]"
      ]
     },
     "execution_count": 17,
     "metadata": {},
     "output_type": "execute_result"
    }
   ],
   "source": [
    "result"
   ]
  },
  {
   "cell_type": "code",
   "execution_count": 18,
   "id": "aad46c3f",
   "metadata": {},
   "outputs": [],
   "source": [
    "result = []\n",
    "\n",
    "for i in range(0, len(runs), 2):\n",
    "    result.append(runs[i])"
   ]
  },
  {
   "cell_type": "code",
   "execution_count": 19,
   "id": "3d53ee78",
   "metadata": {},
   "outputs": [
    {
     "data": {
      "text/plain": [
       "[62, 77, 101, 99, 15]"
      ]
     },
     "execution_count": 19,
     "metadata": {},
     "output_type": "execute_result"
    }
   ],
   "source": [
    "result"
   ]
  },
  {
   "cell_type": "code",
   "execution_count": 20,
   "id": "d3b64a47",
   "metadata": {},
   "outputs": [
    {
     "data": {
      "text/plain": [
       "'\\nQuestion 3 -\\nGiven a list of all runs, \\nmake a new list of runs made in the last 5 matches.\\n'"
      ]
     },
     "execution_count": 20,
     "metadata": {},
     "output_type": "execute_result"
    }
   ],
   "source": [
    "'''\n",
    "Question 3 -\n",
    "Given a list of all runs, \n",
    "make a new list of runs made in the last 5 matches.\n",
    "'''"
   ]
  },
  {
   "cell_type": "code",
   "execution_count": 21,
   "id": "4d86591f",
   "metadata": {},
   "outputs": [],
   "source": [
    "result = []\n",
    "\n",
    "for i in range(len(runs) - 5, len(runs)):\n",
    "    result.append(runs[i])"
   ]
  },
  {
   "cell_type": "code",
   "execution_count": 22,
   "id": "9c061cbc",
   "metadata": {},
   "outputs": [
    {
     "data": {
      "text/plain": [
       "[122, 99, 81, 15, 36]"
      ]
     },
     "execution_count": 22,
     "metadata": {},
     "output_type": "execute_result"
    }
   ],
   "source": [
    "result"
   ]
  },
  {
   "cell_type": "code",
   "execution_count": 23,
   "id": "b8302199",
   "metadata": {},
   "outputs": [
    {
     "data": {
      "text/plain": [
       "[62, 85, 77, 10, 101, 122, 99, 81, 15, 36]"
      ]
     },
     "execution_count": 23,
     "metadata": {},
     "output_type": "execute_result"
    }
   ],
   "source": [
    "runs"
   ]
  },
  {
   "cell_type": "code",
   "execution_count": 24,
   "id": "f14936c1",
   "metadata": {},
   "outputs": [
    {
     "data": {
      "text/plain": [
       "'\\nQuestion 4 -\\nGiven a list of all runs, make a new list of runs made in reverse order.\\n'"
      ]
     },
     "execution_count": 24,
     "metadata": {},
     "output_type": "execute_result"
    }
   ],
   "source": [
    "'''\n",
    "Question 4 -\n",
    "Given a list of all runs, make a new list of runs made in reverse order.\n",
    "'''"
   ]
  },
  {
   "cell_type": "code",
   "execution_count": 27,
   "id": "62641335",
   "metadata": {},
   "outputs": [],
   "source": [
    "result = []\n",
    "\n",
    "for i in range(len(runs) - 1, -1, -1):\n",
    "    result.append(runs[i])"
   ]
  },
  {
   "cell_type": "code",
   "execution_count": 28,
   "id": "ffd5ab1a",
   "metadata": {},
   "outputs": [
    {
     "data": {
      "text/plain": [
       "[36, 15, 81, 99, 122, 101, 10, 77, 85, 62]"
      ]
     },
     "execution_count": 28,
     "metadata": {},
     "output_type": "execute_result"
    }
   ],
   "source": [
    "result"
   ]
  },
  {
   "cell_type": "code",
   "execution_count": 29,
   "id": "e7392faa",
   "metadata": {},
   "outputs": [],
   "source": [
    "result = []\n",
    "\n",
    "for i in range(-1, -len(runs) - 1, -1):\n",
    "    result.append(runs[i])"
   ]
  },
  {
   "cell_type": "code",
   "execution_count": 30,
   "id": "3a0779a9",
   "metadata": {},
   "outputs": [
    {
     "data": {
      "text/plain": [
       "[36, 15, 81, 99, 122, 101, 10, 77, 85, 62]"
      ]
     },
     "execution_count": 30,
     "metadata": {},
     "output_type": "execute_result"
    }
   ],
   "source": [
    "result"
   ]
  },
  {
   "cell_type": "code",
   "execution_count": 35,
   "id": "3138b695",
   "metadata": {},
   "outputs": [
    {
     "data": {
      "text/plain": [
       "[62, 85, 77, 10, 101, 122, 99, 81, 15, 36]"
      ]
     },
     "execution_count": 35,
     "metadata": {},
     "output_type": "execute_result"
    }
   ],
   "source": [
    "runs"
   ]
  },
  {
   "cell_type": "code",
   "execution_count": 34,
   "id": "0740b002",
   "metadata": {
    "scrolled": true
   },
   "outputs": [
    {
     "data": {
      "text/plain": [
       "[62, 85, 77]"
      ]
     },
     "execution_count": 34,
     "metadata": {},
     "output_type": "execute_result"
    }
   ],
   "source": [
    "runs[0:3]"
   ]
  },
  {
   "cell_type": "code",
   "execution_count": 36,
   "id": "55bc7eaf",
   "metadata": {},
   "outputs": [
    {
     "data": {
      "text/plain": [
       "[77, 10, 101, 122, 99]"
      ]
     },
     "execution_count": 36,
     "metadata": {},
     "output_type": "execute_result"
    }
   ],
   "source": [
    "runs[2:7]"
   ]
  },
  {
   "cell_type": "code",
   "execution_count": 37,
   "id": "38bc7f77",
   "metadata": {},
   "outputs": [
    {
     "data": {
      "text/plain": [
       "[62, 85, 77]"
      ]
     },
     "execution_count": 37,
     "metadata": {},
     "output_type": "execute_result"
    }
   ],
   "source": [
    "# Default start = 0\n",
    "runs[:3]"
   ]
  },
  {
   "cell_type": "code",
   "execution_count": 39,
   "id": "70848968",
   "metadata": {},
   "outputs": [
    {
     "data": {
      "text/plain": [
       "[10, 101, 122, 99, 81, 15, 36]"
      ]
     },
     "execution_count": 39,
     "metadata": {},
     "output_type": "execute_result"
    }
   ],
   "source": [
    "#Default end = len(list)\n",
    "runs[3:]"
   ]
  },
  {
   "cell_type": "code",
   "execution_count": 40,
   "id": "b97c3250",
   "metadata": {},
   "outputs": [
    {
     "data": {
      "text/plain": [
       "[62, 85, 77, 10, 101, 122, 99, 81, 15, 36]"
      ]
     },
     "execution_count": 40,
     "metadata": {},
     "output_type": "execute_result"
    }
   ],
   "source": [
    "runs[:]"
   ]
  },
  {
   "cell_type": "code",
   "execution_count": 41,
   "id": "79043089",
   "metadata": {},
   "outputs": [
    {
     "ename": "IndexError",
     "evalue": "list index out of range",
     "output_type": "error",
     "traceback": [
      "\u001b[0;31m---------------------------------------------------------------------------\u001b[0m",
      "\u001b[0;31mIndexError\u001b[0m                                Traceback (most recent call last)",
      "Cell \u001b[0;32mIn[41], line 1\u001b[0m\n\u001b[0;32m----> 1\u001b[0m \u001b[43mruns\u001b[49m\u001b[43m[\u001b[49m\u001b[38;5;241;43m4000\u001b[39;49m\u001b[43m]\u001b[49m\n",
      "\u001b[0;31mIndexError\u001b[0m: list index out of range"
     ]
    }
   ],
   "source": [
    "runs[4000]"
   ]
  },
  {
   "cell_type": "code",
   "execution_count": 43,
   "id": "fe4b8205",
   "metadata": {},
   "outputs": [
    {
     "data": {
      "text/plain": [
       "[]"
      ]
     },
     "execution_count": 43,
     "metadata": {},
     "output_type": "execute_result"
    }
   ],
   "source": [
    "runs[200:300] # WEIRD"
   ]
  },
  {
   "cell_type": "code",
   "execution_count": 44,
   "id": "0d50e170",
   "metadata": {
    "scrolled": true
   },
   "outputs": [
    {
     "data": {
      "text/plain": [
       "[77, 10, 101, 122, 99, 81, 15, 36]"
      ]
     },
     "execution_count": 44,
     "metadata": {},
     "output_type": "execute_result"
    }
   ],
   "source": [
    "runs[2:400]"
   ]
  },
  {
   "cell_type": "code",
   "execution_count": 45,
   "id": "11ebcb6b",
   "metadata": {},
   "outputs": [
    {
     "data": {
      "text/plain": [
       "[62, 77, 101, 99, 15]"
      ]
     },
     "execution_count": 45,
     "metadata": {},
     "output_type": "execute_result"
    }
   ],
   "source": [
    "runs[0:len(runs):2]\n",
    "# default value for jump = 1"
   ]
  },
  {
   "cell_type": "code",
   "execution_count": 46,
   "id": "f8d4049c",
   "metadata": {},
   "outputs": [
    {
     "data": {
      "text/plain": [
       "[62, 77, 101, 99, 15]"
      ]
     },
     "execution_count": 46,
     "metadata": {},
     "output_type": "execute_result"
    }
   ],
   "source": [
    "runs[:len(runs):2] # default start is 0"
   ]
  },
  {
   "cell_type": "code",
   "execution_count": 47,
   "id": "18966bf0",
   "metadata": {},
   "outputs": [
    {
     "data": {
      "text/plain": [
       "[62, 77, 101, 99, 15]"
      ]
     },
     "execution_count": 47,
     "metadata": {},
     "output_type": "execute_result"
    }
   ],
   "source": [
    "runs[::2] # default end is len(runs)"
   ]
  },
  {
   "cell_type": "code",
   "execution_count": 48,
   "id": "ae14c35f",
   "metadata": {},
   "outputs": [
    {
     "data": {
      "text/plain": [
       "[85, 10, 122, 81, 36]"
      ]
     },
     "execution_count": 48,
     "metadata": {},
     "output_type": "execute_result"
    }
   ],
   "source": [
    "runs[1::2]"
   ]
  },
  {
   "cell_type": "code",
   "execution_count": 52,
   "id": "76fbff7b",
   "metadata": {},
   "outputs": [
    {
     "data": {
      "text/plain": [
       "[]"
      ]
     },
     "execution_count": 52,
     "metadata": {},
     "output_type": "execute_result"
    }
   ],
   "source": [
    "runs[5:0]"
   ]
  },
  {
   "cell_type": "code",
   "execution_count": 57,
   "id": "0786e090",
   "metadata": {},
   "outputs": [
    {
     "data": {
      "text/plain": [
       "[122, 101, 10, 77, 85]"
      ]
     },
     "execution_count": 57,
     "metadata": {},
     "output_type": "execute_result"
    }
   ],
   "source": [
    "runs[5:0:-1] # negative step size"
   ]
  },
  {
   "cell_type": "code",
   "execution_count": 58,
   "id": "0fc2cd81",
   "metadata": {},
   "outputs": [
    {
     "data": {
      "text/plain": [
       "'\\nQuestion 5 - \\nWrite a python program to reverse a list without using a for loop\\nor any internal functions.\\n'"
      ]
     },
     "execution_count": 58,
     "metadata": {},
     "output_type": "execute_result"
    }
   ],
   "source": [
    "'''\n",
    "Question 5 - \n",
    "Write a python program to reverse a list without using a for loop\n",
    "or any internal functions.\n",
    "'''"
   ]
  },
  {
   "cell_type": "code",
   "execution_count": 60,
   "id": "af929a1a",
   "metadata": {},
   "outputs": [
    {
     "data": {
      "text/plain": [
       "[62, 85, 77, 10, 101, 122, 99, 81, 15, 36]"
      ]
     },
     "execution_count": 60,
     "metadata": {},
     "output_type": "execute_result"
    }
   ],
   "source": [
    "runs"
   ]
  },
  {
   "cell_type": "code",
   "execution_count": 61,
   "id": "f7ba7cc7",
   "metadata": {},
   "outputs": [
    {
     "data": {
      "text/plain": [
       "[36, 15, 81, 99, 122, 101, 10, 77, 85]"
      ]
     },
     "execution_count": 61,
     "metadata": {},
     "output_type": "execute_result"
    }
   ],
   "source": [
    "runs[len(runs) - 1:0:-1] # ending value is not included"
   ]
  },
  {
   "cell_type": "code",
   "execution_count": 63,
   "id": "a0470dd6",
   "metadata": {},
   "outputs": [
    {
     "data": {
      "text/plain": [
       "[]"
      ]
     },
     "execution_count": 63,
     "metadata": {},
     "output_type": "execute_result"
    }
   ],
   "source": [
    "runs[len(runs) - 1:-1:-1]"
   ]
  },
  {
   "cell_type": "code",
   "execution_count": 64,
   "id": "ef4402e0",
   "metadata": {},
   "outputs": [
    {
     "data": {
      "text/plain": [
       "[36, 15, 81, 99, 122, 101, 10, 77, 85, 62]"
      ]
     },
     "execution_count": 64,
     "metadata": {},
     "output_type": "execute_result"
    }
   ],
   "source": [
    "runs[::-1]"
   ]
  },
  {
   "cell_type": "code",
   "execution_count": 65,
   "id": "9a4bafb3",
   "metadata": {},
   "outputs": [
    {
     "data": {
      "text/plain": [
       "'\\nDefault values - \\n1. When jump / step size is positive - \\n    - start = 0\\n    - end = len(list)\\n2. When jump / step size is negative - \\n    - start = len(list) - 1\\n    - end = covers first element (SPECIAL CASE)\\n'"
      ]
     },
     "execution_count": 65,
     "metadata": {},
     "output_type": "execute_result"
    }
   ],
   "source": [
    "'''\n",
    "Default values - \n",
    "1. When jump / step size is positive - \n",
    "    - start = 0\n",
    "    - end = len(list)\n",
    "2. When jump / step size is negative - \n",
    "    - start = len(list) - 1\n",
    "    - end = covers first element (SPECIAL CASE)\n",
    "'''"
   ]
  },
  {
   "cell_type": "code",
   "execution_count": 66,
   "id": "c15e9846",
   "metadata": {},
   "outputs": [
    {
     "data": {
      "text/plain": [
       "[99, 81, 15, 36]"
      ]
     },
     "execution_count": 66,
     "metadata": {},
     "output_type": "execute_result"
    }
   ],
   "source": [
    "runs[6:5000]"
   ]
  },
  {
   "cell_type": "code",
   "execution_count": 67,
   "id": "28532642",
   "metadata": {},
   "outputs": [
    {
     "data": {
      "text/plain": [
       "'\\nQuestion 6 - \\na = [10,20,30,40,50,60,70,80,90,100]\\n\\n1. a[3:5]\\n2. a[:8]\\n3. a[:]\\n4. a[7:]\\n5. a[-2:-5:-1]\\n6. a[-2:-7]\\n7. a[:-5]\\n8. a[-2:]\\n9. a[-8:5]\\n10. a[-8:5:-1]\\n'"
      ]
     },
     "execution_count": 67,
     "metadata": {},
     "output_type": "execute_result"
    }
   ],
   "source": [
    "'''\n",
    "Question 6 - \n",
    "a = [10,20,30,40,50,60,70,80,90,100]\n",
    "\n",
    "1. a[3:5]\n",
    "2. a[:8]\n",
    "3. a[:]\n",
    "4. a[7:]\n",
    "5. a[-2:-5:-1]\n",
    "6. a[-2:-7]\n",
    "7. a[:-5]\n",
    "8. a[-2:]\n",
    "9. a[-8:5]\n",
    "10. a[-8:5:-1]\n",
    "'''"
   ]
  },
  {
   "cell_type": "code",
   "execution_count": 68,
   "id": "69a0b17a",
   "metadata": {},
   "outputs": [],
   "source": [
    "a = [10,20,30,40,50,60,70,80,90,100]"
   ]
  },
  {
   "cell_type": "code",
   "execution_count": 69,
   "id": "d6247b26",
   "metadata": {},
   "outputs": [
    {
     "data": {
      "text/plain": [
       "[40, 50]"
      ]
     },
     "execution_count": 69,
     "metadata": {},
     "output_type": "execute_result"
    }
   ],
   "source": [
    "# a = [10,20,30,40,50,60,70,80,90,100]\n",
    "a[3:5]"
   ]
  },
  {
   "cell_type": "code",
   "execution_count": 70,
   "id": "43d2ee12",
   "metadata": {},
   "outputs": [
    {
     "data": {
      "text/plain": [
       "[10, 20, 30, 40, 50, 60, 70, 80]"
      ]
     },
     "execution_count": 70,
     "metadata": {},
     "output_type": "execute_result"
    }
   ],
   "source": [
    "# a = [10,20,30,40,50,60,70,80,90,100]\n",
    "a[:8]"
   ]
  },
  {
   "cell_type": "code",
   "execution_count": 71,
   "id": "888b2592",
   "metadata": {},
   "outputs": [
    {
     "data": {
      "text/plain": [
       "[10, 20, 30, 40, 50, 60, 70, 80, 90, 100]"
      ]
     },
     "execution_count": 71,
     "metadata": {},
     "output_type": "execute_result"
    }
   ],
   "source": [
    "# a = [10,20,30,40,50,60,70,80,90,100]\n",
    "a[:]"
   ]
  },
  {
   "cell_type": "code",
   "execution_count": 72,
   "id": "62d5c6b8",
   "metadata": {},
   "outputs": [
    {
     "data": {
      "text/plain": [
       "[80, 90, 100]"
      ]
     },
     "execution_count": 72,
     "metadata": {},
     "output_type": "execute_result"
    }
   ],
   "source": [
    "# a = [10,20,30,40,50,60,70,80,90,100]\n",
    "a[7:]"
   ]
  },
  {
   "cell_type": "code",
   "execution_count": 73,
   "id": "5e8f7aab",
   "metadata": {},
   "outputs": [
    {
     "data": {
      "text/plain": [
       "[90, 80, 70]"
      ]
     },
     "execution_count": 73,
     "metadata": {},
     "output_type": "execute_result"
    }
   ],
   "source": [
    "# a = [10,20,30,40,50,60,70,80,90,100]\n",
    "a[-2:-5:-1]"
   ]
  },
  {
   "cell_type": "code",
   "execution_count": 74,
   "id": "7e47919f",
   "metadata": {},
   "outputs": [
    {
     "data": {
      "text/plain": [
       "[]"
      ]
     },
     "execution_count": 74,
     "metadata": {},
     "output_type": "execute_result"
    }
   ],
   "source": [
    "# a = [10,20,30,40,50,60,70,80,90,100]\n",
    "a[-2:-7]"
   ]
  },
  {
   "cell_type": "code",
   "execution_count": 75,
   "id": "bbbd27c3",
   "metadata": {},
   "outputs": [
    {
     "data": {
      "text/plain": [
       "[10, 20, 30, 40, 50]"
      ]
     },
     "execution_count": 75,
     "metadata": {},
     "output_type": "execute_result"
    }
   ],
   "source": [
    "# a = [10,20,30,40,50,60,70,80,90,100]\n",
    "a[:-5]"
   ]
  },
  {
   "cell_type": "code",
   "execution_count": 76,
   "id": "6ac9c3b7",
   "metadata": {},
   "outputs": [
    {
     "data": {
      "text/plain": [
       "[90, 100]"
      ]
     },
     "execution_count": 76,
     "metadata": {},
     "output_type": "execute_result"
    }
   ],
   "source": [
    "# a = [10,20,30,40,50,60,70,80,90,100]\n",
    "a[-2:]"
   ]
  },
  {
   "cell_type": "code",
   "execution_count": 77,
   "id": "a77cb43c",
   "metadata": {},
   "outputs": [
    {
     "data": {
      "text/plain": [
       "[30, 40, 50]"
      ]
     },
     "execution_count": 77,
     "metadata": {},
     "output_type": "execute_result"
    }
   ],
   "source": [
    "# a = [10,20,30,40,50,60,70,80,90,100]\n",
    "a[-8:5]"
   ]
  },
  {
   "cell_type": "code",
   "execution_count": 78,
   "id": "4528f4f7",
   "metadata": {},
   "outputs": [
    {
     "data": {
      "text/plain": [
       "[]"
      ]
     },
     "execution_count": 78,
     "metadata": {},
     "output_type": "execute_result"
    }
   ],
   "source": [
    "# a = [10,20,30,40,50,60,70,80,90,100]\n",
    "a[-8:5:-1]"
   ]
  },
  {
   "cell_type": "code",
   "execution_count": 92,
   "id": "8abb08ee",
   "metadata": {},
   "outputs": [
    {
     "name": "stdout",
     "output_type": "stream",
     "text": [
      "5 5 5 5 5 5 5 5 5 5 5 5 5 5 5 5\n"
     ]
    }
   ],
   "source": [
    "random = input()"
   ]
  },
  {
   "cell_type": "code",
   "execution_count": 93,
   "id": "e717841c",
   "metadata": {},
   "outputs": [
    {
     "data": {
      "text/plain": [
       "'5 5 5 5 5 5 5 5 5 5 5 5 5 5 5 5'"
      ]
     },
     "execution_count": 93,
     "metadata": {},
     "output_type": "execute_result"
    }
   ],
   "source": [
    "random"
   ]
  },
  {
   "cell_type": "code",
   "execution_count": 94,
   "id": "0ab3fecc",
   "metadata": {},
   "outputs": [],
   "source": [
    "random = random.split(\" \")"
   ]
  },
  {
   "cell_type": "code",
   "execution_count": 95,
   "id": "21bbe6b4",
   "metadata": {},
   "outputs": [
    {
     "data": {
      "text/plain": [
       "['5',\n",
       " '5',\n",
       " '5',\n",
       " '5',\n",
       " '5',\n",
       " '5',\n",
       " '5',\n",
       " '5',\n",
       " '5',\n",
       " '5',\n",
       " '5',\n",
       " '5',\n",
       " '5',\n",
       " '5',\n",
       " '5',\n",
       " '5']"
      ]
     },
     "execution_count": 95,
     "metadata": {},
     "output_type": "execute_result"
    }
   ],
   "source": [
    "random"
   ]
  },
  {
   "cell_type": "code",
   "execution_count": 96,
   "id": "07a8f237",
   "metadata": {},
   "outputs": [],
   "source": [
    "random1 = []\n",
    "\n",
    "for i in random:\n",
    "    random1.append(int(i))"
   ]
  },
  {
   "cell_type": "code",
   "execution_count": 97,
   "id": "d33ab432",
   "metadata": {},
   "outputs": [
    {
     "data": {
      "text/plain": [
       "[5, 5, 5, 5, 5, 5, 5, 5, 5, 5, 5, 5, 5, 5, 5, 5]"
      ]
     },
     "execution_count": 97,
     "metadata": {},
     "output_type": "execute_result"
    }
   ],
   "source": [
    "random1"
   ]
  },
  {
   "cell_type": "code",
   "execution_count": null,
   "id": "bba49eb4",
   "metadata": {},
   "outputs": [],
   "source": []
  }
 ],
 "metadata": {
  "kernelspec": {
   "display_name": "Python 3 (ipykernel)",
   "language": "python",
   "name": "python3"
  },
  "language_info": {
   "codemirror_mode": {
    "name": "ipython",
    "version": 3
   },
   "file_extension": ".py",
   "mimetype": "text/x-python",
   "name": "python",
   "nbconvert_exporter": "python",
   "pygments_lexer": "ipython3",
   "version": "3.9.5"
  }
 },
 "nbformat": 4,
 "nbformat_minor": 5
}
