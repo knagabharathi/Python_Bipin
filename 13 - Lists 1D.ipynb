{
 "cells": [
  {
   "cell_type": "code",
   "execution_count": 2,
   "id": "8af7e8ed",
   "metadata": {},
   "outputs": [],
   "source": [
    "# create a list -> []\n",
    "\n",
    "runs_virat = [67, 54, 12, 34, 77, 89, 101, 120]\n",
    "# there is no limit to how many values you can store in a list"
   ]
  },
  {
   "cell_type": "code",
   "execution_count": 3,
   "id": "2fe41347",
   "metadata": {},
   "outputs": [
    {
     "data": {
      "text/plain": [
       "[67, 54, 12, 34, 77, 89, 101, 120]"
      ]
     },
     "execution_count": 3,
     "metadata": {},
     "output_type": "execute_result"
    }
   ],
   "source": [
    "runs_virat"
   ]
  },
  {
   "cell_type": "code",
   "execution_count": 4,
   "id": "da6477ee",
   "metadata": {},
   "outputs": [
    {
     "data": {
      "text/plain": [
       "list"
      ]
     },
     "execution_count": 4,
     "metadata": {},
     "output_type": "execute_result"
    }
   ],
   "source": [
    "type(runs_virat)"
   ]
  },
  {
   "cell_type": "code",
   "execution_count": 5,
   "id": "d4c0b0ee",
   "metadata": {},
   "outputs": [],
   "source": [
    "# HOW WOULD I ACCESS A VALUE?"
   ]
  },
  {
   "cell_type": "code",
   "execution_count": 6,
   "id": "92154d4c",
   "metadata": {},
   "outputs": [],
   "source": [
    "# Values are accessible using indexes which start at 0"
   ]
  },
  {
   "cell_type": "code",
   "execution_count": 7,
   "id": "533a9f2a",
   "metadata": {},
   "outputs": [
    {
     "data": {
      "text/plain": [
       "12"
      ]
     },
     "execution_count": 7,
     "metadata": {},
     "output_type": "execute_result"
    }
   ],
   "source": [
    "# Runs in third match\n",
    "runs_virat[2]"
   ]
  },
  {
   "cell_type": "code",
   "execution_count": 8,
   "id": "81908d37",
   "metadata": {},
   "outputs": [
    {
     "data": {
      "text/plain": [
       "54"
      ]
     },
     "execution_count": 8,
     "metadata": {},
     "output_type": "execute_result"
    }
   ],
   "source": [
    "runs_virat[1]"
   ]
  },
  {
   "cell_type": "code",
   "execution_count": 10,
   "id": "dee56f77",
   "metadata": {},
   "outputs": [
    {
     "data": {
      "text/plain": [
       "8"
      ]
     },
     "execution_count": 10,
     "metadata": {},
     "output_type": "execute_result"
    }
   ],
   "source": [
    "len(runs_virat) # the number of elements inside a list"
   ]
  },
  {
   "cell_type": "code",
   "execution_count": 11,
   "id": "206824ff",
   "metadata": {},
   "outputs": [],
   "source": [
    "# Accessing the last element"
   ]
  },
  {
   "cell_type": "code",
   "execution_count": 12,
   "id": "9374b4c7",
   "metadata": {},
   "outputs": [],
   "source": [
    "n = len(runs_virat)"
   ]
  },
  {
   "cell_type": "code",
   "execution_count": 13,
   "id": "869d6181",
   "metadata": {},
   "outputs": [
    {
     "data": {
      "text/plain": [
       "120"
      ]
     },
     "execution_count": 13,
     "metadata": {},
     "output_type": "execute_result"
    }
   ],
   "source": [
    "runs_virat[n - 1]"
   ]
  },
  {
   "cell_type": "code",
   "execution_count": 14,
   "id": "18f4671e",
   "metadata": {},
   "outputs": [
    {
     "data": {
      "text/plain": [
       "120"
      ]
     },
     "execution_count": 14,
     "metadata": {},
     "output_type": "execute_result"
    }
   ],
   "source": [
    "runs_virat[len(runs_virat) - 1]"
   ]
  },
  {
   "cell_type": "code",
   "execution_count": 15,
   "id": "bf1facd3",
   "metadata": {},
   "outputs": [
    {
     "data": {
      "text/plain": [
       "101"
      ]
     },
     "execution_count": 15,
     "metadata": {},
     "output_type": "execute_result"
    }
   ],
   "source": [
    "runs_virat[n - 2]"
   ]
  },
  {
   "cell_type": "code",
   "execution_count": 16,
   "id": "289b0299",
   "metadata": {},
   "outputs": [],
   "source": [
    "# NEGATIVE INDEXING"
   ]
  },
  {
   "cell_type": "code",
   "execution_count": 17,
   "id": "623961f6",
   "metadata": {},
   "outputs": [
    {
     "data": {
      "text/plain": [
       "120"
      ]
     },
     "execution_count": 17,
     "metadata": {},
     "output_type": "execute_result"
    }
   ],
   "source": [
    "runs_virat[-1]"
   ]
  },
  {
   "cell_type": "code",
   "execution_count": 18,
   "id": "7f343872",
   "metadata": {},
   "outputs": [
    {
     "data": {
      "text/plain": [
       "101"
      ]
     },
     "execution_count": 18,
     "metadata": {},
     "output_type": "execute_result"
    }
   ],
   "source": [
    "runs_virat[-2]"
   ]
  },
  {
   "cell_type": "code",
   "execution_count": 19,
   "id": "60a5e111",
   "metadata": {},
   "outputs": [
    {
     "data": {
      "text/plain": [
       "67"
      ]
     },
     "execution_count": 19,
     "metadata": {},
     "output_type": "execute_result"
    }
   ],
   "source": [
    "runs_virat[-len(runs_virat)]"
   ]
  },
  {
   "cell_type": "code",
   "execution_count": 20,
   "id": "df12e741",
   "metadata": {},
   "outputs": [
    {
     "ename": "IndexError",
     "evalue": "list index out of range",
     "output_type": "error",
     "traceback": [
      "\u001b[0;31m---------------------------------------------------------------------------\u001b[0m",
      "\u001b[0;31mIndexError\u001b[0m                                Traceback (most recent call last)",
      "Cell \u001b[0;32mIn[20], line 1\u001b[0m\n\u001b[0;32m----> 1\u001b[0m \u001b[43mruns_virat\u001b[49m\u001b[43m[\u001b[49m\u001b[38;5;241;43m10000\u001b[39;49m\u001b[43m]\u001b[49m\n",
      "\u001b[0;31mIndexError\u001b[0m: list index out of range"
     ]
    }
   ],
   "source": [
    "runs_virat[10000]"
   ]
  },
  {
   "cell_type": "code",
   "execution_count": 40,
   "id": "a17fca20",
   "metadata": {},
   "outputs": [],
   "source": [
    "runs_virat = [67, 54, 12, 34, 77, 89, 101, 120]"
   ]
  },
  {
   "cell_type": "code",
   "execution_count": 41,
   "id": "1a54970c",
   "metadata": {},
   "outputs": [],
   "source": [
    "# CRUD -> Create, Read, Update and Delete"
   ]
  },
  {
   "cell_type": "code",
   "execution_count": 42,
   "id": "bc0c353d",
   "metadata": {},
   "outputs": [],
   "source": [
    "# CREATE - [value1, value2, value3]\n",
    "# READ - a[index]"
   ]
  },
  {
   "cell_type": "code",
   "execution_count": 43,
   "id": "8ae11c01",
   "metadata": {},
   "outputs": [],
   "source": [
    "# UPDATE"
   ]
  },
  {
   "cell_type": "code",
   "execution_count": 44,
   "id": "7148465b",
   "metadata": {},
   "outputs": [],
   "source": [
    "runs_virat[0] = 66 # lists are mutable -> values can be modified"
   ]
  },
  {
   "cell_type": "code",
   "execution_count": 45,
   "id": "497ef2fc",
   "metadata": {},
   "outputs": [
    {
     "data": {
      "text/plain": [
       "[66, 54, 12, 34, 77, 89, 101, 120]"
      ]
     },
     "execution_count": 45,
     "metadata": {},
     "output_type": "execute_result"
    }
   ],
   "source": [
    "runs_virat"
   ]
  },
  {
   "cell_type": "code",
   "execution_count": 46,
   "id": "e76345fc",
   "metadata": {},
   "outputs": [],
   "source": [
    "# Adding more elements to the list"
   ]
  },
  {
   "cell_type": "code",
   "execution_count": 47,
   "id": "d70a561b",
   "metadata": {},
   "outputs": [],
   "source": [
    "runs_virat.append(79)"
   ]
  },
  {
   "cell_type": "code",
   "execution_count": 48,
   "id": "05e433db",
   "metadata": {},
   "outputs": [
    {
     "data": {
      "text/plain": [
       "[66, 54, 12, 34, 77, 89, 101, 120, 79]"
      ]
     },
     "execution_count": 48,
     "metadata": {},
     "output_type": "execute_result"
    }
   ],
   "source": [
    "runs_virat # Append adds value at the end of the list"
   ]
  },
  {
   "cell_type": "code",
   "execution_count": 49,
   "id": "6e86ebf7",
   "metadata": {},
   "outputs": [],
   "source": [
    "runs_virat.insert(1, 23) # a.insert(index, value)"
   ]
  },
  {
   "cell_type": "code",
   "execution_count": 50,
   "id": "28898606",
   "metadata": {},
   "outputs": [
    {
     "data": {
      "text/plain": [
       "[66, 23, 54, 12, 34, 77, 89, 101, 120, 79]"
      ]
     },
     "execution_count": 50,
     "metadata": {},
     "output_type": "execute_result"
    }
   ],
   "source": [
    "runs_virat"
   ]
  },
  {
   "cell_type": "code",
   "execution_count": 51,
   "id": "d9a74082",
   "metadata": {},
   "outputs": [],
   "source": [
    "# ADDING MULTIPLE VALUES AT THE END"
   ]
  },
  {
   "cell_type": "code",
   "execution_count": 52,
   "id": "f766324d",
   "metadata": {},
   "outputs": [],
   "source": [
    "runs_virat.extend([143, 99, 96]) # Add multiple values at the end of the list"
   ]
  },
  {
   "cell_type": "code",
   "execution_count": 53,
   "id": "87dca7fa",
   "metadata": {},
   "outputs": [
    {
     "data": {
      "text/plain": [
       "[66, 23, 54, 12, 34, 77, 89, 101, 120, 79, 143, 99, 96]"
      ]
     },
     "execution_count": 53,
     "metadata": {},
     "output_type": "execute_result"
    }
   ],
   "source": [
    "runs_virat"
   ]
  },
  {
   "cell_type": "code",
   "execution_count": 58,
   "id": "8922ee3a",
   "metadata": {},
   "outputs": [],
   "source": [
    "a = [10, 20, 30, 40]"
   ]
  },
  {
   "cell_type": "code",
   "execution_count": 59,
   "id": "2ae19653",
   "metadata": {},
   "outputs": [],
   "source": [
    "a = a + [50] # APPEND"
   ]
  },
  {
   "cell_type": "code",
   "execution_count": 60,
   "id": "374c159d",
   "metadata": {},
   "outputs": [
    {
     "data": {
      "text/plain": [
       "[10, 20, 30, 40, 50]"
      ]
     },
     "execution_count": 60,
     "metadata": {},
     "output_type": "execute_result"
    }
   ],
   "source": [
    "a"
   ]
  },
  {
   "cell_type": "code",
   "execution_count": 61,
   "id": "ee752e7a",
   "metadata": {},
   "outputs": [],
   "source": [
    "a = a + [60, 70, 80] # EXTEND"
   ]
  },
  {
   "cell_type": "code",
   "execution_count": 62,
   "id": "c0820433",
   "metadata": {},
   "outputs": [
    {
     "data": {
      "text/plain": [
       "[10, 20, 30, 40, 50, 60, 70, 80]"
      ]
     },
     "execution_count": 62,
     "metadata": {},
     "output_type": "execute_result"
    }
   ],
   "source": [
    "a"
   ]
  },
  {
   "cell_type": "code",
   "execution_count": 63,
   "id": "fb74dff2",
   "metadata": {},
   "outputs": [
    {
     "data": {
      "text/plain": [
       "'\\nAppend -> Add one value to the end\\nInsert -> Add a value at any index of choie\\nExtend -> Append multiple values at the end\\n'"
      ]
     },
     "execution_count": 63,
     "metadata": {},
     "output_type": "execute_result"
    }
   ],
   "source": [
    "'''\n",
    "Append -> Add one value to the end\n",
    "Insert -> Add a value at any index of choie\n",
    "Extend -> Append multiple values at the end\n",
    "'''"
   ]
  },
  {
   "cell_type": "code",
   "execution_count": 66,
   "id": "b56a9818",
   "metadata": {},
   "outputs": [],
   "source": [
    "a = [1, 2, 3] + [4, 5, 6] # Lists get concatenated!"
   ]
  },
  {
   "cell_type": "code",
   "execution_count": 67,
   "id": "bb1b508a",
   "metadata": {},
   "outputs": [
    {
     "data": {
      "text/plain": [
       "[1, 2, 3, 4, 5, 6]"
      ]
     },
     "execution_count": 67,
     "metadata": {},
     "output_type": "execute_result"
    }
   ],
   "source": [
    "a"
   ]
  },
  {
   "cell_type": "code",
   "execution_count": 68,
   "id": "84c45473",
   "metadata": {},
   "outputs": [],
   "source": [
    "a = \"python\""
   ]
  },
  {
   "cell_type": "code",
   "execution_count": 71,
   "id": "45593791",
   "metadata": {},
   "outputs": [
    {
     "name": "stdout",
     "output_type": "stream",
     "text": [
      "p\n",
      "y\n",
      "t\n",
      "h\n",
      "o\n",
      "n\n"
     ]
    }
   ],
   "source": [
    "for i in a: # String is an iterable\n",
    "    print(i)"
   ]
  },
  {
   "cell_type": "code",
   "execution_count": 72,
   "id": "bc7c2dd7",
   "metadata": {},
   "outputs": [],
   "source": [
    "a = [10, 20, 30, 40, 50, 60, 70, 80]"
   ]
  },
  {
   "cell_type": "code",
   "execution_count": 74,
   "id": "77aabf04",
   "metadata": {},
   "outputs": [
    {
     "name": "stdout",
     "output_type": "stream",
     "text": [
      "10\n",
      "20\n",
      "30\n",
      "40\n",
      "50\n",
      "60\n",
      "70\n",
      "80\n"
     ]
    }
   ],
   "source": [
    "for i in a: # Lists are also iterable\n",
    "    print(i)"
   ]
  },
  {
   "cell_type": "code",
   "execution_count": 76,
   "id": "1d09e85a",
   "metadata": {},
   "outputs": [],
   "source": [
    "# list indexes - 0 to n - 1\n",
    "# range(0, n) -> 0 to n - 1"
   ]
  },
  {
   "cell_type": "code",
   "execution_count": 77,
   "id": "15caff46",
   "metadata": {},
   "outputs": [
    {
     "data": {
      "text/plain": [
       "[10, 20, 30, 40, 50, 60, 70, 80]"
      ]
     },
     "execution_count": 77,
     "metadata": {},
     "output_type": "execute_result"
    }
   ],
   "source": [
    "a"
   ]
  },
  {
   "cell_type": "code",
   "execution_count": 81,
   "id": "c9a541c5",
   "metadata": {},
   "outputs": [
    {
     "name": "stdout",
     "output_type": "stream",
     "text": [
      "Element at index 0 is 10\n",
      "Element at index 1 is 20\n",
      "Element at index 2 is 30\n",
      "Element at index 3 is 40\n",
      "Element at index 4 is 50\n",
      "Element at index 5 is 60\n",
      "Element at index 6 is 70\n",
      "Element at index 7 is 80\n"
     ]
    }
   ],
   "source": [
    "for i in range(len(a)):\n",
    "    print(\"Element at index\", i, \"is\", a[i])"
   ]
  },
  {
   "cell_type": "code",
   "execution_count": 82,
   "id": "4c7dacd4",
   "metadata": {},
   "outputs": [
    {
     "name": "stdout",
     "output_type": "stream",
     "text": [
      "10\n",
      "20\n",
      "30\n",
      "40\n",
      "50\n",
      "60\n",
      "70\n",
      "80\n"
     ]
    }
   ],
   "source": [
    "i = 0\n",
    "\n",
    "while i < len(a):\n",
    "    print(a[i])\n",
    "    \n",
    "    i += 1"
   ]
  },
  {
   "cell_type": "code",
   "execution_count": 83,
   "id": "02f6883c",
   "metadata": {},
   "outputs": [
    {
     "data": {
      "text/plain": [
       "'\\nQuestion 1 - \\nruns_virat = [67, 54, 12, 34, 77, 89, 101, 120]\\nIn runs_virat -> Calculate, sum, avg, max and min runs.\\nWithout using any internal functions. You can use the length function.\\n'"
      ]
     },
     "execution_count": 83,
     "metadata": {},
     "output_type": "execute_result"
    }
   ],
   "source": [
    "'''\n",
    "Question 1 - \n",
    "runs_virat = [67, 54, 12, 34, 77, 89, 101, 120]\n",
    "In runs_virat -> Calculate, sum, avg, max and min runs.\n",
    "Without using any internal functions. You can use the length function.\n",
    "'''"
   ]
  },
  {
   "cell_type": "code",
   "execution_count": 84,
   "id": "fafd7905",
   "metadata": {},
   "outputs": [],
   "source": [
    "runs_virat = [67, 54, 12, 34, 77, 89, 101, 120]"
   ]
  },
  {
   "cell_type": "code",
   "execution_count": 85,
   "id": "f1323251",
   "metadata": {},
   "outputs": [
    {
     "data": {
      "text/plain": [
       "554"
      ]
     },
     "execution_count": 85,
     "metadata": {},
     "output_type": "execute_result"
    }
   ],
   "source": [
    "sum(runs_virat)"
   ]
  },
  {
   "cell_type": "code",
   "execution_count": 86,
   "id": "49126e0c",
   "metadata": {},
   "outputs": [
    {
     "data": {
      "text/plain": [
       "69.25"
      ]
     },
     "execution_count": 86,
     "metadata": {},
     "output_type": "execute_result"
    }
   ],
   "source": [
    "sum(runs_virat) / len(runs_virat)"
   ]
  },
  {
   "cell_type": "code",
   "execution_count": 87,
   "id": "96e16111",
   "metadata": {},
   "outputs": [
    {
     "data": {
      "text/plain": [
       "120"
      ]
     },
     "execution_count": 87,
     "metadata": {},
     "output_type": "execute_result"
    }
   ],
   "source": [
    "max(runs_virat)"
   ]
  },
  {
   "cell_type": "code",
   "execution_count": 88,
   "id": "d5e6b9cc",
   "metadata": {},
   "outputs": [
    {
     "data": {
      "text/plain": [
       "12"
      ]
     },
     "execution_count": 88,
     "metadata": {},
     "output_type": "execute_result"
    }
   ],
   "source": [
    "min(runs_virat)"
   ]
  },
  {
   "cell_type": "code",
   "execution_count": 89,
   "id": "a6ca1fec",
   "metadata": {},
   "outputs": [],
   "source": [
    "def custom_length(a):\n",
    "    n = 0\n",
    "    \n",
    "    for i in a:\n",
    "        n += 1\n",
    "        \n",
    "    return n"
   ]
  },
  {
   "cell_type": "code",
   "execution_count": 90,
   "id": "80795a7e",
   "metadata": {},
   "outputs": [],
   "source": [
    "n = custom_length(runs_virat)"
   ]
  },
  {
   "cell_type": "code",
   "execution_count": 91,
   "id": "48cfa331",
   "metadata": {},
   "outputs": [
    {
     "data": {
      "text/plain": [
       "8"
      ]
     },
     "execution_count": 91,
     "metadata": {},
     "output_type": "execute_result"
    }
   ],
   "source": [
    "n"
   ]
  },
  {
   "cell_type": "code",
   "execution_count": 92,
   "id": "cab56fb9",
   "metadata": {},
   "outputs": [],
   "source": [
    "def custom_sum(a):\n",
    "    n = custom_length(a)\n",
    "    sum_runs = 0\n",
    "    \n",
    "    for i in a:\n",
    "        sum_runs += i\n",
    "        \n",
    "    return sum_runs"
   ]
  },
  {
   "cell_type": "code",
   "execution_count": 93,
   "id": "95a20df4",
   "metadata": {},
   "outputs": [],
   "source": [
    "sum_runs_virat = custom_sum(runs_virat)"
   ]
  },
  {
   "cell_type": "code",
   "execution_count": 94,
   "id": "b7ed78c8",
   "metadata": {},
   "outputs": [
    {
     "data": {
      "text/plain": [
       "554"
      ]
     },
     "execution_count": 94,
     "metadata": {},
     "output_type": "execute_result"
    }
   ],
   "source": [
    "sum_runs_virat"
   ]
  },
  {
   "cell_type": "code",
   "execution_count": 95,
   "id": "ca9e76fc",
   "metadata": {},
   "outputs": [],
   "source": [
    "avg_runs_virat = sum_runs_virat / n"
   ]
  },
  {
   "cell_type": "code",
   "execution_count": 96,
   "id": "dd4183c0",
   "metadata": {},
   "outputs": [
    {
     "data": {
      "text/plain": [
       "69.25"
      ]
     },
     "execution_count": 96,
     "metadata": {},
     "output_type": "execute_result"
    }
   ],
   "source": [
    "avg_runs_virat"
   ]
  },
  {
   "cell_type": "code",
   "execution_count": 97,
   "id": "56aa2eb5",
   "metadata": {},
   "outputs": [],
   "source": [
    "def custom_max(a):\n",
    "    n = len(a)\n",
    "    \n",
    "    max_runs = a[0]\n",
    "    \n",
    "    for i in range(1, n):\n",
    "        if a[i] > max_runs:\n",
    "            max_runs = a[i]\n",
    "            \n",
    "    return max_runs"
   ]
  },
  {
   "cell_type": "code",
   "execution_count": 98,
   "id": "895d5dc5",
   "metadata": {},
   "outputs": [],
   "source": [
    "max_runs_virat = custom_max(runs_virat)"
   ]
  },
  {
   "cell_type": "code",
   "execution_count": 99,
   "id": "81a9a0b0",
   "metadata": {},
   "outputs": [
    {
     "data": {
      "text/plain": [
       "120"
      ]
     },
     "execution_count": 99,
     "metadata": {},
     "output_type": "execute_result"
    }
   ],
   "source": [
    "max_runs_virat"
   ]
  },
  {
   "cell_type": "code",
   "execution_count": 100,
   "id": "94fb9b05",
   "metadata": {},
   "outputs": [],
   "source": [
    "def custom_min(a):\n",
    "    n = len(a)\n",
    "    \n",
    "    min_runs = a[0]\n",
    "    \n",
    "    for i in range(1, n):\n",
    "        if a[i] < min_runs:\n",
    "            min_runs = a[i]\n",
    "            \n",
    "    return min_runs"
   ]
  },
  {
   "cell_type": "code",
   "execution_count": 101,
   "id": "ca9c007f",
   "metadata": {},
   "outputs": [],
   "source": [
    "min_runs_virat = custom_min(runs_virat)"
   ]
  },
  {
   "cell_type": "code",
   "execution_count": 102,
   "id": "37fb92a0",
   "metadata": {},
   "outputs": [
    {
     "data": {
      "text/plain": [
       "12"
      ]
     },
     "execution_count": 102,
     "metadata": {},
     "output_type": "execute_result"
    }
   ],
   "source": [
    "min_runs_virat"
   ]
  },
  {
   "cell_type": "code",
   "execution_count": 103,
   "id": "935d8741",
   "metadata": {},
   "outputs": [],
   "source": [
    "# DELETE"
   ]
  },
  {
   "cell_type": "code",
   "execution_count": 104,
   "id": "b4bd862f",
   "metadata": {},
   "outputs": [],
   "source": [
    "# Two ways to delete an element from a list -> By index, By value"
   ]
  },
  {
   "cell_type": "code",
   "execution_count": 112,
   "id": "d755ee7f",
   "metadata": {},
   "outputs": [],
   "source": [
    "a = [10, 20, 30, 40, 50, 60, 70, 80]"
   ]
  },
  {
   "cell_type": "code",
   "execution_count": 113,
   "id": "903f4ae3",
   "metadata": {},
   "outputs": [
    {
     "data": {
      "text/plain": [
       "40"
      ]
     },
     "execution_count": 113,
     "metadata": {},
     "output_type": "execute_result"
    }
   ],
   "source": [
    "a.pop(3) # will delete element at the specified index"
   ]
  },
  {
   "cell_type": "code",
   "execution_count": 114,
   "id": "6a6ab05a",
   "metadata": {},
   "outputs": [
    {
     "data": {
      "text/plain": [
       "[10, 20, 30, 50, 60, 70, 80]"
      ]
     },
     "execution_count": 114,
     "metadata": {},
     "output_type": "execute_result"
    }
   ],
   "source": [
    "a"
   ]
  },
  {
   "cell_type": "code",
   "execution_count": 115,
   "id": "1fb66318",
   "metadata": {},
   "outputs": [
    {
     "data": {
      "text/plain": [
       "80"
      ]
     },
     "execution_count": 115,
     "metadata": {},
     "output_type": "execute_result"
    }
   ],
   "source": [
    "a.pop() # will delete the last element by default -> -1"
   ]
  },
  {
   "cell_type": "code",
   "execution_count": 116,
   "id": "fc2ddc95",
   "metadata": {},
   "outputs": [
    {
     "data": {
      "text/plain": [
       "[10, 20, 30, 50, 60, 70]"
      ]
     },
     "execution_count": 116,
     "metadata": {},
     "output_type": "execute_result"
    }
   ],
   "source": [
    "a"
   ]
  },
  {
   "cell_type": "code",
   "execution_count": 117,
   "id": "7f588c27",
   "metadata": {},
   "outputs": [],
   "source": [
    "a.remove(30) # will delete the value 30 from the list"
   ]
  },
  {
   "cell_type": "code",
   "execution_count": 118,
   "id": "7655b573",
   "metadata": {},
   "outputs": [
    {
     "data": {
      "text/plain": [
       "[10, 20, 50, 60, 70]"
      ]
     },
     "execution_count": 118,
     "metadata": {},
     "output_type": "execute_result"
    }
   ],
   "source": [
    "a"
   ]
  },
  {
   "cell_type": "code",
   "execution_count": 120,
   "id": "83c2b98a",
   "metadata": {},
   "outputs": [
    {
     "ename": "ValueError",
     "evalue": "list.remove(x): x not in list",
     "output_type": "error",
     "traceback": [
      "\u001b[0;31m---------------------------------------------------------------------------\u001b[0m",
      "\u001b[0;31mValueError\u001b[0m                                Traceback (most recent call last)",
      "Cell \u001b[0;32mIn[120], line 1\u001b[0m\n\u001b[0;32m----> 1\u001b[0m \u001b[43ma\u001b[49m\u001b[38;5;241;43m.\u001b[39;49m\u001b[43mremove\u001b[49m\u001b[43m(\u001b[49m\u001b[38;5;241;43m30\u001b[39;49m\u001b[43m)\u001b[49m\n",
      "\u001b[0;31mValueError\u001b[0m: list.remove(x): x not in list"
     ]
    }
   ],
   "source": [
    "a.remove(30)"
   ]
  },
  {
   "cell_type": "code",
   "execution_count": 121,
   "id": "e8fce2b9",
   "metadata": {},
   "outputs": [],
   "source": [
    "a = [10, 20, 30, 30, 30, 40, 50]"
   ]
  },
  {
   "cell_type": "code",
   "execution_count": 122,
   "id": "f6c55011",
   "metadata": {},
   "outputs": [],
   "source": [
    "a.remove(30)"
   ]
  },
  {
   "cell_type": "code",
   "execution_count": 124,
   "id": "90adaeef",
   "metadata": {},
   "outputs": [
    {
     "data": {
      "text/plain": [
       "[10, 20, 30, 30, 40, 50]"
      ]
     },
     "execution_count": 124,
     "metadata": {},
     "output_type": "execute_result"
    }
   ],
   "source": [
    "a # ONLY REMOVES THE FIRST OCCURENCE"
   ]
  },
  {
   "cell_type": "code",
   "execution_count": 125,
   "id": "0386f35e",
   "metadata": {},
   "outputs": [
    {
     "data": {
      "text/plain": [
       "'\\npop -> deletes by index.\\nremove -> deletes by value. First occurence.\\n'"
      ]
     },
     "execution_count": 125,
     "metadata": {},
     "output_type": "execute_result"
    }
   ],
   "source": [
    "'''\n",
    "pop -> deletes by index.\n",
    "remove -> deletes by value. First occurence.\n",
    "'''"
   ]
  },
  {
   "cell_type": "code",
   "execution_count": 126,
   "id": "f4dd0c8a",
   "metadata": {},
   "outputs": [],
   "source": [
    "# LISTS ARE HETEROGENEOUS"
   ]
  },
  {
   "cell_type": "code",
   "execution_count": 127,
   "id": "e04d6dea",
   "metadata": {},
   "outputs": [],
   "source": [
    "a = [\"bipin\", 56, 89, True, [1,2,3], 90.9]"
   ]
  },
  {
   "cell_type": "code",
   "execution_count": 128,
   "id": "1ca54e08",
   "metadata": {},
   "outputs": [
    {
     "data": {
      "text/plain": [
       "'bipin'"
      ]
     },
     "execution_count": 128,
     "metadata": {},
     "output_type": "execute_result"
    }
   ],
   "source": [
    "a[0]"
   ]
  },
  {
   "cell_type": "code",
   "execution_count": 129,
   "id": "57bfddd7",
   "metadata": {},
   "outputs": [
    {
     "data": {
      "text/plain": [
       "[1, 2, 3]"
      ]
     },
     "execution_count": 129,
     "metadata": {},
     "output_type": "execute_result"
    }
   ],
   "source": [
    "a[4]"
   ]
  },
  {
   "cell_type": "code",
   "execution_count": 130,
   "id": "d6f25d53",
   "metadata": {},
   "outputs": [],
   "source": [
    "a = [10, 20, 30, 40]"
   ]
  },
  {
   "cell_type": "code",
   "execution_count": 131,
   "id": "3c91679b",
   "metadata": {},
   "outputs": [],
   "source": [
    "last_element = a.pop()"
   ]
  },
  {
   "cell_type": "code",
   "execution_count": 132,
   "id": "3721453d",
   "metadata": {},
   "outputs": [
    {
     "data": {
      "text/plain": [
       "[10, 20, 30]"
      ]
     },
     "execution_count": 132,
     "metadata": {},
     "output_type": "execute_result"
    }
   ],
   "source": [
    "a"
   ]
  },
  {
   "cell_type": "code",
   "execution_count": 133,
   "id": "d896cd48",
   "metadata": {},
   "outputs": [],
   "source": [
    "a.insert(0, last_element)"
   ]
  },
  {
   "cell_type": "code",
   "execution_count": 134,
   "id": "e63e02bd",
   "metadata": {},
   "outputs": [
    {
     "data": {
      "text/plain": [
       "[40, 10, 20, 30]"
      ]
     },
     "execution_count": 134,
     "metadata": {},
     "output_type": "execute_result"
    }
   ],
   "source": [
    "a"
   ]
  },
  {
   "cell_type": "code",
   "execution_count": 135,
   "id": "ed9b7c71",
   "metadata": {},
   "outputs": [
    {
     "ename": "TypeError",
     "evalue": "'>' not supported between instances of 'NoneType' and 'int'",
     "output_type": "error",
     "traceback": [
      "\u001b[0;31m---------------------------------------------------------------------------\u001b[0m",
      "\u001b[0;31mTypeError\u001b[0m                                 Traceback (most recent call last)",
      "Cell \u001b[0;32mIn[135], line 1\u001b[0m\n\u001b[0;32m----> 1\u001b[0m \u001b[38;5;28;43;01mNone\u001b[39;49;00m\u001b[43m \u001b[49m\u001b[38;5;241;43m>\u001b[39;49m\u001b[43m \u001b[49m\u001b[38;5;241;43m56\u001b[39;49m\n",
      "\u001b[0;31mTypeError\u001b[0m: '>' not supported between instances of 'NoneType' and 'int'"
     ]
    }
   ],
   "source": [
    "None > 56"
   ]
  },
  {
   "cell_type": "code",
   "execution_count": 136,
   "id": "f28f2863",
   "metadata": {},
   "outputs": [
    {
     "name": "stdout",
     "output_type": "stream",
     "text": [
      "5\n"
     ]
    }
   ],
   "source": [
    "n = int(input())"
   ]
  },
  {
   "cell_type": "code",
   "execution_count": 137,
   "id": "426e9822",
   "metadata": {},
   "outputs": [
    {
     "name": "stdout",
     "output_type": "stream",
     "text": [
      "bipin\n",
      "is\n",
      "taking\n",
      "this\n",
      "class\n"
     ]
    }
   ],
   "source": [
    "l = []\n",
    "for i in range(n):\n",
    "    element = input()\n",
    "    l.append(element)"
   ]
  },
  {
   "cell_type": "code",
   "execution_count": 138,
   "id": "49e37c0b",
   "metadata": {},
   "outputs": [
    {
     "data": {
      "text/plain": [
       "['bipin', 'is', 'taking', 'this', 'class']"
      ]
     },
     "execution_count": 138,
     "metadata": {},
     "output_type": "execute_result"
    }
   ],
   "source": [
    "l"
   ]
  },
  {
   "cell_type": "code",
   "execution_count": 139,
   "id": "ebeaa950",
   "metadata": {},
   "outputs": [
    {
     "name": "stdout",
     "output_type": "stream",
     "text": [
      "5 6 7 8 9 10 45 random\n"
     ]
    }
   ],
   "source": [
    "a = input()"
   ]
  },
  {
   "cell_type": "code",
   "execution_count": 140,
   "id": "5a236021",
   "metadata": {},
   "outputs": [
    {
     "data": {
      "text/plain": [
       "['5', '6', '7', '8', '9', '10', '45', 'random']"
      ]
     },
     "execution_count": 140,
     "metadata": {},
     "output_type": "execute_result"
    }
   ],
   "source": [
    "a.split(\" \")"
   ]
  },
  {
   "cell_type": "code",
   "execution_count": 141,
   "id": "0444d48e",
   "metadata": {},
   "outputs": [
    {
     "name": "stdout",
     "output_type": "stream",
     "text": [
      "random\n"
     ]
    }
   ],
   "source": [
    "a = input()"
   ]
  },
  {
   "cell_type": "code",
   "execution_count": 143,
   "id": "436a25f5",
   "metadata": {},
   "outputs": [
    {
     "data": {
      "text/plain": [
       "['r', 'a', 'n', 'd', 'o', 'm']"
      ]
     },
     "execution_count": 143,
     "metadata": {},
     "output_type": "execute_result"
    }
   ],
   "source": [
    "list(a)"
   ]
  },
  {
   "cell_type": "code",
   "execution_count": 153,
   "id": "d9629ace",
   "metadata": {},
   "outputs": [
    {
     "name": "stdout",
     "output_type": "stream",
     "text": [
      "56\n",
      "five six "
     ]
    }
   ],
   "source": [
    "words = [\"zero\",\"one\",\"two\",\"three\",\"four\",\"five\",\"six\",\"seven\",\"eight\",\"nine\"]\n",
    "number = input()\n",
    "\n",
    "for i in number:\n",
    "    index = int(i)\n",
    "    print(words[index], end = \" \")\n",
    "    \n",
    "    # print(words[int(number[i])],end=\" \")"
   ]
  },
  {
   "cell_type": "code",
   "execution_count": null,
   "id": "4a36469e",
   "metadata": {},
   "outputs": [],
   "source": []
  }
 ],
 "metadata": {
  "kernelspec": {
   "display_name": "Python 3 (ipykernel)",
   "language": "python",
   "name": "python3"
  },
  "language_info": {
   "codemirror_mode": {
    "name": "ipython",
    "version": 3
   },
   "file_extension": ".py",
   "mimetype": "text/x-python",
   "name": "python",
   "nbconvert_exporter": "python",
   "pygments_lexer": "ipython3",
   "version": "3.9.5"
  }
 },
 "nbformat": 4,
 "nbformat_minor": 5
}
