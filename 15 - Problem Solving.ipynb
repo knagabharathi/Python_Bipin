{
 "cells": [
  {
   "cell_type": "code",
   "execution_count": 5,
   "id": "c1b4e5d0",
   "metadata": {},
   "outputs": [
    {
     "data": {
      "text/plain": [
       "['D', 'h', 'o', 'n', 'i']"
      ]
     },
     "execution_count": 5,
     "metadata": {},
     "output_type": "execute_result"
    }
   ],
   "source": [
    "list(\"Dhoni\")"
   ]
  },
  {
   "cell_type": "code",
   "execution_count": 6,
   "id": "3a988411",
   "metadata": {},
   "outputs": [],
   "source": [
    "players = ['Jadeja', 'Rahul', 'Rohit']\n",
    "players+='Dhoni Virat' # INCORRECT"
   ]
  },
  {
   "cell_type": "code",
   "execution_count": 7,
   "id": "a6f0dc18",
   "metadata": {},
   "outputs": [
    {
     "data": {
      "text/plain": [
       "['Jadeja',\n",
       " 'Rahul',\n",
       " 'Rohit',\n",
       " 'D',\n",
       " 'h',\n",
       " 'o',\n",
       " 'n',\n",
       " 'i',\n",
       " ' ',\n",
       " 'V',\n",
       " 'i',\n",
       " 'r',\n",
       " 'a',\n",
       " 't']"
      ]
     },
     "execution_count": 7,
     "metadata": {},
     "output_type": "execute_result"
    }
   ],
   "source": [
    "players"
   ]
  },
  {
   "cell_type": "code",
   "execution_count": 10,
   "id": "d41e3cb4",
   "metadata": {},
   "outputs": [],
   "source": [
    "players = ['Jadeja', 'Rahul', 'Rohit']\n",
    "players[len(players):] = ['Dhoni', 'Virat'] # CORRECT"
   ]
  },
  {
   "cell_type": "code",
   "execution_count": 9,
   "id": "62bd747b",
   "metadata": {},
   "outputs": [
    {
     "data": {
      "text/plain": [
       "['Jadeja', 'Rahul', 'Rohit', 'Dhoni', 'Virat']"
      ]
     },
     "execution_count": 9,
     "metadata": {},
     "output_type": "execute_result"
    }
   ],
   "source": [
    "players"
   ]
  },
  {
   "cell_type": "code",
   "execution_count": 13,
   "id": "df929702",
   "metadata": {},
   "outputs": [],
   "source": [
    "players = ['Jadeja', 'Rahul', 'Rohit']\n",
    "players[-1:] = ['Dhoni', 'Virat'] # INCORRECT"
   ]
  },
  {
   "cell_type": "code",
   "execution_count": 14,
   "id": "3d51e54c",
   "metadata": {},
   "outputs": [
    {
     "data": {
      "text/plain": [
       "['Jadeja', 'Rahul', 'Dhoni', 'Virat']"
      ]
     },
     "execution_count": 14,
     "metadata": {},
     "output_type": "execute_result"
    }
   ],
   "source": [
    "players"
   ]
  },
  {
   "cell_type": "code",
   "execution_count": 17,
   "id": "8229d72c",
   "metadata": {},
   "outputs": [],
   "source": [
    "players = ['Jadeja', 'Rahul', 'Rohit']\n",
    "players+=['Dhoni', 'Virat'] # CORRECT"
   ]
  },
  {
   "cell_type": "code",
   "execution_count": 18,
   "id": "4a736ac1",
   "metadata": {},
   "outputs": [
    {
     "data": {
      "text/plain": [
       "['Jadeja', 'Rahul', 'Rohit', 'Dhoni', 'Virat']"
      ]
     },
     "execution_count": 18,
     "metadata": {},
     "output_type": "execute_result"
    }
   ],
   "source": [
    "players"
   ]
  },
  {
   "cell_type": "code",
   "execution_count": 19,
   "id": "45e79e38",
   "metadata": {},
   "outputs": [
    {
     "name": "stdout",
     "output_type": "stream",
     "text": [
      "5\n"
     ]
    }
   ],
   "source": [
    "N = int(input())"
   ]
  },
  {
   "cell_type": "code",
   "execution_count": 20,
   "id": "dbbaefc3",
   "metadata": {},
   "outputs": [
    {
     "name": "stdout",
     "output_type": "stream",
     "text": [
      "7\n",
      "8\n",
      "9\n",
      "10\n",
      "5\n"
     ]
    }
   ],
   "source": [
    "# METHOD 1\n",
    "input_list_1 = []\n",
    "\n",
    "for i in range(N):\n",
    "    input_list_1.append(int(input()))"
   ]
  },
  {
   "cell_type": "code",
   "execution_count": 21,
   "id": "35c6875f",
   "metadata": {},
   "outputs": [
    {
     "data": {
      "text/plain": [
       "[7, 8, 9, 10, 5]"
      ]
     },
     "execution_count": 21,
     "metadata": {},
     "output_type": "execute_result"
    }
   ],
   "source": [
    "input_list_1"
   ]
  },
  {
   "cell_type": "code",
   "execution_count": 23,
   "id": "ee8fd0ec",
   "metadata": {},
   "outputs": [
    {
     "name": "stdout",
     "output_type": "stream",
     "text": [
      "6 7 8 9 10\n"
     ]
    }
   ],
   "source": [
    "# METHOD 2\n",
    "input_string = input()"
   ]
  },
  {
   "cell_type": "code",
   "execution_count": 24,
   "id": "002563a8",
   "metadata": {},
   "outputs": [
    {
     "data": {
      "text/plain": [
       "'6 7 8 9 10'"
      ]
     },
     "execution_count": 24,
     "metadata": {},
     "output_type": "execute_result"
    }
   ],
   "source": [
    "input_string"
   ]
  },
  {
   "cell_type": "code",
   "execution_count": 25,
   "id": "88e77ea0",
   "metadata": {},
   "outputs": [],
   "source": [
    "input_list_2 = input_string.split(\" \")"
   ]
  },
  {
   "cell_type": "code",
   "execution_count": 26,
   "id": "a9a3a953",
   "metadata": {},
   "outputs": [
    {
     "data": {
      "text/plain": [
       "['6', '7', '8', '9', '10']"
      ]
     },
     "execution_count": 26,
     "metadata": {},
     "output_type": "execute_result"
    }
   ],
   "source": [
    "input_list_2"
   ]
  },
  {
   "cell_type": "code",
   "execution_count": 27,
   "id": "3b61b13a",
   "metadata": {},
   "outputs": [],
   "source": [
    "input_list_final = []\n",
    "\n",
    "for i in input_list_2:\n",
    "    input_list_final.append(int(i))"
   ]
  },
  {
   "cell_type": "code",
   "execution_count": 28,
   "id": "f2b44df4",
   "metadata": {},
   "outputs": [
    {
     "data": {
      "text/plain": [
       "[6, 7, 8, 9, 10]"
      ]
     },
     "execution_count": 28,
     "metadata": {},
     "output_type": "execute_result"
    }
   ],
   "source": [
    "input_list_final"
   ]
  },
  {
   "cell_type": "code",
   "execution_count": 29,
   "id": "401ee86a",
   "metadata": {},
   "outputs": [],
   "source": [
    "def any_function_name(arg1, arg2):\n",
    "    print(arg1, arg2)\n",
    "    result = arg1 + arg2\n",
    "    \n",
    "    return result"
   ]
  },
  {
   "cell_type": "code",
   "execution_count": 30,
   "id": "7ac3252c",
   "metadata": {},
   "outputs": [
    {
     "name": "stdout",
     "output_type": "stream",
     "text": [
      "5 6\n"
     ]
    },
    {
     "data": {
      "text/plain": [
       "11"
      ]
     },
     "execution_count": 30,
     "metadata": {},
     "output_type": "execute_result"
    }
   ],
   "source": [
    "any_function_name(5, 6)"
   ]
  },
  {
   "cell_type": "code",
   "execution_count": 31,
   "id": "c597d1fb",
   "metadata": {},
   "outputs": [],
   "source": [
    "# class Solution:\n",
    "#     def main(self, arg1, arg2):\n",
    "#         # WRITE YOUR SOLUTION HERE\n",
    "        \n",
    "# def main(arg1, arg2):\n",
    "#     # WRITE YOUR SOLUTION HERE"
   ]
  },
  {
   "cell_type": "code",
   "execution_count": 33,
   "id": "76dc02d1",
   "metadata": {},
   "outputs": [
    {
     "name": "stdout",
     "output_type": "stream",
     "text": [
      "5\n"
     ]
    }
   ],
   "source": [
    "n = int(input())"
   ]
  },
  {
   "cell_type": "code",
   "execution_count": 37,
   "id": "1024bae8",
   "metadata": {},
   "outputs": [
    {
     "name": "stdout",
     "output_type": "stream",
     "text": [
      "*****\n",
      "****\n",
      "***\n",
      "**\n",
      "*\n"
     ]
    }
   ],
   "source": [
    "for i in range(n):\n",
    "    print(\"*\" * (n - i))"
   ]
  },
  {
   "cell_type": "code",
   "execution_count": 39,
   "id": "1e4ad06b",
   "metadata": {},
   "outputs": [
    {
     "name": "stdout",
     "output_type": "stream",
     "text": [
      "12345\n",
      "1234\n",
      "123\n",
      "12\n",
      "1\n"
     ]
    }
   ],
   "source": [
    "for i in range(n):\n",
    "    for j in range(1, n - i + 1):\n",
    "        print(j, end = \"\")\n",
    "    \n",
    "    print()"
   ]
  },
  {
   "cell_type": "code",
   "execution_count": 43,
   "id": "8c5ea59f",
   "metadata": {},
   "outputs": [],
   "source": [
    "a = [1,2,3,4,5,6,7]"
   ]
  },
  {
   "cell_type": "code",
   "execution_count": 44,
   "id": "56f1a0d0",
   "metadata": {},
   "outputs": [],
   "source": [
    "consecutive = False\n",
    "\n",
    "for i in range(len(a) - 1):\n",
    "    if a[i] == a[i + 1]:\n",
    "        consecutive = True"
   ]
  },
  {
   "cell_type": "code",
   "execution_count": 45,
   "id": "0b6fb5c5",
   "metadata": {},
   "outputs": [
    {
     "data": {
      "text/plain": [
       "False"
      ]
     },
     "execution_count": 45,
     "metadata": {},
     "output_type": "execute_result"
    }
   ],
   "source": [
    "consecutive"
   ]
  },
  {
   "cell_type": "code",
   "execution_count": 46,
   "id": "1fce1700",
   "metadata": {},
   "outputs": [],
   "source": [
    "players = ['Jadeja', 'Rahul', 'Rohit']\n",
    "players[:] = ['Dhoni', 'Virat'] # CORRECT"
   ]
  },
  {
   "cell_type": "code",
   "execution_count": 47,
   "id": "60e5c3d2",
   "metadata": {},
   "outputs": [
    {
     "data": {
      "text/plain": [
       "['Dhoni', 'Virat']"
      ]
     },
     "execution_count": 47,
     "metadata": {},
     "output_type": "execute_result"
    }
   ],
   "source": [
    "players"
   ]
  },
  {
   "cell_type": "code",
   "execution_count": 49,
   "id": "212d22ac",
   "metadata": {},
   "outputs": [],
   "source": [
    "def fun1(name, age):\n",
    "    print(name,age)"
   ]
  },
  {
   "cell_type": "code",
   "execution_count": 50,
   "id": "3ada5a43",
   "metadata": {},
   "outputs": [
    {
     "name": "stdout",
     "output_type": "stream",
     "text": [
      "Mohit 23\n"
     ]
    }
   ],
   "source": [
    "fun1(\"Mohit\", age=23)"
   ]
  },
  {
   "cell_type": "code",
   "execution_count": 51,
   "id": "f05e76d7",
   "metadata": {},
   "outputs": [
    {
     "name": "stdout",
     "output_type": "stream",
     "text": [
      "Mohit 23\n"
     ]
    }
   ],
   "source": [
    "fun1(age = 23, name=\"Mohit\")"
   ]
  },
  {
   "cell_type": "code",
   "execution_count": 52,
   "id": "7bbc28fe",
   "metadata": {},
   "outputs": [
    {
     "ename": "SyntaxError",
     "evalue": "positional argument follows keyword argument (1452028797.py, line 1)",
     "output_type": "error",
     "traceback": [
      "\u001b[0;36m  Cell \u001b[0;32mIn[52], line 1\u001b[0;36m\u001b[0m\n\u001b[0;31m    fun1(name=\"Mohit\", 23)\u001b[0m\n\u001b[0m                         ^\u001b[0m\n\u001b[0;31mSyntaxError\u001b[0m\u001b[0;31m:\u001b[0m positional argument follows keyword argument\n"
     ]
    }
   ],
   "source": [
    "fun1(name=\"Mohit\", 23)"
   ]
  },
  {
   "cell_type": "code",
   "execution_count": 53,
   "id": "1e3ba660",
   "metadata": {},
   "outputs": [
    {
     "name": "stdout",
     "output_type": "stream",
     "text": [
      "23 Mohit\n"
     ]
    }
   ],
   "source": [
    "fun1(23, \"Mohit\")"
   ]
  },
  {
   "cell_type": "code",
   "execution_count": 54,
   "id": "f4980386",
   "metadata": {},
   "outputs": [],
   "source": [
    "a = [1,2,3,4,6,7,8,9,10]"
   ]
  },
  {
   "cell_type": "code",
   "execution_count": 55,
   "id": "9a16c49f",
   "metadata": {},
   "outputs": [],
   "source": [
    "b = 5"
   ]
  },
  {
   "cell_type": "code",
   "execution_count": 57,
   "id": "09c5d58c",
   "metadata": {},
   "outputs": [],
   "source": [
    "ceil = max(a)\n",
    "floor = min(a)"
   ]
  },
  {
   "cell_type": "code",
   "execution_count": 58,
   "id": "76d03365",
   "metadata": {},
   "outputs": [],
   "source": [
    "for i in a:\n",
    "    if i < b and i > floor:\n",
    "        floor = i\n",
    "    elif i > b and i < ceil:\n",
    "        ceil = i"
   ]
  },
  {
   "cell_type": "code",
   "execution_count": 59,
   "id": "1ac2097f",
   "metadata": {},
   "outputs": [
    {
     "data": {
      "text/plain": [
       "6"
      ]
     },
     "execution_count": 59,
     "metadata": {},
     "output_type": "execute_result"
    }
   ],
   "source": [
    "ceil"
   ]
  },
  {
   "cell_type": "code",
   "execution_count": 60,
   "id": "d230b3b2",
   "metadata": {},
   "outputs": [
    {
     "data": {
      "text/plain": [
       "4"
      ]
     },
     "execution_count": 60,
     "metadata": {},
     "output_type": "execute_result"
    }
   ],
   "source": [
    "floor"
   ]
  },
  {
   "cell_type": "code",
   "execution_count": 61,
   "id": "3097f054",
   "metadata": {},
   "outputs": [
    {
     "data": {
      "text/plain": [
       "[6, 4]"
      ]
     },
     "execution_count": 61,
     "metadata": {},
     "output_type": "execute_result"
    }
   ],
   "source": [
    "[ceil, floor]"
   ]
  },
  {
   "cell_type": "code",
   "execution_count": 66,
   "id": "115c5f24",
   "metadata": {},
   "outputs": [
    {
     "name": "stdout",
     "output_type": "stream",
     "text": [
      "5 6 7 8 9 10\n"
     ]
    }
   ],
   "source": [
    "int_list = list(map(lambda x: int(x), input().split(\" \")))"
   ]
  },
  {
   "cell_type": "code",
   "execution_count": 67,
   "id": "9e362532",
   "metadata": {},
   "outputs": [
    {
     "data": {
      "text/plain": [
       "[5, 6, 7, 8, 9, 10]"
      ]
     },
     "execution_count": 67,
     "metadata": {},
     "output_type": "execute_result"
    }
   ],
   "source": [
    "int_list"
   ]
  },
  {
   "cell_type": "code",
   "execution_count": 68,
   "id": "c6bd735b",
   "metadata": {},
   "outputs": [],
   "source": [
    "players = ['Jadeja','Rahul','Rohit']\n",
    "players[-1: len(players)] = ['Dhoni', 'Virat', 'xyz', 'abc']"
   ]
  },
  {
   "cell_type": "code",
   "execution_count": 69,
   "id": "954a90e7",
   "metadata": {},
   "outputs": [
    {
     "data": {
      "text/plain": [
       "['Jadeja', 'Rahul', 'Dhoni', 'Virat', 'xyz', 'abc']"
      ]
     },
     "execution_count": 69,
     "metadata": {},
     "output_type": "execute_result"
    }
   ],
   "source": [
    "players"
   ]
  },
  {
   "cell_type": "code",
   "execution_count": 72,
   "id": "b7f4d828",
   "metadata": {},
   "outputs": [
    {
     "data": {
      "text/plain": [
       "[1, 2, 3, 4, 5, 6, 7, 8]"
      ]
     },
     "execution_count": 72,
     "metadata": {},
     "output_type": "execute_result"
    }
   ],
   "source": [
    "a = [1,2,3,4,5]\n",
    "a += [6,7,8]\n",
    "a"
   ]
  },
  {
   "cell_type": "code",
   "execution_count": 73,
   "id": "1e7d0012",
   "metadata": {},
   "outputs": [
    {
     "data": {
      "text/plain": [
       "[1, 2, 3, 4, 5, 6, 7, 8]"
      ]
     },
     "execution_count": 73,
     "metadata": {},
     "output_type": "execute_result"
    }
   ],
   "source": [
    "a = [1,2,3,4,5]\n",
    "a[len(a):] = [6,7,8]\n",
    "a"
   ]
  },
  {
   "cell_type": "code",
   "execution_count": 74,
   "id": "7149351d",
   "metadata": {},
   "outputs": [
    {
     "data": {
      "text/plain": [
       "[1, 2, 3, 4, 6, 7, 8]"
      ]
     },
     "execution_count": 74,
     "metadata": {},
     "output_type": "execute_result"
    }
   ],
   "source": [
    "a = [1,2,3,4,5]\n",
    "a[-1:] = [6,7,8]\n",
    "a"
   ]
  },
  {
   "cell_type": "code",
   "execution_count": 75,
   "id": "3780bc7f",
   "metadata": {},
   "outputs": [
    {
     "data": {
      "text/plain": [
       "[1, 2, 3, 4, 6, 7, 8]"
      ]
     },
     "execution_count": 75,
     "metadata": {},
     "output_type": "execute_result"
    }
   ],
   "source": [
    "a = [1,2,3,4,5]\n",
    "a[-1:len(a)] = [6,7,8]\n",
    "a"
   ]
  },
  {
   "cell_type": "code",
   "execution_count": 76,
   "id": "1c4e77de",
   "metadata": {},
   "outputs": [],
   "source": [
    "parent = [1,2,3,3,5,6,7,8,9,10,4]\n",
    "child = [4,5,6]"
   ]
  },
  {
   "cell_type": "code",
   "execution_count": 125,
   "id": "8ac79643",
   "metadata": {},
   "outputs": [],
   "source": [
    "def start_end(parent, child):\n",
    "    if len(parent) == len(child):\n",
    "        if parent == child:\n",
    "            return [0, len(parent) - 1]\n",
    "        else:\n",
    "            return False\n",
    "    elif len(parent) < len(child):\n",
    "        return False\n",
    "    \n",
    "    for i in range(len(parent)):\n",
    "        if parent[i] == child[0] and not (i + len(child) >= len(parent)):\n",
    "            sublist = True\n",
    "\n",
    "            for j in range(1, len(child)):\n",
    "                if parent[i + j] != child[j]:\n",
    "                    sublist = False\n",
    "\n",
    "            if sublist:\n",
    "                start = i\n",
    "                end = i + len(child) - 1\n",
    "                \n",
    "                return [start, end]\n",
    "    \n",
    "    return False"
   ]
  },
  {
   "cell_type": "code",
   "execution_count": 126,
   "id": "81059cfd",
   "metadata": {},
   "outputs": [],
   "source": [
    "parent = [1,2,3,4,5,6,7,8,9,10,4]\n",
    "child = [4,5,6]"
   ]
  },
  {
   "cell_type": "code",
   "execution_count": 127,
   "id": "729d8cb2",
   "metadata": {
    "scrolled": true
   },
   "outputs": [
    {
     "data": {
      "text/plain": [
       "[3, 5]"
      ]
     },
     "execution_count": 127,
     "metadata": {},
     "output_type": "execute_result"
    }
   ],
   "source": [
    "start_end(parent, child)"
   ]
  },
  {
   "cell_type": "code",
   "execution_count": 128,
   "id": "f1535ef9",
   "metadata": {},
   "outputs": [],
   "source": [
    "parent = [1,2,3,4,5,7,8,9,10,6]\n",
    "child = [4,5,6]"
   ]
  },
  {
   "cell_type": "code",
   "execution_count": 129,
   "id": "647ed0d0",
   "metadata": {},
   "outputs": [
    {
     "data": {
      "text/plain": [
       "False"
      ]
     },
     "execution_count": 129,
     "metadata": {},
     "output_type": "execute_result"
    }
   ],
   "source": [
    "start_end(parent, child)"
   ]
  },
  {
   "cell_type": "code",
   "execution_count": 130,
   "id": "1c2eaead",
   "metadata": {},
   "outputs": [
    {
     "data": {
      "text/plain": [
       "[2, 2]"
      ]
     },
     "execution_count": 130,
     "metadata": {},
     "output_type": "execute_result"
    }
   ],
   "source": [
    "start_end(parent, [3])"
   ]
  },
  {
   "cell_type": "code",
   "execution_count": 131,
   "id": "e435c818",
   "metadata": {},
   "outputs": [
    {
     "data": {
      "text/plain": [
       "[0, 2]"
      ]
     },
     "execution_count": 131,
     "metadata": {},
     "output_type": "execute_result"
    }
   ],
   "source": [
    "start_end([1,2,3], [1,2,3])"
   ]
  },
  {
   "cell_type": "code",
   "execution_count": 132,
   "id": "1a37dde5",
   "metadata": {},
   "outputs": [
    {
     "data": {
      "text/plain": [
       "False"
      ]
     },
     "execution_count": 132,
     "metadata": {},
     "output_type": "execute_result"
    }
   ],
   "source": [
    "start_end([1,2,3], [1,2,3,4])"
   ]
  },
  {
   "cell_type": "code",
   "execution_count": null,
   "id": "d99972f4",
   "metadata": {},
   "outputs": [],
   "source": []
  }
 ],
 "metadata": {
  "kernelspec": {
   "display_name": "Python 3 (ipykernel)",
   "language": "python",
   "name": "python3"
  },
  "language_info": {
   "codemirror_mode": {
    "name": "ipython",
    "version": 3
   },
   "file_extension": ".py",
   "mimetype": "text/x-python",
   "name": "python",
   "nbconvert_exporter": "python",
   "pygments_lexer": "ipython3",
   "version": "3.9.5"
  }
 },
 "nbformat": 4,
 "nbformat_minor": 5
}
