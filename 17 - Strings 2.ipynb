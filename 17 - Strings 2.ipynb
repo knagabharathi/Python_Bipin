{
 "cells": [
  {
   "cell_type": "code",
   "execution_count": 1,
   "id": "a170aee3",
   "metadata": {},
   "outputs": [],
   "source": [
    "# 1. SPLIT"
   ]
  },
  {
   "cell_type": "code",
   "execution_count": 2,
   "id": "ca2cb500",
   "metadata": {},
   "outputs": [],
   "source": [
    "a = \"a string with a lot of words!\""
   ]
  },
  {
   "cell_type": "code",
   "execution_count": 3,
   "id": "116028ef",
   "metadata": {},
   "outputs": [
    {
     "data": {
      "text/plain": [
       "['a', 'string', 'with', 'a', 'lot', 'of', 'words!']"
      ]
     },
     "execution_count": 3,
     "metadata": {},
     "output_type": "execute_result"
    }
   ],
   "source": [
    "a.split(\" \") # We provide a delimiter (\" \" in this case) to split on"
   ]
  },
  {
   "cell_type": "code",
   "execution_count": 4,
   "id": "06b3ffe6",
   "metadata": {},
   "outputs": [],
   "source": [
    "a = \"this+is+random\""
   ]
  },
  {
   "cell_type": "code",
   "execution_count": 5,
   "id": "949742e6",
   "metadata": {},
   "outputs": [
    {
     "data": {
      "text/plain": [
       "['this+is+random']"
      ]
     },
     "execution_count": 5,
     "metadata": {},
     "output_type": "execute_result"
    }
   ],
   "source": [
    "a.split(\" \")"
   ]
  },
  {
   "cell_type": "code",
   "execution_count": 6,
   "id": "2711b904",
   "metadata": {},
   "outputs": [],
   "source": [
    "a = \"this is a random string with a lot of characters and s consonants!\""
   ]
  },
  {
   "cell_type": "code",
   "execution_count": 7,
   "id": "c5b5130a",
   "metadata": {},
   "outputs": [
    {
     "data": {
      "text/plain": [
       "['thi',\n",
       " ' i',\n",
       " ' a random ',\n",
       " 'tring with a lot of character',\n",
       " ' and ',\n",
       " ' con',\n",
       " 'onant',\n",
       " '!']"
      ]
     },
     "execution_count": 7,
     "metadata": {},
     "output_type": "execute_result"
    }
   ],
   "source": [
    "a.split(\"s\")"
   ]
  },
  {
   "cell_type": "code",
   "execution_count": 8,
   "id": "e8cf1d69",
   "metadata": {},
   "outputs": [],
   "source": [
    "a = \"ThisRANDOMisRANDOMsomethingRANDOMweird!\""
   ]
  },
  {
   "cell_type": "code",
   "execution_count": 9,
   "id": "15940b90",
   "metadata": {},
   "outputs": [
    {
     "data": {
      "text/plain": [
       "['This', 'is', 'something', 'weird!']"
      ]
     },
     "execution_count": 9,
     "metadata": {},
     "output_type": "execute_result"
    }
   ],
   "source": [
    "a.split(\"RANDOM\")"
   ]
  },
  {
   "cell_type": "code",
   "execution_count": 10,
   "id": "89fcef88",
   "metadata": {},
   "outputs": [],
   "source": [
    "csv = \"1,2,3,4,5,6,7,8,9,10\""
   ]
  },
  {
   "cell_type": "code",
   "execution_count": 11,
   "id": "e40f3e09",
   "metadata": {},
   "outputs": [
    {
     "data": {
      "text/plain": [
       "['1', '2', '3', '4', '5', '6', '7', '8', '9', '10']"
      ]
     },
     "execution_count": 11,
     "metadata": {},
     "output_type": "execute_result"
    }
   ],
   "source": [
    "csv.split(\",\")"
   ]
  },
  {
   "cell_type": "code",
   "execution_count": 12,
   "id": "80c6a2f6",
   "metadata": {},
   "outputs": [
    {
     "name": "stdout",
     "output_type": "stream",
     "text": [
      "6 7 8 10 20 30 40\n"
     ]
    }
   ],
   "source": [
    "multiple_input = input()"
   ]
  },
  {
   "cell_type": "code",
   "execution_count": 14,
   "id": "7c156c32",
   "metadata": {},
   "outputs": [
    {
     "data": {
      "text/plain": [
       "['6', '7', '8', '10', '20', '30', '40']"
      ]
     },
     "execution_count": 14,
     "metadata": {},
     "output_type": "execute_result"
    }
   ],
   "source": [
    "multiple_input.split(\" \")"
   ]
  },
  {
   "cell_type": "code",
   "execution_count": 15,
   "id": "f83850f6",
   "metadata": {},
   "outputs": [],
   "source": [
    "# 2. JOIN"
   ]
  },
  {
   "cell_type": "code",
   "execution_count": 16,
   "id": "268857c3",
   "metadata": {},
   "outputs": [],
   "source": [
    "a = ['a', 'string', 'with', 'a', 'lot', 'of', 'words!']"
   ]
  },
  {
   "cell_type": "code",
   "execution_count": 18,
   "id": "abff50a4",
   "metadata": {},
   "outputs": [
    {
     "data": {
      "text/plain": [
       "'a string with a lot of words!'"
      ]
     },
     "execution_count": 18,
     "metadata": {},
     "output_type": "execute_result"
    }
   ],
   "source": [
    "\" \".join(a) # \"delimiter\".join(list_of_strings)"
   ]
  },
  {
   "cell_type": "code",
   "execution_count": 19,
   "id": "6861127c",
   "metadata": {},
   "outputs": [
    {
     "data": {
      "text/plain": [
       "'a__+__string__+__with__+__a__+__lot__+__of__+__words!'"
      ]
     },
     "execution_count": 19,
     "metadata": {},
     "output_type": "execute_result"
    }
   ],
   "source": [
    "\"__+__\".join(a)"
   ]
  },
  {
   "cell_type": "code",
   "execution_count": 20,
   "id": "4c4608d4",
   "metadata": {},
   "outputs": [],
   "source": [
    "a = [\"random\", 23, True, 5.6]"
   ]
  },
  {
   "cell_type": "code",
   "execution_count": 22,
   "id": "b386d9d8",
   "metadata": {},
   "outputs": [
    {
     "ename": "TypeError",
     "evalue": "sequence item 1: expected str instance, int found",
     "output_type": "error",
     "traceback": [
      "\u001b[0;31m---------------------------------------------------------------------------\u001b[0m",
      "\u001b[0;31mTypeError\u001b[0m                                 Traceback (most recent call last)",
      "Cell \u001b[0;32mIn[22], line 1\u001b[0m\n\u001b[0;32m----> 1\u001b[0m \u001b[38;5;124;43m\"\u001b[39;49m\u001b[38;5;124;43m \u001b[39;49m\u001b[38;5;124;43m\"\u001b[39;49m\u001b[38;5;241;43m.\u001b[39;49m\u001b[43mjoin\u001b[49m\u001b[43m(\u001b[49m\u001b[43ma\u001b[49m\u001b[43m)\u001b[49m \u001b[38;5;66;03m# can only work with a list of strings\u001b[39;00m\n",
      "\u001b[0;31mTypeError\u001b[0m: sequence item 1: expected str instance, int found"
     ]
    }
   ],
   "source": [
    "\" \".join(a) # can only work with a list of strings"
   ]
  },
  {
   "cell_type": "code",
   "execution_count": 26,
   "id": "4b490f2d",
   "metadata": {},
   "outputs": [],
   "source": [
    "def custom_join(list_of_strings, delimiter):\n",
    "    result = \"\"\n",
    "    \n",
    "    for string in list_of_strings:\n",
    "        result += string + delimiter\n",
    "        \n",
    "    return result\n",
    "\n",
    "# EXTRA DELIMITER AT THE END"
   ]
  },
  {
   "cell_type": "code",
   "execution_count": 27,
   "id": "53590b7e",
   "metadata": {},
   "outputs": [],
   "source": [
    "a = ['a', 'string', 'with', 'a', 'lot', 'of', 'words!']"
   ]
  },
  {
   "cell_type": "code",
   "execution_count": 28,
   "id": "35ca4318",
   "metadata": {},
   "outputs": [
    {
     "data": {
      "text/plain": [
       "'a+string+with+a+lot+of+words!+'"
      ]
     },
     "execution_count": 28,
     "metadata": {},
     "output_type": "execute_result"
    }
   ],
   "source": [
    "custom_join(a, \"+\")"
   ]
  },
  {
   "cell_type": "code",
   "execution_count": 35,
   "id": "38d0c52f",
   "metadata": {},
   "outputs": [],
   "source": [
    "def custom_join_2(list_of_strings, delimiter):\n",
    "    result = \"\"\n",
    "    \n",
    "    for string in list_of_strings:\n",
    "        if string == list_of_strings[-1]:\n",
    "            result += string\n",
    "        else:\n",
    "            result += string + delimiter\n",
    "        \n",
    "    return result\n",
    "\n",
    "# FAILS FOR CASES WHERE A WORD SAME AS THE LAST WORD SHOWS REPEATS SOMEWHERE IN THE LIST"
   ]
  },
  {
   "cell_type": "code",
   "execution_count": 32,
   "id": "17a4fef9",
   "metadata": {},
   "outputs": [
    {
     "data": {
      "text/plain": [
       "'a+string+with+a+lot+of+words!'"
      ]
     },
     "execution_count": 32,
     "metadata": {},
     "output_type": "execute_result"
    }
   ],
   "source": [
    "custom_join_2(a, \"+\")"
   ]
  },
  {
   "cell_type": "code",
   "execution_count": 33,
   "id": "1aec8275",
   "metadata": {},
   "outputs": [],
   "source": [
    "a = ['a', 'string', 'with', 'words', 'a', 'lot', 'of', 'words']"
   ]
  },
  {
   "cell_type": "code",
   "execution_count": 34,
   "id": "f1510d99",
   "metadata": {},
   "outputs": [
    {
     "data": {
      "text/plain": [
       "'a+string+with+wordsa+lot+of+words'"
      ]
     },
     "execution_count": 34,
     "metadata": {},
     "output_type": "execute_result"
    }
   ],
   "source": [
    "custom_join_2(a, \"+\")"
   ]
  },
  {
   "cell_type": "code",
   "execution_count": 40,
   "id": "b56838c1",
   "metadata": {},
   "outputs": [],
   "source": [
    "def custom_join_3(list_of_strings, delimiter):\n",
    "    result = \"\"\n",
    "    \n",
    "    for i in range(len(list_of_strings) - 1):\n",
    "        result += list_of_strings[i] + delimiter\n",
    "        \n",
    "    result += list_of_strings[-1]\n",
    "        \n",
    "        \n",
    "    return result"
   ]
  },
  {
   "cell_type": "code",
   "execution_count": 41,
   "id": "d5cfb375",
   "metadata": {},
   "outputs": [
    {
     "data": {
      "text/plain": [
       "['a', 'string', 'with', 'words', 'a', 'lot', 'of', 'words']"
      ]
     },
     "execution_count": 41,
     "metadata": {},
     "output_type": "execute_result"
    }
   ],
   "source": [
    "a"
   ]
  },
  {
   "cell_type": "code",
   "execution_count": 42,
   "id": "c761cf92",
   "metadata": {},
   "outputs": [
    {
     "data": {
      "text/plain": [
       "'a+string+with+words+a+lot+of+words'"
      ]
     },
     "execution_count": 42,
     "metadata": {},
     "output_type": "execute_result"
    }
   ],
   "source": [
    "custom_join_3(a, \"+\")"
   ]
  },
  {
   "cell_type": "code",
   "execution_count": 43,
   "id": "47297a53",
   "metadata": {},
   "outputs": [],
   "source": [
    "# 3. FIND"
   ]
  },
  {
   "cell_type": "code",
   "execution_count": 44,
   "id": "6fcf7a1c",
   "metadata": {},
   "outputs": [],
   "source": [
    "a = \"this is a random string!\""
   ]
  },
  {
   "cell_type": "code",
   "execution_count": 48,
   "id": "98b156b5",
   "metadata": {},
   "outputs": [
    {
     "data": {
      "text/plain": [
       "2"
      ]
     },
     "execution_count": 48,
     "metadata": {},
     "output_type": "execute_result"
    }
   ],
   "source": [
    "a.find(\"is\")\n",
    "# FIRST INDEX OF THE FIRST OCCURENCE OF THE SUBSTRING"
   ]
  },
  {
   "cell_type": "code",
   "execution_count": 46,
   "id": "43fc084e",
   "metadata": {},
   "outputs": [
    {
     "data": {
      "text/plain": [
       "10"
      ]
     },
     "execution_count": 46,
     "metadata": {},
     "output_type": "execute_result"
    }
   ],
   "source": [
    "a.find(\"random\")"
   ]
  },
  {
   "cell_type": "code",
   "execution_count": 47,
   "id": "0e4ad1ac",
   "metadata": {},
   "outputs": [
    {
     "data": {
      "text/plain": [
       "7"
      ]
     },
     "execution_count": 47,
     "metadata": {},
     "output_type": "execute_result"
    }
   ],
   "source": [
    "a.find(\" a random\")"
   ]
  },
  {
   "cell_type": "code",
   "execution_count": 50,
   "id": "b534c4dd",
   "metadata": {},
   "outputs": [
    {
     "data": {
      "text/plain": [
       "-1"
      ]
     },
     "execution_count": 50,
     "metadata": {},
     "output_type": "execute_result"
    }
   ],
   "source": [
    "a.find(\"not present!\")\n",
    "# Returns -1 if the substring is not present"
   ]
  },
  {
   "cell_type": "code",
   "execution_count": 51,
   "id": "dcd51b7a",
   "metadata": {},
   "outputs": [],
   "source": [
    "# 4. REPLACE"
   ]
  },
  {
   "cell_type": "code",
   "execution_count": 52,
   "id": "f35f163d",
   "metadata": {},
   "outputs": [],
   "source": [
    "a = \"This randomly is a very random thing which is causing randomness in this random class!\""
   ]
  },
  {
   "cell_type": "code",
   "execution_count": 53,
   "id": "251c2678",
   "metadata": {},
   "outputs": [],
   "source": [
    "a_replaced = a.replace(\"random\", \"SUPERB\")"
   ]
  },
  {
   "cell_type": "code",
   "execution_count": 54,
   "id": "0962dd4d",
   "metadata": {},
   "outputs": [
    {
     "data": {
      "text/plain": [
       "'This SUPERBly is a very SUPERB thing which is causing SUPERBness in this SUPERB class!'"
      ]
     },
     "execution_count": 54,
     "metadata": {},
     "output_type": "execute_result"
    }
   ],
   "source": [
    "a_replaced"
   ]
  },
  {
   "cell_type": "code",
   "execution_count": 55,
   "id": "9964e22a",
   "metadata": {},
   "outputs": [
    {
     "data": {
      "text/plain": [
       "'This randomly is a very random thing which is causing randomness in this random class!'"
      ]
     },
     "execution_count": 55,
     "metadata": {},
     "output_type": "execute_result"
    }
   ],
   "source": [
    "a"
   ]
  },
  {
   "cell_type": "code",
   "execution_count": 56,
   "id": "783385c1",
   "metadata": {},
   "outputs": [],
   "source": [
    "# 5. MEMBERSHIP OPERATOR"
   ]
  },
  {
   "cell_type": "code",
   "execution_count": 58,
   "id": "d5565714",
   "metadata": {},
   "outputs": [
    {
     "data": {
      "text/plain": [
       "True"
      ]
     },
     "execution_count": 58,
     "metadata": {},
     "output_type": "execute_result"
    }
   ],
   "source": [
    "\"amazing\" in \"the amazing spiderman\""
   ]
  },
  {
   "cell_type": "code",
   "execution_count": 59,
   "id": "120463c9",
   "metadata": {},
   "outputs": [],
   "source": [
    "a = \"this is something very cool!\""
   ]
  },
  {
   "cell_type": "code",
   "execution_count": 60,
   "id": "d51c5f5c",
   "metadata": {},
   "outputs": [
    {
     "data": {
      "text/plain": [
       "True"
      ]
     },
     "execution_count": 60,
     "metadata": {},
     "output_type": "execute_result"
    }
   ],
   "source": [
    "\"something\" in a"
   ]
  },
  {
   "cell_type": "code",
   "execution_count": 61,
   "id": "7cba2b46",
   "metadata": {},
   "outputs": [
    {
     "data": {
      "text/plain": [
       "False"
      ]
     },
     "execution_count": 61,
     "metadata": {},
     "output_type": "execute_result"
    }
   ],
   "source": [
    "\"random\" in a"
   ]
  },
  {
   "cell_type": "code",
   "execution_count": 62,
   "id": "ed01f49e",
   "metadata": {},
   "outputs": [],
   "source": [
    "# 6. SOME MORE INTERESTING METHODS"
   ]
  },
  {
   "cell_type": "code",
   "execution_count": 63,
   "id": "ffd53675",
   "metadata": {},
   "outputs": [
    {
     "data": {
      "text/plain": [
       "True"
      ]
     },
     "execution_count": 63,
     "metadata": {},
     "output_type": "execute_result"
    }
   ],
   "source": [
    "\"6\".isdigit() # TRUE if the string only contains digits else FALSE"
   ]
  },
  {
   "cell_type": "code",
   "execution_count": 64,
   "id": "015887d0",
   "metadata": {},
   "outputs": [
    {
     "data": {
      "text/plain": [
       "True"
      ]
     },
     "execution_count": 64,
     "metadata": {},
     "output_type": "execute_result"
    }
   ],
   "source": [
    "\"12345678909876543\".isdigit()"
   ]
  },
  {
   "cell_type": "code",
   "execution_count": 65,
   "id": "571da3d9",
   "metadata": {},
   "outputs": [
    {
     "data": {
      "text/plain": [
       "False"
      ]
     },
     "execution_count": 65,
     "metadata": {},
     "output_type": "execute_result"
    }
   ],
   "source": [
    "\"34567abc\".isdigit()"
   ]
  },
  {
   "cell_type": "code",
   "execution_count": 67,
   "id": "bebfc79e",
   "metadata": {},
   "outputs": [
    {
     "data": {
      "text/plain": [
       "True"
      ]
     },
     "execution_count": 67,
     "metadata": {},
     "output_type": "execute_result"
    }
   ],
   "source": [
    "\"abcdefghijklop\".isalpha() # # TRUE if the string only contains alphabets else FALSE"
   ]
  },
  {
   "cell_type": "code",
   "execution_count": 68,
   "id": "bd16a1fa",
   "metadata": {},
   "outputs": [
    {
     "data": {
      "text/plain": [
       "True"
      ]
     },
     "execution_count": 68,
     "metadata": {},
     "output_type": "execute_result"
    }
   ],
   "source": [
    "\"A\".isalpha()"
   ]
  },
  {
   "cell_type": "code",
   "execution_count": 69,
   "id": "8184ad12",
   "metadata": {},
   "outputs": [
    {
     "data": {
      "text/plain": [
       "False"
      ]
     },
     "execution_count": 69,
     "metadata": {},
     "output_type": "execute_result"
    }
   ],
   "source": [
    "\"bipin.kalra@scaler.com\".isalpha()"
   ]
  },
  {
   "cell_type": "code",
   "execution_count": 71,
   "id": "ba541adf",
   "metadata": {},
   "outputs": [
    {
     "data": {
      "text/plain": [
       "True"
      ]
     },
     "execution_count": 71,
     "metadata": {},
     "output_type": "execute_result"
    }
   ],
   "source": [
    "\"bipin123\".isalnum() # Alphanumeric"
   ]
  },
  {
   "cell_type": "code",
   "execution_count": 72,
   "id": "8fc5e6a6",
   "metadata": {},
   "outputs": [
    {
     "data": {
      "text/plain": [
       "False"
      ]
     },
     "execution_count": 72,
     "metadata": {},
     "output_type": "execute_result"
    }
   ],
   "source": [
    "\"bipin.kalra@scaler.com\".isalnum()"
   ]
  },
  {
   "cell_type": "code",
   "execution_count": 73,
   "id": "f340ebc2",
   "metadata": {},
   "outputs": [
    {
     "data": {
      "text/plain": [
       "True"
      ]
     },
     "execution_count": 73,
     "metadata": {},
     "output_type": "execute_result"
    }
   ],
   "source": [
    "\"a\".islower()"
   ]
  },
  {
   "cell_type": "code",
   "execution_count": 74,
   "id": "66a9fd4e",
   "metadata": {},
   "outputs": [
    {
     "data": {
      "text/plain": [
       "False"
      ]
     },
     "execution_count": 74,
     "metadata": {},
     "output_type": "execute_result"
    }
   ],
   "source": [
    "\"A\".islower()"
   ]
  },
  {
   "cell_type": "code",
   "execution_count": 75,
   "id": "27110955",
   "metadata": {},
   "outputs": [
    {
     "data": {
      "text/plain": [
       "False"
      ]
     },
     "execution_count": 75,
     "metadata": {},
     "output_type": "execute_result"
    }
   ],
   "source": [
    "\"1\".islower()"
   ]
  },
  {
   "cell_type": "code",
   "execution_count": 76,
   "id": "a97b9ec9",
   "metadata": {},
   "outputs": [
    {
     "data": {
      "text/plain": [
       "False"
      ]
     },
     "execution_count": 76,
     "metadata": {},
     "output_type": "execute_result"
    }
   ],
   "source": [
    "\"1\".isupper()"
   ]
  },
  {
   "cell_type": "code",
   "execution_count": 77,
   "id": "46ac3cac",
   "metadata": {},
   "outputs": [],
   "source": [
    "# cases only exist in alphabets and not in numbers"
   ]
  },
  {
   "cell_type": "code",
   "execution_count": 78,
   "id": "58bdc1d3",
   "metadata": {},
   "outputs": [
    {
     "data": {
      "text/plain": [
       "True"
      ]
     },
     "execution_count": 78,
     "metadata": {},
     "output_type": "execute_result"
    }
   ],
   "source": [
    "\"A\".isupper()"
   ]
  },
  {
   "cell_type": "code",
   "execution_count": 79,
   "id": "01e269d9",
   "metadata": {},
   "outputs": [
    {
     "data": {
      "text/plain": [
       "False"
      ]
     },
     "execution_count": 79,
     "metadata": {},
     "output_type": "execute_result"
    }
   ],
   "source": [
    "\"a\".isupper()"
   ]
  },
  {
   "cell_type": "code",
   "execution_count": 80,
   "id": "b9f06744",
   "metadata": {},
   "outputs": [
    {
     "data": {
      "text/plain": [
       "'this is a random string!'"
      ]
     },
     "execution_count": 80,
     "metadata": {},
     "output_type": "execute_result"
    }
   ],
   "source": [
    "\"THIS IS a randOM STring!\".lower()"
   ]
  },
  {
   "cell_type": "code",
   "execution_count": 81,
   "id": "f768e47d",
   "metadata": {},
   "outputs": [
    {
     "data": {
      "text/plain": [
       "'THIS IS A RANDOM STRING!'"
      ]
     },
     "execution_count": 81,
     "metadata": {},
     "output_type": "execute_result"
    }
   ],
   "source": [
    "\"THIS IS a randOM STring!\".upper()"
   ]
  },
  {
   "cell_type": "code",
   "execution_count": 82,
   "id": "035c6861",
   "metadata": {},
   "outputs": [
    {
     "data": {
      "text/plain": [
       "True"
      ]
     },
     "execution_count": 82,
     "metadata": {},
     "output_type": "execute_result"
    }
   ],
   "source": [
    "\" \".isspace()"
   ]
  },
  {
   "cell_type": "code",
   "execution_count": 83,
   "id": "69a48daa",
   "metadata": {},
   "outputs": [
    {
     "data": {
      "text/plain": [
       "'\\nQuestion 1 - \\n1. Take a string as input.\\n2. Replace all spaces with underscore. You can use isspace.\\n'"
      ]
     },
     "execution_count": 83,
     "metadata": {},
     "output_type": "execute_result"
    }
   ],
   "source": [
    "'''\n",
    "Question 1 - \n",
    "1. Take a string as input.\n",
    "2. Replace all spaces with underscore. You can use isspace.\n",
    "'''"
   ]
  },
  {
   "cell_type": "code",
   "execution_count": 84,
   "id": "21cb1ba3",
   "metadata": {},
   "outputs": [],
   "source": [
    "def change_character(a, character_old, character_new):\n",
    "    result = \"\"\n",
    "    \n",
    "    for i in a:\n",
    "        if i == character_old:\n",
    "            result += character_new\n",
    "        else:\n",
    "            result += i\n",
    "            \n",
    "    return result"
   ]
  },
  {
   "cell_type": "code",
   "execution_count": 85,
   "id": "2d048874",
   "metadata": {},
   "outputs": [
    {
     "data": {
      "text/plain": [
       "'thiR iR a Rtring!'"
      ]
     },
     "execution_count": 85,
     "metadata": {},
     "output_type": "execute_result"
    }
   ],
   "source": [
    "change_character(\"this is a string!\", \"s\", \"R\")"
   ]
  },
  {
   "cell_type": "code",
   "execution_count": 86,
   "id": "28af7390",
   "metadata": {},
   "outputs": [],
   "source": [
    "a = \"this is a random string!\""
   ]
  },
  {
   "cell_type": "code",
   "execution_count": 87,
   "id": "a469d6fa",
   "metadata": {},
   "outputs": [
    {
     "data": {
      "text/plain": [
       "10"
      ]
     },
     "execution_count": 87,
     "metadata": {},
     "output_type": "execute_result"
    }
   ],
   "source": [
    "a.find(\"random\")"
   ]
  },
  {
   "cell_type": "code",
   "execution_count": 88,
   "id": "5d2e9b54",
   "metadata": {},
   "outputs": [],
   "source": [
    "new_string = a[:10] + \"SUPERB\" + a[a.find(\"random\") + len(\"random\"):]"
   ]
  },
  {
   "cell_type": "code",
   "execution_count": 89,
   "id": "da01cce1",
   "metadata": {},
   "outputs": [
    {
     "data": {
      "text/plain": [
       "'this is a SUPERB string!'"
      ]
     },
     "execution_count": 89,
     "metadata": {},
     "output_type": "execute_result"
    }
   ],
   "source": [
    "new_string"
   ]
  },
  {
   "cell_type": "code",
   "execution_count": 90,
   "id": "0ec0394f",
   "metadata": {},
   "outputs": [],
   "source": [
    "def custom_replace(a, string_old, string_new):\n",
    "    index = a.find(string_old)\n",
    "    \n",
    "    while index != -1:\n",
    "        a = a[:index] + string_new + a[index + len(string_old):]\n",
    "        \n",
    "        index = a.find(string_old)\n",
    "        \n",
    "    return a"
   ]
  },
  {
   "cell_type": "code",
   "execution_count": 91,
   "id": "8640ea69",
   "metadata": {},
   "outputs": [
    {
     "data": {
      "text/plain": [
       "'this is AMAZING, very AMAZING, super AMAZING!'"
      ]
     },
     "execution_count": 91,
     "metadata": {},
     "output_type": "execute_result"
    }
   ],
   "source": [
    "custom_replace(\"this is random, very random, super random!\", \"random\", \"AMAZING\")"
   ]
  },
  {
   "cell_type": "markdown",
   "id": "01b9a20a",
   "metadata": {},
   "source": [
    "# Glossary of string methods\n",
    "\n",
    "1. __split__ -> `\"this is a string\".split(\" \")` -> string to a list\n",
    "\n",
    "2. __join__ -> `\" \".join([\"list\", \"of\", \"strings\"])` -> list of strings to a string\n",
    "\n",
    "3. __replace__ -> `\"this is a string\".replace(\" \", \"_\")` -> replaces all occurences of the first character by the second character. __IMP__ - _CREATES A NEW STRING_\n",
    "\n",
    "4. __find__ -> `\"this is a string\".find(\" a \")` -> Finds the exact sequence or substring in the original string and returns the starting index of that substring.\n",
    "\n",
    "5. __count__ -> `\"this is a string\".count(\"a\")` -> Counts the number of times a character or substring is present within a string\n",
    "\n",
    "6. __isdigit__ -> True if content inside the string is only digits.\n",
    "7. __isalpha__ -> True if content inside the string is only alphabets.\n",
    "8. __islower__ / __isupper__ -> True if content inside the string is all lower case / all upper case\n",
    "9. __isspace__ -> True if the character is a space\n",
    "10. __lower__ / __upper__ -> Converts a string to lowercase / uppercase\n",
    "\n",
    "__Special Mention__\n",
    "- `\"random\" in \"this is random!\"` -> MEMBERSHIP OPERATOR - True if operand1 is present inside operand2."
   ]
  },
  {
   "cell_type": "code",
   "execution_count": 92,
   "id": "df23a723",
   "metadata": {},
   "outputs": [],
   "source": [
    "# Mutable -> Changeable\n",
    "# Immutable -> Can't be changed"
   ]
  },
  {
   "cell_type": "code",
   "execution_count": 93,
   "id": "33bfe361",
   "metadata": {},
   "outputs": [],
   "source": [
    "a = 56"
   ]
  },
  {
   "cell_type": "code",
   "execution_count": 94,
   "id": "c813da1c",
   "metadata": {},
   "outputs": [],
   "source": [
    "a = 65"
   ]
  },
  {
   "cell_type": "code",
   "execution_count": 95,
   "id": "386dd498",
   "metadata": {},
   "outputs": [],
   "source": [
    "a = 10"
   ]
  },
  {
   "cell_type": "code",
   "execution_count": 96,
   "id": "4353471b",
   "metadata": {},
   "outputs": [
    {
     "data": {
      "text/plain": [
       "140601660074576"
      ]
     },
     "execution_count": 96,
     "metadata": {},
     "output_type": "execute_result"
    }
   ],
   "source": [
    "id(a)"
   ]
  },
  {
   "cell_type": "code",
   "execution_count": 97,
   "id": "99fd4e1c",
   "metadata": {},
   "outputs": [],
   "source": [
    "a = 50"
   ]
  },
  {
   "cell_type": "code",
   "execution_count": 98,
   "id": "325d18bc",
   "metadata": {},
   "outputs": [
    {
     "data": {
      "text/plain": [
       "140601660075856"
      ]
     },
     "execution_count": 98,
     "metadata": {},
     "output_type": "execute_result"
    }
   ],
   "source": [
    "id(a)"
   ]
  },
  {
   "cell_type": "code",
   "execution_count": 99,
   "id": "db99941e",
   "metadata": {},
   "outputs": [],
   "source": [
    "a = \"string\""
   ]
  },
  {
   "cell_type": "code",
   "execution_count": 100,
   "id": "a9a15ee4",
   "metadata": {},
   "outputs": [
    {
     "data": {
      "text/plain": [
       "140601660979184"
      ]
     },
     "execution_count": 100,
     "metadata": {},
     "output_type": "execute_result"
    }
   ],
   "source": [
    "id(a)"
   ]
  },
  {
   "cell_type": "code",
   "execution_count": 101,
   "id": "b567c1b3",
   "metadata": {},
   "outputs": [],
   "source": [
    "a = \"random\""
   ]
  },
  {
   "cell_type": "code",
   "execution_count": 102,
   "id": "73c49946",
   "metadata": {},
   "outputs": [
    {
     "data": {
      "text/plain": [
       "140601930322544"
      ]
     },
     "execution_count": 102,
     "metadata": {},
     "output_type": "execute_result"
    }
   ],
   "source": [
    "id(a)"
   ]
  },
  {
   "cell_type": "code",
   "execution_count": 109,
   "id": "4061c832",
   "metadata": {},
   "outputs": [],
   "source": [
    "a = [1,2,3,4,5]"
   ]
  },
  {
   "cell_type": "code",
   "execution_count": 110,
   "id": "5116367c",
   "metadata": {},
   "outputs": [
    {
     "data": {
      "text/plain": [
       "140601541486464"
      ]
     },
     "execution_count": 110,
     "metadata": {},
     "output_type": "execute_result"
    }
   ],
   "source": [
    "id(a)"
   ]
  },
  {
   "cell_type": "code",
   "execution_count": 111,
   "id": "59f613d5",
   "metadata": {},
   "outputs": [],
   "source": [
    "a[0] = 10"
   ]
  },
  {
   "cell_type": "code",
   "execution_count": 112,
   "id": "eab2f65c",
   "metadata": {},
   "outputs": [
    {
     "data": {
      "text/plain": [
       "[10, 2, 3, 4, 5]"
      ]
     },
     "execution_count": 112,
     "metadata": {},
     "output_type": "execute_result"
    }
   ],
   "source": [
    "a"
   ]
  },
  {
   "cell_type": "code",
   "execution_count": 113,
   "id": "2d023ad1",
   "metadata": {
    "scrolled": true
   },
   "outputs": [
    {
     "data": {
      "text/plain": [
       "140601541486464"
      ]
     },
     "execution_count": 113,
     "metadata": {},
     "output_type": "execute_result"
    }
   ],
   "source": [
    "id(a)"
   ]
  },
  {
   "cell_type": "code",
   "execution_count": null,
   "id": "1dab95bf",
   "metadata": {},
   "outputs": [],
   "source": []
  }
 ],
 "metadata": {
  "kernelspec": {
   "display_name": "Python 3 (ipykernel)",
   "language": "python",
   "name": "python3"
  },
  "language_info": {
   "codemirror_mode": {
    "name": "ipython",
    "version": 3
   },
   "file_extension": ".py",
   "mimetype": "text/x-python",
   "name": "python",
   "nbconvert_exporter": "python",
   "pygments_lexer": "ipython3",
   "version": "3.9.5"
  }
 },
 "nbformat": 4,
 "nbformat_minor": 5
}
