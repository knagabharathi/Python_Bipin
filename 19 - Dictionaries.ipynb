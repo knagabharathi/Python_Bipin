{
 "cells": [
  {
   "cell_type": "code",
   "execution_count": 2,
   "id": "90963cde",
   "metadata": {},
   "outputs": [],
   "source": [
    "d = {\n",
    "    \"key1\" : \"value1\",\n",
    "    \"key2\" : \"value2\"\n",
    "}\n",
    "\n",
    "# HETERGENEITY TOWARDS THE END OF THE LECTURE"
   ]
  },
  {
   "cell_type": "code",
   "execution_count": 4,
   "id": "3bf95f3a",
   "metadata": {},
   "outputs": [],
   "source": [
    "# Approach 1 -> List of tuples\n",
    "state_wise_data = [(\"Delhi\", 15), (\"Haryana\", 35), (\"UP\", 100)]"
   ]
  },
  {
   "cell_type": "code",
   "execution_count": 6,
   "id": "ae96fd01",
   "metadata": {},
   "outputs": [
    {
     "data": {
      "text/plain": [
       "15"
      ]
     },
     "execution_count": 6,
     "metadata": {},
     "output_type": "execute_result"
    }
   ],
   "source": [
    "state_wise_data[0][1]"
   ]
  },
  {
   "cell_type": "code",
   "execution_count": 8,
   "id": "d3f2328c",
   "metadata": {},
   "outputs": [],
   "source": [
    "# Approach 2 -> Dictionary\n",
    "state_wise_data = {\n",
    "    \"Delhi\" : 15,\n",
    "    \"Haryana\" : 35,\n",
    "    \"UP\" : 100\n",
    "}"
   ]
  },
  {
   "cell_type": "code",
   "execution_count": 9,
   "id": "171a1b8a",
   "metadata": {},
   "outputs": [
    {
     "data": {
      "text/plain": [
       "15"
      ]
     },
     "execution_count": 9,
     "metadata": {},
     "output_type": "execute_result"
    }
   ],
   "source": [
    "state_wise_data[\"Delhi\"]"
   ]
  },
  {
   "cell_type": "code",
   "execution_count": 10,
   "id": "c5c25f65",
   "metadata": {},
   "outputs": [
    {
     "data": {
      "text/plain": [
       "100"
      ]
     },
     "execution_count": 10,
     "metadata": {},
     "output_type": "execute_result"
    }
   ],
   "source": [
    "state_wise_data[\"UP\"]"
   ]
  },
  {
   "cell_type": "code",
   "execution_count": 11,
   "id": "07ec1264",
   "metadata": {},
   "outputs": [],
   "source": [
    "# Similar to sets, dictionaries do not have numerical indexes\n",
    "# Dictionaries are subscriptable via keys"
   ]
  },
  {
   "cell_type": "code",
   "execution_count": 12,
   "id": "eb4e5768",
   "metadata": {},
   "outputs": [
    {
     "ename": "KeyError",
     "evalue": "0",
     "output_type": "error",
     "traceback": [
      "\u001b[0;31m---------------------------------------------------------------------------\u001b[0m",
      "\u001b[0;31mKeyError\u001b[0m                                  Traceback (most recent call last)",
      "Cell \u001b[0;32mIn[12], line 1\u001b[0m\n\u001b[0;32m----> 1\u001b[0m \u001b[43mstate_wise_data\u001b[49m\u001b[43m[\u001b[49m\u001b[38;5;241;43m0\u001b[39;49m\u001b[43m]\u001b[49m\n",
      "\u001b[0;31mKeyError\u001b[0m: 0"
     ]
    }
   ],
   "source": [
    "state_wise_data[0]"
   ]
  },
  {
   "cell_type": "code",
   "execution_count": 14,
   "id": "5089e3c6",
   "metadata": {},
   "outputs": [
    {
     "ename": "AttributeError",
     "evalue": "'dict' object has no attribute 'Delhi'",
     "output_type": "error",
     "traceback": [
      "\u001b[0;31m---------------------------------------------------------------------------\u001b[0m",
      "\u001b[0;31mAttributeError\u001b[0m                            Traceback (most recent call last)",
      "Cell \u001b[0;32mIn[14], line 1\u001b[0m\n\u001b[0;32m----> 1\u001b[0m \u001b[43mstate_wise_data\u001b[49m\u001b[38;5;241;43m.\u001b[39;49m\u001b[43mDelhi\u001b[49m \u001b[38;5;66;03m# This does not work in PYTHON\u001b[39;00m\n",
      "\u001b[0;31mAttributeError\u001b[0m: 'dict' object has no attribute 'Delhi'"
     ]
    }
   ],
   "source": [
    "state_wise_data.Delhi # This does not work in PYTHON"
   ]
  },
  {
   "cell_type": "code",
   "execution_count": 15,
   "id": "9331a96a",
   "metadata": {},
   "outputs": [],
   "source": [
    "a = {}"
   ]
  },
  {
   "cell_type": "code",
   "execution_count": 16,
   "id": "8dd826cf",
   "metadata": {},
   "outputs": [
    {
     "data": {
      "text/plain": [
       "dict"
      ]
     },
     "execution_count": 16,
     "metadata": {},
     "output_type": "execute_result"
    }
   ],
   "source": [
    "type(a)"
   ]
  },
  {
   "cell_type": "code",
   "execution_count": 17,
   "id": "45b559bb",
   "metadata": {},
   "outputs": [],
   "source": [
    "# KEYS ARE ALWAYS UNIQUE"
   ]
  },
  {
   "cell_type": "code",
   "execution_count": 22,
   "id": "ccd79e1c",
   "metadata": {},
   "outputs": [],
   "source": [
    "a = {\n",
    "    \"Delhi\" : 15,\n",
    "    \"Delhi\" : 10,\n",
    "    \"Delhi\" : 30,\n",
    "    \"Haryana\" : 35,\n",
    "    \"UP\" : 100,\n",
    "    \"Delhi\" : 20\n",
    "}"
   ]
  },
  {
   "cell_type": "code",
   "execution_count": 23,
   "id": "1871b100",
   "metadata": {},
   "outputs": [
    {
     "data": {
      "text/plain": [
       "{'Delhi': 20, 'Haryana': 35, 'UP': 100}"
      ]
     },
     "execution_count": 23,
     "metadata": {},
     "output_type": "execute_result"
    }
   ],
   "source": [
    "a # Keys will never be repeated!\n",
    "# PYTHON CONSIDERED THE LAST AVAILABLE VALUE"
   ]
  },
  {
   "cell_type": "code",
   "execution_count": 24,
   "id": "ec99b09b",
   "metadata": {},
   "outputs": [],
   "source": [
    "# ADDING MORE KEY VALUE PAIRS"
   ]
  },
  {
   "cell_type": "code",
   "execution_count": 25,
   "id": "bb1ca367",
   "metadata": {},
   "outputs": [],
   "source": [
    "a[\"Maharashtra\"] = 80"
   ]
  },
  {
   "cell_type": "code",
   "execution_count": 26,
   "id": "1dd53a9d",
   "metadata": {},
   "outputs": [
    {
     "data": {
      "text/plain": [
       "{'Delhi': 20, 'Haryana': 35, 'UP': 100, 'Maharashtra': 80}"
      ]
     },
     "execution_count": 26,
     "metadata": {},
     "output_type": "execute_result"
    }
   ],
   "source": [
    "a"
   ]
  },
  {
   "cell_type": "code",
   "execution_count": 27,
   "id": "acdf23ad",
   "metadata": {},
   "outputs": [],
   "source": [
    "a[\"delhi\"] = 35"
   ]
  },
  {
   "cell_type": "code",
   "execution_count": 28,
   "id": "a5e73ff9",
   "metadata": {},
   "outputs": [
    {
     "data": {
      "text/plain": [
       "20"
      ]
     },
     "execution_count": 28,
     "metadata": {},
     "output_type": "execute_result"
    }
   ],
   "source": [
    "a[\"Delhi\"]"
   ]
  },
  {
   "cell_type": "code",
   "execution_count": 29,
   "id": "bc1f770d",
   "metadata": {},
   "outputs": [
    {
     "data": {
      "text/plain": [
       "{'Delhi': 20, 'Haryana': 35, 'UP': 100, 'Maharashtra': 80, 'delhi': 35}"
      ]
     },
     "execution_count": 29,
     "metadata": {},
     "output_type": "execute_result"
    }
   ],
   "source": [
    "a"
   ]
  },
  {
   "cell_type": "code",
   "execution_count": 30,
   "id": "93311ca6",
   "metadata": {},
   "outputs": [
    {
     "data": {
      "text/plain": [
       "'\\nHETEROGENEITY ->\\n    - Keys -> Strings (Corrected Later)\\n    - Values -> Any Python Object\\n'"
      ]
     },
     "execution_count": 30,
     "metadata": {},
     "output_type": "execute_result"
    }
   ],
   "source": [
    "'''\n",
    "HETEROGENEITY (INCORRECT!) ->\n",
    "    - Keys -> Strings (Corrected Later)\n",
    "    - Values -> Any Python Object\n",
    "'''"
   ]
  },
  {
   "cell_type": "code",
   "execution_count": 31,
   "id": "05987930",
   "metadata": {},
   "outputs": [],
   "source": [
    "Avenger = {\n",
    "    \"name\" : \"Thor\",\n",
    "    \"age\" : 1500,\n",
    "    \"weapon\" : [\"stormbreaker\", \"mjolnir\"]\n",
    "}"
   ]
  },
  {
   "cell_type": "code",
   "execution_count": 32,
   "id": "97eece04",
   "metadata": {},
   "outputs": [],
   "source": [
    "Avenger.update({\n",
    "    \"name\" : \"Thor Odinson\",\n",
    "    \"weapon\" : [\"stormbreaker\"],\n",
    "    \"strongest?\" : True,\n",
    "    \"eyes\" : 1\n",
    "})"
   ]
  },
  {
   "cell_type": "code",
   "execution_count": 33,
   "id": "340f465d",
   "metadata": {},
   "outputs": [
    {
     "data": {
      "text/plain": [
       "{'name': 'Thor Odinson',\n",
       " 'age': 1500,\n",
       " 'weapon': ['stormbreaker'],\n",
       " 'strongest?': True,\n",
       " 'eyes': 1}"
      ]
     },
     "execution_count": 33,
     "metadata": {},
     "output_type": "execute_result"
    }
   ],
   "source": [
    "Avenger"
   ]
  },
  {
   "cell_type": "code",
   "execution_count": 34,
   "id": "0c4be25e",
   "metadata": {},
   "outputs": [],
   "source": [
    "random = {\n",
    "    \"a\" : 1,\n",
    "    \"b\" : 2,\n",
    "    \"c\" : 3,\n",
    "    \"d\" : None\n",
    "}"
   ]
  },
  {
   "cell_type": "code",
   "execution_count": 35,
   "id": "afacded1",
   "metadata": {},
   "outputs": [
    {
     "data": {
      "text/plain": [
       "2"
      ]
     },
     "execution_count": 35,
     "metadata": {},
     "output_type": "execute_result"
    }
   ],
   "source": [
    "random[\"b\"]"
   ]
  },
  {
   "cell_type": "code",
   "execution_count": 36,
   "id": "e97ac22c",
   "metadata": {},
   "outputs": [
    {
     "ename": "KeyError",
     "evalue": "'e'",
     "output_type": "error",
     "traceback": [
      "\u001b[0;31m---------------------------------------------------------------------------\u001b[0m",
      "\u001b[0;31mKeyError\u001b[0m                                  Traceback (most recent call last)",
      "Cell \u001b[0;32mIn[36], line 1\u001b[0m\n\u001b[0;32m----> 1\u001b[0m \u001b[43mrandom\u001b[49m\u001b[43m[\u001b[49m\u001b[38;5;124;43m\"\u001b[39;49m\u001b[38;5;124;43me\u001b[39;49m\u001b[38;5;124;43m\"\u001b[39;49m\u001b[43m]\u001b[49m\n",
      "\u001b[0;31mKeyError\u001b[0m: 'e'"
     ]
    }
   ],
   "source": [
    "random[\"e\"]"
   ]
  },
  {
   "cell_type": "code",
   "execution_count": 37,
   "id": "052a5540",
   "metadata": {},
   "outputs": [],
   "source": [
    "# GET FUNCTION!"
   ]
  },
  {
   "cell_type": "code",
   "execution_count": 38,
   "id": "878e1f02",
   "metadata": {},
   "outputs": [
    {
     "data": {
      "text/plain": [
       "2"
      ]
     },
     "execution_count": 38,
     "metadata": {},
     "output_type": "execute_result"
    }
   ],
   "source": [
    "random[\"b\"]"
   ]
  },
  {
   "cell_type": "code",
   "execution_count": 39,
   "id": "3cd67027",
   "metadata": {},
   "outputs": [
    {
     "data": {
      "text/plain": [
       "2"
      ]
     },
     "execution_count": 39,
     "metadata": {},
     "output_type": "execute_result"
    }
   ],
   "source": [
    "random.get(\"b\")"
   ]
  },
  {
   "cell_type": "code",
   "execution_count": 40,
   "id": "a2dfb367",
   "metadata": {},
   "outputs": [
    {
     "ename": "KeyError",
     "evalue": "'e'",
     "output_type": "error",
     "traceback": [
      "\u001b[0;31m---------------------------------------------------------------------------\u001b[0m",
      "\u001b[0;31mKeyError\u001b[0m                                  Traceback (most recent call last)",
      "Cell \u001b[0;32mIn[40], line 1\u001b[0m\n\u001b[0;32m----> 1\u001b[0m \u001b[43mrandom\u001b[49m\u001b[43m[\u001b[49m\u001b[38;5;124;43m\"\u001b[39;49m\u001b[38;5;124;43me\u001b[39;49m\u001b[38;5;124;43m\"\u001b[39;49m\u001b[43m]\u001b[49m\n",
      "\u001b[0;31mKeyError\u001b[0m: 'e'"
     ]
    }
   ],
   "source": [
    "random[\"e\"]"
   ]
  },
  {
   "cell_type": "code",
   "execution_count": 41,
   "id": "713d9e39",
   "metadata": {},
   "outputs": [],
   "source": [
    "result = random.get(\"e\")"
   ]
  },
  {
   "cell_type": "code",
   "execution_count": 44,
   "id": "7edd1a99",
   "metadata": {},
   "outputs": [
    {
     "name": "stdout",
     "output_type": "stream",
     "text": [
      "None\n"
     ]
    }
   ],
   "source": [
    "print(result) # Returns None instead of throwing error"
   ]
  },
  {
   "cell_type": "code",
   "execution_count": 50,
   "id": "95797f22",
   "metadata": {},
   "outputs": [
    {
     "data": {
      "text/plain": [
       "'Not Found!'"
      ]
     },
     "execution_count": 50,
     "metadata": {},
     "output_type": "execute_result"
    }
   ],
   "source": [
    "random.get(\"e\", \"Not Found!\") # Default value can be provided"
   ]
  },
  {
   "cell_type": "code",
   "execution_count": 51,
   "id": "751b7271",
   "metadata": {},
   "outputs": [
    {
     "data": {
      "text/plain": [
       "3"
      ]
     },
     "execution_count": 51,
     "metadata": {},
     "output_type": "execute_result"
    }
   ],
   "source": [
    "random.get(\"c\")"
   ]
  },
  {
   "cell_type": "code",
   "execution_count": 52,
   "id": "aee177f6",
   "metadata": {},
   "outputs": [
    {
     "data": {
      "text/plain": [
       "{'a': 1, 'b': 2, 'c': 3, 'd': None}"
      ]
     },
     "execution_count": 52,
     "metadata": {},
     "output_type": "execute_result"
    }
   ],
   "source": [
    "random"
   ]
  },
  {
   "cell_type": "code",
   "execution_count": 54,
   "id": "4be4b328",
   "metadata": {},
   "outputs": [],
   "source": [
    "# CRUD -> Create, Read, Update, Delete"
   ]
  },
  {
   "cell_type": "code",
   "execution_count": 55,
   "id": "7d7b32b6",
   "metadata": {},
   "outputs": [
    {
     "data": {
      "text/plain": [
       "{'a': 1, 'b': 2, 'c': 3, 'd': None}"
      ]
     },
     "execution_count": 55,
     "metadata": {},
     "output_type": "execute_result"
    }
   ],
   "source": [
    "random"
   ]
  },
  {
   "cell_type": "code",
   "execution_count": 56,
   "id": "bdab4dd2",
   "metadata": {},
   "outputs": [],
   "source": [
    "random.pop(\"d\")"
   ]
  },
  {
   "cell_type": "code",
   "execution_count": 57,
   "id": "09d1804a",
   "metadata": {},
   "outputs": [
    {
     "data": {
      "text/plain": [
       "{'a': 1, 'b': 2, 'c': 3}"
      ]
     },
     "execution_count": 57,
     "metadata": {},
     "output_type": "execute_result"
    }
   ],
   "source": [
    "random"
   ]
  },
  {
   "cell_type": "code",
   "execution_count": 58,
   "id": "76ebc04d",
   "metadata": {},
   "outputs": [
    {
     "data": {
      "text/plain": [
       "1"
      ]
     },
     "execution_count": 58,
     "metadata": {},
     "output_type": "execute_result"
    }
   ],
   "source": [
    "random.pop(\"a\")"
   ]
  },
  {
   "cell_type": "code",
   "execution_count": 59,
   "id": "09601555",
   "metadata": {},
   "outputs": [
    {
     "data": {
      "text/plain": [
       "{'b': 2, 'c': 3}"
      ]
     },
     "execution_count": 59,
     "metadata": {},
     "output_type": "execute_result"
    }
   ],
   "source": [
    "random"
   ]
  },
  {
   "cell_type": "code",
   "execution_count": 60,
   "id": "7fc96c0b",
   "metadata": {},
   "outputs": [
    {
     "ename": "TypeError",
     "evalue": "pop expected at least 1 argument, got 0",
     "output_type": "error",
     "traceback": [
      "\u001b[0;31m---------------------------------------------------------------------------\u001b[0m",
      "\u001b[0;31mTypeError\u001b[0m                                 Traceback (most recent call last)",
      "Cell \u001b[0;32mIn[60], line 1\u001b[0m\n\u001b[0;32m----> 1\u001b[0m \u001b[43mrandom\u001b[49m\u001b[38;5;241;43m.\u001b[39;49m\u001b[43mpop\u001b[49m\u001b[43m(\u001b[49m\u001b[43m)\u001b[49m\n",
      "\u001b[0;31mTypeError\u001b[0m: pop expected at least 1 argument, got 0"
     ]
    }
   ],
   "source": [
    "random.pop()"
   ]
  },
  {
   "cell_type": "code",
   "execution_count": 61,
   "id": "d08a6b4d",
   "metadata": {},
   "outputs": [
    {
     "data": {
      "text/plain": [
       "'\\nQuestion 1 - \\nGiven two dictionaries A and B, \\nWrite a python program to merge these dictionaries.\\n\\nExample -\\nA = {\\n    \"a\" : 4,\\n    \"b\" : 5,\\n    \"c\" : 6\\n}\\n\\nB = {\\n    \"b\" : 1,\\n    \"d\" : 20\\n}\\n\\nResult = {\\n    \"a\" : 4,\\n    \"b\" : 1,\\n    \"c\" : 6,\\n    \"d\" : 20\\n}\\n'"
      ]
     },
     "execution_count": 61,
     "metadata": {},
     "output_type": "execute_result"
    }
   ],
   "source": [
    "'''\n",
    "Question 1 - \n",
    "Given two dictionaries A and B, \n",
    "Write a python program to merge these dictionaries.\n",
    "\n",
    "Example -\n",
    "A = {\n",
    "    \"a\" : 4,\n",
    "    \"b\" : 5,\n",
    "    \"c\" : 6\n",
    "}\n",
    "\n",
    "B = {\n",
    "    \"b\" : 1,\n",
    "    \"d\" : 20\n",
    "}\n",
    "\n",
    "Result = {\n",
    "    \"a\" : 4,\n",
    "    \"b\" : 1,\n",
    "    \"c\" : 6,\n",
    "    \"d\" : 20\n",
    "}\n",
    "'''"
   ]
  },
  {
   "cell_type": "code",
   "execution_count": 67,
   "id": "df4a00f5",
   "metadata": {},
   "outputs": [],
   "source": [
    "A = {\n",
    "    \"a\" : 4,\n",
    "    \"b\" : 5,\n",
    "    \"c\" : 6\n",
    "}\n",
    "\n",
    "B = {\n",
    "    \"b\" : 1,\n",
    "    \"d\" : 20\n",
    "}"
   ]
  },
  {
   "cell_type": "code",
   "execution_count": 68,
   "id": "7d10276c",
   "metadata": {},
   "outputs": [],
   "source": [
    "A.update(B)\n",
    "\n",
    "# METHOD 1 -> Worst way!"
   ]
  },
  {
   "cell_type": "code",
   "execution_count": 69,
   "id": "9a1af4b3",
   "metadata": {},
   "outputs": [
    {
     "data": {
      "text/plain": [
       "{'a': 4, 'b': 1, 'c': 6, 'd': 20}"
      ]
     },
     "execution_count": 69,
     "metadata": {},
     "output_type": "execute_result"
    }
   ],
   "source": [
    "A"
   ]
  },
  {
   "cell_type": "code",
   "execution_count": 70,
   "id": "557aeb2c",
   "metadata": {},
   "outputs": [],
   "source": [
    "A = {\n",
    "    \"a\" : 4,\n",
    "    \"b\" : 5,\n",
    "    \"c\" : 6\n",
    "}\n",
    "\n",
    "B = {\n",
    "    \"b\" : 1,\n",
    "    \"d\" : 20\n",
    "}"
   ]
  },
  {
   "cell_type": "code",
   "execution_count": 71,
   "id": "c0d0e2c2",
   "metadata": {},
   "outputs": [],
   "source": [
    "result = {1,2,3} | {4,5,6}"
   ]
  },
  {
   "cell_type": "code",
   "execution_count": 72,
   "id": "4cfe501f",
   "metadata": {},
   "outputs": [
    {
     "data": {
      "text/plain": [
       "{1, 2, 3, 4, 5, 6}"
      ]
     },
     "execution_count": 72,
     "metadata": {},
     "output_type": "execute_result"
    }
   ],
   "source": [
    "result"
   ]
  },
  {
   "cell_type": "code",
   "execution_count": 85,
   "id": "58b7fce8",
   "metadata": {},
   "outputs": [],
   "source": [
    "result = A | B # UNION OPERATOR"
   ]
  },
  {
   "cell_type": "code",
   "execution_count": 86,
   "id": "1be92c23",
   "metadata": {},
   "outputs": [
    {
     "data": {
      "text/plain": [
       "{'a': 4, 'b': 1, 'c': 6, 'd': 20}"
      ]
     },
     "execution_count": 86,
     "metadata": {},
     "output_type": "execute_result"
    }
   ],
   "source": [
    "result"
   ]
  },
  {
   "cell_type": "code",
   "execution_count": 87,
   "id": "793cceb3",
   "metadata": {},
   "outputs": [],
   "source": [
    "result = { **A, **B} # SPREAD OPERATOR"
   ]
  },
  {
   "cell_type": "code",
   "execution_count": 88,
   "id": "427332b8",
   "metadata": {},
   "outputs": [
    {
     "data": {
      "text/plain": [
       "{'a': 4, 'b': 1, 'c': 6, 'd': 20}"
      ]
     },
     "execution_count": 88,
     "metadata": {},
     "output_type": "execute_result"
    }
   ],
   "source": [
    "result"
   ]
  },
  {
   "cell_type": "code",
   "execution_count": 89,
   "id": "3e23ae54",
   "metadata": {},
   "outputs": [],
   "source": [
    "# ITERATION IN A DICTIONARY"
   ]
  },
  {
   "cell_type": "code",
   "execution_count": 90,
   "id": "a2a387d5",
   "metadata": {},
   "outputs": [],
   "source": [
    "a = {\n",
    "    'name': 'Thor Odinson',\n",
    "    'age': 1500,\n",
    "    'weapon': ['stormbreaker'],\n",
    "    'strongest?': True,\n",
    "    'eyes': 1\n",
    "}"
   ]
  },
  {
   "cell_type": "code",
   "execution_count": 92,
   "id": "75ec817d",
   "metadata": {},
   "outputs": [
    {
     "name": "stdout",
     "output_type": "stream",
     "text": [
      "name\n",
      "age\n",
      "weapon\n",
      "strongest?\n",
      "eyes\n"
     ]
    }
   ],
   "source": [
    "for i in a: # for loop goes over the keys by default\n",
    "    print(i)"
   ]
  },
  {
   "cell_type": "code",
   "execution_count": 94,
   "id": "8c9c7b1a",
   "metadata": {},
   "outputs": [
    {
     "name": "stdout",
     "output_type": "stream",
     "text": [
      "Thor Odinson\n",
      "1500\n",
      "['stormbreaker']\n",
      "True\n",
      "1\n"
     ]
    }
   ],
   "source": [
    "for i in a: # to go over the values\n",
    "    print(a[i])"
   ]
  },
  {
   "cell_type": "code",
   "execution_count": 95,
   "id": "62ad6ef1",
   "metadata": {},
   "outputs": [
    {
     "name": "stdout",
     "output_type": "stream",
     "text": [
      "name -> Thor Odinson\n",
      "age -> 1500\n",
      "weapon -> ['stormbreaker']\n",
      "strongest? -> True\n",
      "eyes -> 1\n"
     ]
    }
   ],
   "source": [
    "for i in a:\n",
    "    print(f\"{i} -> {a[i]}\")"
   ]
  },
  {
   "cell_type": "code",
   "execution_count": 96,
   "id": "77be15d0",
   "metadata": {},
   "outputs": [
    {
     "name": "stdout",
     "output_type": "stream",
     "text": [
      "name\n",
      "age\n",
      "weapon\n",
      "strongest?\n",
      "eyes\n"
     ]
    }
   ],
   "source": [
    "for i in a.keys():\n",
    "    print(i)"
   ]
  },
  {
   "cell_type": "code",
   "execution_count": 97,
   "id": "c15d3841",
   "metadata": {},
   "outputs": [
    {
     "data": {
      "text/plain": [
       "['name', 'age', 'weapon', 'strongest?', 'eyes']"
      ]
     },
     "execution_count": 97,
     "metadata": {},
     "output_type": "execute_result"
    }
   ],
   "source": [
    "list(a.keys())"
   ]
  },
  {
   "cell_type": "code",
   "execution_count": 100,
   "id": "72a74460",
   "metadata": {},
   "outputs": [
    {
     "data": {
      "text/plain": [
       "False"
      ]
     },
     "execution_count": 100,
     "metadata": {},
     "output_type": "execute_result"
    }
   ],
   "source": [
    "\"RANDOM\" in a.keys() # Checking whether a key is present or not"
   ]
  },
  {
   "cell_type": "code",
   "execution_count": 101,
   "id": "ae260cc3",
   "metadata": {},
   "outputs": [
    {
     "name": "stdout",
     "output_type": "stream",
     "text": [
      "Thor Odinson\n",
      "1500\n",
      "['stormbreaker']\n",
      "True\n",
      "1\n"
     ]
    }
   ],
   "source": [
    "for i in a.values():\n",
    "    print(i)"
   ]
  },
  {
   "cell_type": "code",
   "execution_count": 103,
   "id": "609c0bfa",
   "metadata": {},
   "outputs": [
    {
     "name": "stdout",
     "output_type": "stream",
     "text": [
      "name -> Thor Odinson\n",
      "age -> 1500\n",
      "weapon -> ['stormbreaker']\n",
      "strongest? -> True\n",
      "eyes -> 1\n"
     ]
    }
   ],
   "source": [
    "for key, value in a.items():\n",
    "    print(f\"{key} -> {value}\")"
   ]
  },
  {
   "cell_type": "code",
   "execution_count": 104,
   "id": "82fa9264",
   "metadata": {},
   "outputs": [
    {
     "name": "stdout",
     "output_type": "stream",
     "text": [
      "name -> Thor Odinson\n",
      "age -> 1500\n",
      "weapon -> ['stormbreaker']\n",
      "strongest? -> True\n",
      "eyes -> 1\n"
     ]
    }
   ],
   "source": [
    "for i in a:\n",
    "    print(f\"{i} -> {a[i]}\")"
   ]
  },
  {
   "cell_type": "code",
   "execution_count": 105,
   "id": "e704fc71",
   "metadata": {},
   "outputs": [
    {
     "data": {
      "text/plain": [
       "False"
      ]
     },
     "execution_count": 105,
     "metadata": {},
     "output_type": "execute_result"
    }
   ],
   "source": [
    "\"RANDOM\" in a.keys()"
   ]
  },
  {
   "cell_type": "code",
   "execution_count": 106,
   "id": "6958346d",
   "metadata": {},
   "outputs": [
    {
     "data": {
      "text/plain": [
       "True"
      ]
     },
     "execution_count": 106,
     "metadata": {},
     "output_type": "execute_result"
    }
   ],
   "source": [
    "\"name\" in a.keys()"
   ]
  },
  {
   "cell_type": "code",
   "execution_count": 107,
   "id": "ad3f93cb",
   "metadata": {},
   "outputs": [
    {
     "data": {
      "text/plain": [
       "True"
      ]
     },
     "execution_count": 107,
     "metadata": {},
     "output_type": "execute_result"
    }
   ],
   "source": [
    "\"eyes\" in a"
   ]
  },
  {
   "cell_type": "code",
   "execution_count": 108,
   "id": "1c57121c",
   "metadata": {},
   "outputs": [
    {
     "data": {
      "text/plain": [
       "True"
      ]
     },
     "execution_count": 108,
     "metadata": {},
     "output_type": "execute_result"
    }
   ],
   "source": [
    "\"strongest?\" in a"
   ]
  },
  {
   "cell_type": "code",
   "execution_count": 109,
   "id": "e0236e92",
   "metadata": {},
   "outputs": [
    {
     "data": {
      "text/plain": [
       "True"
      ]
     },
     "execution_count": 109,
     "metadata": {},
     "output_type": "execute_result"
    }
   ],
   "source": [
    "\"name\" in a"
   ]
  },
  {
   "cell_type": "code",
   "execution_count": 110,
   "id": "97fce72d",
   "metadata": {},
   "outputs": [
    {
     "data": {
      "text/plain": [
       "False"
      ]
     },
     "execution_count": 110,
     "metadata": {},
     "output_type": "execute_result"
    }
   ],
   "source": [
    "\"RANDOM\" in a"
   ]
  },
  {
   "cell_type": "code",
   "execution_count": 111,
   "id": "840f1cf8",
   "metadata": {},
   "outputs": [
    {
     "data": {
      "text/plain": [
       "'\\nQuestion 2 - \\n1. Take a string as input.\\n2. Create a dictionary acc to the following criteria - \\n- There will be one key value pair for each unique character - \\n- Key will be character and value will be the count of character inside the string\\n\\nINPUT - \"rrsssstttt\"\\nOUTPUT -\\n{\\n    \"r\": 2,\\n    \"s\": 4,\\n    \"t\": 4\\n}\\n'"
      ]
     },
     "execution_count": 111,
     "metadata": {},
     "output_type": "execute_result"
    }
   ],
   "source": [
    "'''\n",
    "Question 2 - \n",
    "1. Take a string as input.\n",
    "2. Create a dictionary acc to the following criteria - \n",
    "- There will be one key value pair for each unique character - \n",
    "- Key will be character and value will be the count of character inside the string\n",
    "\n",
    "INPUT - \"rrsssstttt\"\n",
    "OUTPUT -\n",
    "{\n",
    "    \"r\": 2,\n",
    "    \"s\": 4,\n",
    "    \"t\": 4\n",
    "}\n",
    "'''"
   ]
  },
  {
   "cell_type": "code",
   "execution_count": 112,
   "id": "122bb841",
   "metadata": {},
   "outputs": [],
   "source": [
    "a = \"rrsssstttt\""
   ]
  },
  {
   "cell_type": "code",
   "execution_count": 113,
   "id": "7ad22cdd",
   "metadata": {},
   "outputs": [],
   "source": [
    "set_a = set(a)"
   ]
  },
  {
   "cell_type": "code",
   "execution_count": 114,
   "id": "44c45d67",
   "metadata": {},
   "outputs": [
    {
     "data": {
      "text/plain": [
       "{'r', 's', 't'}"
      ]
     },
     "execution_count": 114,
     "metadata": {},
     "output_type": "execute_result"
    }
   ],
   "source": [
    "set_a"
   ]
  },
  {
   "cell_type": "code",
   "execution_count": 115,
   "id": "9bff00cd",
   "metadata": {},
   "outputs": [
    {
     "data": {
      "text/plain": [
       "2"
      ]
     },
     "execution_count": 115,
     "metadata": {},
     "output_type": "execute_result"
    }
   ],
   "source": [
    "a.count(\"r\")"
   ]
  },
  {
   "cell_type": "code",
   "execution_count": 116,
   "id": "6b5ea603",
   "metadata": {},
   "outputs": [],
   "source": [
    "def character_count(a):\n",
    "    unique_chars = set(a)\n",
    "    result = {}\n",
    "    \n",
    "    for i in unique_chars:\n",
    "        result[i] = a.count(i)\n",
    "        \n",
    "    return result"
   ]
  },
  {
   "cell_type": "code",
   "execution_count": 117,
   "id": "d0d7a365",
   "metadata": {},
   "outputs": [
    {
     "data": {
      "text/plain": [
       "{'t': 4, 's': 3, 'r': 2}"
      ]
     },
     "execution_count": 117,
     "metadata": {},
     "output_type": "execute_result"
    }
   ],
   "source": [
    "character_count(\"rrssstttt\")"
   ]
  },
  {
   "cell_type": "code",
   "execution_count": 120,
   "id": "1e999046",
   "metadata": {},
   "outputs": [],
   "source": [
    "def character_count_2(a):\n",
    "    result = {}\n",
    "    \n",
    "    for i in a:\n",
    "        if i in result:\n",
    "            result[i] += 1\n",
    "        else:\n",
    "            result[i] = 1\n",
    "            \n",
    "    return result"
   ]
  },
  {
   "cell_type": "code",
   "execution_count": 121,
   "id": "3c028be3",
   "metadata": {},
   "outputs": [
    {
     "data": {
      "text/plain": [
       "{'r': 2, 's': 3, 't': 4}"
      ]
     },
     "execution_count": 121,
     "metadata": {},
     "output_type": "execute_result"
    }
   ],
   "source": [
    "character_count_2(\"rrssstttt\")"
   ]
  },
  {
   "cell_type": "code",
   "execution_count": 122,
   "id": "5d3e9a6b",
   "metadata": {},
   "outputs": [
    {
     "data": {
      "text/plain": [
       "'\\nHETEROGENEITY ->\\n    - Keys -> Any immutable data structure (everything other than lists, sets and dictionaries)\\n    - Values -> Any Python Object\\n'"
      ]
     },
     "execution_count": 122,
     "metadata": {},
     "output_type": "execute_result"
    }
   ],
   "source": [
    "'''\n",
    "HETEROGENEITY ->\n",
    "    - Keys -> Any immutable data structure (everything other than lists, sets and dictionaries)\n",
    "    - Values -> Any Python Object\n",
    "'''"
   ]
  },
  {
   "cell_type": "code",
   "execution_count": 124,
   "id": "da46df0e",
   "metadata": {},
   "outputs": [],
   "source": [
    "random = {\n",
    "    \"key1\": [1,2,3],\n",
    "    \"key2\": {\n",
    "        (1,2,3): 45\n",
    "    },\n",
    "    45: \"number!\",\n",
    "    45.7: \"decimal!\",\n",
    "    True: {\"boolean!\"}\n",
    "}"
   ]
  },
  {
   "cell_type": "code",
   "execution_count": 125,
   "id": "da65f944",
   "metadata": {},
   "outputs": [
    {
     "ename": "TypeError",
     "evalue": "unhashable type: 'list'",
     "output_type": "error",
     "traceback": [
      "\u001b[0;31m---------------------------------------------------------------------------\u001b[0m",
      "\u001b[0;31mTypeError\u001b[0m                                 Traceback (most recent call last)",
      "Cell \u001b[0;32mIn[125], line 3\u001b[0m\n\u001b[1;32m      1\u001b[0m random \u001b[38;5;241m=\u001b[39m {\n\u001b[1;32m      2\u001b[0m     \u001b[38;5;124m\"\u001b[39m\u001b[38;5;124mkey1\u001b[39m\u001b[38;5;124m\"\u001b[39m: [\u001b[38;5;241m1\u001b[39m,\u001b[38;5;241m2\u001b[39m,\u001b[38;5;241m3\u001b[39m],\n\u001b[0;32m----> 3\u001b[0m     \u001b[38;5;124m\"\u001b[39m\u001b[38;5;124mkey2\u001b[39m\u001b[38;5;124m\"\u001b[39m: {\n\u001b[1;32m      4\u001b[0m         [\u001b[38;5;241m1\u001b[39m,\u001b[38;5;241m2\u001b[39m,\u001b[38;5;241m3\u001b[39m]: \u001b[38;5;241m45\u001b[39m\n\u001b[1;32m      5\u001b[0m     },\n\u001b[1;32m      6\u001b[0m     \u001b[38;5;241m45\u001b[39m: \u001b[38;5;124m\"\u001b[39m\u001b[38;5;124mnumber!\u001b[39m\u001b[38;5;124m\"\u001b[39m,\n\u001b[1;32m      7\u001b[0m     \u001b[38;5;241m45.7\u001b[39m: \u001b[38;5;124m\"\u001b[39m\u001b[38;5;124mdecimal!\u001b[39m\u001b[38;5;124m\"\u001b[39m,\n\u001b[1;32m      8\u001b[0m     \u001b[38;5;28;01mTrue\u001b[39;00m: {\u001b[38;5;124m\"\u001b[39m\u001b[38;5;124mboolean!\u001b[39m\u001b[38;5;124m\"\u001b[39m}\n\u001b[1;32m      9\u001b[0m }\n",
      "\u001b[0;31mTypeError\u001b[0m: unhashable type: 'list'"
     ]
    }
   ],
   "source": [
    "random = {\n",
    "    \"key1\": [1,2,3],\n",
    "    \"key2\": {\n",
    "        [1,2,3]: 45\n",
    "    },\n",
    "    45: \"number!\",\n",
    "    45.7: \"decimal!\",\n",
    "    True: {\"boolean!\"}\n",
    "}"
   ]
  },
  {
   "cell_type": "code",
   "execution_count": 126,
   "id": "a207818f",
   "metadata": {},
   "outputs": [],
   "source": [
    "empty_set = set()"
   ]
  },
  {
   "cell_type": "code",
   "execution_count": 127,
   "id": "a1ab4611",
   "metadata": {},
   "outputs": [],
   "source": [
    "empty_dictionary = {}"
   ]
  },
  {
   "cell_type": "code",
   "execution_count": 128,
   "id": "554ff833",
   "metadata": {},
   "outputs": [
    {
     "data": {
      "text/plain": [
       "set"
      ]
     },
     "execution_count": 128,
     "metadata": {},
     "output_type": "execute_result"
    }
   ],
   "source": [
    "type(empty_set)"
   ]
  },
  {
   "cell_type": "code",
   "execution_count": 129,
   "id": "727a9e34",
   "metadata": {},
   "outputs": [
    {
     "data": {
      "text/plain": [
       "dict"
      ]
     },
     "execution_count": 129,
     "metadata": {},
     "output_type": "execute_result"
    }
   ],
   "source": [
    "type(empty_dictionary)"
   ]
  },
  {
   "cell_type": "code",
   "execution_count": null,
   "id": "88c3dd56",
   "metadata": {},
   "outputs": [],
   "source": []
  }
 ],
 "metadata": {
  "kernelspec": {
   "display_name": "Python 3 (ipykernel)",
   "language": "python",
   "name": "python3"
  },
  "language_info": {
   "codemirror_mode": {
    "name": "ipython",
    "version": 3
   },
   "file_extension": ".py",
   "mimetype": "text/x-python",
   "name": "python",
   "nbconvert_exporter": "python",
   "pygments_lexer": "ipython3",
   "version": "3.9.5"
  }
 },
 "nbformat": 4,
 "nbformat_minor": 5
}
