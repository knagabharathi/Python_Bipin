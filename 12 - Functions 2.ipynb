{
 "cells": [
  {
   "cell_type": "code",
   "execution_count": 1,
   "id": "daeb059d",
   "metadata": {},
   "outputs": [],
   "source": [
    "def random(a):\n",
    "    print(a)"
   ]
  },
  {
   "cell_type": "code",
   "execution_count": 2,
   "id": "200adacc",
   "metadata": {},
   "outputs": [
    {
     "name": "stdout",
     "output_type": "stream",
     "text": [
      "45\n"
     ]
    }
   ],
   "source": [
    "random(45)"
   ]
  },
  {
   "cell_type": "code",
   "execution_count": 3,
   "id": "d3e5f853",
   "metadata": {},
   "outputs": [],
   "source": [
    "def random(a, b):\n",
    "    print(\"a ->\", a)\n",
    "    print(\"b ->\", b)"
   ]
  },
  {
   "cell_type": "code",
   "execution_count": 4,
   "id": "2fff296c",
   "metadata": {},
   "outputs": [
    {
     "name": "stdout",
     "output_type": "stream",
     "text": [
      "a -> 10\n",
      "b -> 20\n"
     ]
    }
   ],
   "source": [
    "random(10, 20)"
   ]
  },
  {
   "cell_type": "code",
   "execution_count": 5,
   "id": "eb4bb610",
   "metadata": {},
   "outputs": [],
   "source": [
    "def random1():\n",
    "    return True\n",
    "\n",
    "def random2():\n",
    "    print(True)"
   ]
  },
  {
   "cell_type": "code",
   "execution_count": 6,
   "id": "917c28e1",
   "metadata": {},
   "outputs": [
    {
     "name": "stdout",
     "output_type": "stream",
     "text": [
      "True\n"
     ]
    }
   ],
   "source": [
    "result1 = random1()\n",
    "result2 = random2()"
   ]
  },
  {
   "cell_type": "code",
   "execution_count": 8,
   "id": "694fa3d9",
   "metadata": {},
   "outputs": [
    {
     "name": "stdout",
     "output_type": "stream",
     "text": [
      "True\n"
     ]
    }
   ],
   "source": [
    "print(result1)"
   ]
  },
  {
   "cell_type": "code",
   "execution_count": 9,
   "id": "bc242ae6",
   "metadata": {},
   "outputs": [
    {
     "name": "stdout",
     "output_type": "stream",
     "text": [
      "None\n"
     ]
    }
   ],
   "source": [
    "print(result2) # A function that returns nothing returns None"
   ]
  },
  {
   "cell_type": "code",
   "execution_count": 12,
   "id": "f9de6bf1",
   "metadata": {},
   "outputs": [
    {
     "name": "stdout",
     "output_type": "stream",
     "text": [
      "15\n"
     ]
    },
    {
     "data": {
      "text/plain": [
       "'BIG'"
      ]
     },
     "execution_count": 12,
     "metadata": {},
     "output_type": "execute_result"
    }
   ],
   "source": [
    "a = int(input())\n",
    "\n",
    "def simple_function(a):\n",
    "    if a <= 10:\n",
    "        return \"small\"\n",
    "    else:\n",
    "        return \"BIG\"\n",
    "    \n",
    "simple_function(a)"
   ]
  },
  {
   "cell_type": "code",
   "execution_count": 16,
   "id": "4b441685",
   "metadata": {},
   "outputs": [],
   "source": [
    "def random():\n",
    "    print(\"Inside Function\")\n",
    "    return True # END OF THE FUNCTION\n",
    "    return False"
   ]
  },
  {
   "cell_type": "code",
   "execution_count": 17,
   "id": "cd522429",
   "metadata": {},
   "outputs": [
    {
     "name": "stdout",
     "output_type": "stream",
     "text": [
      "Inside Function\n"
     ]
    },
    {
     "data": {
      "text/plain": [
       "True"
      ]
     },
     "execution_count": 17,
     "metadata": {},
     "output_type": "execute_result"
    }
   ],
   "source": [
    "random()"
   ]
  },
  {
   "cell_type": "code",
   "execution_count": 22,
   "id": "a9ad5914",
   "metadata": {},
   "outputs": [],
   "source": [
    "def introduce_family(my_name, father_name, mother_name, sibling_name):\n",
    "    print(\"Me -\", my_name)\n",
    "    print(\"Father -\", father_name)\n",
    "    print(\"Mother -\", mother_name)\n",
    "    print(\"Sibling -\", sibling_name)"
   ]
  },
  {
   "cell_type": "code",
   "execution_count": 23,
   "id": "4fa8bca2",
   "metadata": {},
   "outputs": [
    {
     "name": "stdout",
     "output_type": "stream",
     "text": [
      "Me - Brad Pitt\n",
      "Father - Angelina Jolie\n",
      "Mother - Stormi\n",
      "Sibling - Bipin Kalra\n"
     ]
    }
   ],
   "source": [
    "# POSITIONAL ARGUMENTS\n",
    "introduce_family(\"Brad Pitt\", \"Angelina Jolie\", \"Stormi\", \"Bipin Kalra\")"
   ]
  },
  {
   "cell_type": "code",
   "execution_count": 24,
   "id": "f4d27d94",
   "metadata": {},
   "outputs": [
    {
     "name": "stdout",
     "output_type": "stream",
     "text": [
      "Me - Bipin Kalra\n",
      "Father - Brad Pitt\n",
      "Mother - Angelina Jolie\n",
      "Sibling - Stormi\n"
     ]
    }
   ],
   "source": [
    "# KEYWORDED ARGUMENTS\n",
    "introduce_family(\n",
    "    father_name = \"Brad Pitt\",\n",
    "    mother_name = \"Angelina Jolie\",\n",
    "    my_name = \"Bipin Kalra\",\n",
    "    sibling_name = \"Stormi\"\n",
    ")"
   ]
  },
  {
   "cell_type": "code",
   "execution_count": 25,
   "id": "385fa5dd",
   "metadata": {},
   "outputs": [],
   "source": [
    "def random(a, b, c, d):\n",
    "    print(\"a ->\", a)\n",
    "    print(\"b ->\", b)\n",
    "    print(\"c ->\", c)\n",
    "    print(\"d ->\", d)"
   ]
  },
  {
   "cell_type": "code",
   "execution_count": 26,
   "id": "eedf68c7",
   "metadata": {},
   "outputs": [
    {
     "name": "stdout",
     "output_type": "stream",
     "text": [
      "a -> 1\n",
      "b -> 2\n",
      "c -> 3\n",
      "d -> 4\n"
     ]
    }
   ],
   "source": [
    "random(1,2,3,4) # positional"
   ]
  },
  {
   "cell_type": "code",
   "execution_count": 27,
   "id": "28ebdc62",
   "metadata": {},
   "outputs": [
    {
     "name": "stdout",
     "output_type": "stream",
     "text": [
      "a -> 1\n",
      "b -> 2\n",
      "c -> 3\n",
      "d -> 4\n"
     ]
    }
   ],
   "source": [
    "random(b = 2, c = 3, d = 4, a = 1)"
   ]
  },
  {
   "cell_type": "code",
   "execution_count": 29,
   "id": "9462c885",
   "metadata": {},
   "outputs": [
    {
     "ename": "SyntaxError",
     "evalue": "positional argument follows keyword argument (1384326009.py, line 1)",
     "output_type": "error",
     "traceback": [
      "\u001b[0;36m  Cell \u001b[0;32mIn[29], line 1\u001b[0;36m\u001b[0m\n\u001b[0;31m    random(b = 2, c = 3, d = 4, 1)\u001b[0m\n\u001b[0m                                 ^\u001b[0m\n\u001b[0;31mSyntaxError\u001b[0m\u001b[0;31m:\u001b[0m positional argument follows keyword argument\n"
     ]
    }
   ],
   "source": [
    "random(b = 2, c = 3, d = 4, 1)\n",
    "# PYTHON DOES NOT ALLOW POSITIONAL ARGUMENTS FOLLOWING KEYWORDED ARGUMENTS"
   ]
  },
  {
   "cell_type": "code",
   "execution_count": 31,
   "id": "701d0cc5",
   "metadata": {},
   "outputs": [
    {
     "name": "stdout",
     "output_type": "stream",
     "text": [
      "a -> 1\n",
      "b -> 2\n",
      "c -> 3\n",
      "d -> 4\n"
     ]
    }
   ],
   "source": [
    "random(1, 2, d = 4, c = 3)\n",
    "# PYTHON ALLOWS POSITIONAL ARGUMENTS BEFORE KEYWORDED ARGUMENTS"
   ]
  },
  {
   "cell_type": "code",
   "execution_count": 32,
   "id": "7591ee86",
   "metadata": {},
   "outputs": [
    {
     "ename": "TypeError",
     "evalue": "random() got multiple values for argument 'a'",
     "output_type": "error",
     "traceback": [
      "\u001b[0;31m---------------------------------------------------------------------------\u001b[0m",
      "\u001b[0;31mTypeError\u001b[0m                                 Traceback (most recent call last)",
      "Cell \u001b[0;32mIn[32], line 1\u001b[0m\n\u001b[0;32m----> 1\u001b[0m \u001b[43mrandom\u001b[49m\u001b[43m(\u001b[49m\u001b[38;5;241;43m1\u001b[39;49m\u001b[43m,\u001b[49m\u001b[43m \u001b[49m\u001b[38;5;241;43m2\u001b[39;49m\u001b[43m,\u001b[49m\u001b[43m \u001b[49m\u001b[43ma\u001b[49m\u001b[43m \u001b[49m\u001b[38;5;241;43m=\u001b[39;49m\u001b[43m \u001b[49m\u001b[38;5;241;43m4\u001b[39;49m\u001b[43m,\u001b[49m\u001b[43m \u001b[49m\u001b[43mc\u001b[49m\u001b[43m \u001b[49m\u001b[38;5;241;43m=\u001b[39;49m\u001b[43m \u001b[49m\u001b[38;5;241;43m3\u001b[39;49m\u001b[43m)\u001b[49m\n",
      "\u001b[0;31mTypeError\u001b[0m: random() got multiple values for argument 'a'"
     ]
    }
   ],
   "source": [
    "random(1, 2, a = 4, c = 3)"
   ]
  },
  {
   "cell_type": "code",
   "execution_count": 33,
   "id": "41ceb5a8",
   "metadata": {},
   "outputs": [],
   "source": [
    "# Positional Arguments -> Keyworded Arguments"
   ]
  },
  {
   "cell_type": "code",
   "execution_count": 34,
   "id": "ef42ab1b",
   "metadata": {},
   "outputs": [],
   "source": [
    "def simple_interest(p, r, t):\n",
    "    interest = (p * r * t) / 100\n",
    "    \n",
    "    return interest"
   ]
  },
  {
   "cell_type": "code",
   "execution_count": 35,
   "id": "94e57df9",
   "metadata": {},
   "outputs": [
    {
     "data": {
      "text/plain": [
       "500.0"
      ]
     },
     "execution_count": 35,
     "metadata": {},
     "output_type": "execute_result"
    }
   ],
   "source": [
    "simple_interest(5000, 5, 2)"
   ]
  },
  {
   "cell_type": "code",
   "execution_count": 36,
   "id": "ac7751ca",
   "metadata": {},
   "outputs": [
    {
     "ename": "TypeError",
     "evalue": "simple_interest() missing 1 required positional argument: 't'",
     "output_type": "error",
     "traceback": [
      "\u001b[0;31m---------------------------------------------------------------------------\u001b[0m",
      "\u001b[0;31mTypeError\u001b[0m                                 Traceback (most recent call last)",
      "Cell \u001b[0;32mIn[36], line 1\u001b[0m\n\u001b[0;32m----> 1\u001b[0m \u001b[43msimple_interest\u001b[49m\u001b[43m(\u001b[49m\u001b[38;5;241;43m5000\u001b[39;49m\u001b[43m,\u001b[49m\u001b[43m \u001b[49m\u001b[38;5;241;43m5\u001b[39;49m\u001b[43m)\u001b[49m\n",
      "\u001b[0;31mTypeError\u001b[0m: simple_interest() missing 1 required positional argument: 't'"
     ]
    }
   ],
   "source": [
    "simple_interest(5000, 5)"
   ]
  },
  {
   "cell_type": "code",
   "execution_count": 38,
   "id": "f8c6a6b4",
   "metadata": {},
   "outputs": [],
   "source": [
    "# DEFAULT VALUES\n",
    "def simple_interest(p, r, t = 2):\n",
    "    interest = (p * r * t) / 100\n",
    "    \n",
    "    return interest"
   ]
  },
  {
   "cell_type": "code",
   "execution_count": 39,
   "id": "762545e1",
   "metadata": {},
   "outputs": [
    {
     "data": {
      "text/plain": [
       "1250.0"
      ]
     },
     "execution_count": 39,
     "metadata": {},
     "output_type": "execute_result"
    }
   ],
   "source": [
    "simple_interest(5000, 5, 5)"
   ]
  },
  {
   "cell_type": "code",
   "execution_count": 40,
   "id": "da8ae5d3",
   "metadata": {},
   "outputs": [
    {
     "data": {
      "text/plain": [
       "500.0"
      ]
     },
     "execution_count": 40,
     "metadata": {},
     "output_type": "execute_result"
    }
   ],
   "source": [
    "simple_interest(5000, 5) # default value for t will be used"
   ]
  },
  {
   "cell_type": "code",
   "execution_count": 41,
   "id": "d3667b3c",
   "metadata": {},
   "outputs": [
    {
     "ename": "SyntaxError",
     "evalue": "non-default argument follows default argument (2511213745.py, line 1)",
     "output_type": "error",
     "traceback": [
      "\u001b[0;36m  Cell \u001b[0;32mIn[41], line 1\u001b[0;36m\u001b[0m\n\u001b[0;31m    def simple_interest(p, r = 5, t):\u001b[0m\n\u001b[0m                                   ^\u001b[0m\n\u001b[0;31mSyntaxError\u001b[0m\u001b[0;31m:\u001b[0m non-default argument follows default argument\n"
     ]
    }
   ],
   "source": [
    "def simple_interest(p, r = 5, t):\n",
    "    interest = (p * r * t) / 100\n",
    "    \n",
    "    return interest"
   ]
  },
  {
   "cell_type": "code",
   "execution_count": 44,
   "id": "38844b7d",
   "metadata": {},
   "outputs": [],
   "source": [
    "def simple_interest(p, r = 5, t = 2):\n",
    "    interest = (p * r * t) / 100\n",
    "    \n",
    "    return interest"
   ]
  },
  {
   "cell_type": "code",
   "execution_count": 45,
   "id": "44c07645",
   "metadata": {},
   "outputs": [
    {
     "data": {
      "text/plain": [
       "1000.0"
      ]
     },
     "execution_count": 45,
     "metadata": {},
     "output_type": "execute_result"
    }
   ],
   "source": [
    "simple_interest(10000)"
   ]
  },
  {
   "cell_type": "code",
   "execution_count": 46,
   "id": "40726ecc",
   "metadata": {},
   "outputs": [
    {
     "data": {
      "text/plain": [
       "'\\nQuestion 1 - \\nCreate a date printing function - \\nShould take 4 arguments -> day, month, year and style\\n\\nStyling Logic - \\nstyle -> 0 -> d/m/y\\nstyle -> 1 -> m/d/y\\nstyle -> any other value -> Invalid Style\\n\\ndefault style is 0.\\n'"
      ]
     },
     "execution_count": 46,
     "metadata": {},
     "output_type": "execute_result"
    }
   ],
   "source": [
    "'''\n",
    "Question 1 - \n",
    "Create a date printing function - \n",
    "Should take 4 arguments -> day, month, year and style\n",
    "\n",
    "Styling Logic - \n",
    "style -> 0 -> d/m/y\n",
    "style -> 1 -> m/d/y\n",
    "style -> any other value -> Invalid Style\n",
    "\n",
    "default style is 0.\n",
    "'''"
   ]
  },
  {
   "cell_type": "code",
   "execution_count": 47,
   "id": "0a268936",
   "metadata": {},
   "outputs": [],
   "source": [
    "def print_date(day, month, year, style = 0):\n",
    "    if style == 0:\n",
    "        print(day, month, year, sep = \"/\")\n",
    "    elif style == 1:\n",
    "        print(month, day, year, sep = \"/\")\n",
    "    else:\n",
    "        print(\"INVALID STYLE!\")"
   ]
  },
  {
   "cell_type": "code",
   "execution_count": 48,
   "id": "8e60add5",
   "metadata": {},
   "outputs": [
    {
     "name": "stdout",
     "output_type": "stream",
     "text": [
      "5/11/1997\n"
     ]
    }
   ],
   "source": [
    "print_date(5,11,1997)"
   ]
  },
  {
   "cell_type": "code",
   "execution_count": 49,
   "id": "f33a6a98",
   "metadata": {},
   "outputs": [
    {
     "name": "stdout",
     "output_type": "stream",
     "text": [
      "11/5/1997\n"
     ]
    }
   ],
   "source": [
    "print_date(5,11,1997,1)"
   ]
  },
  {
   "cell_type": "code",
   "execution_count": 50,
   "id": "ca4bf932",
   "metadata": {},
   "outputs": [
    {
     "name": "stdout",
     "output_type": "stream",
     "text": [
      "INVALID STYLE!\n"
     ]
    }
   ],
   "source": [
    "print_date(5,11,1997,15)"
   ]
  },
  {
   "cell_type": "code",
   "execution_count": 51,
   "id": "87546968",
   "metadata": {},
   "outputs": [],
   "source": [
    "# SCOPE"
   ]
  },
  {
   "cell_type": "code",
   "execution_count": 52,
   "id": "b2fe3482",
   "metadata": {},
   "outputs": [
    {
     "name": "stdout",
     "output_type": "stream",
     "text": [
      "Chief of the house is Mother\n",
      "New chief of the house is Father\n"
     ]
    }
   ],
   "source": [
    "chief_of_house = \"Mother\" # global variable\n",
    "\n",
    "print(\"Chief of the house is\", chief_of_house)\n",
    "\n",
    "def change_chief():\n",
    "    chief_of_house = \"Father\" # local variable\n",
    "    print(\"New chief of the house is\", chief_of_house)\n",
    "    \n",
    "change_chief()"
   ]
  },
  {
   "cell_type": "code",
   "execution_count": 53,
   "id": "6281930e",
   "metadata": {},
   "outputs": [
    {
     "name": "stdout",
     "output_type": "stream",
     "text": [
      "Mother\n"
     ]
    }
   ],
   "source": [
    "print(chief_of_house)"
   ]
  },
  {
   "cell_type": "code",
   "execution_count": 55,
   "id": "3f7646ca",
   "metadata": {},
   "outputs": [
    {
     "name": "stdout",
     "output_type": "stream",
     "text": [
      "10\n",
      "20\n"
     ]
    }
   ],
   "source": [
    "x = 10\n",
    "\n",
    "def random():\n",
    "    print(x) # No local variable 'x', thus global value is used\n",
    "    \n",
    "def random1():\n",
    "    print(x + 10)\n",
    "    \n",
    "random()\n",
    "random1()"
   ]
  },
  {
   "cell_type": "code",
   "execution_count": 56,
   "id": "42895beb",
   "metadata": {},
   "outputs": [],
   "source": [
    "x = 10 \n",
    "\n",
    "def random():\n",
    "    x = 5\n",
    "    print(x)"
   ]
  },
  {
   "cell_type": "code",
   "execution_count": 57,
   "id": "0d9f0b9b",
   "metadata": {},
   "outputs": [
    {
     "name": "stdout",
     "output_type": "stream",
     "text": [
      "5\n"
     ]
    }
   ],
   "source": [
    "random()"
   ]
  },
  {
   "cell_type": "code",
   "execution_count": 58,
   "id": "64738fdc",
   "metadata": {},
   "outputs": [
    {
     "data": {
      "text/plain": [
       "'\\nTrying to access global scope from local -> POSSIBLE\\nTrying to access local scope from global -> NOT POSSIBLE\\n\\nIN LOCAL SCOPE -> \\n    - Priority 1 -> Local Variable\\n    - Priority 2 -> Global Variable\\n'"
      ]
     },
     "execution_count": 58,
     "metadata": {},
     "output_type": "execute_result"
    }
   ],
   "source": [
    "'''\n",
    "Trying to access global scope from local -> POSSIBLE\n",
    "Trying to access local scope from global -> NOT POSSIBLE\n",
    "\n",
    "IN LOCAL SCOPE -> \n",
    "    - Priority 1 -> Local Variable\n",
    "    - Priority 2 -> Global Variable\n",
    "'''"
   ]
  },
  {
   "cell_type": "code",
   "execution_count": 59,
   "id": "2edd6a66",
   "metadata": {},
   "outputs": [
    {
     "name": "stdout",
     "output_type": "stream",
     "text": [
      "Inside random1 - 50\n",
      "Inside random2 - 10\n",
      "Outside - 10\n"
     ]
    }
   ],
   "source": [
    "a = 10 # Global Variable\n",
    "\n",
    "def random1():\n",
    "    a = 50 # Local Variable\n",
    "    print(\"Inside random1 -\", a)\n",
    "    \n",
    "def random2():\n",
    "    print(\"Inside random2 -\", a)\n",
    "    \n",
    "random1()\n",
    "random2()\n",
    "print(\"Outside -\", a)"
   ]
  },
  {
   "cell_type": "code",
   "execution_count": 60,
   "id": "416c26c0",
   "metadata": {},
   "outputs": [
    {
     "name": "stdout",
     "output_type": "stream",
     "text": [
      "20\n",
      "20\n"
     ]
    }
   ],
   "source": [
    "a = 10\n",
    "\n",
    "def random():\n",
    "    global a\n",
    "    \n",
    "    a = 20\n",
    "    print(a)\n",
    "    \n",
    "random()\n",
    "print(a)"
   ]
  },
  {
   "cell_type": "code",
   "execution_count": 62,
   "id": "ebff9f83",
   "metadata": {},
   "outputs": [],
   "source": [
    "if 4 > 5:\n",
    "    a = 50\n",
    "else:\n",
    "    a = 40"
   ]
  },
  {
   "cell_type": "code",
   "execution_count": 63,
   "id": "79172bcc",
   "metadata": {},
   "outputs": [
    {
     "data": {
      "text/plain": [
       "40"
      ]
     },
     "execution_count": 63,
     "metadata": {},
     "output_type": "execute_result"
    }
   ],
   "source": [
    "a"
   ]
  },
  {
   "cell_type": "code",
   "execution_count": 64,
   "id": "1c7ef587",
   "metadata": {},
   "outputs": [],
   "source": [
    "a = 50 if 4 > 5 else 40"
   ]
  },
  {
   "cell_type": "code",
   "execution_count": 61,
   "id": "c89212ba",
   "metadata": {},
   "outputs": [],
   "source": [
    "# LAMBDA FUNCTIONS"
   ]
  },
  {
   "cell_type": "code",
   "execution_count": 65,
   "id": "1e50b4cc",
   "metadata": {},
   "outputs": [],
   "source": [
    "def hello():\n",
    "    return \"HELLO\""
   ]
  },
  {
   "cell_type": "code",
   "execution_count": 66,
   "id": "8594cd1a",
   "metadata": {},
   "outputs": [],
   "source": [
    "hello = lambda: \"HELLO\""
   ]
  },
  {
   "cell_type": "code",
   "execution_count": 67,
   "id": "016befdd",
   "metadata": {},
   "outputs": [
    {
     "data": {
      "text/plain": [
       "'HELLO'"
      ]
     },
     "execution_count": 67,
     "metadata": {},
     "output_type": "execute_result"
    }
   ],
   "source": [
    "hello()"
   ]
  },
  {
   "cell_type": "code",
   "execution_count": 73,
   "id": "c87e70c2",
   "metadata": {},
   "outputs": [],
   "source": [
    "def random1(x):\n",
    "    return x + 10"
   ]
  },
  {
   "cell_type": "code",
   "execution_count": 74,
   "id": "84b0c7fc",
   "metadata": {},
   "outputs": [
    {
     "data": {
      "text/plain": [
       "15"
      ]
     },
     "execution_count": 74,
     "metadata": {},
     "output_type": "execute_result"
    }
   ],
   "source": [
    "random1(5)"
   ]
  },
  {
   "cell_type": "code",
   "execution_count": 75,
   "id": "12e9292d",
   "metadata": {},
   "outputs": [],
   "source": [
    "random2 = lambda x: x + 10"
   ]
  },
  {
   "cell_type": "code",
   "execution_count": 76,
   "id": "85cd77f2",
   "metadata": {},
   "outputs": [
    {
     "data": {
      "text/plain": [
       "15"
      ]
     },
     "execution_count": 76,
     "metadata": {},
     "output_type": "execute_result"
    }
   ],
   "source": [
    "random2(5)"
   ]
  },
  {
   "cell_type": "code",
   "execution_count": 77,
   "id": "fba69813",
   "metadata": {},
   "outputs": [],
   "source": [
    "random3 = lambda x, y: x + y"
   ]
  },
  {
   "cell_type": "code",
   "execution_count": 80,
   "id": "a15cd2fe",
   "metadata": {},
   "outputs": [
    {
     "data": {
      "text/plain": [
       "15"
      ]
     },
     "execution_count": 80,
     "metadata": {},
     "output_type": "execute_result"
    }
   ],
   "source": [
    "random3(y = 5, x = 10)"
   ]
  },
  {
   "cell_type": "code",
   "execution_count": 81,
   "id": "d1389be8",
   "metadata": {},
   "outputs": [],
   "source": [
    "random = lambda x: x + 10 if x > 5 else x - 10"
   ]
  },
  {
   "cell_type": "code",
   "execution_count": 82,
   "id": "e8650c7a",
   "metadata": {},
   "outputs": [
    {
     "data": {
      "text/plain": [
       "-6"
      ]
     },
     "execution_count": 82,
     "metadata": {},
     "output_type": "execute_result"
    }
   ],
   "source": [
    "random(4)"
   ]
  },
  {
   "cell_type": "code",
   "execution_count": 83,
   "id": "6f0ab6c1",
   "metadata": {},
   "outputs": [],
   "source": [
    "# ANONYMOUS FUNCTIONS"
   ]
  },
  {
   "cell_type": "code",
   "execution_count": 85,
   "id": "14a58b25",
   "metadata": {},
   "outputs": [
    {
     "data": {
      "text/plain": [
       "15"
      ]
     },
     "execution_count": 85,
     "metadata": {},
     "output_type": "execute_result"
    }
   ],
   "source": [
    "(lambda x: x + 10)(5) # 5 is being sent as a value to the argument x"
   ]
  },
  {
   "cell_type": "code",
   "execution_count": 87,
   "id": "75393fc7",
   "metadata": {},
   "outputs": [
    {
     "data": {
      "text/plain": [
       "3.141592653589793"
      ]
     },
     "execution_count": 87,
     "metadata": {},
     "output_type": "execute_result"
    }
   ],
   "source": [
    "import math\n",
    "\n",
    "math.pi"
   ]
  },
  {
   "cell_type": "code",
   "execution_count": 89,
   "id": "34bd4e7e",
   "metadata": {},
   "outputs": [
    {
     "data": {
      "text/plain": [
       "6.0"
      ]
     },
     "execution_count": 89,
     "metadata": {},
     "output_type": "execute_result"
    }
   ],
   "source": [
    "(5.6 // 1) + 1"
   ]
  },
  {
   "cell_type": "code",
   "execution_count": 90,
   "id": "69bd3d56",
   "metadata": {},
   "outputs": [
    {
     "data": {
      "text/plain": [
       "6"
      ]
     },
     "execution_count": 90,
     "metadata": {},
     "output_type": "execute_result"
    }
   ],
   "source": [
    "math.ceil(5.6)"
   ]
  },
  {
   "cell_type": "code",
   "execution_count": 91,
   "id": "fc46c71e",
   "metadata": {},
   "outputs": [
    {
     "data": {
      "text/plain": [
       "True"
      ]
     },
     "execution_count": 91,
     "metadata": {},
     "output_type": "execute_result"
    }
   ],
   "source": [
    "6 == 6.0"
   ]
  },
  {
   "cell_type": "code",
   "execution_count": null,
   "id": "c5f2e9f0",
   "metadata": {},
   "outputs": [],
   "source": []
  }
 ],
 "metadata": {
  "kernelspec": {
   "display_name": "Python 3 (ipykernel)",
   "language": "python",
   "name": "python3"
  },
  "language_info": {
   "codemirror_mode": {
    "name": "ipython",
    "version": 3
   },
   "file_extension": ".py",
   "mimetype": "text/x-python",
   "name": "python",
   "nbconvert_exporter": "python",
   "pygments_lexer": "ipython3",
   "version": "3.9.5"
  }
 },
 "nbformat": 4,
 "nbformat_minor": 5
}
