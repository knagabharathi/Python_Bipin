{
 "cells": [
  {
   "cell_type": "code",
   "execution_count": 1,
   "id": "15f7b024",
   "metadata": {},
   "outputs": [
    {
     "data": {
      "text/plain": [
       "'\\nQUESTION ->\\n\\n55555\\n54445\\n54345\\n54445\\n55555\\n'"
      ]
     },
     "execution_count": 1,
     "metadata": {},
     "output_type": "execute_result"
    }
   ],
   "source": [
    "'''\n",
    "QUESTION ->\n",
    "\n",
    "55555\n",
    "54445\n",
    "54345\n",
    "54445\n",
    "55555\n",
    "'''"
   ]
  },
  {
   "cell_type": "code",
   "execution_count": 8,
   "id": "8d984f03",
   "metadata": {},
   "outputs": [
    {
     "name": "stdout",
     "output_type": "stream",
     "text": [
      "7\n",
      "7 7 7 7 7 7 7 \n",
      "7 6 6 6 6 6 7 \n",
      "7 6 5 5 5 6 7 \n",
      "7 6 5 4 5 6 7 \n",
      "7 6 5 5 5 6 7 \n",
      "7 6 6 6 6 6 7 \n",
      "7 7 7 7 7 7 7 \n"
     ]
    }
   ],
   "source": [
    "n = int(input())\n",
    "\n",
    "for i in range(n):\n",
    "    for j in range(n):\n",
    "        print(max(i + 1, j + 1, n - i, n - j), end = \" \")\n",
    "    \n",
    "    print()"
   ]
  },
  {
   "cell_type": "code",
   "execution_count": 4,
   "id": "3237d4e1",
   "metadata": {},
   "outputs": [
    {
     "name": "stdout",
     "output_type": "stream",
     "text": [
      "10\n"
     ]
    }
   ],
   "source": [
    "n = int(input())\n",
    "\n",
    "ans = 0\n",
    "\n",
    "for i in range(1, n + 1):\n",
    "    if i % 2 == 1:\n",
    "        ans += i"
   ]
  },
  {
   "cell_type": "code",
   "execution_count": 5,
   "id": "c348b54e",
   "metadata": {},
   "outputs": [
    {
     "data": {
      "text/plain": [
       "25"
      ]
     },
     "execution_count": 5,
     "metadata": {},
     "output_type": "execute_result"
    }
   ],
   "source": [
    "ans"
   ]
  },
  {
   "cell_type": "code",
   "execution_count": 6,
   "id": "d716856c",
   "metadata": {},
   "outputs": [
    {
     "name": "stdout",
     "output_type": "stream",
     "text": [
      "10\n"
     ]
    }
   ],
   "source": [
    "n = int(input())\n",
    "\n",
    "ans = 0\n",
    "\n",
    "for i in range(1, n + 1, 2):\n",
    "    ans += i"
   ]
  },
  {
   "cell_type": "code",
   "execution_count": 7,
   "id": "4c6ddf9b",
   "metadata": {},
   "outputs": [
    {
     "data": {
      "text/plain": [
       "25"
      ]
     },
     "execution_count": 7,
     "metadata": {},
     "output_type": "execute_result"
    }
   ],
   "source": [
    "ans"
   ]
  },
  {
   "cell_type": "code",
   "execution_count": 16,
   "id": "8bfe17c8",
   "metadata": {},
   "outputs": [
    {
     "name": "stdout",
     "output_type": "stream",
     "text": [
      "5\n",
      "000050000\n",
      "0004812000\n",
      "00369121500\n",
      "024681012140\n",
      "123456789\n"
     ]
    }
   ],
   "source": [
    "# ACTUAL SOLUTION\n",
    "n = int(input())\n",
    "\n",
    "for i in range(n):\n",
    "    print(\"0\" * (n - 1 - i), end = \"\")\n",
    "    \n",
    "    for j in range(2 * i + 1):\n",
    "        print((n - i) * (j + 1), end = \"\")\n",
    "        \n",
    "    print(\"0\" * (n - 1 - i), end = \"\")\n",
    "    \n",
    "    print()"
   ]
  },
  {
   "cell_type": "code",
   "execution_count": 17,
   "id": "d8683f86",
   "metadata": {},
   "outputs": [
    {
     "name": "stdout",
     "output_type": "stream",
     "text": [
      "5\n",
      "0\t0\t0\t0\t5\t0\t0\t0\t0\t\n",
      "0\t0\t0\t4\t8\t12\t0\t0\t0\t\n",
      "0\t0\t3\t6\t9\t12\t15\t0\t0\t\n",
      "0\t2\t4\t6\t8\t10\t12\t14\t0\t\n",
      "1\t2\t3\t4\t5\t6\t7\t8\t9\t\n"
     ]
    }
   ],
   "source": [
    "# FOR VISUALISATION\n",
    "# \\t -> tab\n",
    "\n",
    "n = int(input())\n",
    "\n",
    "for i in range(n):\n",
    "    print(\"0\\t\" * (n - 1 - i), end = \"\")\n",
    "    \n",
    "    for j in range(2 * i + 1):\n",
    "        print((n - i) * (j + 1), end = \"\\t\")\n",
    "        \n",
    "    print(\"0\\t\" * (n - 1 - i), end = \"\")\n",
    "    \n",
    "    print()"
   ]
  },
  {
   "cell_type": "code",
   "execution_count": 18,
   "id": "15b67d02",
   "metadata": {},
   "outputs": [
    {
     "name": "stdout",
     "output_type": "stream",
     "text": [
      "r\n",
      "a\n",
      "n\n",
      "d\n",
      "o\n",
      "m\n"
     ]
    }
   ],
   "source": [
    "for i in \"random\":\n",
    "    print(i)"
   ]
  },
  {
   "cell_type": "code",
   "execution_count": 21,
   "id": "dbde742f",
   "metadata": {},
   "outputs": [
    {
     "name": "stdout",
     "output_type": "stream",
     "text": [
      "142\n",
      "False\n"
     ]
    }
   ],
   "source": [
    "n = input()\n",
    "\n",
    "armstrong_sum = 0\n",
    "\n",
    "for i in n:\n",
    "    armstrong_sum += int(i) ** 3\n",
    "    \n",
    "if armstrong_sum == int(n):\n",
    "    print(True)\n",
    "else:\n",
    "    print(False)"
   ]
  },
  {
   "cell_type": "code",
   "execution_count": 24,
   "id": "7bb01f62",
   "metadata": {},
   "outputs": [
    {
     "name": "stdout",
     "output_type": "stream",
     "text": [
      "5\n",
      "False\n"
     ]
    },
    {
     "data": {
      "text/plain": [
       "'\\nn = 153 ->\\n\\nIteration 1 - \\n    - n = 153\\n    - last_digit = 3\\n    - armstrong_number = 27\\n    - n = 15\\n    \\n.\\n.\\n.\\n'"
      ]
     },
     "execution_count": 24,
     "metadata": {},
     "output_type": "execute_result"
    }
   ],
   "source": [
    "n = int(input())\n",
    "n_copy = n\n",
    "\n",
    "armstrong_sum = 0\n",
    "\n",
    "while n:\n",
    "    last_digit = n % 10\n",
    "    armstrong_sum += last_digit ** 3\n",
    "    n = n // 10\n",
    "    \n",
    "if armstrong_sum == n_copy:\n",
    "    print(True)\n",
    "else:\n",
    "    print(False)\n",
    "    \n",
    "\n",
    "'''\n",
    "n = 153 ->\n",
    "\n",
    "Iteration 1 - \n",
    "    - n = 153\n",
    "    - last_digit = 3\n",
    "    - armstrong_number = 27\n",
    "    - n = 15\n",
    "    \n",
    ".\n",
    ".\n",
    ".\n",
    "'''"
   ]
  },
  {
   "cell_type": "code",
   "execution_count": null,
   "id": "9d0d6521",
   "metadata": {},
   "outputs": [],
   "source": []
  }
 ],
 "metadata": {
  "kernelspec": {
   "display_name": "Python 3 (ipykernel)",
   "language": "python",
   "name": "python3"
  },
  "language_info": {
   "codemirror_mode": {
    "name": "ipython",
    "version": 3
   },
   "file_extension": ".py",
   "mimetype": "text/x-python",
   "name": "python",
   "nbconvert_exporter": "python",
   "pygments_lexer": "ipython3",
   "version": "3.9.5"
  }
 },
 "nbformat": 4,
 "nbformat_minor": 5
}
