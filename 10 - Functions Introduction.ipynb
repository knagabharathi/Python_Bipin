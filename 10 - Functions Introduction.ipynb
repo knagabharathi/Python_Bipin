{
 "cells": [
  {
   "cell_type": "code",
   "execution_count": 2,
   "id": "043822c3",
   "metadata": {},
   "outputs": [
    {
     "name": "stdout",
     "output_type": "stream",
     "text": [
      "Dust all the rooms!\n",
      "Arrange the living area!\n",
      "Go out. Get cold drinks.\n",
      "Turn on fancy lights!\n",
      "Take out fanct cutlery.\n",
      "Fill the water bottles!\n"
     ]
    }
   ],
   "source": [
    "# 1 - GUESTS ARRIVE\n",
    "\n",
    "print(\"Dust all the rooms!\")\n",
    "print(\"Arrange the living area!\")\n",
    "print(\"Go out. Get cold drinks.\")\n",
    "print(\"Turn on fancy lights!\")\n",
    "print(\"Take out fanct cutlery.\")\n",
    "print(\"Fill the water bottles!\")"
   ]
  },
  {
   "cell_type": "code",
   "execution_count": 3,
   "id": "bde7c5b4",
   "metadata": {},
   "outputs": [
    {
     "name": "stdout",
     "output_type": "stream",
     "text": [
      "Dust all the rooms!\n",
      "Arrange the living area!\n",
      "Go out. Get cold drinks.\n",
      "Turn on fancy lights!\n",
      "Take out fanct cutlery.\n",
      "Fill the water bottles!\n"
     ]
    }
   ],
   "source": [
    "# 2 - GUESTS ARRIVE\n",
    "\n",
    "print(\"Dust all the rooms!\")\n",
    "print(\"Arrange the living area!\")\n",
    "print(\"Go out. Get cold drinks.\")\n",
    "print(\"Turn on fancy lights!\")\n",
    "print(\"Take out fanct cutlery.\")\n",
    "print(\"Fill the water bottles!\")"
   ]
  },
  {
   "cell_type": "code",
   "execution_count": 4,
   "id": "75d9f39e",
   "metadata": {},
   "outputs": [
    {
     "name": "stdout",
     "output_type": "stream",
     "text": [
      "Dust all the rooms!\n",
      "Arrange the living area!\n",
      "Go out. Get cold drinks.\n",
      "Turn on fancy lights!\n",
      "Take out fanct cutlery.\n",
      "Fill the water bottles!\n"
     ]
    }
   ],
   "source": [
    "# 3 - GUESTS ARRIVE\n",
    "\n",
    "print(\"Dust all the rooms!\")\n",
    "print(\"Arrange the living area!\")\n",
    "print(\"Go out. Get cold drinks.\")\n",
    "print(\"Turn on fancy lights!\")\n",
    "print(\"Take out fanct cutlery.\")\n",
    "print(\"Fill the water bottles!\")"
   ]
  },
  {
   "cell_type": "code",
   "execution_count": 6,
   "id": "f7cea362",
   "metadata": {},
   "outputs": [],
   "source": [
    "# FUNCTIONS\n",
    "# A set of instructions that can be called at any point in time as a group"
   ]
  },
  {
   "cell_type": "code",
   "execution_count": 7,
   "id": "bbf26ba7",
   "metadata": {},
   "outputs": [],
   "source": [
    "def prepare_for_guests():\n",
    "    print(\"Dust all the rooms!\")\n",
    "    print(\"Arrange the living area!\")\n",
    "    print(\"Go out. Get cold drinks.\")\n",
    "    print(\"Turn on fancy lights!\")\n",
    "    print(\"Take out fanct cutlery.\")\n",
    "    print(\"Fill the water bottles!\") "
   ]
  },
  {
   "cell_type": "code",
   "execution_count": 8,
   "id": "72f8283c",
   "metadata": {},
   "outputs": [
    {
     "name": "stdout",
     "output_type": "stream",
     "text": [
      "Dust all the rooms!\n",
      "Arrange the living area!\n",
      "Go out. Get cold drinks.\n",
      "Turn on fancy lights!\n",
      "Take out fanct cutlery.\n",
      "Fill the water bottles!\n"
     ]
    }
   ],
   "source": [
    "prepare_for_guests()"
   ]
  },
  {
   "cell_type": "code",
   "execution_count": 10,
   "id": "476237c2",
   "metadata": {},
   "outputs": [
    {
     "name": "stdout",
     "output_type": "stream",
     "text": [
      "Dust all the rooms!\n",
      "Arrange the living area!\n",
      "Go out. Get cold drinks.\n",
      "Turn on fancy lights!\n",
      "Take out fanct cutlery.\n",
      "Fill the water bottles!\n"
     ]
    }
   ],
   "source": [
    "prepare_for_guests()"
   ]
  },
  {
   "cell_type": "code",
   "execution_count": 11,
   "id": "10a9635a",
   "metadata": {},
   "outputs": [
    {
     "name": "stdout",
     "output_type": "stream",
     "text": [
      "Dust all the rooms!\n",
      "Arrange the living area!\n",
      "Go out. Get cold drinks.\n",
      "Turn on fancy lights!\n",
      "Take out fanct cutlery.\n",
      "Fill the water bottles!\n"
     ]
    }
   ],
   "source": [
    "prepare_for_guests()"
   ]
  },
  {
   "cell_type": "code",
   "execution_count": 12,
   "id": "17bc0b4e",
   "metadata": {},
   "outputs": [
    {
     "data": {
      "text/plain": [
       "'\\nQuestion 1 -\\nWrite a piece of code to print(\"Making Tea\") five times.\\n'"
      ]
     },
     "execution_count": 12,
     "metadata": {},
     "output_type": "execute_result"
    }
   ],
   "source": [
    "'''\n",
    "Question 1 -\n",
    "Write a piece of code to print(\"Making Tea\") five times.\n",
    "'''"
   ]
  },
  {
   "cell_type": "code",
   "execution_count": 13,
   "id": "b0de432b",
   "metadata": {},
   "outputs": [
    {
     "name": "stdout",
     "output_type": "stream",
     "text": [
      "Making Tea!\n",
      "Making Tea!\n",
      "Making Tea!\n",
      "Making Tea!\n",
      "Making Tea!\n"
     ]
    }
   ],
   "source": [
    "for i in range(5):\n",
    "    print(\"Making Tea!\")"
   ]
  },
  {
   "cell_type": "code",
   "execution_count": 14,
   "id": "69f03f9e",
   "metadata": {},
   "outputs": [],
   "source": [
    "def make_tea():\n",
    "    print(\"Step 1\")\n",
    "    print(\"Step 2\")\n",
    "    print(\"Step 3\")"
   ]
  },
  {
   "cell_type": "code",
   "execution_count": 15,
   "id": "ab85ef66",
   "metadata": {},
   "outputs": [],
   "source": [
    "def making_tea():\n",
    "    for i in range(5):\n",
    "        print(\"Making Tea!\")"
   ]
  },
  {
   "cell_type": "code",
   "execution_count": 16,
   "id": "2ab1bdca",
   "metadata": {},
   "outputs": [],
   "source": [
    "def making_tea():\n",
    "    print(\"Making Tea!\")"
   ]
  },
  {
   "cell_type": "code",
   "execution_count": 17,
   "id": "f85d6e4e",
   "metadata": {},
   "outputs": [
    {
     "name": "stdout",
     "output_type": "stream",
     "text": [
      "Making Tea!\n",
      "Making Tea!\n",
      "Making Tea!\n",
      "Making Tea!\n",
      "Making Tea!\n"
     ]
    }
   ],
   "source": [
    "for i in range(5):\n",
    "    making_tea()"
   ]
  },
  {
   "cell_type": "code",
   "execution_count": 18,
   "id": "dd691af7",
   "metadata": {},
   "outputs": [
    {
     "name": "stdout",
     "output_type": "stream",
     "text": [
      "Making Tea!\n"
     ]
    }
   ],
   "source": [
    "if True:\n",
    "    making_tea()\n",
    "else:\n",
    "    print(\"Coffee dedo! :)\")"
   ]
  },
  {
   "cell_type": "code",
   "execution_count": 19,
   "id": "ca863dcf",
   "metadata": {},
   "outputs": [],
   "source": [
    "def sheldon_knock():\n",
    "    print(\"knock knock knock penny!\")\n",
    "    print(\"knock knock knock penny!\")\n",
    "    print(\"knock knock knock penny!\")"
   ]
  },
  {
   "cell_type": "code",
   "execution_count": 21,
   "id": "b57eb733",
   "metadata": {},
   "outputs": [
    {
     "name": "stdout",
     "output_type": "stream",
     "text": [
      "knock knock knock penny!\n",
      "knock knock knock penny!\n",
      "knock knock knock penny!\n"
     ]
    }
   ],
   "source": [
    "sheldon_knock()"
   ]
  },
  {
   "cell_type": "code",
   "execution_count": 22,
   "id": "e0699070",
   "metadata": {},
   "outputs": [],
   "source": [
    "def sheldon_knock(name): # name is an argument\n",
    "    print(\"knock knock knock\", name)\n",
    "    print(\"knock knock knock\", name)\n",
    "    print(\"knock knock knock\", name)"
   ]
  },
  {
   "cell_type": "code",
   "execution_count": 23,
   "id": "fc40ae4b",
   "metadata": {},
   "outputs": [
    {
     "name": "stdout",
     "output_type": "stream",
     "text": [
      "knock knock knock Angana\n",
      "knock knock knock Angana\n",
      "knock knock knock Angana\n"
     ]
    }
   ],
   "source": [
    "sheldon_knock(\"Angana\")"
   ]
  },
  {
   "cell_type": "code",
   "execution_count": 24,
   "id": "bf0bdb76",
   "metadata": {},
   "outputs": [
    {
     "name": "stdout",
     "output_type": "stream",
     "text": [
      "knock knock knock Sooraj\n",
      "knock knock knock Sooraj\n",
      "knock knock knock Sooraj\n"
     ]
    }
   ],
   "source": [
    "sheldon_knock(\"Sooraj\")"
   ]
  },
  {
   "cell_type": "code",
   "execution_count": 25,
   "id": "71931aa7",
   "metadata": {},
   "outputs": [
    {
     "name": "stdout",
     "output_type": "stream",
     "text": [
      "Sundeep\n",
      "knock knock knock Sundeep\n",
      "knock knock knock Sundeep\n",
      "knock knock knock Sundeep\n"
     ]
    }
   ],
   "source": [
    "random = input()\n",
    "\n",
    "sheldon_knock(random)"
   ]
  },
  {
   "cell_type": "code",
   "execution_count": 26,
   "id": "d2d1fdd9",
   "metadata": {},
   "outputs": [
    {
     "data": {
      "text/plain": [
       "'\\nQuestion 2 - \\nTake a name as input.\\nWrite a greeter function which prints, \"HELLO NAME!\"\\nafter accepting a name as argument.\\n'"
      ]
     },
     "execution_count": 26,
     "metadata": {},
     "output_type": "execute_result"
    }
   ],
   "source": [
    "'''\n",
    "Question 2 - \n",
    "Take a name as input.\n",
    "Write a greeter function which prints, \"HELLO NAME!\"\n",
    "after accepting a name as argument.\n",
    "'''"
   ]
  },
  {
   "cell_type": "code",
   "execution_count": 33,
   "id": "20dab998",
   "metadata": {},
   "outputs": [],
   "source": [
    "def greeter(name): # Argument name can be anything!\n",
    "    print(\"Hello\", name, end = \"!\")"
   ]
  },
  {
   "cell_type": "code",
   "execution_count": 34,
   "id": "38aa8f89",
   "metadata": {},
   "outputs": [
    {
     "name": "stdout",
     "output_type": "stream",
     "text": [
      "Bipin\n"
     ]
    }
   ],
   "source": [
    "input_name = input()"
   ]
  },
  {
   "cell_type": "code",
   "execution_count": 35,
   "id": "71b1cc0d",
   "metadata": {},
   "outputs": [
    {
     "name": "stdout",
     "output_type": "stream",
     "text": [
      "Hello Bipin!"
     ]
    }
   ],
   "source": [
    "greeter(input_name) # name = input_name (the variable you provide while calling the function)"
   ]
  },
  {
   "cell_type": "code",
   "execution_count": 36,
   "id": "a6c65c89",
   "metadata": {},
   "outputs": [],
   "source": [
    "def greeter():\n",
    "    name = input()\n",
    "    print(\"Hello\", name, end = \"!\")"
   ]
  },
  {
   "cell_type": "code",
   "execution_count": 37,
   "id": "05f3fb5d",
   "metadata": {},
   "outputs": [
    {
     "name": "stdout",
     "output_type": "stream",
     "text": [
      "Bipin\n",
      "Hello Bipin!"
     ]
    }
   ],
   "source": [
    "greeter()"
   ]
  },
  {
   "cell_type": "code",
   "execution_count": 38,
   "id": "e3bc7e0e",
   "metadata": {},
   "outputs": [
    {
     "data": {
      "text/plain": [
       "'\\nQuestion 3 - \\nWrite a proposal function. :)\\nYou have been given a dare. Take an input name from your friends. \\nWrite a function which takes that name as argument and prints\\n\"I LOVE YOU NAME! :)\"\\n'"
      ]
     },
     "execution_count": 38,
     "metadata": {},
     "output_type": "execute_result"
    }
   ],
   "source": [
    "'''\n",
    "Question 3 - \n",
    "Write a proposal function. :)\n",
    "You have been given a dare. Take an input name from your friends. \n",
    "Write a function which takes that name as argument and prints\n",
    "\"I LOVE YOU NAME! :)\"\n",
    "'''"
   ]
  },
  {
   "cell_type": "code",
   "execution_count": 39,
   "id": "b9a296e4",
   "metadata": {},
   "outputs": [
    {
     "name": "stdout",
     "output_type": "stream",
     "text": [
      "Emma Watson\n"
     ]
    }
   ],
   "source": [
    "dare_name = input()"
   ]
  },
  {
   "cell_type": "code",
   "execution_count": 40,
   "id": "d794cab9",
   "metadata": {},
   "outputs": [],
   "source": [
    "def propose(name):\n",
    "    print(\"I LOVE YOU\", name)"
   ]
  },
  {
   "cell_type": "code",
   "execution_count": 42,
   "id": "1c691d68",
   "metadata": {},
   "outputs": [
    {
     "name": "stdout",
     "output_type": "stream",
     "text": [
      "I LOVE YOU Emma Watson\n"
     ]
    }
   ],
   "source": [
    "propose(dare_name) # name = dare_name"
   ]
  },
  {
   "cell_type": "code",
   "execution_count": 44,
   "id": "24e2cf95",
   "metadata": {},
   "outputs": [],
   "source": [
    "name1 = \"Kiara Advani\""
   ]
  },
  {
   "cell_type": "code",
   "execution_count": 46,
   "id": "5fff74a0",
   "metadata": {},
   "outputs": [
    {
     "name": "stdout",
     "output_type": "stream",
     "text": [
      "I LOVE YOU Kiara Advani\n"
     ]
    }
   ],
   "source": [
    "propose(name1) # name = name1"
   ]
  },
  {
   "cell_type": "code",
   "execution_count": 47,
   "id": "ff7f47d0",
   "metadata": {},
   "outputs": [],
   "source": [
    "# MULTIPLE ARGUMENTS"
   ]
  },
  {
   "cell_type": "code",
   "execution_count": 48,
   "id": "66903330",
   "metadata": {},
   "outputs": [],
   "source": [
    "def introduce_family(father, mother, sibling):\n",
    "    print(\"Father -\", father)\n",
    "    print(\"Mother -\", mother)\n",
    "    print(\"Sibling -\", sibling)"
   ]
  },
  {
   "cell_type": "code",
   "execution_count": 49,
   "id": "7972e404",
   "metadata": {},
   "outputs": [
    {
     "name": "stdout",
     "output_type": "stream",
     "text": [
      "Father - Brad Pitt\n",
      "Mother - Angelina Jolie\n",
      "Sibling - Stormi\n"
     ]
    }
   ],
   "source": [
    "introduce_family(\"Brad Pitt\", \"Angelina Jolie\", \"Stormi\")"
   ]
  },
  {
   "cell_type": "code",
   "execution_count": 50,
   "id": "2b189455",
   "metadata": {},
   "outputs": [
    {
     "name": "stdout",
     "output_type": "stream",
     "text": [
      "Father - Stormi\n",
      "Mother - Brad Pitt\n",
      "Sibling - Angelina Jolie\n"
     ]
    }
   ],
   "source": [
    "introduce_family(\"Stormi\", \"Brad Pitt\", \"Angelina Jolie\")"
   ]
  },
  {
   "cell_type": "code",
   "execution_count": 54,
   "id": "80d5a489",
   "metadata": {},
   "outputs": [
    {
     "ename": "TypeError",
     "evalue": "introduce_family() missing 1 required positional argument: 'sibling'",
     "output_type": "error",
     "traceback": [
      "\u001b[0;31m---------------------------------------------------------------------------\u001b[0m",
      "\u001b[0;31mTypeError\u001b[0m                                 Traceback (most recent call last)",
      "Cell \u001b[0;32mIn[54], line 1\u001b[0m\n\u001b[0;32m----> 1\u001b[0m \u001b[43mintroduce_family\u001b[49m\u001b[43m(\u001b[49m\u001b[38;5;124;43m\"\u001b[39;49m\u001b[38;5;124;43mA\u001b[39;49m\u001b[38;5;124;43m\"\u001b[39;49m\u001b[43m,\u001b[49m\u001b[43m \u001b[49m\u001b[38;5;124;43m\"\u001b[39;49m\u001b[38;5;124;43mB\u001b[39;49m\u001b[38;5;124;43m\"\u001b[39;49m\u001b[43m)\u001b[49m \u001b[38;5;66;03m# Less Arguments\u001b[39;00m\n",
      "\u001b[0;31mTypeError\u001b[0m: introduce_family() missing 1 required positional argument: 'sibling'"
     ]
    }
   ],
   "source": [
    "introduce_family(\"A\", \"B\") # Less Arguments"
   ]
  },
  {
   "cell_type": "code",
   "execution_count": 53,
   "id": "1fc1d72a",
   "metadata": {},
   "outputs": [
    {
     "ename": "TypeError",
     "evalue": "introduce_family() takes 3 positional arguments but 4 were given",
     "output_type": "error",
     "traceback": [
      "\u001b[0;31m---------------------------------------------------------------------------\u001b[0m",
      "\u001b[0;31mTypeError\u001b[0m                                 Traceback (most recent call last)",
      "Cell \u001b[0;32mIn[53], line 1\u001b[0m\n\u001b[0;32m----> 1\u001b[0m \u001b[43mintroduce_family\u001b[49m\u001b[43m(\u001b[49m\u001b[38;5;124;43m\"\u001b[39;49m\u001b[38;5;124;43mA\u001b[39;49m\u001b[38;5;124;43m\"\u001b[39;49m\u001b[43m,\u001b[49m\u001b[43m \u001b[49m\u001b[38;5;124;43m\"\u001b[39;49m\u001b[38;5;124;43mB\u001b[39;49m\u001b[38;5;124;43m\"\u001b[39;49m\u001b[43m,\u001b[49m\u001b[43m \u001b[49m\u001b[38;5;124;43m\"\u001b[39;49m\u001b[38;5;124;43mC\u001b[39;49m\u001b[38;5;124;43m\"\u001b[39;49m\u001b[43m,\u001b[49m\u001b[43m \u001b[49m\u001b[38;5;124;43m\"\u001b[39;49m\u001b[38;5;124;43mD\u001b[39;49m\u001b[38;5;124;43m\"\u001b[39;49m\u001b[43m)\u001b[49m \u001b[38;5;66;03m# More arguments\u001b[39;00m\n",
      "\u001b[0;31mTypeError\u001b[0m: introduce_family() takes 3 positional arguments but 4 were given"
     ]
    }
   ],
   "source": [
    "introduce_family(\"A\", \"B\", \"C\", \"D\") # More arguments"
   ]
  },
  {
   "cell_type": "code",
   "execution_count": 55,
   "id": "ac2f9b07",
   "metadata": {},
   "outputs": [],
   "source": [
    "a = '''This is also a string.\n",
    "    It is called a docstring.\n",
    "        It maintains             white\n",
    "                    spaces\n",
    "                    \n",
    "                    \n",
    "                    WEIRD!\n",
    "'''"
   ]
  },
  {
   "cell_type": "code",
   "execution_count": 56,
   "id": "4a6d097b",
   "metadata": {},
   "outputs": [
    {
     "data": {
      "text/plain": [
       "'This is also a string.\\n    It is called a docstring.\\n        It maintains             white\\n                    spaces\\n                    \\n                    \\n                    WEIRD!\\n'"
      ]
     },
     "execution_count": 56,
     "metadata": {},
     "output_type": "execute_result"
    }
   ],
   "source": [
    "a"
   ]
  },
  {
   "cell_type": "code",
   "execution_count": 57,
   "id": "138bc0ca",
   "metadata": {},
   "outputs": [
    {
     "data": {
      "text/plain": [
       "str"
      ]
     },
     "execution_count": 57,
     "metadata": {},
     "output_type": "execute_result"
    }
   ],
   "source": [
    "type(a)"
   ]
  },
  {
   "cell_type": "code",
   "execution_count": 58,
   "id": "7c054bb7",
   "metadata": {},
   "outputs": [],
   "source": [
    "def random(a, b):\n",
    "    '''\n",
    "    Two arguments - \n",
    "    Arguments can only be int or float.\n",
    "    \n",
    "    Output - Sum of both the arguments.\n",
    "    '''\n",
    "    \n",
    "    print(a + b)"
   ]
  },
  {
   "cell_type": "code",
   "execution_count": 59,
   "id": "5a8b00cd",
   "metadata": {},
   "outputs": [
    {
     "name": "stdout",
     "output_type": "stream",
     "text": [
      "11\n"
     ]
    }
   ],
   "source": [
    "random(5, 6)"
   ]
  },
  {
   "cell_type": "code",
   "execution_count": 61,
   "id": "11b83928",
   "metadata": {},
   "outputs": [
    {
     "name": "stdout",
     "output_type": "stream",
     "text": [
      "Help on function random in module __main__:\n",
      "\n",
      "random(a, b)\n",
      "    Two arguments - \n",
      "    Arguments can only be int or float.\n",
      "    \n",
      "    Output - Sum of both the arguments.\n",
      "\n"
     ]
    }
   ],
   "source": [
    "help(random) # Print documentation"
   ]
  },
  {
   "cell_type": "code",
   "execution_count": 62,
   "id": "ac313414",
   "metadata": {
    "scrolled": true
   },
   "outputs": [
    {
     "data": {
      "text/plain": [
       "'string1string2'"
      ]
     },
     "execution_count": 62,
     "metadata": {},
     "output_type": "execute_result"
    }
   ],
   "source": [
    "\"string1\" + \"string2\""
   ]
  },
  {
   "cell_type": "code",
   "execution_count": 63,
   "id": "8204561c",
   "metadata": {},
   "outputs": [
    {
     "ename": "TypeError",
     "evalue": "can only concatenate str (not \"int\") to str",
     "output_type": "error",
     "traceback": [
      "\u001b[0;31m---------------------------------------------------------------------------\u001b[0m",
      "\u001b[0;31mTypeError\u001b[0m                                 Traceback (most recent call last)",
      "Cell \u001b[0;32mIn[63], line 1\u001b[0m\n\u001b[0;32m----> 1\u001b[0m \u001b[38;5;124;43m\"\u001b[39;49m\u001b[38;5;124;43mstring1\u001b[39;49m\u001b[38;5;124;43m\"\u001b[39;49m\u001b[43m \u001b[49m\u001b[38;5;241;43m+\u001b[39;49m\u001b[43m \u001b[49m\u001b[38;5;241;43m2\u001b[39;49m\n",
      "\u001b[0;31mTypeError\u001b[0m: can only concatenate str (not \"int\") to str"
     ]
    }
   ],
   "source": [
    "\"string1\" + 2"
   ]
  },
  {
   "cell_type": "code",
   "execution_count": 64,
   "id": "c73254fc",
   "metadata": {},
   "outputs": [],
   "source": [
    "def add_two(a, b):\n",
    "    '''\n",
    "    Arguments - \n",
    "    a: Number or String\n",
    "    b: Number or String\n",
    "    \n",
    "    Note - Please do not enter values of mixed types.\n",
    "    \n",
    "    Output - \n",
    "    String + String -> Concatenation\n",
    "    Number + Number -> Addition\n",
    "    '''\n",
    "    \n",
    "    result = a + b\n",
    "    print(result)"
   ]
  },
  {
   "cell_type": "code",
   "execution_count": 65,
   "id": "f759331c",
   "metadata": {},
   "outputs": [
    {
     "name": "stdout",
     "output_type": "stream",
     "text": [
      "Help on function add_two in module __main__:\n",
      "\n",
      "add_two(a, b)\n",
      "    Arguments - \n",
      "    a: Number or String\n",
      "    b: Number or String\n",
      "    \n",
      "    Note - Please do not enter values of mixed types.\n",
      "    \n",
      "    Output - \n",
      "    String + String -> Concatenation\n",
      "    Number + Number -> Addition\n",
      "\n"
     ]
    }
   ],
   "source": [
    "help(add_two)"
   ]
  },
  {
   "cell_type": "code",
   "execution_count": 66,
   "id": "3e1ff511",
   "metadata": {},
   "outputs": [
    {
     "name": "stdout",
     "output_type": "stream",
     "text": [
      "9\n"
     ]
    }
   ],
   "source": [
    "add_two(4, 5)"
   ]
  },
  {
   "cell_type": "code",
   "execution_count": 67,
   "id": "0d618cb6",
   "metadata": {},
   "outputs": [
    {
     "name": "stdout",
     "output_type": "stream",
     "text": [
      "AB\n"
     ]
    }
   ],
   "source": [
    "add_two(\"A\", \"B\")"
   ]
  },
  {
   "cell_type": "code",
   "execution_count": 68,
   "id": "694cc070",
   "metadata": {},
   "outputs": [
    {
     "ename": "TypeError",
     "evalue": "can only concatenate str (not \"int\") to str",
     "output_type": "error",
     "traceback": [
      "\u001b[0;31m---------------------------------------------------------------------------\u001b[0m",
      "\u001b[0;31mTypeError\u001b[0m                                 Traceback (most recent call last)",
      "Cell \u001b[0;32mIn[68], line 1\u001b[0m\n\u001b[0;32m----> 1\u001b[0m \u001b[43madd_two\u001b[49m\u001b[43m(\u001b[49m\u001b[38;5;124;43m\"\u001b[39;49m\u001b[38;5;124;43mA\u001b[39;49m\u001b[38;5;124;43m\"\u001b[39;49m\u001b[43m,\u001b[49m\u001b[43m \u001b[49m\u001b[38;5;241;43m1\u001b[39;49m\u001b[43m)\u001b[49m\n",
      "Cell \u001b[0;32mIn[64], line 14\u001b[0m, in \u001b[0;36madd_two\u001b[0;34m(a, b)\u001b[0m\n\u001b[1;32m      1\u001b[0m \u001b[38;5;28;01mdef\u001b[39;00m \u001b[38;5;21madd_two\u001b[39m(a, b):\n\u001b[1;32m      2\u001b[0m \u001b[38;5;250m    \u001b[39m\u001b[38;5;124;03m'''\u001b[39;00m\n\u001b[1;32m      3\u001b[0m \u001b[38;5;124;03m    Arguments - \u001b[39;00m\n\u001b[1;32m      4\u001b[0m \u001b[38;5;124;03m    a: Number or String\u001b[39;00m\n\u001b[0;32m   (...)\u001b[0m\n\u001b[1;32m     11\u001b[0m \u001b[38;5;124;03m    Number + Number -> Addition\u001b[39;00m\n\u001b[1;32m     12\u001b[0m \u001b[38;5;124;03m    '''\u001b[39;00m\n\u001b[0;32m---> 14\u001b[0m     result \u001b[38;5;241m=\u001b[39m \u001b[43ma\u001b[49m\u001b[43m \u001b[49m\u001b[38;5;241;43m+\u001b[39;49m\u001b[43m \u001b[49m\u001b[43mb\u001b[49m\n\u001b[1;32m     15\u001b[0m     \u001b[38;5;28mprint\u001b[39m(result)\n",
      "\u001b[0;31mTypeError\u001b[0m: can only concatenate str (not \"int\") to str"
     ]
    }
   ],
   "source": [
    "add_two(\"A\", 1)"
   ]
  },
  {
   "cell_type": "code",
   "execution_count": 69,
   "id": "11c2fe34",
   "metadata": {},
   "outputs": [],
   "source": [
    "# RETURN!"
   ]
  },
  {
   "cell_type": "code",
   "execution_count": 70,
   "id": "78cb997b",
   "metadata": {},
   "outputs": [
    {
     "name": "stdout",
     "output_type": "stream",
     "text": [
      "A\n"
     ]
    }
   ],
   "source": [
    "print(\"A\")"
   ]
  },
  {
   "cell_type": "code",
   "execution_count": 71,
   "id": "f278065a",
   "metadata": {},
   "outputs": [
    {
     "data": {
      "text/plain": [
       "'A'"
      ]
     },
     "execution_count": 71,
     "metadata": {},
     "output_type": "execute_result"
    }
   ],
   "source": [
    "\"A\""
   ]
  },
  {
   "cell_type": "code",
   "execution_count": 74,
   "id": "b9163e43",
   "metadata": {},
   "outputs": [],
   "source": [
    "def add_two_numbers(a, b):\n",
    "    print(a + b)"
   ]
  },
  {
   "cell_type": "code",
   "execution_count": 75,
   "id": "fb5ecd8f",
   "metadata": {},
   "outputs": [
    {
     "name": "stdout",
     "output_type": "stream",
     "text": [
      "9\n"
     ]
    }
   ],
   "source": [
    "add_two_numbers(4, 5)"
   ]
  },
  {
   "cell_type": "code",
   "execution_count": 76,
   "id": "f980f683",
   "metadata": {},
   "outputs": [
    {
     "name": "stdout",
     "output_type": "stream",
     "text": [
      "9\n"
     ]
    }
   ],
   "source": [
    "result = add_two_numbers(4, 5)"
   ]
  },
  {
   "cell_type": "code",
   "execution_count": 77,
   "id": "85f2ae5e",
   "metadata": {},
   "outputs": [
    {
     "name": "stdout",
     "output_type": "stream",
     "text": [
      "None\n"
     ]
    }
   ],
   "source": [
    "print(result)"
   ]
  },
  {
   "cell_type": "code",
   "execution_count": 78,
   "id": "31458729",
   "metadata": {},
   "outputs": [],
   "source": [
    "def add_two_numbers(a, b):\n",
    "    return a + b"
   ]
  },
  {
   "cell_type": "code",
   "execution_count": 79,
   "id": "bc230f55",
   "metadata": {},
   "outputs": [],
   "source": [
    "result = add_two_numbers(4, 5)"
   ]
  },
  {
   "cell_type": "code",
   "execution_count": 80,
   "id": "b70386a4",
   "metadata": {},
   "outputs": [
    {
     "name": "stdout",
     "output_type": "stream",
     "text": [
      "9\n"
     ]
    }
   ],
   "source": [
    "print(result)"
   ]
  },
  {
   "cell_type": "code",
   "execution_count": 81,
   "id": "8159ef6c",
   "metadata": {},
   "outputs": [
    {
     "data": {
      "text/plain": [
       "'\\nQuestion 4 - \\nWrite a function which takes 2 numbers are arguments\\nand returns the product of those numbers.\\n'"
      ]
     },
     "execution_count": 81,
     "metadata": {},
     "output_type": "execute_result"
    }
   ],
   "source": [
    "'''\n",
    "Question 4 - \n",
    "Write a function which takes 2 numbers are arguments\n",
    "and returns the product of those numbers.\n",
    "'''"
   ]
  },
  {
   "cell_type": "code",
   "execution_count": 82,
   "id": "dad13f12",
   "metadata": {},
   "outputs": [],
   "source": [
    "def product(a, b):\n",
    "    return a * b"
   ]
  },
  {
   "cell_type": "code",
   "execution_count": 83,
   "id": "c3c92f54",
   "metadata": {},
   "outputs": [],
   "source": [
    "result = product(4, 5)"
   ]
  },
  {
   "cell_type": "code",
   "execution_count": 84,
   "id": "76b97542",
   "metadata": {},
   "outputs": [
    {
     "data": {
      "text/plain": [
       "20"
      ]
     },
     "execution_count": 84,
     "metadata": {},
     "output_type": "execute_result"
    }
   ],
   "source": [
    "result"
   ]
  },
  {
   "cell_type": "code",
   "execution_count": 85,
   "id": "42ccd51e",
   "metadata": {},
   "outputs": [],
   "source": [
    "def random():\n",
    "    print(\"Before return\")\n",
    "    return 1\n",
    "    print(\"After return\")"
   ]
  },
  {
   "cell_type": "code",
   "execution_count": 86,
   "id": "660b7d5e",
   "metadata": {},
   "outputs": [
    {
     "name": "stdout",
     "output_type": "stream",
     "text": [
      "Before return\n"
     ]
    },
    {
     "data": {
      "text/plain": [
       "1"
      ]
     },
     "execution_count": 86,
     "metadata": {},
     "output_type": "execute_result"
    }
   ],
   "source": [
    "random()"
   ]
  },
  {
   "cell_type": "code",
   "execution_count": 87,
   "id": "83f81390",
   "metadata": {},
   "outputs": [],
   "source": [
    "def weird():\n",
    "    return 1\n",
    "    print(\"random\")\n",
    "    print(\"random2\")"
   ]
  },
  {
   "cell_type": "code",
   "execution_count": 88,
   "id": "bb1d92a3",
   "metadata": {},
   "outputs": [
    {
     "data": {
      "text/plain": [
       "1"
      ]
     },
     "execution_count": 88,
     "metadata": {},
     "output_type": "execute_result"
    }
   ],
   "source": [
    "weird()"
   ]
  },
  {
   "cell_type": "code",
   "execution_count": null,
   "id": "9ddbc372",
   "metadata": {},
   "outputs": [],
   "source": []
  }
 ],
 "metadata": {
  "kernelspec": {
   "display_name": "Python 3 (ipykernel)",
   "language": "python",
   "name": "python3"
  },
  "language_info": {
   "codemirror_mode": {
    "name": "ipython",
    "version": 3
   },
   "file_extension": ".py",
   "mimetype": "text/x-python",
   "name": "python",
   "nbconvert_exporter": "python",
   "pygments_lexer": "ipython3",
   "version": "3.9.5"
  }
 },
 "nbformat": 4,
 "nbformat_minor": 5
}
