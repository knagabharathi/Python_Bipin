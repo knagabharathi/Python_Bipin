{
 "cells": [
  {
   "cell_type": "code",
   "execution_count": 1,
   "id": "30bd3099",
   "metadata": {},
   "outputs": [
    {
     "name": "stdout",
     "output_type": "stream",
     "text": [
      "Doublt quotes are OK!\n"
     ]
    }
   ],
   "source": [
    "print(\"Doublt quotes are OK!\")"
   ]
  },
  {
   "cell_type": "code",
   "execution_count": 2,
   "id": "0191d207",
   "metadata": {},
   "outputs": [
    {
     "name": "stdout",
     "output_type": "stream",
     "text": [
      "Single quotes are also OK!\n"
     ]
    }
   ],
   "source": [
    "print('Single quotes are also OK!')"
   ]
  },
  {
   "cell_type": "code",
   "execution_count": 3,
   "id": "4592aa55",
   "metadata": {},
   "outputs": [
    {
     "ename": "SyntaxError",
     "evalue": "EOL while scanning string literal (826902804.py, line 1)",
     "output_type": "error",
     "traceback": [
      "\u001b[0;36m  File \u001b[0;32m\"/var/folders/nn/c52y0d3j0gq59dpsswchkt2r0000gn/T/ipykernel_33415/826902804.py\"\u001b[0;36m, line \u001b[0;32m1\u001b[0m\n\u001b[0;31m    print(\"THIS IS NOT OK!')\u001b[0m\n\u001b[0m                            ^\u001b[0m\n\u001b[0;31mSyntaxError\u001b[0m\u001b[0;31m:\u001b[0m EOL while scanning string literal\n"
     ]
    }
   ],
   "source": [
    "print(\"THIS IS NOT OK!')"
   ]
  },
  {
   "cell_type": "code",
   "execution_count": 4,
   "id": "1df33f87",
   "metadata": {},
   "outputs": [
    {
     "data": {
      "text/plain": [
       "int"
      ]
     },
     "execution_count": 4,
     "metadata": {},
     "output_type": "execute_result"
    }
   ],
   "source": [
    "type(4)"
   ]
  },
  {
   "cell_type": "code",
   "execution_count": 5,
   "id": "060f17ec",
   "metadata": {},
   "outputs": [
    {
     "name": "stdout",
     "output_type": "stream",
     "text": [
      "4\n"
     ]
    }
   ],
   "source": [
    "print(4)"
   ]
  },
  {
   "cell_type": "code",
   "execution_count": 7,
   "id": "99baeadf",
   "metadata": {},
   "outputs": [
    {
     "name": "stdout",
     "output_type": "stream",
     "text": [
      "5\n"
     ]
    }
   ],
   "source": [
    "print(5)"
   ]
  },
  {
   "cell_type": "code",
   "execution_count": 8,
   "id": "7099ae23",
   "metadata": {},
   "outputs": [
    {
     "name": "stdout",
     "output_type": "stream",
     "text": [
      "<class 'int'>\n"
     ]
    }
   ],
   "source": [
    "print(type(4))"
   ]
  },
  {
   "cell_type": "code",
   "execution_count": 9,
   "id": "68194c80",
   "metadata": {},
   "outputs": [
    {
     "name": "stdout",
     "output_type": "stream",
     "text": [
      "<class 'float'>\n"
     ]
    }
   ],
   "source": [
    "print(type(4.0))"
   ]
  },
  {
   "cell_type": "code",
   "execution_count": 10,
   "id": "9b567c2d",
   "metadata": {},
   "outputs": [
    {
     "name": "stdout",
     "output_type": "stream",
     "text": [
      "<class 'str'>\n"
     ]
    }
   ],
   "source": [
    "print(type(\"4.12334567898765432345678\"))"
   ]
  },
  {
   "cell_type": "code",
   "execution_count": 11,
   "id": "341335f4",
   "metadata": {},
   "outputs": [
    {
     "name": "stdout",
     "output_type": "stream",
     "text": [
      "<class 'float'>\n"
     ]
    }
   ],
   "source": [
    "print(type(4.237873234678))"
   ]
  },
  {
   "cell_type": "code",
   "execution_count": 12,
   "id": "2265078b",
   "metadata": {},
   "outputs": [
    {
     "name": "stdout",
     "output_type": "stream",
     "text": [
      "<class 'bool'>\n"
     ]
    }
   ],
   "source": [
    "print(type(False))"
   ]
  },
  {
   "cell_type": "code",
   "execution_count": 13,
   "id": "c83d7a70",
   "metadata": {},
   "outputs": [
    {
     "name": "stdout",
     "output_type": "stream",
     "text": [
      "<class 'bool'>\n"
     ]
    }
   ],
   "source": [
    "print(type(True))"
   ]
  },
  {
   "cell_type": "code",
   "execution_count": 14,
   "id": "84cb977b",
   "metadata": {},
   "outputs": [
    {
     "name": "stdout",
     "output_type": "stream",
     "text": [
      "<class 'NoneType'>\n"
     ]
    }
   ],
   "source": [
    "print(type(None))"
   ]
  },
  {
   "cell_type": "code",
   "execution_count": 16,
   "id": "ebfcc203",
   "metadata": {},
   "outputs": [
    {
     "ename": "TypeError",
     "evalue": "type() takes 1 or 3 arguments",
     "output_type": "error",
     "traceback": [
      "\u001b[0;31m---------------------------------------------------------------------------\u001b[0m",
      "\u001b[0;31mTypeError\u001b[0m                                 Traceback (most recent call last)",
      "\u001b[0;32m/var/folders/nn/c52y0d3j0gq59dpsswchkt2r0000gn/T/ipykernel_33415/3119342816.py\u001b[0m in \u001b[0;36m<module>\u001b[0;34m\u001b[0m\n\u001b[0;32m----> 1\u001b[0;31m \u001b[0mprint\u001b[0m\u001b[0;34m(\u001b[0m\u001b[0mtype\u001b[0m\u001b[0;34m(\u001b[0m\u001b[0;34m)\u001b[0m\u001b[0;34m)\u001b[0m \u001b[0;31m# Type function requires at least 1 argument\u001b[0m\u001b[0;34m\u001b[0m\u001b[0;34m\u001b[0m\u001b[0m\n\u001b[0m",
      "\u001b[0;31mTypeError\u001b[0m: type() takes 1 or 3 arguments"
     ]
    }
   ],
   "source": [
    "print(type()) # Type function requires at least 1 argument"
   ]
  },
  {
   "cell_type": "code",
   "execution_count": 18,
   "id": "d16015b4",
   "metadata": {},
   "outputs": [
    {
     "name": "stdout",
     "output_type": "stream",
     "text": [
      "<class 'bool'>\n"
     ]
    }
   ],
   "source": [
    "print(type(True))"
   ]
  },
  {
   "cell_type": "code",
   "execution_count": 19,
   "id": "29db96d4",
   "metadata": {},
   "outputs": [
    {
     "name": "stdout",
     "output_type": "stream",
     "text": [
      "A string which I want to reuse!\n"
     ]
    }
   ],
   "source": [
    "print(\"A string which I want to reuse!\")"
   ]
  },
  {
   "cell_type": "code",
   "execution_count": 20,
   "id": "49863f9b",
   "metadata": {},
   "outputs": [
    {
     "name": "stdout",
     "output_type": "stream",
     "text": [
      "A string which I want to reuse!\n"
     ]
    }
   ],
   "source": [
    "print(\"A string which I want to reuse!\")"
   ]
  },
  {
   "cell_type": "code",
   "execution_count": 21,
   "id": "ee1fc631",
   "metadata": {},
   "outputs": [
    {
     "name": "stdout",
     "output_type": "stream",
     "text": [
      "A string which I want to reuse!\n"
     ]
    }
   ],
   "source": [
    "print(\"A string which I want to reuse!\")"
   ]
  },
  {
   "cell_type": "code",
   "execution_count": 22,
   "id": "ce0c2715",
   "metadata": {},
   "outputs": [],
   "source": [
    "x = \"This is a value stored in x!\""
   ]
  },
  {
   "cell_type": "code",
   "execution_count": 23,
   "id": "e279882a",
   "metadata": {},
   "outputs": [
    {
     "name": "stdout",
     "output_type": "stream",
     "text": [
      "This is a value stored in x!\n"
     ]
    }
   ],
   "source": [
    "print(x)"
   ]
  },
  {
   "cell_type": "code",
   "execution_count": 24,
   "id": "d76e8087",
   "metadata": {},
   "outputs": [
    {
     "data": {
      "text/plain": [
       "str"
      ]
     },
     "execution_count": 24,
     "metadata": {},
     "output_type": "execute_result"
    }
   ],
   "source": [
    "type(x)"
   ]
  },
  {
   "cell_type": "code",
   "execution_count": 25,
   "id": "171b380d",
   "metadata": {},
   "outputs": [],
   "source": [
    "x = 6"
   ]
  },
  {
   "cell_type": "code",
   "execution_count": 26,
   "id": "bb89b344",
   "metadata": {},
   "outputs": [
    {
     "data": {
      "text/plain": [
       "int"
      ]
     },
     "execution_count": 26,
     "metadata": {},
     "output_type": "execute_result"
    }
   ],
   "source": [
    "type(x)"
   ]
  },
  {
   "cell_type": "code",
   "execution_count": 27,
   "id": "6cc6796a",
   "metadata": {},
   "outputs": [],
   "source": [
    "x = True"
   ]
  },
  {
   "cell_type": "code",
   "execution_count": 28,
   "id": "a81dde04",
   "metadata": {},
   "outputs": [
    {
     "data": {
      "text/plain": [
       "bool"
      ]
     },
     "execution_count": 28,
     "metadata": {},
     "output_type": "execute_result"
    }
   ],
   "source": [
    "type(x)"
   ]
  },
  {
   "cell_type": "code",
   "execution_count": 29,
   "id": "99ef7365",
   "metadata": {},
   "outputs": [],
   "source": [
    "name = \"Thor Odinson\""
   ]
  },
  {
   "cell_type": "code",
   "execution_count": 30,
   "id": "d6ef4ecc",
   "metadata": {},
   "outputs": [
    {
     "ename": "NameError",
     "evalue": "name 'Name' is not defined",
     "output_type": "error",
     "traceback": [
      "\u001b[0;31m---------------------------------------------------------------------------\u001b[0m",
      "\u001b[0;31mNameError\u001b[0m                                 Traceback (most recent call last)",
      "\u001b[0;32m/var/folders/nn/c52y0d3j0gq59dpsswchkt2r0000gn/T/ipykernel_33415/2115984103.py\u001b[0m in \u001b[0;36m<module>\u001b[0;34m\u001b[0m\n\u001b[0;32m----> 1\u001b[0;31m \u001b[0mprint\u001b[0m\u001b[0;34m(\u001b[0m\u001b[0mtype\u001b[0m\u001b[0;34m(\u001b[0m\u001b[0mName\u001b[0m\u001b[0;34m)\u001b[0m\u001b[0;34m)\u001b[0m\u001b[0;34m\u001b[0m\u001b[0;34m\u001b[0m\u001b[0m\n\u001b[0m",
      "\u001b[0;31mNameError\u001b[0m: name 'Name' is not defined"
     ]
    }
   ],
   "source": [
    "print(type(Name))"
   ]
  },
  {
   "cell_type": "code",
   "execution_count": 32,
   "id": "117751ca",
   "metadata": {},
   "outputs": [],
   "source": [
    "# TWO RULES TO NAME VARIABLES\n",
    "# 1. Variable name can only start with alphabets (A-Z / a-z) and underscore (_)\n",
    "# 2. Variable name can have alphanumeric characters (A-Z / a-z / 0-9) and underscore (_) after that"
   ]
  },
  {
   "cell_type": "code",
   "execution_count": 34,
   "id": "689c6583",
   "metadata": {},
   "outputs": [
    {
     "ename": "SyntaxError",
     "evalue": "invalid syntax (2295512822.py, line 1)",
     "output_type": "error",
     "traceback": [
      "\u001b[0;36m  File \u001b[0;32m\"/var/folders/nn/c52y0d3j0gq59dpsswchkt2r0000gn/T/ipykernel_33415/2295512822.py\"\u001b[0;36m, line \u001b[0;32m1\u001b[0m\n\u001b[0;31m    1abc = 4\u001b[0m\n\u001b[0m     ^\u001b[0m\n\u001b[0;31mSyntaxError\u001b[0m\u001b[0;31m:\u001b[0m invalid syntax\n"
     ]
    }
   ],
   "source": [
    "1abc = 4"
   ]
  },
  {
   "cell_type": "code",
   "execution_count": 36,
   "id": "d0fb9c5f",
   "metadata": {},
   "outputs": [
    {
     "ename": "SyntaxError",
     "evalue": "invalid syntax (2464670217.py, line 1)",
     "output_type": "error",
     "traceback": [
      "\u001b[0;36m  File \u001b[0;32m\"/var/folders/nn/c52y0d3j0gq59dpsswchkt2r0000gn/T/ipykernel_33415/2464670217.py\"\u001b[0;36m, line \u001b[0;32m1\u001b[0m\n\u001b[0;31m    ^random = 5\u001b[0m\n\u001b[0m    ^\u001b[0m\n\u001b[0;31mSyntaxError\u001b[0m\u001b[0;31m:\u001b[0m invalid syntax\n"
     ]
    }
   ],
   "source": [
    "^random = 5"
   ]
  },
  {
   "cell_type": "code",
   "execution_count": 37,
   "id": "00288f16",
   "metadata": {},
   "outputs": [],
   "source": [
    "hello123 = 5"
   ]
  },
  {
   "cell_type": "code",
   "execution_count": 38,
   "id": "5b0dde70",
   "metadata": {},
   "outputs": [],
   "source": [
    "_abc = 5"
   ]
  },
  {
   "cell_type": "code",
   "execution_count": 39,
   "id": "9902faaf",
   "metadata": {},
   "outputs": [],
   "source": [
    "_1 = 5"
   ]
  },
  {
   "cell_type": "code",
   "execution_count": 40,
   "id": "917eadf4",
   "metadata": {},
   "outputs": [],
   "source": [
    "hELLO = \"Valid since first character is alphabet and so are the others!\""
   ]
  },
  {
   "cell_type": "code",
   "execution_count": 41,
   "id": "7de0a1fc",
   "metadata": {},
   "outputs": [
    {
     "ename": "SyntaxError",
     "evalue": "invalid decimal literal (3956257234.py, line 1)",
     "output_type": "error",
     "traceback": [
      "\u001b[0;36m  File \u001b[0;32m\"/var/folders/nn/c52y0d3j0gq59dpsswchkt2r0000gn/T/ipykernel_33415/3956257234.py\"\u001b[0;36m, line \u001b[0;32m1\u001b[0m\n\u001b[0;31m    1_random_text = \"Invalid as it starts with a number\"\u001b[0m\n\u001b[0m     ^\u001b[0m\n\u001b[0;31mSyntaxError\u001b[0m\u001b[0;31m:\u001b[0m invalid decimal literal\n"
     ]
    }
   ],
   "source": [
    "1_random_text = \"Invalid as it starts with a number\""
   ]
  },
  {
   "cell_type": "code",
   "execution_count": 43,
   "id": "e2b93d9c",
   "metadata": {
    "scrolled": true
   },
   "outputs": [
    {
     "ename": "SyntaxError",
     "evalue": "cannot assign to operator (1686505963.py, line 1)",
     "output_type": "error",
     "traceback": [
      "\u001b[0;36m  File \u001b[0;32m\"/var/folders/nn/c52y0d3j0gq59dpsswchkt2r0000gn/T/ipykernel_33415/1686505963.py\"\u001b[0;36m, line \u001b[0;32m1\u001b[0m\n\u001b[0;31m    a*b*c = \"Invalid because it containes special characters\"\u001b[0m\n\u001b[0m    ^\u001b[0m\n\u001b[0;31mSyntaxError\u001b[0m\u001b[0;31m:\u001b[0m cannot assign to operator\n"
     ]
    }
   ],
   "source": [
    "a*b*c = \"Invalid because it containes special characters\""
   ]
  },
  {
   "cell_type": "code",
   "execution_count": 44,
   "id": "0e25ba6e",
   "metadata": {},
   "outputs": [
    {
     "ename": "SyntaxError",
     "evalue": "invalid syntax (3857172365.py, line 1)",
     "output_type": "error",
     "traceback": [
      "\u001b[0;36m  File \u001b[0;32m\"/var/folders/nn/c52y0d3j0gq59dpsswchkt2r0000gn/T/ipykernel_33415/3857172365.py\"\u001b[0;36m, line \u001b[0;32m1\u001b[0m\n\u001b[0;31m    code^4567654&%* = \"Invalid because it containes special characters\"\u001b[0m\n\u001b[0m                 ^\u001b[0m\n\u001b[0;31mSyntaxError\u001b[0m\u001b[0;31m:\u001b[0m invalid syntax\n"
     ]
    }
   ],
   "source": [
    "code^4567654&%* = \"Invalid because it containes special characters\""
   ]
  },
  {
   "cell_type": "code",
   "execution_count": 45,
   "id": "90bd9b3e",
   "metadata": {},
   "outputs": [],
   "source": [
    "x = \"MY VALUE!\""
   ]
  },
  {
   "cell_type": "code",
   "execution_count": 46,
   "id": "f7540344",
   "metadata": {},
   "outputs": [],
   "source": [
    "y = x"
   ]
  },
  {
   "cell_type": "code",
   "execution_count": 47,
   "id": "a27978fe",
   "metadata": {},
   "outputs": [
    {
     "name": "stdout",
     "output_type": "stream",
     "text": [
      "MY VALUE!\n"
     ]
    }
   ],
   "source": [
    "print(x)"
   ]
  },
  {
   "cell_type": "code",
   "execution_count": 48,
   "id": "d418559b",
   "metadata": {},
   "outputs": [
    {
     "name": "stdout",
     "output_type": "stream",
     "text": [
      "MY VALUE!\n"
     ]
    }
   ],
   "source": [
    "print(y)"
   ]
  },
  {
   "cell_type": "code",
   "execution_count": 49,
   "id": "2f103449",
   "metadata": {},
   "outputs": [],
   "source": [
    "y = \"SOMETHING ELESE\""
   ]
  },
  {
   "cell_type": "code",
   "execution_count": 50,
   "id": "47442031",
   "metadata": {},
   "outputs": [
    {
     "name": "stdout",
     "output_type": "stream",
     "text": [
      "MY VALUE!\n"
     ]
    }
   ],
   "source": [
    "print(x)"
   ]
  },
  {
   "cell_type": "code",
   "execution_count": 51,
   "id": "57a2e1e1",
   "metadata": {},
   "outputs": [
    {
     "name": "stdout",
     "output_type": "stream",
     "text": [
      "SOMETHING ELESE\n"
     ]
    }
   ],
   "source": [
    "print(y)"
   ]
  },
  {
   "cell_type": "code",
   "execution_count": 54,
   "id": "7c6153aa",
   "metadata": {},
   "outputs": [],
   "source": [
    "# id(y)"
   ]
  },
  {
   "cell_type": "code",
   "execution_count": 59,
   "id": "3e1ef8d0",
   "metadata": {},
   "outputs": [
    {
     "name": "stdout",
     "output_type": "stream",
     "text": [
      "random\n"
     ]
    }
   ],
   "source": [
    "any_variable_name = input()"
   ]
  },
  {
   "cell_type": "code",
   "execution_count": 60,
   "id": "841df4b9",
   "metadata": {},
   "outputs": [
    {
     "name": "stdout",
     "output_type": "stream",
     "text": [
      "random\n"
     ]
    }
   ],
   "source": [
    "print(any_variable_name)"
   ]
  },
  {
   "cell_type": "code",
   "execution_count": 61,
   "id": "cc073ce7",
   "metadata": {},
   "outputs": [
    {
     "name": "stdout",
     "output_type": "stream",
     "text": [
      "Bipin\n",
      "Hello Bipin\n"
     ]
    }
   ],
   "source": [
    "name = input()\n",
    "print(\"Hello\", name)"
   ]
  },
  {
   "cell_type": "code",
   "execution_count": 62,
   "id": "5bf28109",
   "metadata": {},
   "outputs": [
    {
     "name": "stdout",
     "output_type": "stream",
     "text": [
      "567\n"
     ]
    }
   ],
   "source": [
    "x = input()"
   ]
  },
  {
   "cell_type": "code",
   "execution_count": 63,
   "id": "cec1b8d9",
   "metadata": {},
   "outputs": [
    {
     "name": "stdout",
     "output_type": "stream",
     "text": [
      "<class 'str'>\n"
     ]
    }
   ],
   "source": [
    "print(type(x))"
   ]
  },
  {
   "cell_type": "code",
   "execution_count": 64,
   "id": "9e5fe91e",
   "metadata": {},
   "outputs": [],
   "source": [
    "# 567 -> \"567\""
   ]
  },
  {
   "cell_type": "code",
   "execution_count": 65,
   "id": "fefd7ced",
   "metadata": {},
   "outputs": [
    {
     "name": "stdout",
     "output_type": "stream",
     "text": [
      "5.23456789\n"
     ]
    }
   ],
   "source": [
    "x = input()"
   ]
  },
  {
   "cell_type": "code",
   "execution_count": 66,
   "id": "da282645",
   "metadata": {},
   "outputs": [
    {
     "name": "stdout",
     "output_type": "stream",
     "text": [
      "<class 'str'>\n"
     ]
    }
   ],
   "source": [
    "print(type(x))"
   ]
  },
  {
   "cell_type": "code",
   "execution_count": 67,
   "id": "c05f9791",
   "metadata": {},
   "outputs": [],
   "source": [
    "# 5.23456789 -> \"5.23456789\""
   ]
  },
  {
   "cell_type": "code",
   "execution_count": 68,
   "id": "b83907b3",
   "metadata": {},
   "outputs": [
    {
     "data": {
      "text/plain": [
       "'5.23456789'"
      ]
     },
     "execution_count": 68,
     "metadata": {},
     "output_type": "execute_result"
    }
   ],
   "source": [
    "x"
   ]
  },
  {
   "cell_type": "code",
   "execution_count": 69,
   "id": "3e211cde",
   "metadata": {},
   "outputs": [],
   "source": [
    "updated_x = float(x)"
   ]
  },
  {
   "cell_type": "code",
   "execution_count": 70,
   "id": "ebbc3d94",
   "metadata": {},
   "outputs": [
    {
     "data": {
      "text/plain": [
       "float"
      ]
     },
     "execution_count": 70,
     "metadata": {},
     "output_type": "execute_result"
    }
   ],
   "source": [
    "type(updated_x)"
   ]
  },
  {
   "cell_type": "code",
   "execution_count": 71,
   "id": "3d776631",
   "metadata": {},
   "outputs": [
    {
     "data": {
      "text/plain": [
       "5.23456789"
      ]
     },
     "execution_count": 71,
     "metadata": {},
     "output_type": "execute_result"
    }
   ],
   "source": [
    "updated_x"
   ]
  },
  {
   "cell_type": "code",
   "execution_count": 72,
   "id": "f3a2b3e3",
   "metadata": {},
   "outputs": [
    {
     "name": "stdout",
     "output_type": "stream",
     "text": [
      "56\n"
     ]
    }
   ],
   "source": [
    "x = input()"
   ]
  },
  {
   "cell_type": "code",
   "execution_count": 73,
   "id": "6814ab0f",
   "metadata": {},
   "outputs": [
    {
     "data": {
      "text/plain": [
       "56"
      ]
     },
     "execution_count": 73,
     "metadata": {},
     "output_type": "execute_result"
    }
   ],
   "source": [
    "int(x)"
   ]
  },
  {
   "cell_type": "code",
   "execution_count": 74,
   "id": "bd92596c",
   "metadata": {},
   "outputs": [
    {
     "name": "stdout",
     "output_type": "stream",
     "text": [
      "56\n"
     ]
    }
   ],
   "source": [
    "x = int(input())"
   ]
  },
  {
   "cell_type": "code",
   "execution_count": 75,
   "id": "17d7f1ee",
   "metadata": {},
   "outputs": [
    {
     "data": {
      "text/plain": [
       "int"
      ]
     },
     "execution_count": 75,
     "metadata": {},
     "output_type": "execute_result"
    }
   ],
   "source": [
    "type(x)"
   ]
  },
  {
   "cell_type": "code",
   "execution_count": 76,
   "id": "f9c439ba",
   "metadata": {},
   "outputs": [
    {
     "ename": "ValueError",
     "evalue": "invalid literal for int() with base 10: 'random string!'",
     "output_type": "error",
     "traceback": [
      "\u001b[0;31m---------------------------------------------------------------------------\u001b[0m",
      "\u001b[0;31mValueError\u001b[0m                                Traceback (most recent call last)",
      "\u001b[0;32m/var/folders/nn/c52y0d3j0gq59dpsswchkt2r0000gn/T/ipykernel_33415/352036203.py\u001b[0m in \u001b[0;36m<module>\u001b[0;34m\u001b[0m\n\u001b[0;32m----> 1\u001b[0;31m \u001b[0mint\u001b[0m\u001b[0;34m(\u001b[0m\u001b[0;34m\"random string!\"\u001b[0m\u001b[0;34m)\u001b[0m\u001b[0;34m\u001b[0m\u001b[0;34m\u001b[0m\u001b[0m\n\u001b[0m",
      "\u001b[0;31mValueError\u001b[0m: invalid literal for int() with base 10: 'random string!'"
     ]
    }
   ],
   "source": [
    "int(\"random string!\")"
   ]
  },
  {
   "cell_type": "code",
   "execution_count": 77,
   "id": "aa85c56e",
   "metadata": {},
   "outputs": [
    {
     "name": "stdout",
     "output_type": "stream",
     "text": [
      "random value\n"
     ]
    }
   ],
   "source": [
    "print(\"random value\")"
   ]
  },
  {
   "cell_type": "code",
   "execution_count": 78,
   "id": "467ce16b",
   "metadata": {},
   "outputs": [
    {
     "name": "stdout",
     "output_type": "stream",
     "text": [
      "value 1 value 2 value 3\n"
     ]
    }
   ],
   "source": [
    "print(\"value 1\", \"value 2\", \"value 3\")"
   ]
  },
  {
   "cell_type": "code",
   "execution_count": 79,
   "id": "8200d4d1",
   "metadata": {},
   "outputs": [
    {
     "name": "stdout",
     "output_type": "stream",
     "text": [
      "value 1 45 True 56\n"
     ]
    }
   ],
   "source": [
    "print(\"value 1\", 45, True, x)"
   ]
  },
  {
   "cell_type": "code",
   "execution_count": 80,
   "id": "e31b3cdc",
   "metadata": {},
   "outputs": [
    {
     "name": "stdout",
     "output_type": "stream",
     "text": [
      "value 1-45-True-56\n"
     ]
    }
   ],
   "source": [
    "print(\"value 1\", 45, True, x, sep = \"-\")"
   ]
  },
  {
   "cell_type": "code",
   "execution_count": 81,
   "id": "5375d7b1",
   "metadata": {},
   "outputs": [
    {
     "name": "stdout",
     "output_type": "stream",
     "text": [
      "value 1MY_RANDOM_SEPARATOR!45MY_RANDOM_SEPARATOR!TrueMY_RANDOM_SEPARATOR!56\n"
     ]
    }
   ],
   "source": [
    "print(\"value 1\", 45, True, x, sep = \"MY_RANDOM_SEPARATOR!\")"
   ]
  },
  {
   "cell_type": "code",
   "execution_count": 83,
   "id": "7263c86e",
   "metadata": {},
   "outputs": [
    {
     "name": "stdout",
     "output_type": "stream",
     "text": [
      "value 1\n",
      "45\n",
      "True\n",
      "56\n"
     ]
    }
   ],
   "source": [
    "print(\"value 1\", 45, True, x, sep = \"\\n\") # \\n -> next line character"
   ]
  },
  {
   "cell_type": "code",
   "execution_count": 87,
   "id": "b3383255",
   "metadata": {},
   "outputs": [
    {
     "name": "stdout",
     "output_type": "stream",
     "text": [
      "value 1 45-Truerandom56\n"
     ]
    }
   ],
   "source": [
    "print(\"value 1\", end = \" \")\n",
    "print(45, end = \"-\")\n",
    "print(True, end = \"random\")\n",
    "print(x)"
   ]
  },
  {
   "cell_type": "code",
   "execution_count": 89,
   "id": "d716c48e",
   "metadata": {},
   "outputs": [
    {
     "name": "stdout",
     "output_type": "stream",
     "text": [
      "1-2-3 4_5_6\n"
     ]
    }
   ],
   "source": [
    "print(1, 2, 3, sep = \"-\", end = \" \")\n",
    "print(4, 5, 6, sep = \"_\")"
   ]
  },
  {
   "cell_type": "code",
   "execution_count": null,
   "id": "5ffd4917",
   "metadata": {},
   "outputs": [],
   "source": []
  }
 ],
 "metadata": {
  "kernelspec": {
   "display_name": "Python 3 (ipykernel)",
   "language": "python",
   "name": "python3"
  },
  "language_info": {
   "codemirror_mode": {
    "name": "ipython",
    "version": 3
   },
   "file_extension": ".py",
   "mimetype": "text/x-python",
   "name": "python",
   "nbconvert_exporter": "python",
   "pygments_lexer": "ipython3",
   "version": "3.9.5"
  }
 },
 "nbformat": 4,
 "nbformat_minor": 5
}
