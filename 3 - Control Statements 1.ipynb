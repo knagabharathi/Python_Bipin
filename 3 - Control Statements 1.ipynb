{
  "nbformat": 4,
  "nbformat_minor": 0,
  "metadata": {
    "colab": {
      "provenance": []
    },
    "kernelspec": {
      "name": "python3",
      "display_name": "Python 3"
    },
    "language_info": {
      "name": "python"
    }
  },
  "cells": [
    {
      "cell_type": "code",
      "execution_count": null,
      "metadata": {
        "colab": {
          "base_uri": "https://localhost:8080/"
        },
        "id": "ZOn395dFcp2B",
        "outputId": "50f8a691-0a99-4a4e-8396-d7171bad8a51"
      },
      "outputs": [
        {
          "output_type": "execute_result",
          "data": {
            "text/plain": [
              "True"
            ]
          },
          "metadata": {},
          "execution_count": 1
        }
      ],
      "source": [
        "54 <= 67 #coniditional statement"
      ]
    },
    {
      "cell_type": "code",
      "source": [
        "54 == 87 #conditional statement"
      ],
      "metadata": {
        "colab": {
          "base_uri": "https://localhost:8080/"
        },
        "id": "m-hdcCS5dtg9",
        "outputId": "263daadd-8c66-475b-a159-7715e321c058"
      },
      "execution_count": null,
      "outputs": [
        {
          "output_type": "execute_result",
          "data": {
            "text/plain": [
              "False"
            ]
          },
          "metadata": {},
          "execution_count": 2
        }
      ]
    },
    {
      "cell_type": "code",
      "source": [
        "#or operator"
      ],
      "metadata": {
        "id": "5G-zOJjmd2CT"
      },
      "execution_count": null,
      "outputs": []
    },
    {
      "cell_type": "code",
      "source": [
        "a = 10"
      ],
      "metadata": {
        "id": "e5UafECGhJrO"
      },
      "execution_count": null,
      "outputs": []
    },
    {
      "cell_type": "code",
      "source": [
        "a > 5"
      ],
      "metadata": {
        "colab": {
          "base_uri": "https://localhost:8080/"
        },
        "id": "7B1xe55ChRSq",
        "outputId": "bfa31e2c-291b-488f-80d2-9223f2e1a60f"
      },
      "execution_count": null,
      "outputs": [
        {
          "output_type": "execute_result",
          "data": {
            "text/plain": [
              "True"
            ]
          },
          "metadata": {},
          "execution_count": 5
        }
      ]
    },
    {
      "cell_type": "code",
      "source": [
        "a == 20"
      ],
      "metadata": {
        "colab": {
          "base_uri": "https://localhost:8080/"
        },
        "id": "uRW-tFfxhVna",
        "outputId": "10c645ac-b525-45e4-e241-4d5010f3f0a2"
      },
      "execution_count": null,
      "outputs": [
        {
          "output_type": "execute_result",
          "data": {
            "text/plain": [
              "False"
            ]
          },
          "metadata": {},
          "execution_count": 6
        }
      ]
    },
    {
      "cell_type": "code",
      "source": [
        "a < 2"
      ],
      "metadata": {
        "colab": {
          "base_uri": "https://localhost:8080/"
        },
        "id": "CB70R1wmhZal",
        "outputId": "0b39c47b-c188-461a-acd5-f781a30098be"
      },
      "execution_count": null,
      "outputs": [
        {
          "output_type": "execute_result",
          "data": {
            "text/plain": [
              "False"
            ]
          },
          "metadata": {},
          "execution_count": 7
        }
      ]
    },
    {
      "cell_type": "code",
      "source": [
        "a = 10\n",
        "\n",
        "res = (a > 5) or (a == 20) or (a < 2)\n",
        "\n",
        "print(res)"
      ],
      "metadata": {
        "colab": {
          "base_uri": "https://localhost:8080/"
        },
        "id": "zkULwbSGhcaY",
        "outputId": "5eaecfa7-f670-4246-d0ad-7792ea621e35"
      },
      "execution_count": null,
      "outputs": [
        {
          "output_type": "stream",
          "name": "stdout",
          "text": [
            "True\n"
          ]
        }
      ]
    },
    {
      "cell_type": "code",
      "source": [
        "a = 10\n",
        "\n",
        "res = (a == 20) or (a < 2)\n",
        "\n",
        "print(res)"
      ],
      "metadata": {
        "colab": {
          "base_uri": "https://localhost:8080/"
        },
        "id": "3-_q8E6XhsB0",
        "outputId": "f2ca0332-95d0-45a7-cdf6-f9dcd5a8a8b7"
      },
      "execution_count": null,
      "outputs": [
        {
          "output_type": "stream",
          "name": "stdout",
          "text": [
            "False\n"
          ]
        }
      ]
    },
    {
      "cell_type": "code",
      "source": [
        "#and operator"
      ],
      "metadata": {
        "id": "2J5823I9h1NF"
      },
      "execution_count": null,
      "outputs": []
    },
    {
      "cell_type": "code",
      "source": [
        "a = 10\n",
        "res = (a > 5) and (a == 20) and (a < 2)\n",
        "print(res)"
      ],
      "metadata": {
        "colab": {
          "base_uri": "https://localhost:8080/"
        },
        "id": "zDPPp7gwh7Tn",
        "outputId": "64cc4892-027a-42c7-82da-21960eee24a2"
      },
      "execution_count": null,
      "outputs": [
        {
          "output_type": "stream",
          "name": "stdout",
          "text": [
            "False\n"
          ]
        }
      ]
    },
    {
      "cell_type": "code",
      "source": [
        "a = 10\n",
        "res = (a > 5) and (a <= 20)\n",
        "print(res)"
      ],
      "metadata": {
        "colab": {
          "base_uri": "https://localhost:8080/"
        },
        "id": "qTcme6saiFrn",
        "outputId": "ef63c368-d3b5-4e64-e502-2a382a728da1"
      },
      "execution_count": null,
      "outputs": [
        {
          "output_type": "stream",
          "name": "stdout",
          "text": [
            "True\n"
          ]
        }
      ]
    },
    {
      "cell_type": "code",
      "source": [
        "#not operator"
      ],
      "metadata": {
        "id": "X8mTvtgBiaaX"
      },
      "execution_count": null,
      "outputs": []
    },
    {
      "cell_type": "code",
      "source": [
        "10 < 5"
      ],
      "metadata": {
        "colab": {
          "base_uri": "https://localhost:8080/"
        },
        "id": "NTDxmWE-iecF",
        "outputId": "83ede3b4-8b0a-40fc-b1c8-322e71ece5fa"
      },
      "execution_count": null,
      "outputs": [
        {
          "output_type": "execute_result",
          "data": {
            "text/plain": [
              "False"
            ]
          },
          "metadata": {},
          "execution_count": 14
        }
      ]
    },
    {
      "cell_type": "code",
      "source": [
        "not (10 < 5)"
      ],
      "metadata": {
        "colab": {
          "base_uri": "https://localhost:8080/"
        },
        "id": "2bWDNcV1ijFF",
        "outputId": "07c57780-d2a7-4e9e-af39-2771d84aea78"
      },
      "execution_count": null,
      "outputs": [
        {
          "output_type": "execute_result",
          "data": {
            "text/plain": [
              "True"
            ]
          },
          "metadata": {},
          "execution_count": 15
        }
      ]
    },
    {
      "cell_type": "code",
      "source": [
        "a = 10\n",
        "a > 5 and a > 7"
      ],
      "metadata": {
        "colab": {
          "base_uri": "https://localhost:8080/"
        },
        "id": "gLcUhFY8inuC",
        "outputId": "81f840fb-8fe3-4d5d-fef6-6f0e967c2307"
      },
      "execution_count": null,
      "outputs": [
        {
          "output_type": "execute_result",
          "data": {
            "text/plain": [
              "True"
            ]
          },
          "metadata": {},
          "execution_count": 16
        }
      ]
    },
    {
      "cell_type": "code",
      "source": [
        "a = 10\n",
        "not (a > 5 and a > 7)"
      ],
      "metadata": {
        "colab": {
          "base_uri": "https://localhost:8080/"
        },
        "id": "GQpG-SWpjF5U",
        "outputId": "4ff7d9b7-f366-4062-e0bb-8b56fd88044f"
      },
      "execution_count": null,
      "outputs": [
        {
          "output_type": "execute_result",
          "data": {
            "text/plain": [
              "False"
            ]
          },
          "metadata": {},
          "execution_count": 17
        }
      ]
    },
    {
      "cell_type": "code",
      "source": [
        "a = 10\n",
        "not (a < 5 and a > 7)"
      ],
      "metadata": {
        "colab": {
          "base_uri": "https://localhost:8080/"
        },
        "id": "hfAtcsX6jK6J",
        "outputId": "d947abda-be8b-4764-bc15-43ef66ff161d"
      },
      "execution_count": null,
      "outputs": [
        {
          "output_type": "execute_result",
          "data": {
            "text/plain": [
              "True"
            ]
          },
          "metadata": {},
          "execution_count": 18
        }
      ]
    },
    {
      "cell_type": "code",
      "source": [
        "a = 10\n",
        "\n",
        "res = (a > 5 and a > 7) and ( not (a < 5 or a > 7))\n",
        "\n",
        "print(res)"
      ],
      "metadata": {
        "colab": {
          "base_uri": "https://localhost:8080/"
        },
        "id": "r4ElJITIjRAt",
        "outputId": "5047cd23-3cea-4d6f-b3c7-a6540f7a88b4"
      },
      "execution_count": null,
      "outputs": [
        {
          "output_type": "stream",
          "name": "stdout",
          "text": [
            "False\n"
          ]
        }
      ]
    },
    {
      "cell_type": "code",
      "source": [
        "(a > 5 and a > 7)"
      ],
      "metadata": {
        "colab": {
          "base_uri": "https://localhost:8080/"
        },
        "id": "iWgYEDA3kBu1",
        "outputId": "476dfe53-5149-4899-af18-0fc67e35cbd6"
      },
      "execution_count": null,
      "outputs": [
        {
          "output_type": "execute_result",
          "data": {
            "text/plain": [
              "True"
            ]
          },
          "metadata": {},
          "execution_count": 20
        }
      ]
    },
    {
      "cell_type": "code",
      "source": [
        "(a < 5 or a > 7)"
      ],
      "metadata": {
        "colab": {
          "base_uri": "https://localhost:8080/"
        },
        "id": "i83cwulykFna",
        "outputId": "d8a85afb-1737-40f1-8e8a-9b2e37860cba"
      },
      "execution_count": null,
      "outputs": [
        {
          "output_type": "execute_result",
          "data": {
            "text/plain": [
              "True"
            ]
          },
          "metadata": {},
          "execution_count": 21
        }
      ]
    },
    {
      "cell_type": "code",
      "source": [
        "( not (a < 5 or a > 7))"
      ],
      "metadata": {
        "colab": {
          "base_uri": "https://localhost:8080/"
        },
        "id": "RKuUlWHPkID8",
        "outputId": "9ab47ecd-520b-435a-b2a8-4f0aadc5ed07"
      },
      "execution_count": null,
      "outputs": [
        {
          "output_type": "execute_result",
          "data": {
            "text/plain": [
              "False"
            ]
          },
          "metadata": {},
          "execution_count": 22
        }
      ]
    },
    {
      "cell_type": "code",
      "source": [
        "#control statements"
      ],
      "metadata": {
        "id": "wxZ9sKf_kOsb"
      },
      "execution_count": null,
      "outputs": []
    },
    {
      "cell_type": "code",
      "source": [
        "n = 5\n",
        "\n",
        "n%2 == 0"
      ],
      "metadata": {
        "colab": {
          "base_uri": "https://localhost:8080/"
        },
        "id": "07fZVGK5mJht",
        "outputId": "488b10fe-c000-4531-ff68-ec13c6390376"
      },
      "execution_count": null,
      "outputs": [
        {
          "output_type": "execute_result",
          "data": {
            "text/plain": [
              "False"
            ]
          },
          "metadata": {},
          "execution_count": 25
        }
      ]
    },
    {
      "cell_type": "code",
      "source": [
        "5%2"
      ],
      "metadata": {
        "colab": {
          "base_uri": "https://localhost:8080/"
        },
        "id": "RKxEkXLKmXxH",
        "outputId": "ed54d5bd-df17-48c9-becd-6887b0b5cc91"
      },
      "execution_count": null,
      "outputs": [
        {
          "output_type": "execute_result",
          "data": {
            "text/plain": [
              "1"
            ]
          },
          "metadata": {},
          "execution_count": 24
        }
      ]
    },
    {
      "cell_type": "code",
      "source": [
        "6%2 == 0"
      ],
      "metadata": {
        "colab": {
          "base_uri": "https://localhost:8080/"
        },
        "id": "qQrcBIpamYiJ",
        "outputId": "c1131bc8-ba7e-4b33-ab27-10015d375cee"
      },
      "execution_count": null,
      "outputs": [
        {
          "output_type": "execute_result",
          "data": {
            "text/plain": [
              "True"
            ]
          },
          "metadata": {},
          "execution_count": 26
        }
      ]
    },
    {
      "cell_type": "code",
      "source": [
        "#Take a number from the user as input, and check if it is even or odd - print accordingly"
      ],
      "metadata": {
        "id": "Va--b0G-mhIQ"
      },
      "execution_count": null,
      "outputs": []
    },
    {
      "cell_type": "code",
      "source": [
        "n = int(input())"
      ],
      "metadata": {
        "colab": {
          "base_uri": "https://localhost:8080/"
        },
        "id": "2uVaOGuhmqyi",
        "outputId": "98b45d98-305b-466e-83ae-1f869aff3278"
      },
      "execution_count": null,
      "outputs": [
        {
          "name": "stdout",
          "output_type": "stream",
          "text": [
            "9\n"
          ]
        }
      ]
    },
    {
      "cell_type": "code",
      "source": [
        "if n%2 == 0:\n",
        "  print(\"Even\")\n",
        "else:\n",
        "  print(\"Odd\")"
      ],
      "metadata": {
        "colab": {
          "base_uri": "https://localhost:8080/"
        },
        "id": "odj1SFUnnDTi",
        "outputId": "9074dad5-3d32-45fe-a456-28b935a9cc57"
      },
      "execution_count": null,
      "outputs": [
        {
          "output_type": "stream",
          "name": "stdout",
          "text": [
            "Odd\n"
          ]
        }
      ]
    },
    {
      "cell_type": "code",
      "source": [
        "if 56 > 60:\n",
        "  print(\"1\")\n",
        "  print(\"2\")\n",
        "  print(\"4\")\n",
        "else:\n",
        "  print(\"3\")"
      ],
      "metadata": {
        "colab": {
          "base_uri": "https://localhost:8080/"
        },
        "id": "B1VeQM6vnu6w",
        "outputId": "3ebed482-a5fd-4cfd-ba0d-375e8ada2c54"
      },
      "execution_count": null,
      "outputs": [
        {
          "output_type": "stream",
          "name": "stdout",
          "text": [
            "3\n"
          ]
        }
      ]
    },
    {
      "cell_type": "code",
      "source": [
        "if 56 < 60:\n",
        "  print(\"1\")\n",
        "  print(\"2\")\n",
        "  print(\"4\")\n",
        "else:\n",
        "  print(\"3\")"
      ],
      "metadata": {
        "colab": {
          "base_uri": "https://localhost:8080/"
        },
        "id": "odfp28Noqm5U",
        "outputId": "cca826a3-d2d6-4098-b4ca-6ef2e433ea5b"
      },
      "execution_count": null,
      "outputs": [
        {
          "output_type": "stream",
          "name": "stdout",
          "text": [
            "1\n",
            "2\n",
            "4\n"
          ]
        }
      ]
    },
    {
      "cell_type": "code",
      "source": [
        "print(\"0\")\n",
        "\n",
        "if 56 < 60:\n",
        "  print(\"1\")\n",
        "  print(\"2\")\n",
        "else:\n",
        "  print(\"3\")"
      ],
      "metadata": {
        "colab": {
          "base_uri": "https://localhost:8080/"
        },
        "id": "yPAzoWjxqxZF",
        "outputId": "16da680a-50f9-4935-c9e1-dff15f003a7c"
      },
      "execution_count": null,
      "outputs": [
        {
          "output_type": "stream",
          "name": "stdout",
          "text": [
            "0\n",
            "1\n",
            "2\n"
          ]
        }
      ]
    },
    {
      "cell_type": "code",
      "source": [
        "print(\"0\")\n",
        "\n",
        "if 56 > 60:\n",
        "  print(\"1\")\n",
        "  print(\"2\")\n",
        "else:\n",
        "  print(\"3\")"
      ],
      "metadata": {
        "colab": {
          "base_uri": "https://localhost:8080/"
        },
        "id": "e3XP-zoEq916",
        "outputId": "a2070cf1-715d-47d0-d2f2-69ffd1614316"
      },
      "execution_count": null,
      "outputs": [
        {
          "output_type": "stream",
          "name": "stdout",
          "text": [
            "0\n",
            "3\n"
          ]
        }
      ]
    },
    {
      "cell_type": "code",
      "source": [
        "print(\"0\")\n",
        "\n",
        "if 56 > 60:\n",
        "  print(\"1\")\n",
        "  print(\"2\")\n",
        "else:\n",
        "  print(\"3\")\n",
        "\n",
        "print(\"5\")"
      ],
      "metadata": {
        "colab": {
          "base_uri": "https://localhost:8080/"
        },
        "id": "WyioS8Qzr-gh",
        "outputId": "2710b66c-27f9-4ce0-d251-02346734f6c2"
      },
      "execution_count": null,
      "outputs": [
        {
          "output_type": "stream",
          "name": "stdout",
          "text": [
            "0\n",
            "3\n",
            "5\n"
          ]
        }
      ]
    },
    {
      "cell_type": "code",
      "source": [
        "print(\"0\")\n",
        "\n",
        "if 56 < 60:\n",
        "  print(\"1\")\n",
        "  print(\"2\")\n",
        "else:\n",
        "  print(\"3\")\n",
        "\n",
        "print(\"5\")"
      ],
      "metadata": {
        "colab": {
          "base_uri": "https://localhost:8080/"
        },
        "id": "Bi5gfjHqsPt0",
        "outputId": "611ad8a5-d4a6-44a4-cd38-f4a821dfb612"
      },
      "execution_count": null,
      "outputs": [
        {
          "output_type": "stream",
          "name": "stdout",
          "text": [
            "0\n",
            "1\n",
            "2\n",
            "5\n"
          ]
        }
      ]
    },
    {
      "cell_type": "code",
      "source": [
        "print(\"0\")\n",
        "\n",
        "if 56 < 60:\n",
        "  print(\"1\")\n",
        "  print(\"2\")\n",
        "else:\n",
        "  print(\"3\")\n",
        "  print(\"5\")"
      ],
      "metadata": {
        "colab": {
          "base_uri": "https://localhost:8080/"
        },
        "id": "eBFFMLrYsh2S",
        "outputId": "b45f612c-19dd-4dd6-8f8d-01c06279e006"
      },
      "execution_count": null,
      "outputs": [
        {
          "output_type": "stream",
          "name": "stdout",
          "text": [
            "0\n",
            "1\n",
            "2\n"
          ]
        }
      ]
    },
    {
      "cell_type": "code",
      "source": [
        "#password checker\n",
        "\n",
        "original_pass = \"password\"\n",
        "\n",
        "ip_password = input()\n",
        "\n",
        "if ip_password == original_pass:\n",
        "  print(\"Login Successful!\")\n",
        "else:\n",
        "  print(\"Invalid password\")"
      ],
      "metadata": {
        "colab": {
          "base_uri": "https://localhost:8080/"
        },
        "id": "0zZV-cphs3AV",
        "outputId": "f197da84-64d4-42ef-fd27-34470868da43"
      },
      "execution_count": null,
      "outputs": [
        {
          "output_type": "stream",
          "name": "stdout",
          "text": [
            "pass\n",
            "Invalid password\n"
          ]
        }
      ]
    },
    {
      "cell_type": "code",
      "source": [
        "else:\n",
        "  print(\"1\")"
      ],
      "metadata": {
        "colab": {
          "base_uri": "https://localhost:8080/",
          "height": 131
        },
        "id": "hoHTr1-FtYs1",
        "outputId": "6716e297-8fb5-4170-c43a-99a57056a49f"
      },
      "execution_count": null,
      "outputs": [
        {
          "output_type": "error",
          "ename": "SyntaxError",
          "evalue": "ignored",
          "traceback": [
            "\u001b[0;36m  File \u001b[0;32m\"<ipython-input-44-fbf8d405adbd>\"\u001b[0;36m, line \u001b[0;32m1\u001b[0m\n\u001b[0;31m    else:\u001b[0m\n\u001b[0m    ^\u001b[0m\n\u001b[0;31mSyntaxError\u001b[0m\u001b[0;31m:\u001b[0m invalid syntax\n"
          ]
        }
      ]
    },
    {
      "cell_type": "code",
      "source": [
        "a = 10\n",
        "if a == 10:\n",
        "  print(\"1\")\n",
        "\n",
        "print(\"2\")"
      ],
      "metadata": {
        "colab": {
          "base_uri": "https://localhost:8080/"
        },
        "id": "Zierdku4t19u",
        "outputId": "5fc54cf5-c191-491a-f141-4464de4080b9"
      },
      "execution_count": null,
      "outputs": [
        {
          "output_type": "stream",
          "name": "stdout",
          "text": [
            "1\n",
            "2\n"
          ]
        }
      ]
    },
    {
      "cell_type": "code",
      "source": [
        "a = 20\n",
        "if a == 10:\n",
        "  print(\"1\")\n",
        "\n",
        "print(\"2\")"
      ],
      "metadata": {
        "colab": {
          "base_uri": "https://localhost:8080/"
        },
        "id": "ZsXsCnl0t9BQ",
        "outputId": "cf22cf7d-b570-45eb-e032-f2a2a93af6b4"
      },
      "execution_count": null,
      "outputs": [
        {
          "output_type": "stream",
          "name": "stdout",
          "text": [
            "2\n"
          ]
        }
      ]
    },
    {
      "cell_type": "code",
      "source": [
        "n = 10\n",
        "\n",
        "if n > 5:\n",
        "  print(\"1\")\n",
        "\n",
        "if n == 10:\n",
        "  print(\"2\")"
      ],
      "metadata": {
        "colab": {
          "base_uri": "https://localhost:8080/"
        },
        "id": "jDC3O17OuOMq",
        "outputId": "58d65f28-eae3-4d40-d181-2e232ded49d1"
      },
      "execution_count": null,
      "outputs": [
        {
          "output_type": "stream",
          "name": "stdout",
          "text": [
            "1\n",
            "2\n"
          ]
        }
      ]
    },
    {
      "cell_type": "code",
      "source": [
        "a = 20\n",
        "if a == 10:\n",
        "  print(\"1\")"
      ],
      "metadata": {
        "id": "QbyYBdH6uar0"
      },
      "execution_count": null,
      "outputs": []
    },
    {
      "cell_type": "code",
      "source": [
        "n = 10\n",
        "\n",
        "if n > 5:\n",
        "  print(\"1\")\n",
        "\n",
        "  if n == 10:\n",
        "    print(\"2\")\n",
        "\n",
        "else:\n",
        "  print(\"3\")"
      ],
      "metadata": {
        "colab": {
          "base_uri": "https://localhost:8080/"
        },
        "id": "Sze6xfaXuroW",
        "outputId": "68a2f7ad-c9c7-408e-b7df-16a2a36f9a76"
      },
      "execution_count": null,
      "outputs": [
        {
          "output_type": "stream",
          "name": "stdout",
          "text": [
            "1\n",
            "2\n"
          ]
        }
      ]
    },
    {
      "cell_type": "code",
      "source": [
        "n = 15\n",
        "\n",
        "if n > 5:\n",
        "  print(\"1\")\n",
        "\n",
        "  if n == 10:\n",
        "    print(\"2\")\n",
        "\n",
        "else:\n",
        "  print(\"3\")"
      ],
      "metadata": {
        "colab": {
          "base_uri": "https://localhost:8080/"
        },
        "id": "dPio3gYevXKo",
        "outputId": "90ab1337-e58b-4358-87b4-2f63b5b1a5aa"
      },
      "execution_count": null,
      "outputs": [
        {
          "output_type": "stream",
          "name": "stdout",
          "text": [
            "1\n"
          ]
        }
      ]
    },
    {
      "cell_type": "code",
      "source": [
        "n = 15\n",
        "\n",
        "if n > 5:\n",
        "  print(\"1\")\n",
        "\n",
        "  if n == 10:\n",
        "    print(\"2\")\n",
        "  else:\n",
        "    print(\"5\")\n",
        "\n",
        "else:\n",
        "  print(\"3\")"
      ],
      "metadata": {
        "colab": {
          "base_uri": "https://localhost:8080/"
        },
        "id": "BLHoYkBOvord",
        "outputId": "1c4a9a22-7e82-481c-8a3b-f904bf42b37e"
      },
      "execution_count": null,
      "outputs": [
        {
          "output_type": "stream",
          "name": "stdout",
          "text": [
            "1\n",
            "5\n"
          ]
        }
      ]
    },
    {
      "cell_type": "code",
      "source": [
        "#grading system"
      ],
      "metadata": {
        "id": "Q4QlcYYDv5lv"
      },
      "execution_count": null,
      "outputs": []
    },
    {
      "cell_type": "code",
      "source": [
        "marks = 25\n",
        "if marks > 95:\n",
        "  print(\"A\")\n",
        "elif marks >= 70 and marks <= 95:\n",
        "  print(\"B\")\n",
        "elif marks >= 30 and marks <= 69:\n",
        "  print(\"C\")\n",
        "else:\n",
        "  print(\"D\")\n"
      ],
      "metadata": {
        "colab": {
          "base_uri": "https://localhost:8080/"
        },
        "id": "hKInpXEiyFVR",
        "outputId": "41387da4-0621-405b-ea85-78cdae20132b"
      },
      "execution_count": null,
      "outputs": [
        {
          "output_type": "stream",
          "name": "stdout",
          "text": [
            "D\n"
          ]
        }
      ]
    },
    {
      "cell_type": "markdown",
      "source": [
        "What is the output of the following code?\n",
        "```python\n",
        "x = 5\n",
        "if x > 10:\n",
        "    print(\"Hello\")\n",
        "else:\n",
        "    print(\"World\")\n",
        "```\n",
        "a. Hello\n",
        "\n",
        "b. World\n",
        "\n",
        "c. Nothing is printed"
      ],
      "metadata": {
        "id": "BsEnBnWDzRk2"
      }
    },
    {
      "cell_type": "markdown",
      "source": [
        "What is the output of the following code snippet?\n",
        "```python\n",
        "age = 15\n",
        "if age < 18:\n",
        "    print(\"You are not eligible to vote\")\n",
        "elif age >= 18 and age < 21:\n",
        "    print(\"You can vote but can't drink\")\n",
        "else:\n",
        "    print(\"You can vote and drink\")\n",
        "```\n",
        "a) You are not eligible to vote\n",
        "\n",
        "b) You can vote but can't drink\n",
        "\n",
        "c) You can vote and drink\n",
        "\n",
        "d) Error"
      ],
      "metadata": {
        "id": "qp-yxFeSztep"
      }
    },
    {
      "cell_type": "code",
      "source": [
        "age = 20\n",
        "if age < 18:\n",
        "    print(\"You are not eligible to vote\")\n",
        "elif age >= 18 and age < 21:\n",
        "    print(\"You can vote but can't drink\")\n",
        "else:\n",
        "    print(\"You can vote and drink\")"
      ],
      "metadata": {
        "colab": {
          "base_uri": "https://localhost:8080/"
        },
        "id": "mUYkbHsXyiV3",
        "outputId": "fd8f75ad-55c7-4c29-b470-3a41219b58b0"
      },
      "execution_count": null,
      "outputs": [
        {
          "output_type": "stream",
          "name": "stdout",
          "text": [
            "You can vote but can't drink\n"
          ]
        }
      ]
    },
    {
      "cell_type": "code",
      "source": [
        "#doubts"
      ],
      "metadata": {
        "id": "2awz1wVGz8y6"
      },
      "execution_count": null,
      "outputs": []
    },
    {
      "cell_type": "code",
      "source": [
        "a = 10\n",
        "\n",
        "if (a == 10) and (a > 5) and (a > 20):\n",
        "  print(\"1\")\n",
        "else:\n",
        "  print(\"0\")"
      ],
      "metadata": {
        "colab": {
          "base_uri": "https://localhost:8080/"
        },
        "id": "_x-xIUfP1uV8",
        "outputId": "a70a1352-7c94-418d-a087-76079030e33e"
      },
      "execution_count": null,
      "outputs": [
        {
          "output_type": "stream",
          "name": "stdout",
          "text": [
            "0\n"
          ]
        }
      ]
    },
    {
      "cell_type": "code",
      "source": [
        "a = 10\n",
        "not( a < 5 and a > 7)"
      ],
      "metadata": {
        "colab": {
          "base_uri": "https://localhost:8080/"
        },
        "id": "E0F6zz2v13wk",
        "outputId": "8ae10bcc-39f6-4072-da61-bc804eef16de"
      },
      "execution_count": null,
      "outputs": [
        {
          "output_type": "execute_result",
          "data": {
            "text/plain": [
              "True"
            ]
          },
          "metadata": {},
          "execution_count": 63
        }
      ]
    },
    {
      "cell_type": "code",
      "source": [
        "t = int(input())"
      ],
      "metadata": {
        "colab": {
          "base_uri": "https://localhost:8080/"
        },
        "id": "MYDlW7Wo2XB4",
        "outputId": "daa004fa-39f6-4e31-eb88-76b4538b1f8e"
      },
      "execution_count": null,
      "outputs": [
        {
          "name": "stdout",
          "output_type": "stream",
          "text": [
            "4\n"
          ]
        }
      ]
    },
    {
      "cell_type": "code",
      "source": [
        "print(t)"
      ],
      "metadata": {
        "colab": {
          "base_uri": "https://localhost:8080/"
        },
        "id": "MOPLTDak2gs1",
        "outputId": "477d6ef2-e4d1-46a8-c7f9-dc319f256d44"
      },
      "execution_count": null,
      "outputs": [
        {
          "output_type": "stream",
          "name": "stdout",
          "text": [
            "4\n"
          ]
        }
      ]
    },
    {
      "cell_type": "code",
      "source": [
        "marks = 97\n",
        "if marks > 95:\n",
        "  print(\"A\")\n",
        "elif marks >= 70 and marks <= 95:\n",
        "  print (\"B\")\n",
        "elif marks >= 30 and marks <=69:\n",
        "  print(\"C\")\n",
        "else:\n",
        "  print (\"D\")"
      ],
      "metadata": {
        "colab": {
          "base_uri": "https://localhost:8080/"
        },
        "id": "BEaf29OS2h4q",
        "outputId": "c06faef9-dd70-4707-ef59-28cc42b6917e"
      },
      "execution_count": null,
      "outputs": [
        {
          "output_type": "stream",
          "name": "stdout",
          "text": [
            "A\n"
          ]
        }
      ]
    },
    {
      "cell_type": "code",
      "source": [],
      "metadata": {
        "id": "Y7C1NY0b2vZv"
      },
      "execution_count": null,
      "outputs": []
    }
  ]
}